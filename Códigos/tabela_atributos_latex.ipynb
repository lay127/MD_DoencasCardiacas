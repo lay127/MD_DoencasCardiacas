{
 "cells": [
  {
   "cell_type": "code",
   "execution_count": null,
   "id": "69119ac6",
   "metadata": {},
   "outputs": [],
   "source": [
    "import pandas as pd\n",
    "import dataframe_image as dfi\n",
    "\n",
    "atributos = [\n",
    "    'V0001', 'V0026', 'V0031', 'B001', 'C006', 'C008', 'C009', 'C011',\n",
    "       'J001', 'J00101', 'J01101', 'M00203', 'N010', 'N011', 'N012', 'N016',\n",
    "       'P00104', 'P00404', 'P00901', 'P01101', 'P02001', 'P018', 'P02002',\n",
    "       'P02501', 'P02602', 'P02601', 'P04501', 'P04502', 'P06701', 'P068',\n",
    "       'Q00201', 'Q03001', 'Q060', 'Q06306', 'Q068', 'Q11006', 'Q128', 'T001',\n",
    "       'H003', 'H004', 'H010', 'N00101', 'H001', 'H002', 'Escolaridade',\n",
    "       'Renda', 'Quant_trabalhos', 'Carga_horaria_semanal',\n",
    "       'Mobilidade_assistida', 'Avaliacao_plano', 'Instituicao_plano',\n",
    "       'Cobertura_plano', 'Exposicao_quimica', 'Exposicao_ruido',\n",
    "       'Exposicao_lixo', 'Exposicao_minerio', 'Atividade_fisica_semanal',\n",
    "       'Inicio_tabagismo', 'Tempo_parou_fumar', 'Intensidade_fumo',\n",
    "       'Consumo_alcool', 'Faixa_imc', 'Doenca_limitante'\n",
    "]\n",
    "descricoes = [\n",
    "    \"Unidade da Federação\", #V0001 \n",
    "    \"Tipo de situação censitária (Urbano, Rural)\", #V0026\n",
    "    \"\" #B001\n",
    "    \"Tipo de área (Capital, Resto da RM, Ride, Resto da UF)\", #V0031\n",
    "    \"Sexo (Masculino, Feminino)\", #C006\n",
    "    \"Idade do morador na data de referência\", #C008\n",
    "    \"Cor ou raça (Branca, Preta, Parda, Outra)\", #C009\n",
    "    \"Estado civil (Casado, Divorciado, Viúvo, Solteiro)\", #C011\n",
    "    \"\" #J001\n",
    "    \"Avaliação pessoal do bem estar físico e mental\" #J00101\n",
    "    \"\" #J01101\n",
    "    \n",
    "\n",
    "\n",
    "]\n",
    "\n",
    "df_tabela = pd.DataFrame({\n",
    "    \"Atributo\": atributos,\n",
    "    \"Descrição\": descricoes\n",
    "})\n",
    "\n",
    "dfi.export(df_tabela, \"tabela_atributos.png\")"
   ]
  }
 ],
 "metadata": {
  "language_info": {
   "name": "python"
  }
 },
 "nbformat": 4,
 "nbformat_minor": 5
}
