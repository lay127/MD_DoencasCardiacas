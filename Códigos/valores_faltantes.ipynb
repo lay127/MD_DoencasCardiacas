{
 "cells": [
  {
   "cell_type": "code",
   "execution_count": 1,
   "id": "dc28fe75",
   "metadata": {},
   "outputs": [],
   "source": [
    "import pandas as pd\n",
    "import numpy as np"
   ]
  },
  {
   "cell_type": "code",
   "execution_count": 2,
   "id": "79697b97",
   "metadata": {},
   "outputs": [
    {
     "name": "stderr",
     "output_type": "stream",
     "text": [
      "<>:1: SyntaxWarning: invalid escape sequence '\\B'\n",
      "<>:1: SyntaxWarning: invalid escape sequence '\\B'\n",
      "C:\\Users\\llays\\AppData\\Local\\Temp\\ipykernel_15408\\3047006560.py:1: SyntaxWarning: invalid escape sequence '\\B'\n",
      "  df = pd.read_csv('..\\Bases\\Criados\\\\base_doencas_cardiacas.csv')\n"
     ]
    }
   ],
   "source": [
    "df = pd.read_csv('..\\Bases\\Criados\\\\base_doencas_cardiacas.csv')"
   ]
  },
  {
   "cell_type": "markdown",
   "id": "c2e4bc00",
   "metadata": {},
   "source": [
    "## Escolaridade\n",
    "\n",
    "D00901 – curso mais elevado frequentado\n",
    "\n",
    "D014 – se concluiu esse curso\n",
    "\n",
    "D00201 – se frequenta escola atualmente\n",
    "\n",
    "D008 – se já frequentou escola"
   ]
  },
  {
   "cell_type": "code",
   "execution_count": 3,
   "id": "c164db58",
   "metadata": {},
   "outputs": [
    {
     "name": "stdout",
     "output_type": "stream",
     "text": [
      "Escolaridade\n",
      "1.0    9187\n",
      "3.0    4939\n",
      "2.0    4072\n",
      "0.0    2767\n",
      "4.0    1800\n",
      "5.0     940\n",
      "NaN     687\n",
      "Name: count, dtype: int64\n"
     ]
    }
   ],
   "source": [
    "# Garantir que os atributos são numéricos\n",
    "df['D00901'] = pd.to_numeric(df['D00901'], errors='coerce')\n",
    "df['D014'] = pd.to_numeric(df['D014'], errors='coerce')\n",
    "df['D00201'] = pd.to_numeric(df['D00201'], errors='coerce')\n",
    "df['D008'] = pd.to_numeric(df['D008'], errors='coerce')\n",
    "\n",
    "# 1. Corrigir D014 para infantil (Creche ou Pré-escola) → assumir como concluído se estiver nan quando D00901 = 1 e 2\n",
    "cond = df['D00901'].isin([1, 2]) & df['D014'].isna()\n",
    "df.loc[cond, 'D014'] = 1\n",
    "\n",
    "# 2. Função para mapear escolaridade final (0 a 5)\n",
    "def map_escolaridade(row):\n",
    "    curso = row['D00901']\n",
    "    concluiu = row['D014']\n",
    "    freq_atualmente = row['D00201']\n",
    "    freq_antes = row['D008']\n",
    "\n",
    "    if pd.isna(curso):\n",
    "        # Se não tem informação de curso, mas também nunca frequentou\n",
    "        if freq_atualmente != 1 and freq_antes != 1:\n",
    "            return 0  # Nunca frequentou\n",
    "        else:\n",
    "            return np.nan\n",
    "\n",
    "    # Mapeamento baseado no questionário da PNS 2019\n",
    "    if curso in [1, 2]:            # Creche, Pré-escola\n",
    "        categoria = 1\n",
    "    elif curso in [3, 4, 5, 6, 7, 8]:  # Alfabetização, primário, EJA fundamental etc.\n",
    "        categoria = 2\n",
    "    elif curso in [9, 10, 11]:     # Científico, médio, EJA médio\n",
    "        categoria = 3\n",
    "    elif curso == 12:              # Superior - graduação\n",
    "        categoria = 4\n",
    "    elif curso in [13, 14, 15]:    # Pós-graduação\n",
    "        categoria = 5\n",
    "    else:\n",
    "        return np.nan\n",
    "\n",
    "    # Rebaixar se não concluiu\n",
    "    if concluiu == 2:\n",
    "        categoria -= 1\n",
    "        if categoria < 0:\n",
    "            categoria = 0\n",
    "\n",
    "    return categoria\n",
    "\n",
    "# Aplicar função\n",
    "df['Escolaridade'] = df.apply(map_escolaridade, axis=1)\n",
    "\n",
    "# Remover colunas intermediárias\n",
    "df.drop(columns=['D00201', 'D008', 'D00901', 'D014'], inplace=True)\n",
    "\n",
    "# Verificar resultado\n",
    "print(df['Escolaridade'].value_counts(dropna=False))\n",
    "\n",
    "# 0: Nunca frequentou escola\n",
    "# 1: Educação infantil\n",
    "# 2: Ensino fundamental\n",
    "# 3: Ensino médio\n",
    "# 4: Ensino superior\n",
    "# 5: Pós-graduação\n"
   ]
  },
  {
   "cell_type": "markdown",
   "id": "9f2e8af1",
   "metadata": {},
   "source": [
    "## Renda \n",
    "\n",
    "E011: número de trabalhos na semana\n",
    "\n",
    "E014011: se era trabalhador não remunerado ajudando parente/domicílio\n",
    "\n",
    "E01601: se recebia dinheiro no trabalho principal\n",
    "\n",
    "E01602: valor da renda do trabalho principal\n",
    "\n",
    "E01801: se recebia dinheiro em outro(s) trabalho(s)\n",
    "\n",
    "E01802: valor da renda dos outros trabalhos\n",
    "\n",
    "\n",
    "Regras:\n",
    "\n",
    "1- Se E01601 != 1 ou E01801 != 1, a renda respectiva é 0;\n",
    "\n",
    "2- Se a pessoa é não remunerada (E014011 = 1, 2, 3), renda é 0;\n",
    "\n",
    "3- Se E01602 ou E01802 estiverem NaN, mas a pessoa disse que recebia (E01601 ou E01801 = 1), considerar como NaN final.\n",
    "\n",
    "4- Renda total é a soma de E01602 e E01802 (ajustadas com base nas respostas anteriores).\n",
    "\n",
    "5- A variável final será chamada Renda e os outros atributos serão removidos."
   ]
  },
  {
   "cell_type": "code",
   "execution_count": 4,
   "id": "5e1d51cb",
   "metadata": {},
   "outputs": [
    {
     "name": "stdout",
     "output_type": "stream",
     "text": [
      "0\n"
     ]
    }
   ],
   "source": [
    "# Garantir que os campos estão numéricos\n",
    "for col in ['E011', 'E014011', 'E01601', 'E01602', 'E01801', 'E01802']:\n",
    "    df[col] = pd.to_numeric(df[col], errors='coerce')\n",
    "\n",
    "# Função para calcular a renda final\n",
    "def calcular_renda(row):\n",
    "    # Regra 2: trabalhador não remunerado (1, 2 ou 3)\n",
    "    if row['E014011'] in [1, 2, 3]:\n",
    "        return 0.0\n",
    "\n",
    "    # Regra 1 + 3: verificar se recebia dinheiro\n",
    "    if row['E01601'] == 1:\n",
    "        renda1 = row['E01602'] if pd.notna(row['E01602']) else np.nan\n",
    "    else:\n",
    "        renda1 = 0.0\n",
    "\n",
    "    if row['E01801'] == 1:\n",
    "        renda2 = row['E01802'] if pd.notna(row['E01802']) else np.nan\n",
    "    else:\n",
    "        renda2 = 0.0\n",
    "\n",
    "    # Regra 4: soma ajustada\n",
    "    if pd.isna(renda1) or pd.isna(renda2):\n",
    "        if pd.notna(renda1) and pd.isna(renda2):\n",
    "            return renda1\n",
    "        elif pd.notna(renda2) and pd.isna(renda1):\n",
    "            return renda2\n",
    "        else:\n",
    "            return np.nan\n",
    "\n",
    "    return renda1 + renda2\n",
    "\n",
    "# Aplicar a função\n",
    "df['Renda'] = df.apply(calcular_renda, axis=1)\n",
    "\n",
    "# Remover colunas usadas\n",
    "df.drop(columns=['E014011', 'E01601', 'E01602', 'E01801', 'E01802'], inplace=True)\n",
    "\n",
    "# Verificar\n",
    "print(df['Renda'].isna().sum())"
   ]
  },
  {
   "cell_type": "code",
   "execution_count": 5,
   "id": "657f2d93",
   "metadata": {},
   "outputs": [
    {
     "name": "stdout",
     "output_type": "stream",
     "text": [
      "12249\n"
     ]
    }
   ],
   "source": [
    "print((df['Renda'] == 0.0).sum())"
   ]
  },
  {
   "cell_type": "code",
   "execution_count": 6,
   "id": "098851eb",
   "metadata": {},
   "outputs": [
    {
     "data": {
      "text/html": [
       "<div>\n",
       "<style scoped>\n",
       "    .dataframe tbody tr th:only-of-type {\n",
       "        vertical-align: middle;\n",
       "    }\n",
       "\n",
       "    .dataframe tbody tr th {\n",
       "        vertical-align: top;\n",
       "    }\n",
       "\n",
       "    .dataframe thead th {\n",
       "        text-align: right;\n",
       "    }\n",
       "</style>\n",
       "<table border=\"1\" class=\"dataframe\">\n",
       "  <thead>\n",
       "    <tr style=\"text-align: right;\">\n",
       "      <th></th>\n",
       "      <th>Renda</th>\n",
       "    </tr>\n",
       "  </thead>\n",
       "  <tbody>\n",
       "    <tr>\n",
       "      <th>0</th>\n",
       "      <td>0.0</td>\n",
       "    </tr>\n",
       "    <tr>\n",
       "      <th>4</th>\n",
       "      <td>0.0</td>\n",
       "    </tr>\n",
       "    <tr>\n",
       "      <th>6</th>\n",
       "      <td>0.0</td>\n",
       "    </tr>\n",
       "    <tr>\n",
       "      <th>9</th>\n",
       "      <td>0.0</td>\n",
       "    </tr>\n",
       "    <tr>\n",
       "      <th>10</th>\n",
       "      <td>0.0</td>\n",
       "    </tr>\n",
       "    <tr>\n",
       "      <th>...</th>\n",
       "      <td>...</td>\n",
       "    </tr>\n",
       "    <tr>\n",
       "      <th>24355</th>\n",
       "      <td>0.0</td>\n",
       "    </tr>\n",
       "    <tr>\n",
       "      <th>24366</th>\n",
       "      <td>0.0</td>\n",
       "    </tr>\n",
       "    <tr>\n",
       "      <th>24367</th>\n",
       "      <td>0.0</td>\n",
       "    </tr>\n",
       "    <tr>\n",
       "      <th>24375</th>\n",
       "      <td>0.0</td>\n",
       "    </tr>\n",
       "    <tr>\n",
       "      <th>24380</th>\n",
       "      <td>0.0</td>\n",
       "    </tr>\n",
       "  </tbody>\n",
       "</table>\n",
       "<p>12249 rows × 1 columns</p>\n",
       "</div>"
      ],
      "text/plain": [
       "       Renda\n",
       "0        0.0\n",
       "4        0.0\n",
       "6        0.0\n",
       "9        0.0\n",
       "10       0.0\n",
       "...      ...\n",
       "24355    0.0\n",
       "24366    0.0\n",
       "24367    0.0\n",
       "24375    0.0\n",
       "24380    0.0\n",
       "\n",
       "[12249 rows x 1 columns]"
      ]
     },
     "execution_count": 6,
     "metadata": {},
     "output_type": "execute_result"
    }
   ],
   "source": [
    "df[df['Renda'] == 0.0][['Renda']]"
   ]
  },
  {
   "cell_type": "markdown",
   "id": "b3784b47",
   "metadata": {},
   "source": [
    "## Horas trabalhadas\n",
    "\n",
    "E017 - 1 trabalho\n",
    "E019 - outros trabalhos\n"
   ]
  },
  {
   "cell_type": "code",
   "execution_count": 7,
   "id": "20dc9bab",
   "metadata": {},
   "outputs": [
    {
     "name": "stdout",
     "output_type": "stream",
     "text": [
      "count    24392.000000\n",
      "mean        18.881437\n",
      "std         21.333164\n",
      "min          0.000000\n",
      "25%          0.000000\n",
      "50%          5.000000\n",
      "75%         40.000000\n",
      "max        120.000000\n",
      "Name: Horas_trabalhadas, dtype: float64\n",
      "0\n"
     ]
    }
   ],
   "source": [
    "# Certifique-se de que os campos são numéricos\n",
    "df['E017'] = pd.to_numeric(df['E017'], errors='coerce')\n",
    "df['E019'] = pd.to_numeric(df['E019'], errors='coerce')\n",
    "\n",
    "# Criar a variável final\n",
    "df['Horas_trabalhadas'] = df['E017'].fillna(0) + df['E019'].fillna(0)\n",
    "\n",
    "# Se quiser que NaN em ambos resulte em NaN no final, use:\n",
    "# df['Horas_trabalhadas'] = df[['E017', 'E019']].sum(axis=1, min_count=1)\n",
    "\n",
    "# Remover colunas antigas\n",
    "df.drop(columns=['E017', 'E019'], inplace=True)\n",
    "\n",
    "# Verificar resultado\n",
    "print(df['Horas_trabalhadas'].describe())\n",
    "print(df['Horas_trabalhadas'].isna().sum())"
   ]
  },
  {
   "cell_type": "code",
   "execution_count": 8,
   "id": "a253c89b",
   "metadata": {},
   "outputs": [
    {
     "data": {
      "text/html": [
       "<div>\n",
       "<style scoped>\n",
       "    .dataframe tbody tr th:only-of-type {\n",
       "        vertical-align: middle;\n",
       "    }\n",
       "\n",
       "    .dataframe tbody tr th {\n",
       "        vertical-align: top;\n",
       "    }\n",
       "\n",
       "    .dataframe thead th {\n",
       "        text-align: right;\n",
       "    }\n",
       "</style>\n",
       "<table border=\"1\" class=\"dataframe\">\n",
       "  <thead>\n",
       "    <tr style=\"text-align: right;\">\n",
       "      <th></th>\n",
       "      <th>Renda</th>\n",
       "      <th>Horas_trabalhadas</th>\n",
       "    </tr>\n",
       "  </thead>\n",
       "  <tbody>\n",
       "    <tr>\n",
       "      <th>0</th>\n",
       "      <td>0.0</td>\n",
       "      <td>0.0</td>\n",
       "    </tr>\n",
       "    <tr>\n",
       "      <th>4</th>\n",
       "      <td>0.0</td>\n",
       "      <td>0.0</td>\n",
       "    </tr>\n",
       "    <tr>\n",
       "      <th>6</th>\n",
       "      <td>0.0</td>\n",
       "      <td>0.0</td>\n",
       "    </tr>\n",
       "    <tr>\n",
       "      <th>9</th>\n",
       "      <td>0.0</td>\n",
       "      <td>0.0</td>\n",
       "    </tr>\n",
       "    <tr>\n",
       "      <th>10</th>\n",
       "      <td>0.0</td>\n",
       "      <td>0.0</td>\n",
       "    </tr>\n",
       "    <tr>\n",
       "      <th>...</th>\n",
       "      <td>...</td>\n",
       "      <td>...</td>\n",
       "    </tr>\n",
       "    <tr>\n",
       "      <th>24355</th>\n",
       "      <td>0.0</td>\n",
       "      <td>0.0</td>\n",
       "    </tr>\n",
       "    <tr>\n",
       "      <th>24366</th>\n",
       "      <td>0.0</td>\n",
       "      <td>0.0</td>\n",
       "    </tr>\n",
       "    <tr>\n",
       "      <th>24367</th>\n",
       "      <td>0.0</td>\n",
       "      <td>0.0</td>\n",
       "    </tr>\n",
       "    <tr>\n",
       "      <th>24375</th>\n",
       "      <td>0.0</td>\n",
       "      <td>0.0</td>\n",
       "    </tr>\n",
       "    <tr>\n",
       "      <th>24380</th>\n",
       "      <td>0.0</td>\n",
       "      <td>0.0</td>\n",
       "    </tr>\n",
       "  </tbody>\n",
       "</table>\n",
       "<p>12018 rows × 2 columns</p>\n",
       "</div>"
      ],
      "text/plain": [
       "       Renda  Horas_trabalhadas\n",
       "0        0.0                0.0\n",
       "4        0.0                0.0\n",
       "6        0.0                0.0\n",
       "9        0.0                0.0\n",
       "10       0.0                0.0\n",
       "...      ...                ...\n",
       "24355    0.0                0.0\n",
       "24366    0.0                0.0\n",
       "24367    0.0                0.0\n",
       "24375    0.0                0.0\n",
       "24380    0.0                0.0\n",
       "\n",
       "[12018 rows x 2 columns]"
      ]
     },
     "execution_count": 8,
     "metadata": {},
     "output_type": "execute_result"
    }
   ],
   "source": [
    "df[(df['Renda'] == 0.0) & (df['Horas_trabalhadas'] == 0.0)][['Renda', 'Horas_trabalhadas']]"
   ]
  },
  {
   "cell_type": "markdown",
   "id": "5d27da94",
   "metadata": {},
   "source": [
    "## Plano de saúde "
   ]
  },
  {
   "cell_type": "markdown",
   "id": "0f7384c6",
   "metadata": {},
   "source": [
    "I00102 - se tem plano\n",
    "I006 - avaliação do plano\n",
    "\n",
    "0     | Não tem plano                \n",
    "1     | Avaliação muito boa ou boa   \n",
    "2     | Avaliação regular            \n",
    "3     | Avaliação ruim ou muito ruim \n",
    "4     | Nunca usou o plano   "
   ]
  },
  {
   "cell_type": "code",
   "execution_count": 9,
   "id": "40d3f705",
   "metadata": {},
   "outputs": [
    {
     "name": "stdout",
     "output_type": "stream",
     "text": [
      "Avaliacao_plano\n",
      "0.0    19784\n",
      "1.0     3414\n",
      "2.0      941\n",
      "3.0      157\n",
      "4.0       96\n",
      "Name: count, dtype: int64\n",
      "0\n"
     ]
    }
   ],
   "source": [
    "def classificar_plano(row):\n",
    "    tem_plano = row['I00102']\n",
    "    avaliacao = row['I006']\n",
    "    \n",
    "    if tem_plano == 2:\n",
    "        return 0.0  # Não tem plano\n",
    "    elif avaliacao in [1, 2]:\n",
    "        return 1.0  # Muito bom ou bom\n",
    "    elif avaliacao == 3:\n",
    "        return 2.0  # Regular\n",
    "    elif avaliacao in [4, 5]:\n",
    "        return 3.0  # Ruim ou muito ruim\n",
    "    elif avaliacao == 6:\n",
    "        return 4.0  # Nunca usou\n",
    "    else:\n",
    "        return np.nan  # Valores faltantes ou inválidos\n",
    "\n",
    "df['Avaliacao_plano'] = df.apply(classificar_plano, axis=1)\n",
    "\n",
    "df = df.drop(columns=['I006'])\n",
    "\n",
    "print(df['Avaliacao_plano'].value_counts(dropna=False))\n",
    "print(df['Avaliacao_plano'].isna().sum())"
   ]
  },
  {
   "cell_type": "markdown",
   "id": "e6a7a793",
   "metadata": {},
   "source": [
    "I004 - se é de instituição pública\n",
    "\n",
    "I00103 - se é morador \n",
    "\n",
    "C00301 == I001031 - se é titular \n",
    "\n",
    "\n",
    "0     | Não tem plano e/ou não é morador + titular do plano              \n",
    "1     | Plano é de instituição pública   \n",
    "2     | Plano não é de instituição pública      "
   ]
  },
  {
   "cell_type": "code",
   "execution_count": 10,
   "id": "5e308ac9",
   "metadata": {},
   "outputs": [
    {
     "name": "stdout",
     "output_type": "stream",
     "text": [
      "Plano_publico\n",
      "0.0    20907\n",
      "2.0     2158\n",
      "1.0     1327\n",
      "Name: count, dtype: int64\n",
      "0\n"
     ]
    }
   ],
   "source": [
    "def definir_plano_publico(row):\n",
    "    if row['I00102'] != 1:\n",
    "        return 0.0  # Não tem plano\n",
    "    if row['I00103'] != 1 and row['C00301'] != row['I001031']: # não é morador\n",
    "        return 0.0  # não é titular do plano\n",
    "    if row['I004'] == 1:\n",
    "        return 1.0  # Plano é de instituição pública\n",
    "    if row['I004'] == 2:\n",
    "        return 2.0  # Plano não é de instituição pública\n",
    "    \n",
    "    return 0.0\n",
    "\n",
    "# Aplicar a função\n",
    "df['Plano_publico'] = df.apply(definir_plano_publico, axis=1)\n",
    "\n",
    "# Remover colunas utilizadas\n",
    "df = df.drop(columns=['I004'])\n",
    "\n",
    "print(df['Plano_publico'].value_counts(dropna=False))\n",
    "print(df['Plano_publico'].isna().sum())"
   ]
  },
  {
   "cell_type": "code",
   "execution_count": 11,
   "id": "89288c31",
   "metadata": {},
   "outputs": [
    {
     "name": "stdout",
     "output_type": "stream",
     "text": [
      "Cobertura_plano\n",
      "0.0    20907\n",
      "3.0     3253\n",
      "2.0      177\n",
      "1.0       37\n",
      "4.0       18\n",
      "Name: count, dtype: int64\n",
      "Valores nulos: 0\n"
     ]
    }
   ],
   "source": [
    "def Cobertura_plano(row):\n",
    "    # Se não tem plano, retorna 0.0\n",
    "    if pd.isna(row['I00102']) or row['I00102'] != 1:\n",
    "        return 0.0\n",
    "\n",
    "    # Verifica titularidade\n",
    "    if pd.isna(row['I00103']) or row['I00103'] != 1:\n",
    "        return 0.0\n",
    "    if pd.isna(row['C00301']) or pd.isna(row['I001031']) or row['C00301'] != row['I001031']:\n",
    "        return 0.0\n",
    "\n",
    "    # Verifica cobertura\n",
    "    coberturas = [\n",
    "        row['I00401'] == 1 if pd.notna(row['I00401']) else False,\n",
    "        row['I00402'] == 1 if pd.notna(row['I00402']) else False,\n",
    "        row['I00403'] == 1 if pd.notna(row['I00403']) else False\n",
    "    ]\n",
    "    total_cobertura = sum(coberturas)\n",
    "\n",
    "    if total_cobertura == 1:\n",
    "        return 1.0\n",
    "    elif total_cobertura == 2:\n",
    "        return 2.0\n",
    "    elif total_cobertura == 3:\n",
    "        return 3.0\n",
    "    elif total_cobertura == 0:\n",
    "        return 4.0  # Não cobre nada, apesar de ter plano e titular\n",
    "    else:\n",
    "        return np.nan  # Caso raro de erro\n",
    "\n",
    "df['Cobertura_plano'] = df.apply(Cobertura_plano, axis=1)\n",
    "\n",
    "# Agora sim pode excluir os atributos\n",
    "df = df.drop(columns=['I00102', 'I00401', 'I00402', 'I00403', 'I00103', 'I001031'])\n",
    "\n",
    "# Visualização\n",
    "print(df['Cobertura_plano'].value_counts(dropna=False))\n",
    "print(\"Valores nulos:\", df['Cobertura_plano'].isna().sum())\n"
   ]
  },
  {
   "cell_type": "markdown",
   "id": "2abfad51",
   "metadata": {},
   "source": [
    "## Mobilidade "
   ]
  },
  {
   "cell_type": "code",
   "execution_count": 12,
   "id": "4f8f5efc",
   "metadata": {},
   "outputs": [
    {
     "name": "stdout",
     "output_type": "stream",
     "text": [
      "Mobilidade_auxiliar\n",
      "0.0    23656\n",
      "2.0      527\n",
      "1.0      154\n",
      "4.0       55\n",
      "Name: count, dtype: int64\n",
      "0\n"
     ]
    }
   ],
   "source": [
    "def classificar_mobilidade(row):\n",
    "    usa_aparelho = row['G059'] == 1\n",
    "    cadeira_rodas = row['G060'] == 1\n",
    "    bengala_muleta = row['G062'] == 1\n",
    "\n",
    "    if not usa_aparelho:\n",
    "        return 0.0  # Não usa nenhum aparelho\n",
    "    if cadeira_rodas:\n",
    "        return 1.0  # Só cadeira de rodas\n",
    "    if bengala_muleta:\n",
    "        return 2.0  # Só bengala/muleta/andador\n",
    "    if cadeira_rodas and bengala_muleta:\n",
    "        return 3.0  # Usa os dois\n",
    "    if not cadeira_rodas and not bengala_muleta:\n",
    "        return 4.0  # Não usa nenhum dos dois  \n",
    "    return np.nan  # Caso de inconsistência ou valores faltantes\n",
    "\n",
    "df['Mobilidade_auxiliar'] = df.apply(classificar_mobilidade, axis=1)\n",
    "\n",
    "# Remover colunas antigas, se quiser:\n",
    "df = df.drop(columns=['G059', 'G060', 'G062'])\n",
    "\n",
    "# Visualizar resultado:\n",
    "print(df['Mobilidade_auxiliar'].value_counts(dropna=False))\n",
    "print(df['Mobilidade_auxiliar'].isna().sum())"
   ]
  },
  {
   "cell_type": "markdown",
   "id": "429a6ff6",
   "metadata": {},
   "source": [
    "## Exposição no trabalho"
   ]
  },
  {
   "cell_type": "code",
   "execution_count": 13,
   "id": "6a075d03",
   "metadata": {},
   "outputs": [
    {
     "name": "stdout",
     "output_type": "stream",
     "text": [
      "Exposicao_quimica\n",
      "2    22975\n",
      "1     1417\n",
      "Name: count, dtype: int64\n",
      "0\n"
     ]
    }
   ],
   "source": [
    "def marcar_exposicao_quimica(row):\n",
    "    trabalho = row['E011']\n",
    "    exposicao = row['M011011']\n",
    "    \n",
    "    if trabalho in [1, 2, 3]:  # Pessoa trabalha\n",
    "        if exposicao == 1:\n",
    "            return 1  # Exposto\n",
    "        elif exposicao == 2:\n",
    "            return 2  # Não exposto\n",
    "        else:\n",
    "            return np.nan  # Outro valor ou faltante\n",
    "    else:\n",
    "        return 2  # Pessoa não trabalha → marcar como \"não exposto\"\n",
    "\n",
    "df['Exposicao_quimica'] = df.apply(marcar_exposicao_quimica, axis=1)\n",
    "\n",
    "df = df.drop(columns=['M011011'])\n",
    "\n",
    "# Visualizar resultado:\n",
    "print(df['Exposicao_quimica'].value_counts(dropna=False))\n",
    "print(df['Exposicao_quimica'].isna().sum())"
   ]
  },
  {
   "cell_type": "code",
   "execution_count": 14,
   "id": "e84456ff",
   "metadata": {},
   "outputs": [
    {
     "name": "stdout",
     "output_type": "stream",
     "text": [
      "Exposicao_ruido\n",
      "2    22130\n",
      "1     2262\n",
      "Name: count, dtype: int64\n",
      "0\n"
     ]
    }
   ],
   "source": [
    "def marcar_exposicao_ruido(row):\n",
    "    trabalho = row['E011']\n",
    "    exposicao = row['M011021']\n",
    "    \n",
    "    if trabalho in [1, 2, 3]:  # Pessoa trabalha\n",
    "        if exposicao == 1:\n",
    "            return 1  # Exposto\n",
    "        elif exposicao == 2:\n",
    "            return 2  # Não exposto\n",
    "        else:\n",
    "            return np.nan  # Outro valor ou faltante\n",
    "    else:\n",
    "        return 2  # Pessoa não trabalha → marcar como \"não exposto\"\n",
    "\n",
    "df['Exposicao_ruido'] = df.apply(marcar_exposicao_ruido, axis=1)\n",
    "\n",
    "df = df.drop(columns=['M011021'])\n",
    "\n",
    "# Visualizar resultado:\n",
    "print(df['Exposicao_ruido'].value_counts(dropna=False))\n",
    "print(df['Exposicao_ruido'].isna().sum())"
   ]
  },
  {
   "cell_type": "code",
   "execution_count": 15,
   "id": "973d0cac",
   "metadata": {},
   "outputs": [
    {
     "name": "stdout",
     "output_type": "stream",
     "text": [
      "Exposicao_lixo\n",
      "2    23612\n",
      "1      780\n",
      "Name: count, dtype: int64\n",
      "0\n"
     ]
    }
   ],
   "source": [
    "def marcar_exposicao_lixo(row):\n",
    "    trabalho = row['E011']\n",
    "    exposicao = row['M011051']\n",
    "    \n",
    "    if trabalho in [1, 2, 3]:  # Pessoa trabalha\n",
    "        if exposicao == 1:\n",
    "            return 1  # Exposto\n",
    "        elif exposicao == 2:\n",
    "            return 2  # Não exposto\n",
    "        else:\n",
    "            return np.nan  # Outro valor ou faltante\n",
    "    else:\n",
    "        return 2  # Pessoa não trabalha → marcar como \"não exposto\"\n",
    "\n",
    "df['Exposicao_lixo'] = df.apply(marcar_exposicao_lixo, axis=1)\n",
    "\n",
    "df = df.drop(columns=['M011051'])\n",
    "\n",
    "# Visualizar resultado:\n",
    "print(df['Exposicao_lixo'].value_counts(dropna=False))\n",
    "print(df['Exposicao_lixo'].isna().sum())"
   ]
  },
  {
   "cell_type": "code",
   "execution_count": 16,
   "id": "8e43b2f8",
   "metadata": {},
   "outputs": [
    {
     "name": "stdout",
     "output_type": "stream",
     "text": [
      "Exposicao_minerio\n",
      "2    23026\n",
      "1     1366\n",
      "Name: count, dtype: int64\n",
      "0\n"
     ]
    }
   ],
   "source": [
    "def marcar_exposicao_minerio(row):\n",
    "    trabalho = row['E011']\n",
    "    exposicao = row['M011071']\n",
    "    \n",
    "    if trabalho in [1, 2, 3]:  # Pessoa trabalha\n",
    "        if exposicao == 1:\n",
    "            return 1  # Exposto\n",
    "        elif exposicao == 2:\n",
    "            return 2  # Não exposto\n",
    "        else:\n",
    "            return np.nan  # Outro valor ou faltante\n",
    "    else:\n",
    "        return 2  # Pessoa não trabalha → marcar como \"não exposto\"\n",
    "\n",
    "df['Exposicao_minerio'] = df.apply(marcar_exposicao_minerio, axis=1)\n",
    "\n",
    "df = df.drop(columns=['M011071'])\n",
    "\n",
    "# Visualizar resultado:\n",
    "print(df['Exposicao_minerio'].value_counts(dropna=False))\n",
    "print(df['Exposicao_minerio'].isna().sum())"
   ]
  },
  {
   "cell_type": "code",
   "execution_count": 17,
   "id": "14cade59",
   "metadata": {},
   "outputs": [],
   "source": [
    "# df.drop(columns=['E011',"
   ]
  },
  {
   "cell_type": "code",
   "execution_count": 18,
   "id": "bff76848",
   "metadata": {},
   "outputs": [
    {
     "ename": "OSError",
     "evalue": "Cannot save file into a non-existent directory: 'c:\\Users\\bkser\\Downloads\\python'",
     "output_type": "error",
     "traceback": [
      "\u001b[1;31m---------------------------------------------------------------------------\u001b[0m",
      "\u001b[1;31mOSError\u001b[0m                                   Traceback (most recent call last)",
      "Cell \u001b[1;32mIn[18], line 1\u001b[0m\n\u001b[1;32m----> 1\u001b[0m \u001b[43mdf\u001b[49m\u001b[38;5;241;43m.\u001b[39;49m\u001b[43mto_csv\u001b[49m\u001b[43m(\u001b[49m\u001b[38;5;124;43m'\u001b[39;49m\u001b[38;5;124;43mc:\u001b[39;49m\u001b[38;5;130;43;01m\\\\\u001b[39;49;00m\u001b[38;5;124;43mUsers\u001b[39;49m\u001b[38;5;130;43;01m\\\\\u001b[39;49;00m\u001b[38;5;124;43mbkser\u001b[39;49m\u001b[38;5;130;43;01m\\\\\u001b[39;49;00m\u001b[38;5;124;43mDownloads\u001b[39;49m\u001b[38;5;130;43;01m\\\\\u001b[39;49;00m\u001b[38;5;124;43mpython\u001b[39;49m\u001b[38;5;130;43;01m\\\\\u001b[39;49;00m\u001b[38;5;124;43mbase_tratada.csv\u001b[39;49m\u001b[38;5;124;43m'\u001b[39;49m\u001b[43m,\u001b[49m\u001b[43m \u001b[49m\u001b[43mindex\u001b[49m\u001b[38;5;241;43m=\u001b[39;49m\u001b[38;5;28;43;01mFalse\u001b[39;49;00m\u001b[43m)\u001b[49m\n",
      "File \u001b[1;32mc:\\Users\\llays\\AppData\\Local\\Programs\\Python\\Python313\\Lib\\site-packages\\pandas\\util\\_decorators.py:333\u001b[0m, in \u001b[0;36mdeprecate_nonkeyword_arguments.<locals>.decorate.<locals>.wrapper\u001b[1;34m(*args, **kwargs)\u001b[0m\n\u001b[0;32m    327\u001b[0m \u001b[38;5;28;01mif\u001b[39;00m \u001b[38;5;28mlen\u001b[39m(args) \u001b[38;5;241m>\u001b[39m num_allow_args:\n\u001b[0;32m    328\u001b[0m     warnings\u001b[38;5;241m.\u001b[39mwarn(\n\u001b[0;32m    329\u001b[0m         msg\u001b[38;5;241m.\u001b[39mformat(arguments\u001b[38;5;241m=\u001b[39m_format_argument_list(allow_args)),\n\u001b[0;32m    330\u001b[0m         \u001b[38;5;167;01mFutureWarning\u001b[39;00m,\n\u001b[0;32m    331\u001b[0m         stacklevel\u001b[38;5;241m=\u001b[39mfind_stack_level(),\n\u001b[0;32m    332\u001b[0m     )\n\u001b[1;32m--> 333\u001b[0m \u001b[38;5;28;01mreturn\u001b[39;00m \u001b[43mfunc\u001b[49m\u001b[43m(\u001b[49m\u001b[38;5;241;43m*\u001b[39;49m\u001b[43margs\u001b[49m\u001b[43m,\u001b[49m\u001b[43m \u001b[49m\u001b[38;5;241;43m*\u001b[39;49m\u001b[38;5;241;43m*\u001b[39;49m\u001b[43mkwargs\u001b[49m\u001b[43m)\u001b[49m\n",
      "File \u001b[1;32mc:\\Users\\llays\\AppData\\Local\\Programs\\Python\\Python313\\Lib\\site-packages\\pandas\\core\\generic.py:3967\u001b[0m, in \u001b[0;36mNDFrame.to_csv\u001b[1;34m(self, path_or_buf, sep, na_rep, float_format, columns, header, index, index_label, mode, encoding, compression, quoting, quotechar, lineterminator, chunksize, date_format, doublequote, escapechar, decimal, errors, storage_options)\u001b[0m\n\u001b[0;32m   3956\u001b[0m df \u001b[38;5;241m=\u001b[39m \u001b[38;5;28mself\u001b[39m \u001b[38;5;28;01mif\u001b[39;00m \u001b[38;5;28misinstance\u001b[39m(\u001b[38;5;28mself\u001b[39m, ABCDataFrame) \u001b[38;5;28;01melse\u001b[39;00m \u001b[38;5;28mself\u001b[39m\u001b[38;5;241m.\u001b[39mto_frame()\n\u001b[0;32m   3958\u001b[0m formatter \u001b[38;5;241m=\u001b[39m DataFrameFormatter(\n\u001b[0;32m   3959\u001b[0m     frame\u001b[38;5;241m=\u001b[39mdf,\n\u001b[0;32m   3960\u001b[0m     header\u001b[38;5;241m=\u001b[39mheader,\n\u001b[1;32m   (...)\u001b[0m\n\u001b[0;32m   3964\u001b[0m     decimal\u001b[38;5;241m=\u001b[39mdecimal,\n\u001b[0;32m   3965\u001b[0m )\n\u001b[1;32m-> 3967\u001b[0m \u001b[38;5;28;01mreturn\u001b[39;00m \u001b[43mDataFrameRenderer\u001b[49m\u001b[43m(\u001b[49m\u001b[43mformatter\u001b[49m\u001b[43m)\u001b[49m\u001b[38;5;241;43m.\u001b[39;49m\u001b[43mto_csv\u001b[49m\u001b[43m(\u001b[49m\n\u001b[0;32m   3968\u001b[0m \u001b[43m    \u001b[49m\u001b[43mpath_or_buf\u001b[49m\u001b[43m,\u001b[49m\n\u001b[0;32m   3969\u001b[0m \u001b[43m    \u001b[49m\u001b[43mlineterminator\u001b[49m\u001b[38;5;241;43m=\u001b[39;49m\u001b[43mlineterminator\u001b[49m\u001b[43m,\u001b[49m\n\u001b[0;32m   3970\u001b[0m \u001b[43m    \u001b[49m\u001b[43msep\u001b[49m\u001b[38;5;241;43m=\u001b[39;49m\u001b[43msep\u001b[49m\u001b[43m,\u001b[49m\n\u001b[0;32m   3971\u001b[0m \u001b[43m    \u001b[49m\u001b[43mencoding\u001b[49m\u001b[38;5;241;43m=\u001b[39;49m\u001b[43mencoding\u001b[49m\u001b[43m,\u001b[49m\n\u001b[0;32m   3972\u001b[0m \u001b[43m    \u001b[49m\u001b[43merrors\u001b[49m\u001b[38;5;241;43m=\u001b[39;49m\u001b[43merrors\u001b[49m\u001b[43m,\u001b[49m\n\u001b[0;32m   3973\u001b[0m \u001b[43m    \u001b[49m\u001b[43mcompression\u001b[49m\u001b[38;5;241;43m=\u001b[39;49m\u001b[43mcompression\u001b[49m\u001b[43m,\u001b[49m\n\u001b[0;32m   3974\u001b[0m \u001b[43m    \u001b[49m\u001b[43mquoting\u001b[49m\u001b[38;5;241;43m=\u001b[39;49m\u001b[43mquoting\u001b[49m\u001b[43m,\u001b[49m\n\u001b[0;32m   3975\u001b[0m \u001b[43m    \u001b[49m\u001b[43mcolumns\u001b[49m\u001b[38;5;241;43m=\u001b[39;49m\u001b[43mcolumns\u001b[49m\u001b[43m,\u001b[49m\n\u001b[0;32m   3976\u001b[0m \u001b[43m    \u001b[49m\u001b[43mindex_label\u001b[49m\u001b[38;5;241;43m=\u001b[39;49m\u001b[43mindex_label\u001b[49m\u001b[43m,\u001b[49m\n\u001b[0;32m   3977\u001b[0m \u001b[43m    \u001b[49m\u001b[43mmode\u001b[49m\u001b[38;5;241;43m=\u001b[39;49m\u001b[43mmode\u001b[49m\u001b[43m,\u001b[49m\n\u001b[0;32m   3978\u001b[0m \u001b[43m    \u001b[49m\u001b[43mchunksize\u001b[49m\u001b[38;5;241;43m=\u001b[39;49m\u001b[43mchunksize\u001b[49m\u001b[43m,\u001b[49m\n\u001b[0;32m   3979\u001b[0m \u001b[43m    \u001b[49m\u001b[43mquotechar\u001b[49m\u001b[38;5;241;43m=\u001b[39;49m\u001b[43mquotechar\u001b[49m\u001b[43m,\u001b[49m\n\u001b[0;32m   3980\u001b[0m \u001b[43m    \u001b[49m\u001b[43mdate_format\u001b[49m\u001b[38;5;241;43m=\u001b[39;49m\u001b[43mdate_format\u001b[49m\u001b[43m,\u001b[49m\n\u001b[0;32m   3981\u001b[0m \u001b[43m    \u001b[49m\u001b[43mdoublequote\u001b[49m\u001b[38;5;241;43m=\u001b[39;49m\u001b[43mdoublequote\u001b[49m\u001b[43m,\u001b[49m\n\u001b[0;32m   3982\u001b[0m \u001b[43m    \u001b[49m\u001b[43mescapechar\u001b[49m\u001b[38;5;241;43m=\u001b[39;49m\u001b[43mescapechar\u001b[49m\u001b[43m,\u001b[49m\n\u001b[0;32m   3983\u001b[0m \u001b[43m    \u001b[49m\u001b[43mstorage_options\u001b[49m\u001b[38;5;241;43m=\u001b[39;49m\u001b[43mstorage_options\u001b[49m\u001b[43m,\u001b[49m\n\u001b[0;32m   3984\u001b[0m \u001b[43m\u001b[49m\u001b[43m)\u001b[49m\n",
      "File \u001b[1;32mc:\\Users\\llays\\AppData\\Local\\Programs\\Python\\Python313\\Lib\\site-packages\\pandas\\io\\formats\\format.py:1014\u001b[0m, in \u001b[0;36mDataFrameRenderer.to_csv\u001b[1;34m(self, path_or_buf, encoding, sep, columns, index_label, mode, compression, quoting, quotechar, lineterminator, chunksize, date_format, doublequote, escapechar, errors, storage_options)\u001b[0m\n\u001b[0;32m    993\u001b[0m     created_buffer \u001b[38;5;241m=\u001b[39m \u001b[38;5;28;01mFalse\u001b[39;00m\n\u001b[0;32m    995\u001b[0m csv_formatter \u001b[38;5;241m=\u001b[39m CSVFormatter(\n\u001b[0;32m    996\u001b[0m     path_or_buf\u001b[38;5;241m=\u001b[39mpath_or_buf,\n\u001b[0;32m    997\u001b[0m     lineterminator\u001b[38;5;241m=\u001b[39mlineterminator,\n\u001b[1;32m   (...)\u001b[0m\n\u001b[0;32m   1012\u001b[0m     formatter\u001b[38;5;241m=\u001b[39m\u001b[38;5;28mself\u001b[39m\u001b[38;5;241m.\u001b[39mfmt,\n\u001b[0;32m   1013\u001b[0m )\n\u001b[1;32m-> 1014\u001b[0m \u001b[43mcsv_formatter\u001b[49m\u001b[38;5;241;43m.\u001b[39;49m\u001b[43msave\u001b[49m\u001b[43m(\u001b[49m\u001b[43m)\u001b[49m\n\u001b[0;32m   1016\u001b[0m \u001b[38;5;28;01mif\u001b[39;00m created_buffer:\n\u001b[0;32m   1017\u001b[0m     \u001b[38;5;28;01massert\u001b[39;00m \u001b[38;5;28misinstance\u001b[39m(path_or_buf, StringIO)\n",
      "File \u001b[1;32mc:\\Users\\llays\\AppData\\Local\\Programs\\Python\\Python313\\Lib\\site-packages\\pandas\\io\\formats\\csvs.py:251\u001b[0m, in \u001b[0;36mCSVFormatter.save\u001b[1;34m(self)\u001b[0m\n\u001b[0;32m    247\u001b[0m \u001b[38;5;250m\u001b[39m\u001b[38;5;124;03m\"\"\"\u001b[39;00m\n\u001b[0;32m    248\u001b[0m \u001b[38;5;124;03mCreate the writer & save.\u001b[39;00m\n\u001b[0;32m    249\u001b[0m \u001b[38;5;124;03m\"\"\"\u001b[39;00m\n\u001b[0;32m    250\u001b[0m \u001b[38;5;66;03m# apply compression and byte/text conversion\u001b[39;00m\n\u001b[1;32m--> 251\u001b[0m \u001b[38;5;28;01mwith\u001b[39;00m \u001b[43mget_handle\u001b[49m\u001b[43m(\u001b[49m\n\u001b[0;32m    252\u001b[0m \u001b[43m    \u001b[49m\u001b[38;5;28;43mself\u001b[39;49m\u001b[38;5;241;43m.\u001b[39;49m\u001b[43mfilepath_or_buffer\u001b[49m\u001b[43m,\u001b[49m\n\u001b[0;32m    253\u001b[0m \u001b[43m    \u001b[49m\u001b[38;5;28;43mself\u001b[39;49m\u001b[38;5;241;43m.\u001b[39;49m\u001b[43mmode\u001b[49m\u001b[43m,\u001b[49m\n\u001b[0;32m    254\u001b[0m \u001b[43m    \u001b[49m\u001b[43mencoding\u001b[49m\u001b[38;5;241;43m=\u001b[39;49m\u001b[38;5;28;43mself\u001b[39;49m\u001b[38;5;241;43m.\u001b[39;49m\u001b[43mencoding\u001b[49m\u001b[43m,\u001b[49m\n\u001b[0;32m    255\u001b[0m \u001b[43m    \u001b[49m\u001b[43merrors\u001b[49m\u001b[38;5;241;43m=\u001b[39;49m\u001b[38;5;28;43mself\u001b[39;49m\u001b[38;5;241;43m.\u001b[39;49m\u001b[43merrors\u001b[49m\u001b[43m,\u001b[49m\n\u001b[0;32m    256\u001b[0m \u001b[43m    \u001b[49m\u001b[43mcompression\u001b[49m\u001b[38;5;241;43m=\u001b[39;49m\u001b[38;5;28;43mself\u001b[39;49m\u001b[38;5;241;43m.\u001b[39;49m\u001b[43mcompression\u001b[49m\u001b[43m,\u001b[49m\n\u001b[0;32m    257\u001b[0m \u001b[43m    \u001b[49m\u001b[43mstorage_options\u001b[49m\u001b[38;5;241;43m=\u001b[39;49m\u001b[38;5;28;43mself\u001b[39;49m\u001b[38;5;241;43m.\u001b[39;49m\u001b[43mstorage_options\u001b[49m\u001b[43m,\u001b[49m\n\u001b[0;32m    258\u001b[0m \u001b[43m\u001b[49m\u001b[43m)\u001b[49m \u001b[38;5;28;01mas\u001b[39;00m handles:\n\u001b[0;32m    259\u001b[0m     \u001b[38;5;66;03m# Note: self.encoding is irrelevant here\u001b[39;00m\n\u001b[0;32m    260\u001b[0m     \u001b[38;5;28mself\u001b[39m\u001b[38;5;241m.\u001b[39mwriter \u001b[38;5;241m=\u001b[39m csvlib\u001b[38;5;241m.\u001b[39mwriter(\n\u001b[0;32m    261\u001b[0m         handles\u001b[38;5;241m.\u001b[39mhandle,\n\u001b[0;32m    262\u001b[0m         lineterminator\u001b[38;5;241m=\u001b[39m\u001b[38;5;28mself\u001b[39m\u001b[38;5;241m.\u001b[39mlineterminator,\n\u001b[1;32m   (...)\u001b[0m\n\u001b[0;32m    267\u001b[0m         quotechar\u001b[38;5;241m=\u001b[39m\u001b[38;5;28mself\u001b[39m\u001b[38;5;241m.\u001b[39mquotechar,\n\u001b[0;32m    268\u001b[0m     )\n\u001b[0;32m    270\u001b[0m     \u001b[38;5;28mself\u001b[39m\u001b[38;5;241m.\u001b[39m_save()\n",
      "File \u001b[1;32mc:\\Users\\llays\\AppData\\Local\\Programs\\Python\\Python313\\Lib\\site-packages\\pandas\\io\\common.py:749\u001b[0m, in \u001b[0;36mget_handle\u001b[1;34m(path_or_buf, mode, encoding, compression, memory_map, is_text, errors, storage_options)\u001b[0m\n\u001b[0;32m    747\u001b[0m \u001b[38;5;66;03m# Only for write methods\u001b[39;00m\n\u001b[0;32m    748\u001b[0m \u001b[38;5;28;01mif\u001b[39;00m \u001b[38;5;124m\"\u001b[39m\u001b[38;5;124mr\u001b[39m\u001b[38;5;124m\"\u001b[39m \u001b[38;5;129;01mnot\u001b[39;00m \u001b[38;5;129;01min\u001b[39;00m mode \u001b[38;5;129;01mand\u001b[39;00m is_path:\n\u001b[1;32m--> 749\u001b[0m     \u001b[43mcheck_parent_directory\u001b[49m\u001b[43m(\u001b[49m\u001b[38;5;28;43mstr\u001b[39;49m\u001b[43m(\u001b[49m\u001b[43mhandle\u001b[49m\u001b[43m)\u001b[49m\u001b[43m)\u001b[49m\n\u001b[0;32m    751\u001b[0m \u001b[38;5;28;01mif\u001b[39;00m compression:\n\u001b[0;32m    752\u001b[0m     \u001b[38;5;28;01mif\u001b[39;00m compression \u001b[38;5;241m!=\u001b[39m \u001b[38;5;124m\"\u001b[39m\u001b[38;5;124mzstd\u001b[39m\u001b[38;5;124m\"\u001b[39m:\n\u001b[0;32m    753\u001b[0m         \u001b[38;5;66;03m# compression libraries do not like an explicit text-mode\u001b[39;00m\n",
      "File \u001b[1;32mc:\\Users\\llays\\AppData\\Local\\Programs\\Python\\Python313\\Lib\\site-packages\\pandas\\io\\common.py:616\u001b[0m, in \u001b[0;36mcheck_parent_directory\u001b[1;34m(path)\u001b[0m\n\u001b[0;32m    614\u001b[0m parent \u001b[38;5;241m=\u001b[39m Path(path)\u001b[38;5;241m.\u001b[39mparent\n\u001b[0;32m    615\u001b[0m \u001b[38;5;28;01mif\u001b[39;00m \u001b[38;5;129;01mnot\u001b[39;00m parent\u001b[38;5;241m.\u001b[39mis_dir():\n\u001b[1;32m--> 616\u001b[0m     \u001b[38;5;28;01mraise\u001b[39;00m \u001b[38;5;167;01mOSError\u001b[39;00m(\u001b[38;5;124mrf\u001b[39m\u001b[38;5;124m\"\u001b[39m\u001b[38;5;124mCannot save file into a non-existent directory: \u001b[39m\u001b[38;5;124m'\u001b[39m\u001b[38;5;132;01m{\u001b[39;00mparent\u001b[38;5;132;01m}\u001b[39;00m\u001b[38;5;124m'\u001b[39m\u001b[38;5;124m\"\u001b[39m)\n",
      "\u001b[1;31mOSError\u001b[0m: Cannot save file into a non-existent directory: 'c:\\Users\\bkser\\Downloads\\python'"
     ]
    }
   ],
   "source": [
    "df.to_csv('c:\\\\Users\\\\bkser\\\\Downloads\\\\python\\\\base_tratada.csv', index=False)"
   ]
  },
  {
   "cell_type": "code",
   "execution_count": null,
   "id": "c2a24f2e",
   "metadata": {},
   "outputs": [
    {
     "data": {
      "text/plain": [
       "Index(['D01301', 'D01303', 'E002', 'E003', 'E004', 'E005', 'E006011', 'E008',\n",
       "       'E010010', 'E011', 'E01603', 'E01605', 'E01604', 'E01804', 'I012',\n",
       "       'J00402', 'J00404', 'J00801', 'M00203', 'M00302', 'N004', 'N005',\n",
       "       'N008', 'P00103', 'P00104', 'P00403', 'P00404', 'P01001', 'P02801',\n",
       "       'P029', 'P035', 'P03701', 'P03702', 'P051', 'P052', 'P053', 'P05401',\n",
       "       'P05404', 'P05407', 'P05410', 'P05413', 'P05416', 'P05419', 'Q00201',\n",
       "       'Q03001', 'Q060', 'Q06307', 'Q06308', 'Q06309', 'Q06310', 'Q06311',\n",
       "       'Q064', 'Q06506', 'Q06507', 'Q06508', 'Q06509', 'Q06601', 'Q067',\n",
       "       'R010', 'R025', 'R028', 'R029', 'R030', 'R031', 'R032', 'R033', 'R034',\n",
       "       'R03601', 'R03607', 'R03608', 'R03610', 'S065', 'H002', 'H003', 'H004',\n",
       "       'H010', 'Escolaridade'],\n",
       "      dtype='object')"
      ]
     },
     "execution_count": 369,
     "metadata": {},
     "output_type": "execute_result"
    }
   ],
   "source": [
    "df.columns[df.isnull().any()]"
   ]
  },
  {
   "cell_type": "code",
   "execution_count": null,
   "id": "b37b78cb",
   "metadata": {},
   "outputs": [
    {
     "data": {
      "text/plain": [
       "np.int64(77)"
      ]
     },
     "execution_count": 370,
     "metadata": {},
     "output_type": "execute_result"
    }
   ],
   "source": [
    "(df.isnull().sum() > 0).sum()"
   ]
  }
 ],
 "metadata": {
  "kernelspec": {
   "display_name": "Python 3",
   "language": "python",
   "name": "python3"
  },
  "language_info": {
   "codemirror_mode": {
    "name": "ipython",
    "version": 3
   },
   "file_extension": ".py",
   "mimetype": "text/x-python",
   "name": "python",
   "nbconvert_exporter": "python",
   "pygments_lexer": "ipython3",
   "version": "3.13.2"
  }
 },
 "nbformat": 4,
 "nbformat_minor": 5
}
