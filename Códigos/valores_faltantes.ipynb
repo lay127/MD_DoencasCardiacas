{
 "cells": [
  {
   "cell_type": "code",
   "execution_count": 351,
   "id": "dc28fe75",
   "metadata": {},
   "outputs": [],
   "source": [
    "import pandas as pd\n",
    "import numpy as np"
   ]
  },
  {
   "cell_type": "code",
   "execution_count": 352,
   "id": "79697b97",
   "metadata": {},
   "outputs": [],
   "source": [
    "df = pd.read_csv('c:\\\\Users\\\\bkser\\\\Downloads\\\\python\\\\base_doencas_cardiacas.csv')"
   ]
  },
  {
   "cell_type": "markdown",
   "id": "c2e4bc00",
   "metadata": {},
   "source": [
    "## Escolaridade\n",
    "\n",
    "D00901 – curso mais elevado frequentado\n",
    "\n",
    "D014 – se concluiu esse curso\n",
    "\n",
    "D00201 – se frequenta escola atualmente\n",
    "\n",
    "D008 – se já frequentou escola"
   ]
  },
  {
   "cell_type": "code",
   "execution_count": 353,
   "id": "c164db58",
   "metadata": {},
   "outputs": [
    {
     "name": "stdout",
     "output_type": "stream",
     "text": [
      "Escolaridade\n",
      "1.0    9187\n",
      "3.0    4939\n",
      "2.0    4072\n",
      "0.0    2767\n",
      "4.0    1800\n",
      "5.0     940\n",
      "NaN     687\n",
      "Name: count, dtype: int64\n"
     ]
    }
   ],
   "source": [
    "# Garantir que os atributos são numéricos\n",
    "df['D00901'] = pd.to_numeric(df['D00901'], errors='coerce')\n",
    "df['D014'] = pd.to_numeric(df['D014'], errors='coerce')\n",
    "df['D00201'] = pd.to_numeric(df['D00201'], errors='coerce')\n",
    "df['D008'] = pd.to_numeric(df['D008'], errors='coerce')\n",
    "\n",
    "# 1. Corrigir D014 para infantil (Creche ou Pré-escola) → assumir como concluído se estiver nan quando D00901 = 1 e 2\n",
    "cond = df['D00901'].isin([1, 2]) & df['D014'].isna()\n",
    "df.loc[cond, 'D014'] = 1\n",
    "\n",
    "# 2. Função para mapear escolaridade final (0 a 5)\n",
    "def map_escolaridade(row):\n",
    "    curso = row['D00901']\n",
    "    concluiu = row['D014']\n",
    "    freq_atualmente = row['D00201']\n",
    "    freq_antes = row['D008']\n",
    "\n",
    "    if pd.isna(curso):\n",
    "        # Se não tem informação de curso, mas também nunca frequentou\n",
    "        if freq_atualmente != 1 and freq_antes != 1:\n",
    "            return 0  # Nunca frequentou\n",
    "        else:\n",
    "            return np.nan\n",
    "\n",
    "    # Mapeamento baseado no questionário da PNS 2019\n",
    "    if curso in [1, 2]:            # Creche, Pré-escola\n",
    "        categoria = 1\n",
    "    elif curso in [3, 4, 5, 6, 7, 8]:  # Alfabetização, primário, EJA fundamental etc.\n",
    "        categoria = 2\n",
    "    elif curso in [9, 10, 11]:     # Científico, médio, EJA médio\n",
    "        categoria = 3\n",
    "    elif curso == 12:              # Superior - graduação\n",
    "        categoria = 4\n",
    "    elif curso in [13, 14, 15]:    # Pós-graduação\n",
    "        categoria = 5\n",
    "    else:\n",
    "        return np.nan\n",
    "\n",
    "    # Rebaixar se não concluiu\n",
    "    if concluiu == 2:\n",
    "        categoria -= 1\n",
    "        if categoria < 0:\n",
    "            categoria = 0\n",
    "\n",
    "    return categoria\n",
    "\n",
    "# Aplicar função\n",
    "df['Escolaridade'] = df.apply(map_escolaridade, axis=1)\n",
    "\n",
    "# Remover colunas intermediárias\n",
    "df.drop(columns=['D00201', 'D008', 'D00901', 'D014'], inplace=True)\n",
    "\n",
    "# Verificar resultado\n",
    "print(df['Escolaridade'].value_counts(dropna=False))\n",
    "\n",
    "# 0: Nunca frequentou escola\n",
    "# 1: Educação infantil\n",
    "# 2: Ensino fundamental\n",
    "# 3: Ensino médio\n",
    "# 4: Ensino superior\n",
    "# 5: Pós-graduação\n"
   ]
  },
  {
   "cell_type": "markdown",
   "id": "9f2e8af1",
   "metadata": {},
   "source": [
    "## Renda \n",
    "\n",
    "E011: número de trabalhos na semana\n",
    "\n",
    "E014011: se era trabalhador não remunerado ajudando parente/domicílio\n",
    "\n",
    "E01601: se recebia dinheiro no trabalho principal\n",
    "\n",
    "E01602: valor da renda do trabalho principal\n",
    "\n",
    "E01801: se recebia dinheiro em outro(s) trabalho(s)\n",
    "\n",
    "E01802: valor da renda dos outros trabalhos\n",
    "\n",
    "\n",
    "Regras:\n",
    "\n",
    "1- Se E01601 != 1 ou E01801 != 1, a renda respectiva é 0;\n",
    "\n",
    "2- Se a pessoa é não remunerada (E014011 = 1, 2, 3), renda é 0;\n",
    "\n",
    "3- Se E01602 ou E01802 estiverem NaN, mas a pessoa disse que recebia (E01601 ou E01801 = 1), considerar como NaN final.\n",
    "\n",
    "4- Renda total é a soma de E01602 e E01802 (ajustadas com base nas respostas anteriores).\n",
    "\n",
    "5- A variável final será chamada Renda e os outros atributos serão removidos."
   ]
  },
  {
   "cell_type": "code",
   "execution_count": 354,
   "id": "5e1d51cb",
   "metadata": {},
   "outputs": [
    {
     "name": "stdout",
     "output_type": "stream",
     "text": [
      "0\n"
     ]
    }
   ],
   "source": [
    "# Garantir que os campos estão numéricos\n",
    "for col in ['E011', 'E014011', 'E01601', 'E01602', 'E01801', 'E01802']:\n",
    "    df[col] = pd.to_numeric(df[col], errors='coerce')\n",
    "\n",
    "# Função para calcular a renda final\n",
    "def calcular_renda(row):\n",
    "    # Regra 2: trabalhador não remunerado (1, 2 ou 3)\n",
    "    if row['E014011'] in [1, 2, 3]:\n",
    "        return 0.0\n",
    "\n",
    "    # Regra 1 + 3: verificar se recebia dinheiro\n",
    "    if row['E01601'] == 1:\n",
    "        renda1 = row['E01602'] if pd.notna(row['E01602']) else np.nan\n",
    "    else:\n",
    "        renda1 = 0.0\n",
    "\n",
    "    if row['E01801'] == 1:\n",
    "        renda2 = row['E01802'] if pd.notna(row['E01802']) else np.nan\n",
    "    else:\n",
    "        renda2 = 0.0\n",
    "\n",
    "    # Regra 4: soma ajustada\n",
    "    if pd.isna(renda1) or pd.isna(renda2):\n",
    "        if pd.notna(renda1) and pd.isna(renda2):\n",
    "            return renda1\n",
    "        elif pd.notna(renda2) and pd.isna(renda1):\n",
    "            return renda2\n",
    "        else:\n",
    "            return np.nan\n",
    "\n",
    "    return renda1 + renda2\n",
    "\n",
    "# Aplicar a função\n",
    "df['Renda'] = df.apply(calcular_renda, axis=1)\n",
    "\n",
    "# Remover colunas usadas\n",
    "df.drop(columns=['E014011', 'E01601', 'E01602', 'E01801', 'E01802'], inplace=True)\n",
    "\n",
    "# Verificar\n",
    "print(df['Renda'].isna().sum())"
   ]
  },
  {
   "cell_type": "code",
   "execution_count": 355,
   "id": "657f2d93",
   "metadata": {},
   "outputs": [
    {
     "name": "stdout",
     "output_type": "stream",
     "text": [
      "12249\n"
     ]
    }
   ],
   "source": [
    "print((df['Renda'] == 0.0).sum())"
   ]
  },
  {
   "cell_type": "code",
   "execution_count": 356,
   "id": "098851eb",
   "metadata": {},
   "outputs": [
    {
     "data": {
      "application/vnd.microsoft.datawrangler.viewer.v0+json": {
       "columns": [
        {
         "name": "index",
         "rawType": "int64",
         "type": "integer"
        },
        {
         "name": "Renda",
         "rawType": "float64",
         "type": "float"
        }
       ],
       "conversionMethod": "pd.DataFrame",
       "ref": "2585e7cd-41c0-495c-b12e-465f875b61e6",
       "rows": [
        [
         "0",
         "0.0"
        ],
        [
         "4",
         "0.0"
        ],
        [
         "6",
         "0.0"
        ],
        [
         "9",
         "0.0"
        ],
        [
         "10",
         "0.0"
        ],
        [
         "12",
         "0.0"
        ],
        [
         "13",
         "0.0"
        ],
        [
         "18",
         "0.0"
        ],
        [
         "21",
         "0.0"
        ],
        [
         "22",
         "0.0"
        ],
        [
         "26",
         "0.0"
        ],
        [
         "27",
         "0.0"
        ],
        [
         "28",
         "0.0"
        ],
        [
         "30",
         "0.0"
        ],
        [
         "34",
         "0.0"
        ],
        [
         "39",
         "0.0"
        ],
        [
         "41",
         "0.0"
        ],
        [
         "45",
         "0.0"
        ],
        [
         "46",
         "0.0"
        ],
        [
         "47",
         "0.0"
        ],
        [
         "48",
         "0.0"
        ],
        [
         "51",
         "0.0"
        ],
        [
         "53",
         "0.0"
        ],
        [
         "61",
         "0.0"
        ],
        [
         "62",
         "0.0"
        ],
        [
         "63",
         "0.0"
        ],
        [
         "72",
         "0.0"
        ],
        [
         "77",
         "0.0"
        ],
        [
         "79",
         "0.0"
        ],
        [
         "80",
         "0.0"
        ],
        [
         "81",
         "0.0"
        ],
        [
         "85",
         "0.0"
        ],
        [
         "89",
         "0.0"
        ],
        [
         "91",
         "0.0"
        ],
        [
         "93",
         "0.0"
        ],
        [
         "98",
         "0.0"
        ],
        [
         "100",
         "0.0"
        ],
        [
         "105",
         "0.0"
        ],
        [
         "107",
         "0.0"
        ],
        [
         "109",
         "0.0"
        ],
        [
         "111",
         "0.0"
        ],
        [
         "112",
         "0.0"
        ],
        [
         "115",
         "0.0"
        ],
        [
         "117",
         "0.0"
        ],
        [
         "118",
         "0.0"
        ],
        [
         "119",
         "0.0"
        ],
        [
         "120",
         "0.0"
        ],
        [
         "121",
         "0.0"
        ],
        [
         "125",
         "0.0"
        ],
        [
         "126",
         "0.0"
        ]
       ],
       "shape": {
        "columns": 1,
        "rows": 12249
       }
      },
      "text/html": [
       "<div>\n",
       "<style scoped>\n",
       "    .dataframe tbody tr th:only-of-type {\n",
       "        vertical-align: middle;\n",
       "    }\n",
       "\n",
       "    .dataframe tbody tr th {\n",
       "        vertical-align: top;\n",
       "    }\n",
       "\n",
       "    .dataframe thead th {\n",
       "        text-align: right;\n",
       "    }\n",
       "</style>\n",
       "<table border=\"1\" class=\"dataframe\">\n",
       "  <thead>\n",
       "    <tr style=\"text-align: right;\">\n",
       "      <th></th>\n",
       "      <th>Renda</th>\n",
       "    </tr>\n",
       "  </thead>\n",
       "  <tbody>\n",
       "    <tr>\n",
       "      <th>0</th>\n",
       "      <td>0.0</td>\n",
       "    </tr>\n",
       "    <tr>\n",
       "      <th>4</th>\n",
       "      <td>0.0</td>\n",
       "    </tr>\n",
       "    <tr>\n",
       "      <th>6</th>\n",
       "      <td>0.0</td>\n",
       "    </tr>\n",
       "    <tr>\n",
       "      <th>9</th>\n",
       "      <td>0.0</td>\n",
       "    </tr>\n",
       "    <tr>\n",
       "      <th>10</th>\n",
       "      <td>0.0</td>\n",
       "    </tr>\n",
       "    <tr>\n",
       "      <th>...</th>\n",
       "      <td>...</td>\n",
       "    </tr>\n",
       "    <tr>\n",
       "      <th>24355</th>\n",
       "      <td>0.0</td>\n",
       "    </tr>\n",
       "    <tr>\n",
       "      <th>24366</th>\n",
       "      <td>0.0</td>\n",
       "    </tr>\n",
       "    <tr>\n",
       "      <th>24367</th>\n",
       "      <td>0.0</td>\n",
       "    </tr>\n",
       "    <tr>\n",
       "      <th>24375</th>\n",
       "      <td>0.0</td>\n",
       "    </tr>\n",
       "    <tr>\n",
       "      <th>24380</th>\n",
       "      <td>0.0</td>\n",
       "    </tr>\n",
       "  </tbody>\n",
       "</table>\n",
       "<p>12249 rows × 1 columns</p>\n",
       "</div>"
      ],
      "text/plain": [
       "       Renda\n",
       "0        0.0\n",
       "4        0.0\n",
       "6        0.0\n",
       "9        0.0\n",
       "10       0.0\n",
       "...      ...\n",
       "24355    0.0\n",
       "24366    0.0\n",
       "24367    0.0\n",
       "24375    0.0\n",
       "24380    0.0\n",
       "\n",
       "[12249 rows x 1 columns]"
      ]
     },
     "execution_count": 356,
     "metadata": {},
     "output_type": "execute_result"
    }
   ],
   "source": [
    "df[df['Renda'] == 0.0][['Renda']]"
   ]
  },
  {
   "cell_type": "markdown",
   "id": "b3784b47",
   "metadata": {},
   "source": [
    "## Horas trabalhadas\n",
    "\n",
    "E017 - 1 trabalho\n",
    "E019 - outros trabalhos\n"
   ]
  },
  {
   "cell_type": "code",
   "execution_count": 357,
   "id": "20dc9bab",
   "metadata": {},
   "outputs": [
    {
     "name": "stdout",
     "output_type": "stream",
     "text": [
      "count    24392.000000\n",
      "mean        18.881437\n",
      "std         21.333164\n",
      "min          0.000000\n",
      "25%          0.000000\n",
      "50%          5.000000\n",
      "75%         40.000000\n",
      "max        120.000000\n",
      "Name: Horas_trabalhadas, dtype: float64\n",
      "0\n"
     ]
    }
   ],
   "source": [
    "# Certifique-se de que os campos são numéricos\n",
    "df['E017'] = pd.to_numeric(df['E017'], errors='coerce')\n",
    "df['E019'] = pd.to_numeric(df['E019'], errors='coerce')\n",
    "\n",
    "# Criar a variável final\n",
    "df['Horas_trabalhadas'] = df['E017'].fillna(0) + df['E019'].fillna(0)\n",
    "\n",
    "# Se quiser que NaN em ambos resulte em NaN no final, use:\n",
    "# df['Horas_trabalhadas'] = df[['E017', 'E019']].sum(axis=1, min_count=1)\n",
    "\n",
    "# Remover colunas antigas\n",
    "df.drop(columns=['E017', 'E019'], inplace=True)\n",
    "\n",
    "# Verificar resultado\n",
    "print(df['Horas_trabalhadas'].describe())\n",
    "print(df['Horas_trabalhadas'].isna().sum())"
   ]
  },
  {
   "cell_type": "code",
   "execution_count": 358,
   "id": "a253c89b",
   "metadata": {},
   "outputs": [
    {
     "data": {
      "application/vnd.microsoft.datawrangler.viewer.v0+json": {
       "columns": [
        {
         "name": "index",
         "rawType": "int64",
         "type": "integer"
        },
        {
         "name": "Renda",
         "rawType": "float64",
         "type": "float"
        },
        {
         "name": "Horas_trabalhadas",
         "rawType": "float64",
         "type": "float"
        }
       ],
       "conversionMethod": "pd.DataFrame",
       "ref": "a8cdb98d-a661-4a68-83c3-abf2a0068eb2",
       "rows": [
        [
         "0",
         "0.0",
         "0.0"
        ],
        [
         "4",
         "0.0",
         "0.0"
        ],
        [
         "6",
         "0.0",
         "0.0"
        ],
        [
         "9",
         "0.0",
         "0.0"
        ],
        [
         "10",
         "0.0",
         "0.0"
        ],
        [
         "12",
         "0.0",
         "0.0"
        ],
        [
         "13",
         "0.0",
         "0.0"
        ],
        [
         "18",
         "0.0",
         "0.0"
        ],
        [
         "21",
         "0.0",
         "0.0"
        ],
        [
         "22",
         "0.0",
         "0.0"
        ],
        [
         "26",
         "0.0",
         "0.0"
        ],
        [
         "27",
         "0.0",
         "0.0"
        ],
        [
         "28",
         "0.0",
         "0.0"
        ],
        [
         "30",
         "0.0",
         "0.0"
        ],
        [
         "34",
         "0.0",
         "0.0"
        ],
        [
         "39",
         "0.0",
         "0.0"
        ],
        [
         "41",
         "0.0",
         "0.0"
        ],
        [
         "45",
         "0.0",
         "0.0"
        ],
        [
         "46",
         "0.0",
         "0.0"
        ],
        [
         "47",
         "0.0",
         "0.0"
        ],
        [
         "48",
         "0.0",
         "0.0"
        ],
        [
         "51",
         "0.0",
         "0.0"
        ],
        [
         "53",
         "0.0",
         "0.0"
        ],
        [
         "61",
         "0.0",
         "0.0"
        ],
        [
         "62",
         "0.0",
         "0.0"
        ],
        [
         "63",
         "0.0",
         "0.0"
        ],
        [
         "72",
         "0.0",
         "0.0"
        ],
        [
         "77",
         "0.0",
         "0.0"
        ],
        [
         "79",
         "0.0",
         "0.0"
        ],
        [
         "80",
         "0.0",
         "0.0"
        ],
        [
         "81",
         "0.0",
         "0.0"
        ],
        [
         "85",
         "0.0",
         "0.0"
        ],
        [
         "89",
         "0.0",
         "0.0"
        ],
        [
         "91",
         "0.0",
         "0.0"
        ],
        [
         "93",
         "0.0",
         "0.0"
        ],
        [
         "98",
         "0.0",
         "0.0"
        ],
        [
         "100",
         "0.0",
         "0.0"
        ],
        [
         "105",
         "0.0",
         "0.0"
        ],
        [
         "107",
         "0.0",
         "0.0"
        ],
        [
         "109",
         "0.0",
         "0.0"
        ],
        [
         "111",
         "0.0",
         "0.0"
        ],
        [
         "112",
         "0.0",
         "0.0"
        ],
        [
         "115",
         "0.0",
         "0.0"
        ],
        [
         "117",
         "0.0",
         "0.0"
        ],
        [
         "118",
         "0.0",
         "0.0"
        ],
        [
         "119",
         "0.0",
         "0.0"
        ],
        [
         "120",
         "0.0",
         "0.0"
        ],
        [
         "121",
         "0.0",
         "0.0"
        ],
        [
         "125",
         "0.0",
         "0.0"
        ],
        [
         "126",
         "0.0",
         "0.0"
        ]
       ],
       "shape": {
        "columns": 2,
        "rows": 12018
       }
      },
      "text/html": [
       "<div>\n",
       "<style scoped>\n",
       "    .dataframe tbody tr th:only-of-type {\n",
       "        vertical-align: middle;\n",
       "    }\n",
       "\n",
       "    .dataframe tbody tr th {\n",
       "        vertical-align: top;\n",
       "    }\n",
       "\n",
       "    .dataframe thead th {\n",
       "        text-align: right;\n",
       "    }\n",
       "</style>\n",
       "<table border=\"1\" class=\"dataframe\">\n",
       "  <thead>\n",
       "    <tr style=\"text-align: right;\">\n",
       "      <th></th>\n",
       "      <th>Renda</th>\n",
       "      <th>Horas_trabalhadas</th>\n",
       "    </tr>\n",
       "  </thead>\n",
       "  <tbody>\n",
       "    <tr>\n",
       "      <th>0</th>\n",
       "      <td>0.0</td>\n",
       "      <td>0.0</td>\n",
       "    </tr>\n",
       "    <tr>\n",
       "      <th>4</th>\n",
       "      <td>0.0</td>\n",
       "      <td>0.0</td>\n",
       "    </tr>\n",
       "    <tr>\n",
       "      <th>6</th>\n",
       "      <td>0.0</td>\n",
       "      <td>0.0</td>\n",
       "    </tr>\n",
       "    <tr>\n",
       "      <th>9</th>\n",
       "      <td>0.0</td>\n",
       "      <td>0.0</td>\n",
       "    </tr>\n",
       "    <tr>\n",
       "      <th>10</th>\n",
       "      <td>0.0</td>\n",
       "      <td>0.0</td>\n",
       "    </tr>\n",
       "    <tr>\n",
       "      <th>...</th>\n",
       "      <td>...</td>\n",
       "      <td>...</td>\n",
       "    </tr>\n",
       "    <tr>\n",
       "      <th>24355</th>\n",
       "      <td>0.0</td>\n",
       "      <td>0.0</td>\n",
       "    </tr>\n",
       "    <tr>\n",
       "      <th>24366</th>\n",
       "      <td>0.0</td>\n",
       "      <td>0.0</td>\n",
       "    </tr>\n",
       "    <tr>\n",
       "      <th>24367</th>\n",
       "      <td>0.0</td>\n",
       "      <td>0.0</td>\n",
       "    </tr>\n",
       "    <tr>\n",
       "      <th>24375</th>\n",
       "      <td>0.0</td>\n",
       "      <td>0.0</td>\n",
       "    </tr>\n",
       "    <tr>\n",
       "      <th>24380</th>\n",
       "      <td>0.0</td>\n",
       "      <td>0.0</td>\n",
       "    </tr>\n",
       "  </tbody>\n",
       "</table>\n",
       "<p>12018 rows × 2 columns</p>\n",
       "</div>"
      ],
      "text/plain": [
       "       Renda  Horas_trabalhadas\n",
       "0        0.0                0.0\n",
       "4        0.0                0.0\n",
       "6        0.0                0.0\n",
       "9        0.0                0.0\n",
       "10       0.0                0.0\n",
       "...      ...                ...\n",
       "24355    0.0                0.0\n",
       "24366    0.0                0.0\n",
       "24367    0.0                0.0\n",
       "24375    0.0                0.0\n",
       "24380    0.0                0.0\n",
       "\n",
       "[12018 rows x 2 columns]"
      ]
     },
     "execution_count": 358,
     "metadata": {},
     "output_type": "execute_result"
    }
   ],
   "source": [
    "df[(df['Renda'] == 0.0) & (df['Horas_trabalhadas'] == 0.0)][['Renda', 'Horas_trabalhadas']]"
   ]
  },
  {
   "cell_type": "markdown",
   "id": "5d27da94",
   "metadata": {},
   "source": [
    "## Plano de saúde "
   ]
  },
  {
   "cell_type": "markdown",
   "id": "0f7384c6",
   "metadata": {},
   "source": [
    "I00102 - se tem plano\n",
    "I006 - avaliação do plano\n",
    "\n",
    "0     | Não tem plano                \n",
    "1     | Avaliação muito boa ou boa   \n",
    "2     | Avaliação regular            \n",
    "3     | Avaliação ruim ou muito ruim \n",
    "4     | Nunca usou o plano   "
   ]
  },
  {
   "cell_type": "code",
   "execution_count": 359,
   "id": "40d3f705",
   "metadata": {},
   "outputs": [
    {
     "name": "stdout",
     "output_type": "stream",
     "text": [
      "Avaliacao_plano\n",
      "0.0    19784\n",
      "1.0     3414\n",
      "2.0      941\n",
      "3.0      157\n",
      "4.0       96\n",
      "Name: count, dtype: int64\n",
      "0\n"
     ]
    }
   ],
   "source": [
    "def classificar_plano(row):\n",
    "    tem_plano = row['I00102']\n",
    "    avaliacao = row['I006']\n",
    "    \n",
    "    if tem_plano == 2:\n",
    "        return 0.0  # Não tem plano\n",
    "    elif avaliacao in [1, 2]:\n",
    "        return 1.0  # Muito bom ou bom\n",
    "    elif avaliacao == 3:\n",
    "        return 2.0  # Regular\n",
    "    elif avaliacao in [4, 5]:\n",
    "        return 3.0  # Ruim ou muito ruim\n",
    "    elif avaliacao == 6:\n",
    "        return 4.0  # Nunca usou\n",
    "    else:\n",
    "        return np.nan  # Valores faltantes ou inválidos\n",
    "\n",
    "df['Avaliacao_plano'] = df.apply(classificar_plano, axis=1)\n",
    "\n",
    "df = df.drop(columns=['I006'])\n",
    "\n",
    "print(df['Avaliacao_plano'].value_counts(dropna=False))\n",
    "print(df['Avaliacao_plano'].isna().sum())"
   ]
  },
  {
   "cell_type": "markdown",
   "id": "e6a7a793",
   "metadata": {},
   "source": [
    "I004 - se é de instituição pública\n",
    "\n",
    "I00103 - se é morador \n",
    "\n",
    "C00301 == I001031 - se é titular \n",
    "\n",
    "\n",
    "0     | Não tem plano e/ou não é morador + titular do plano              \n",
    "1     | Plano é de instituição pública   \n",
    "2     | Plano não é de instituição pública      "
   ]
  },
  {
   "cell_type": "code",
   "execution_count": 360,
   "id": "5e308ac9",
   "metadata": {},
   "outputs": [
    {
     "name": "stdout",
     "output_type": "stream",
     "text": [
      "Plano_publico\n",
      "0.0    20907\n",
      "2.0     2158\n",
      "1.0     1327\n",
      "Name: count, dtype: int64\n",
      "0\n"
     ]
    }
   ],
   "source": [
    "def definir_plano_publico(row):\n",
    "    if row['I00102'] != 1:\n",
    "        return 0.0  # Não tem plano\n",
    "    if row['I00103'] != 1 and row['C00301'] != row['I001031']: # não é morador\n",
    "        return 0.0  # não é titular do plano\n",
    "    if row['I004'] == 1:\n",
    "        return 1.0  # Plano é de instituição pública\n",
    "    if row['I004'] == 2:\n",
    "        return 2.0  # Plano não é de instituição pública\n",
    "    \n",
    "    return 0.0\n",
    "\n",
    "# Aplicar a função\n",
    "df['Plano_publico'] = df.apply(definir_plano_publico, axis=1)\n",
    "\n",
    "# Remover colunas utilizadas\n",
    "df = df.drop(columns=['I004'])\n",
    "\n",
    "print(df['Plano_publico'].value_counts(dropna=False))\n",
    "print(df['Plano_publico'].isna().sum())"
   ]
  },
  {
   "cell_type": "code",
   "execution_count": 361,
   "id": "89288c31",
   "metadata": {},
   "outputs": [
    {
     "name": "stdout",
     "output_type": "stream",
     "text": [
      "Cobertura_plano\n",
      "0.0    20907\n",
      "3.0     3253\n",
      "2.0      177\n",
      "1.0       37\n",
      "4.0       18\n",
      "Name: count, dtype: int64\n",
      "Valores nulos: 0\n"
     ]
    }
   ],
   "source": [
    "def Cobertura_plano(row):\n",
    "    # Se não tem plano, retorna 0.0\n",
    "    if pd.isna(row['I00102']) or row['I00102'] != 1:\n",
    "        return 0.0\n",
    "\n",
    "    # Verifica titularidade\n",
    "    if pd.isna(row['I00103']) or row['I00103'] != 1:\n",
    "        return 0.0\n",
    "    if pd.isna(row['C00301']) or pd.isna(row['I001031']) or row['C00301'] != row['I001031']:\n",
    "        return 0.0\n",
    "\n",
    "    # Verifica cobertura\n",
    "    coberturas = [\n",
    "        row['I00401'] == 1 if pd.notna(row['I00401']) else False,\n",
    "        row['I00402'] == 1 if pd.notna(row['I00402']) else False,\n",
    "        row['I00403'] == 1 if pd.notna(row['I00403']) else False\n",
    "    ]\n",
    "    total_cobertura = sum(coberturas)\n",
    "\n",
    "    if total_cobertura == 1:\n",
    "        return 1.0\n",
    "    elif total_cobertura == 2:\n",
    "        return 2.0\n",
    "    elif total_cobertura == 3:\n",
    "        return 3.0\n",
    "    elif total_cobertura == 0:\n",
    "        return 4.0  # Não cobre nada, apesar de ter plano e titular\n",
    "    else:\n",
    "        return np.nan  # Caso raro de erro\n",
    "\n",
    "df['Cobertura_plano'] = df.apply(Cobertura_plano, axis=1)\n",
    "\n",
    "# Agora sim pode excluir os atributos\n",
    "df = df.drop(columns=['I00102', 'I00401', 'I00402', 'I00403', 'I00103', 'I001031'])\n",
    "\n",
    "# Visualização\n",
    "print(df['Cobertura_plano'].value_counts(dropna=False))\n",
    "print(\"Valores nulos:\", df['Cobertura_plano'].isna().sum())\n"
   ]
  },
  {
   "cell_type": "markdown",
   "id": "2abfad51",
   "metadata": {},
   "source": [
    "## Mobilidade "
   ]
  },
  {
   "cell_type": "code",
   "execution_count": 362,
   "id": "4f8f5efc",
   "metadata": {},
   "outputs": [
    {
     "name": "stdout",
     "output_type": "stream",
     "text": [
      "Mobilidade_auxiliar\n",
      "0.0    23656\n",
      "2.0      527\n",
      "1.0      154\n",
      "4.0       55\n",
      "Name: count, dtype: int64\n",
      "0\n"
     ]
    }
   ],
   "source": [
    "def classificar_mobilidade(row):\n",
    "    usa_aparelho = row['G059'] == 1\n",
    "    cadeira_rodas = row['G060'] == 1\n",
    "    bengala_muleta = row['G062'] == 1\n",
    "\n",
    "    if not usa_aparelho:\n",
    "        return 0.0  # Não usa nenhum aparelho\n",
    "    if cadeira_rodas:\n",
    "        return 1.0  # Só cadeira de rodas\n",
    "    if bengala_muleta:\n",
    "        return 2.0  # Só bengala/muleta/andador\n",
    "    if cadeira_rodas and bengala_muleta:\n",
    "        return 3.0  # Usa os dois\n",
    "    if not cadeira_rodas and not bengala_muleta:\n",
    "        return 4.0  # Não usa nenhum dos dois  \n",
    "    return np.nan  # Caso de inconsistência ou valores faltantes\n",
    "\n",
    "df['Mobilidade_auxiliar'] = df.apply(classificar_mobilidade, axis=1)\n",
    "\n",
    "# Remover colunas antigas, se quiser:\n",
    "df = df.drop(columns=['G059', 'G060', 'G062'])\n",
    "\n",
    "# Visualizar resultado:\n",
    "print(df['Mobilidade_auxiliar'].value_counts(dropna=False))\n",
    "print(df['Mobilidade_auxiliar'].isna().sum())"
   ]
  },
  {
   "cell_type": "markdown",
   "id": "429a6ff6",
   "metadata": {},
   "source": [
    "## Exposição no trabalho"
   ]
  },
  {
   "cell_type": "code",
   "execution_count": 363,
   "id": "6a075d03",
   "metadata": {},
   "outputs": [
    {
     "name": "stdout",
     "output_type": "stream",
     "text": [
      "Exposicao_quimica\n",
      "2    22975\n",
      "1     1417\n",
      "Name: count, dtype: int64\n",
      "0\n"
     ]
    }
   ],
   "source": [
    "def marcar_exposicao_quimica(row):\n",
    "    trabalho = row['E011']\n",
    "    exposicao = row['M011011']\n",
    "    \n",
    "    if trabalho in [1, 2, 3]:  # Pessoa trabalha\n",
    "        if exposicao == 1:\n",
    "            return 1  # Exposto\n",
    "        elif exposicao == 2:\n",
    "            return 2  # Não exposto\n",
    "        else:\n",
    "            return np.nan  # Outro valor ou faltante\n",
    "    else:\n",
    "        return 2  # Pessoa não trabalha → marcar como \"não exposto\"\n",
    "\n",
    "df['Exposicao_quimica'] = df.apply(marcar_exposicao_quimica, axis=1)\n",
    "\n",
    "df = df.drop(columns=['M011011'])\n",
    "\n",
    "# Visualizar resultado:\n",
    "print(df['Exposicao_quimica'].value_counts(dropna=False))\n",
    "print(df['Exposicao_quimica'].isna().sum())"
   ]
  },
  {
   "cell_type": "code",
   "execution_count": 364,
   "id": "e84456ff",
   "metadata": {},
   "outputs": [
    {
     "name": "stdout",
     "output_type": "stream",
     "text": [
      "Exposicao_ruido\n",
      "2    22130\n",
      "1     2262\n",
      "Name: count, dtype: int64\n",
      "0\n"
     ]
    }
   ],
   "source": [
    "def marcar_exposicao_ruido(row):\n",
    "    trabalho = row['E011']\n",
    "    exposicao = row['M011021']\n",
    "    \n",
    "    if trabalho in [1, 2, 3]:  # Pessoa trabalha\n",
    "        if exposicao == 1:\n",
    "            return 1  # Exposto\n",
    "        elif exposicao == 2:\n",
    "            return 2  # Não exposto\n",
    "        else:\n",
    "            return np.nan  # Outro valor ou faltante\n",
    "    else:\n",
    "        return 2  # Pessoa não trabalha → marcar como \"não exposto\"\n",
    "\n",
    "df['Exposicao_ruido'] = df.apply(marcar_exposicao_ruido, axis=1)\n",
    "\n",
    "df = df.drop(columns=['M011021'])\n",
    "\n",
    "# Visualizar resultado:\n",
    "print(df['Exposicao_ruido'].value_counts(dropna=False))\n",
    "print(df['Exposicao_ruido'].isna().sum())"
   ]
  },
  {
   "cell_type": "code",
   "execution_count": 365,
   "id": "973d0cac",
   "metadata": {},
   "outputs": [
    {
     "name": "stdout",
     "output_type": "stream",
     "text": [
      "Exposicao_lixo\n",
      "2    23612\n",
      "1      780\n",
      "Name: count, dtype: int64\n",
      "0\n"
     ]
    }
   ],
   "source": [
    "def marcar_exposicao_lixo(row):\n",
    "    trabalho = row['E011']\n",
    "    exposicao = row['M011051']\n",
    "    \n",
    "    if trabalho in [1, 2, 3]:  # Pessoa trabalha\n",
    "        if exposicao == 1:\n",
    "            return 1  # Exposto\n",
    "        elif exposicao == 2:\n",
    "            return 2  # Não exposto\n",
    "        else:\n",
    "            return np.nan  # Outro valor ou faltante\n",
    "    else:\n",
    "        return 2  # Pessoa não trabalha → marcar como \"não exposto\"\n",
    "\n",
    "df['Exposicao_lixo'] = df.apply(marcar_exposicao_lixo, axis=1)\n",
    "\n",
    "df = df.drop(columns=['M011051'])\n",
    "\n",
    "# Visualizar resultado:\n",
    "print(df['Exposicao_lixo'].value_counts(dropna=False))\n",
    "print(df['Exposicao_lixo'].isna().sum())"
   ]
  },
  {
   "cell_type": "code",
   "execution_count": 366,
   "id": "8e43b2f8",
   "metadata": {},
   "outputs": [
    {
     "name": "stdout",
     "output_type": "stream",
     "text": [
      "Exposicao_minerio\n",
      "2    23026\n",
      "1     1366\n",
      "Name: count, dtype: int64\n",
      "0\n"
     ]
    }
   ],
   "source": [
    "def marcar_exposicao_minerio(row):\n",
    "    trabalho = row['E011']\n",
    "    exposicao = row['M011071']\n",
    "    \n",
    "    if trabalho in [1, 2, 3]:  # Pessoa trabalha\n",
    "        if exposicao == 1:\n",
    "            return 1  # Exposto\n",
    "        elif exposicao == 2:\n",
    "            return 2  # Não exposto\n",
    "        else:\n",
    "            return np.nan  # Outro valor ou faltante\n",
    "    else:\n",
    "        return 2  # Pessoa não trabalha → marcar como \"não exposto\"\n",
    "\n",
    "df['Exposicao_minerio'] = df.apply(marcar_exposicao_minerio, axis=1)\n",
    "\n",
    "df = df.drop(columns=['M011071'])\n",
    "\n",
    "# Visualizar resultado:\n",
    "print(df['Exposicao_minerio'].value_counts(dropna=False))\n",
    "print(df['Exposicao_minerio'].isna().sum())"
   ]
  },
  {
   "cell_type": "code",
   "execution_count": 367,
   "id": "14cade59",
   "metadata": {},
   "outputs": [],
   "source": [
    "# df.drop(columns=['E011',"
   ]
  },
  {
   "cell_type": "code",
   "execution_count": 368,
   "id": "bff76848",
   "metadata": {},
   "outputs": [],
   "source": [
    "df.to_csv('c:\\\\Users\\\\bkser\\\\Downloads\\\\python\\\\base_tratada.csv', index=False)"
   ]
  },
  {
   "cell_type": "code",
   "execution_count": 369,
   "id": "c2a24f2e",
   "metadata": {},
   "outputs": [
    {
     "data": {
      "text/plain": [
       "Index(['D01301', 'D01303', 'E002', 'E003', 'E004', 'E005', 'E006011', 'E008',\n",
       "       'E010010', 'E011', 'E01603', 'E01605', 'E01604', 'E01804', 'I012',\n",
       "       'J00402', 'J00404', 'J00801', 'M00203', 'M00302', 'N004', 'N005',\n",
       "       'N008', 'P00103', 'P00104', 'P00403', 'P00404', 'P01001', 'P02801',\n",
       "       'P029', 'P035', 'P03701', 'P03702', 'P051', 'P052', 'P053', 'P05401',\n",
       "       'P05404', 'P05407', 'P05410', 'P05413', 'P05416', 'P05419', 'Q00201',\n",
       "       'Q03001', 'Q060', 'Q06307', 'Q06308', 'Q06309', 'Q06310', 'Q06311',\n",
       "       'Q064', 'Q06506', 'Q06507', 'Q06508', 'Q06509', 'Q06601', 'Q067',\n",
       "       'R010', 'R025', 'R028', 'R029', 'R030', 'R031', 'R032', 'R033', 'R034',\n",
       "       'R03601', 'R03607', 'R03608', 'R03610', 'S065', 'H002', 'H003', 'H004',\n",
       "       'H010', 'Escolaridade'],\n",
       "      dtype='object')"
      ]
     },
     "execution_count": 369,
     "metadata": {},
     "output_type": "execute_result"
    }
   ],
   "source": [
    "df.columns[df.isnull().any()]"
   ]
  },
  {
   "cell_type": "code",
   "execution_count": 370,
   "id": "b37b78cb",
   "metadata": {},
   "outputs": [
    {
     "data": {
      "text/plain": [
       "np.int64(77)"
      ]
     },
     "execution_count": 370,
     "metadata": {},
     "output_type": "execute_result"
    }
   ],
   "source": [
    "(df.isnull().sum() > 0).sum()"
   ]
  }
 ],
 "metadata": {
  "kernelspec": {
   "display_name": "Python 3",
   "language": "python",
   "name": "python3"
  },
  "language_info": {
   "codemirror_mode": {
    "name": "ipython",
    "version": 3
   },
   "file_extension": ".py",
   "mimetype": "text/x-python",
   "name": "python",
   "nbconvert_exporter": "python",
   "pygments_lexer": "ipython3",
   "version": "3.13.2"
  }
 },
 "nbformat": 4,
 "nbformat_minor": 5
}
