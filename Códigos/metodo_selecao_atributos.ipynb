{
 "cells": [
  {
   "cell_type": "code",
   "execution_count": 1,
   "id": "b6151b2c",
   "metadata": {},
   "outputs": [],
   "source": [
    "from rantcolony_ifs import rantcolony\n",
    "import pandas as pd"
   ]
  },
  {
   "cell_type": "code",
   "execution_count": 2,
   "id": "34597ddc",
   "metadata": {},
   "outputs": [],
   "source": [
    "raco = rantcolony.RantIFS()"
   ]
  },
  {
   "cell_type": "code",
   "execution_count": null,
   "id": "5b179d9a",
   "metadata": {},
   "outputs": [],
   "source": [
    "base_path = \"../Bases/Criados\"\n",
    "df = pd.read_csv(\"../Bases/Criados/base_treino.csv\") # caminho da base de treino"
   ]
  },
  {
   "cell_type": "code",
   "execution_count": null,
   "id": "15dadb81",
   "metadata": {},
   "outputs": [],
   "source": [
    "df_test = pd.read_csv(\"../Bases/Criados/base_teste.csv\") # caminho da base de teste"
   ]
  },
  {
   "cell_type": "code",
   "execution_count": 5,
   "id": "d79846ec",
   "metadata": {},
   "outputs": [],
   "source": [
    "y = df[\"Q06306\"].to_numpy()\n",
    "X = df.drop(columns=[\"Q06306\"]).to_numpy()\n",
    "y_test = df_test[\"Q06306\"].to_numpy()\n",
    "X_test = df_test.drop(columns=[\"Q06306\"]).to_numpy()"
   ]
  },
  {
   "cell_type": "code",
   "execution_count": 6,
   "id": "47874f8f",
   "metadata": {},
   "outputs": [],
   "source": [
    "p = 0.7\n",
    "metric = 1"
   ]
  },
  {
   "cell_type": "code",
   "execution_count": 8,
   "id": "175fbca6",
   "metadata": {},
   "outputs": [
    {
     "ename": "KeyboardInterrupt",
     "evalue": "",
     "output_type": "error",
     "traceback": [
      "\u001b[1;31m---------------------------------------------------------------------------\u001b[0m",
      "\u001b[1;31mKeyboardInterrupt\u001b[0m                         Traceback (most recent call last)",
      "Cell \u001b[1;32mIn[8], line 1\u001b[0m\n\u001b[1;32m----> 1\u001b[0m indices_selected \u001b[38;5;241m=\u001b[39m \u001b[43mraco\u001b[49m\u001b[38;5;241;43m.\u001b[39;49m\u001b[43mrun_colony\u001b[49m\u001b[43m(\u001b[49m\u001b[43mX\u001b[49m\u001b[43m,\u001b[49m\u001b[43m \u001b[49m\u001b[43my\u001b[49m\u001b[43m,\u001b[49m\u001b[43m \u001b[49m\u001b[43mp\u001b[49m\u001b[43m,\u001b[49m\u001b[43m \u001b[49m\u001b[38;5;28;43;01mFalse\u001b[39;49;00m\u001b[43m,\u001b[49m\u001b[43m \u001b[49m\u001b[43mmetric\u001b[49m\u001b[43m)\u001b[49m\n",
      "File \u001b[1;32mc:\\Users\\bkser\\AppData\\Local\\Programs\\Python\\Python313\\Lib\\site-packages\\rantcolony_ifs\\rantcolony.py:80\u001b[0m, in \u001b[0;36mRantIFS.run_colony\u001b[1;34m(self, dataframe, classes, p, feature_selection, metric)\u001b[0m\n\u001b[0;32m     77\u001b[0m X, X_valid, Y, Y_valid \u001b[38;5;241m=\u001b[39m train_test_split(dataframe, classes, test_size\u001b[38;5;241m=\u001b[39m\u001b[38;5;241m0.15\u001b[39m, stratify\u001b[38;5;241m=\u001b[39mclasses, random_state\u001b[38;5;241m=\u001b[39m\u001b[38;5;241m2024\u001b[39m)\n\u001b[0;32m     79\u001b[0m \u001b[38;5;28;01mif\u001b[39;00m \u001b[38;5;129;01mnot\u001b[39;00m feature_selection:  \u001b[38;5;66;03m# realiza selecao de instancias\u001b[39;00m\n\u001b[1;32m---> 80\u001b[0m     the_colony \u001b[38;5;241m=\u001b[39m \u001b[38;5;28;43mself\u001b[39;49m\u001b[38;5;241;43m.\u001b[39;49m\u001b[43mcreate_colony\u001b[49m\u001b[43m(\u001b[49m\u001b[43mX\u001b[49m\u001b[38;5;241;43m.\u001b[39;49m\u001b[43mshape\u001b[49m\u001b[43m[\u001b[49m\u001b[38;5;241;43m0\u001b[39;49m\u001b[43m]\u001b[49m\u001b[43m)\u001b[49m  \u001b[38;5;66;03m# passa a quantidade de linhas da base de dados\u001b[39;00m\n\u001b[0;32m     82\u001b[0m     \u001b[38;5;28;01mfor\u001b[39;00m i \u001b[38;5;129;01min\u001b[39;00m \u001b[38;5;28mrange\u001b[39m(X\u001b[38;5;241m.\u001b[39mshape[\u001b[38;5;241m0\u001b[39m]):\n\u001b[0;32m     83\u001b[0m         the_colony[i, i] \u001b[38;5;241m=\u001b[39m \u001b[38;5;241m1\u001b[39m\n",
      "File \u001b[1;32mc:\\Users\\bkser\\AppData\\Local\\Programs\\Python\\Python313\\Lib\\site-packages\\rantcolony_ifs\\rantcolony.py:22\u001b[0m, in \u001b[0;36mRantIFS.create_colony\u001b[1;34m(self, num_ants)\u001b[0m\n\u001b[0;32m     21\u001b[0m \u001b[38;5;28;01mdef\u001b[39;00m\u001b[38;5;250m \u001b[39m\u001b[38;5;21mcreate_colony\u001b[39m(\u001b[38;5;28mself\u001b[39m, num_ants):\n\u001b[1;32m---> 22\u001b[0m     \u001b[38;5;28;01mreturn\u001b[39;00m \u001b[43mnp\u001b[49m\u001b[38;5;241;43m.\u001b[39;49m\u001b[43mfull\u001b[49m\u001b[43m(\u001b[49m\u001b[43m(\u001b[49m\u001b[43mnum_ants\u001b[49m\u001b[43m,\u001b[49m\u001b[43m \u001b[49m\u001b[43mnum_ants\u001b[49m\u001b[43m)\u001b[49m\u001b[43m,\u001b[49m\u001b[43m \u001b[49m\u001b[38;5;241;43m-\u001b[39;49m\u001b[38;5;241;43m1\u001b[39;49m\u001b[43m)\u001b[49m\n",
      "File \u001b[1;32mc:\\Users\\bkser\\AppData\\Local\\Programs\\Python\\Python313\\Lib\\site-packages\\numpy\\_core\\numeric.py:353\u001b[0m, in \u001b[0;36mfull\u001b[1;34m(shape, fill_value, dtype, order, device, like)\u001b[0m\n\u001b[0;32m    351\u001b[0m     dtype \u001b[38;5;241m=\u001b[39m fill_value\u001b[38;5;241m.\u001b[39mdtype\n\u001b[0;32m    352\u001b[0m a \u001b[38;5;241m=\u001b[39m empty(shape, dtype, order, device\u001b[38;5;241m=\u001b[39mdevice)\n\u001b[1;32m--> 353\u001b[0m \u001b[43mmultiarray\u001b[49m\u001b[38;5;241;43m.\u001b[39;49m\u001b[43mcopyto\u001b[49m\u001b[43m(\u001b[49m\u001b[43ma\u001b[49m\u001b[43m,\u001b[49m\u001b[43m \u001b[49m\u001b[43mfill_value\u001b[49m\u001b[43m,\u001b[49m\u001b[43m \u001b[49m\u001b[43mcasting\u001b[49m\u001b[38;5;241;43m=\u001b[39;49m\u001b[38;5;124;43m'\u001b[39;49m\u001b[38;5;124;43munsafe\u001b[39;49m\u001b[38;5;124;43m'\u001b[39;49m\u001b[43m)\u001b[49m\n\u001b[0;32m    354\u001b[0m \u001b[38;5;28;01mreturn\u001b[39;00m a\n",
      "\u001b[1;31mKeyboardInterrupt\u001b[0m: "
     ]
    }
   ],
   "source": [
    "indices_selected = raco.run_colony(X, y, p, False, metric)"
   ]
  },
  {
   "cell_type": "code",
   "execution_count": null,
   "id": "8b0b0a7c",
   "metadata": {},
   "outputs": [],
   "source": [
    "features_selected = raco.run_colony(X, y, p, True, metric)"
   ]
  },
  {
   "cell_type": "code",
   "execution_count": null,
   "id": "044d26b1",
   "metadata": {},
   "outputs": [],
   "source": [
    "print(indices_selected)\n",
    "print(features_selected)"
   ]
  }
 ],
 "metadata": {
  "kernelspec": {
   "display_name": "Python 3",
   "language": "python",
   "name": "python3"
  },
  "language_info": {
   "codemirror_mode": {
    "name": "ipython",
    "version": 3
   },
   "file_extension": ".py",
   "mimetype": "text/x-python",
   "name": "python",
   "nbconvert_exporter": "python",
   "pygments_lexer": "ipython3",
   "version": "3.13.2"
  }
 },
 "nbformat": 4,
 "nbformat_minor": 5
}
