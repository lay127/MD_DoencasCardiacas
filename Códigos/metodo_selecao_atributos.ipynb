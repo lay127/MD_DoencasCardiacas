{
 "cells": [
  {
   "cell_type": "markdown",
   "id": "53e6590d",
   "metadata": {},
   "source": [
    "#### **Random Ant Colony Instance and Feature Selection**"
   ]
  },
  {
   "cell_type": "code",
   "execution_count": 13,
   "id": "b6151b2c",
   "metadata": {},
   "outputs": [],
   "source": [
    "from rantcolony_ifs import rantcolony\n",
    "import pandas as pd"
   ]
  },
  {
   "cell_type": "code",
   "execution_count": 14,
   "id": "34597ddc",
   "metadata": {},
   "outputs": [],
   "source": [
    "raco = rantcolony.RantIFS()"
   ]
  },
  {
   "cell_type": "code",
   "execution_count": 15,
   "id": "5b179d9a",
   "metadata": {},
   "outputs": [],
   "source": [
    "base_path = \"../Bases/Criados\"\n",
    "df = pd.read_csv(\"../Bases/Criados/Treino_Teste/treino.csv\") # caminho da base de treino"
   ]
  },
  {
   "cell_type": "code",
   "execution_count": 16,
   "id": "15dadb81",
   "metadata": {},
   "outputs": [],
   "source": [
    "df_test = pd.read_csv(\"../Bases/Criados/Treino_Teste/teste.csv\") # caminho da base de teste"
   ]
  },
  {
   "cell_type": "code",
   "execution_count": 17,
   "id": "d79846ec",
   "metadata": {},
   "outputs": [],
   "source": [
    "y = df[\"Q06306\"].to_numpy()\n",
    "X = df.drop(columns=[\"Q06306\"]).to_numpy()\n",
    "y_test = df_test[\"Q06306\"].to_numpy()\n",
    "X_test = df_test.drop(columns=[\"Q06306\"]).to_numpy()"
   ]
  },
  {
   "cell_type": "code",
   "execution_count": 18,
   "id": "47874f8f",
   "metadata": {},
   "outputs": [],
   "source": [
    "p = 0.7\n",
    "metric = 1"
   ]
  },
  {
   "cell_type": "code",
   "execution_count": 19,
   "id": "175fbca6",
   "metadata": {},
   "outputs": [],
   "source": [
    "indices_selected = raco.run_colony(X, y, p, False, metric)"
   ]
  },
  {
   "cell_type": "code",
   "execution_count": 20,
   "id": "8b0b0a7c",
   "metadata": {},
   "outputs": [],
   "source": [
    "features_selected = raco.run_colony(X, y, p, True, metric)"
   ]
  },
  {
   "cell_type": "code",
   "execution_count": 21,
   "id": "044d26b1",
   "metadata": {},
   "outputs": [
    {
     "name": "stdout",
     "output_type": "stream",
     "text": [
      "[    0     1     2 ... 12189 12190 12192]\n",
      "[ 0  1  5  6  8 11 12 14 15 18 19 20 25 26 27 28 29 31 32 33 34 35 36 37\n",
      " 38 39 40 41 43 45 46 47 48 50 51 52 53 54 55 56 57 58]\n"
     ]
    }
   ],
   "source": [
    "print(indices_selected)\n",
    "print(features_selected)"
   ]
  },
  {
   "cell_type": "markdown",
   "id": "2a8ccef7",
   "metadata": {},
   "source": [
    "#### Salvando a base com apenas os atributos selecionados:"
   ]
  },
  {
   "cell_type": "code",
   "execution_count": null,
   "id": "e76a994a",
   "metadata": {},
   "outputs": [
    {
     "name": "stdout",
     "output_type": "stream",
     "text": [
      "['V0001', 'V0026', 'C008', 'C009', 'J001', 'M00203', 'N010', 'N012', 'N016', 'P02001', 'P018', 'P02002', 'P04502', 'P06701', 'P068', 'Q00201', 'Q03001', 'Q06306', 'Q068', 'Q11006', 'Q128', 'T001', 'H003', 'H004', 'H010', 'N00101', 'H001', 'H002', 'Renda', 'Carga_horaria_semanal', 'Mobilidade_assistida', 'Avaliacao_plano', 'Instituicao_plano', 'Exposicao_quimica', 'Exposicao_ruido', 'Exposicao_lixo', 'Exposicao_minerio', 'Atividade_fisica_semanal', 'Inicio_tabagismo', 'Tempo_parou_fumar', 'Intensidade_fumo', 'Consumo_alcool']\n"
     ]
    }
   ],
   "source": [
    "# Lista dos índices (primeira execução) / 6_base_final\n",
    "# indices = [0, 1, 3, 5, 6, 8, 9, 12, 13, 14, 15, 16, 17, 19, 20, 21, 23, 24, 27, 28, 29, 30, 31, 33,\n",
    "#           35, 36, 37, 38, 39, 41, 42, 43, 44, 45, 46, 47, 49, 50, 51, 53, 54, 55, 56, 57, 58, 59, 60]\n",
    "\n",
    "# Lista dos índices (segunda execução)\n",
    "indices = [ 0,  1,  5,  6,  8, 11, 12, 14, 15, 18, 19, 20, 25, 26, 27, 28, 29, 31, 32, 33, 34, 35, 36, 37,\n",
    "            38, 39, 40, 41, 43, 45, 46, 47, 48, 50, 51, 52, 53, 54, 55, 56, 57, 58]\n",
    "\n",
    "# Lê a base\n",
    "df = pd.read_csv('../Bases/Criados/5_base_codificada.csv')\n",
    "\n",
    "# Seleciona os nomes das colunas com base nos índices\n",
    "nomes_colunas = df.columns[indices].tolist()\n",
    "\n",
    "# Exibe os nomes\n",
    "print(nomes_colunas)"
   ]
  },
  {
   "cell_type": "code",
   "execution_count": 24,
   "id": "835dedf1",
   "metadata": {},
   "outputs": [],
   "source": [
    "# Selecionar apenas as colunas pelos índices\n",
    "df_selecionado = df.iloc[:, indices]\n",
    "\n",
    "# Salvar em um novo arquivo CSV\n",
    "df_selecionado.to_csv('../Bases/Criados/6.1_base_final.csv', index=False)"
   ]
  }
 ],
 "metadata": {
  "kernelspec": {
   "display_name": "Python 3",
   "language": "python",
   "name": "python3"
  },
  "language_info": {
   "codemirror_mode": {
    "name": "ipython",
    "version": 3
   },
   "file_extension": ".py",
   "mimetype": "text/x-python",
   "name": "python",
   "nbconvert_exporter": "python",
   "pygments_lexer": "ipython3",
   "version": "3.13.2"
  }
 },
 "nbformat": 4,
 "nbformat_minor": 5
}
