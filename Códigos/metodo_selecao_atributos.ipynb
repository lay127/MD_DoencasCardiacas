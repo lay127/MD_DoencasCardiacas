{
 "cells": [
  {
   "cell_type": "code",
   "execution_count": 13,
   "id": "b6151b2c",
   "metadata": {},
   "outputs": [],
   "source": [
    "from rantcolony_ifs import rantcolony\n",
    "import pandas as pd"
   ]
  },
  {
   "cell_type": "code",
   "execution_count": 14,
   "id": "34597ddc",
   "metadata": {},
   "outputs": [],
   "source": [
    "raco = rantcolony.RantIFS()"
   ]
  },
  {
   "cell_type": "code",
   "execution_count": 15,
   "id": "5b179d9a",
   "metadata": {},
   "outputs": [],
   "source": [
    "base_path = \"../Bases/Criados\"\n",
    "df = pd.read_csv(\"../Bases/Criados/Treino_Teste/treino.csv\") # caminho da base de treino"
   ]
  },
  {
   "cell_type": "code",
   "execution_count": 16,
   "id": "15dadb81",
   "metadata": {},
   "outputs": [],
   "source": [
    "df_test = pd.read_csv(\"../Bases/Criados/Treino_Teste/teste.csv\") # caminho da base de teste"
   ]
  },
  {
   "cell_type": "code",
   "execution_count": 17,
   "id": "d79846ec",
   "metadata": {},
   "outputs": [],
   "source": [
    "y = df[\"Q06306\"].to_numpy()\n",
    "X = df.drop(columns=[\"Q06306\"]).to_numpy()\n",
    "y_test = df_test[\"Q06306\"].to_numpy()\n",
    "X_test = df_test.drop(columns=[\"Q06306\"]).to_numpy()"
   ]
  },
  {
   "cell_type": "code",
   "execution_count": 18,
   "id": "47874f8f",
   "metadata": {},
   "outputs": [],
   "source": [
    "p = 0.7\n",
    "metric = 1"
   ]
  },
  {
   "cell_type": "code",
   "execution_count": 19,
   "id": "175fbca6",
   "metadata": {},
   "outputs": [
    {
     "ename": "",
     "evalue": "",
     "output_type": "error",
     "traceback": [
      "\u001b[1;31mCannot execute code, session has been disposed. Please try restarting the Kernel."
     ]
    },
    {
     "ename": "",
     "evalue": "",
     "output_type": "error",
     "traceback": [
      "\u001b[1;31mCannot execute code, session has been disposed. Please try restarting the Kernel. \n",
      "\u001b[1;31mView Jupyter <a href='command:jupyter.viewOutput'>log</a> for further details."
     ]
    }
   ],
   "source": [
    "indices_selected = raco.run_colony(X, y, p, False, metric)"
   ]
  },
  {
   "cell_type": "code",
   "execution_count": null,
   "id": "8b0b0a7c",
   "metadata": {},
   "outputs": [],
   "source": [
    "features_selected = raco.run_colony(X, y, p, True, metric)"
   ]
  },
  {
   "cell_type": "code",
   "execution_count": null,
   "id": "044d26b1",
   "metadata": {},
   "outputs": [],
   "source": [
    "print(indices_selected)\n",
    "print(features_selected)"
   ]
  }
 ],
 "metadata": {
  "kernelspec": {
   "display_name": "Python 3",
   "language": "python",
   "name": "python3"
  },
  "language_info": {
   "codemirror_mode": {
    "name": "ipython",
    "version": 3
   },
   "file_extension": ".py",
   "mimetype": "text/x-python",
   "name": "python",
   "nbconvert_exporter": "python",
   "pygments_lexer": "ipython3",
   "version": "3.13.2"
  }
 },
 "nbformat": 4,
 "nbformat_minor": 5
}
