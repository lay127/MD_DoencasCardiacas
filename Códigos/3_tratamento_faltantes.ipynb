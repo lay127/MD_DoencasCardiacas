{
 "cells": [
  {
   "cell_type": "code",
   "execution_count": 1468,
   "id": "5b0ed06f",
   "metadata": {},
   "outputs": [],
   "source": [
    "import pandas as pd\n",
    "import numpy as np"
   ]
  },
  {
   "cell_type": "code",
   "execution_count": 1469,
   "id": "44e83fa0",
   "metadata": {},
   "outputs": [],
   "source": [
    "df = pd.read_csv('..\\\\Bases\\\\Criados\\\\base_doencas_cardiacas.csv')"
   ]
  },
  {
   "cell_type": "code",
   "execution_count": 1470,
   "id": "41add216",
   "metadata": {},
   "outputs": [
    {
     "data": {
      "text/plain": [
       "Index(['D00901', 'D014', 'E006011', 'E008', 'E01602', 'E017', 'E01802', 'E019',\n",
       "       'F001021', 'F007021', 'F008021', 'VDF00102', 'G060', 'G062', 'I006',\n",
       "       'I004', 'I00401', 'I00402', 'I00403', 'J00402', 'J00404', 'J00801',\n",
       "       'M00203', 'M011011', 'M011021', 'M011051', 'M011071', 'N004', 'N005',\n",
       "       'N008', 'P00104', 'P00404', 'P02801', 'P029', 'P035', 'P03701',\n",
       "       'P03702', 'P051', 'P052', 'P053', 'P05401', 'P05404', 'P05407',\n",
       "       'P05410', 'P05413', 'P05416', 'P05419', 'Q00201', 'Q03001', 'Q060',\n",
       "       'Q064', 'Q06506', 'Q06507', 'Q06508', 'Q06509', 'Q06601', 'Q067',\n",
       "       'H003', 'H004', 'H010', 'D00301', 'D008', 'E002', 'E003', 'E004',\n",
       "       'E005', 'E011', 'E014011', 'E01601', 'E01603', 'E01605', 'E01801',\n",
       "       'I00103', 'I001031', 'P00103', 'P00403', 'P05901', 'P05902', 'P05903',\n",
       "       'P05904', 'Q06307', 'Q06308', 'Q06309', 'Q06310', 'Q06311', 'H002'],\n",
       "      dtype='object')"
      ]
     },
     "execution_count": 1470,
     "metadata": {},
     "output_type": "execute_result"
    }
   ],
   "source": [
    "df.columns[df.isnull().any()]"
   ]
  },
  {
   "cell_type": "code",
   "execution_count": 1471,
   "id": "243355c9",
   "metadata": {},
   "outputs": [
    {
     "data": {
      "text/plain": [
       "np.int64(86)"
      ]
     },
     "execution_count": 1471,
     "metadata": {},
     "output_type": "execute_result"
    }
   ],
   "source": [
    "(df.isnull().sum() > 0).sum()"
   ]
  },
  {
   "cell_type": "markdown",
   "id": "ce3cc021",
   "metadata": {},
   "source": [
    "### Escolaridade"
   ]
  },
  {
   "cell_type": "markdown",
   "id": "3d52a8dc",
   "metadata": {},
   "source": [
    "Atributos utilizados:\n",
    "1. D00201: se frequenta escola atualmente\n",
    "2. D00301: qual curso frequenta\n",
    "3. D008: se já frequentou escola ou creche\n",
    "4. D00901: Qual foi o curso mais elevado que frequentou?\n",
    "5. D014: se concluiu esse curso"
   ]
  },
  {
   "cell_type": "code",
   "execution_count": 1472,
   "id": "996f9ae3",
   "metadata": {},
   "outputs": [
    {
     "name": "stdout",
     "output_type": "stream",
     "text": [
      "Situacao_escolar\n",
      "Frequentou        20923\n",
      "Não frequentou     2741\n",
      "Frequenta           687\n",
      "Name: count, dtype: int64\n",
      "Valores faltantes: 0\n"
     ]
    }
   ],
   "source": [
    "def categorizar_escolaridade(row):\n",
    "    if row['D00201'] == 1:\n",
    "        return 'Frequenta'\n",
    "    elif row['D00201'] == 2:\n",
    "        if row['D008'] == 1:\n",
    "            return 'Frequentou'\n",
    "        elif row['D008'] == 2:\n",
    "            return 'Não frequentou'\n",
    "    return pd.NA  # Caso não se encaixe em nenhuma condição\n",
    "\n",
    "df['Situacao_escolar'] = df.apply(categorizar_escolaridade, axis=1)\n",
    "\n",
    "print(df['Situacao_escolar'].value_counts(dropna=False))\n",
    "print(f\"Valores faltantes:\",df['Situacao_escolar'].isna().sum())\n"
   ]
  },
  {
   "cell_type": "code",
   "execution_count": 1473,
   "id": "07f0128c",
   "metadata": {},
   "outputs": [
    {
     "data": {
      "text/plain": [
       "D00301\n",
       "8.0     214\n",
       "4.0     115\n",
       "9.0     114\n",
       "5.0      96\n",
       "3.0      54\n",
       "6.0      44\n",
       "7.0      22\n",
       "10.0     19\n",
       "11.0      9\n",
       "Name: count, dtype: int64"
      ]
     },
     "execution_count": 1473,
     "metadata": {},
     "output_type": "execute_result"
    }
   ],
   "source": [
    "df['D00301'].value_counts()"
   ]
  },
  {
   "cell_type": "code",
   "execution_count": 1474,
   "id": "f6b8b4c6",
   "metadata": {},
   "outputs": [
    {
     "name": "stdout",
     "output_type": "stream",
     "text": [
      "Escolaridade\n",
      "1    9443\n",
      "3    5266\n",
      "2    4133\n",
      "0    2741\n",
      "4    1828\n",
      "5     940\n",
      "Name: count, dtype: int64\n"
     ]
    }
   ],
   "source": [
    "def map_escolaridade(row): \n",
    "    situacao = row['Situacao_escolar']\n",
    "    curso = row['D00901']\n",
    "    concluiu = row['D014']\n",
    "    curso_atual = row['D00301']\n",
    "\n",
    "    # Se nunca frequentou escola, categoria = 0\n",
    "    if situacao == 'Não frequentou':\n",
    "        return 0\n",
    "\n",
    "    # Usa D00901 (curso mais elevado) prioritariamente\n",
    "    if curso in [1, 2]:  # Creche, Pré-escola\n",
    "        categoria = 1\n",
    "    elif curso in [3, 4, 5, 6, 7, 8]:  # Alfabetização, primário, EJA fundamental etc.\n",
    "        categoria = 2\n",
    "    elif curso in [9, 10, 11]:  # Ensino médio, EJA médio\n",
    "        categoria = 3\n",
    "    elif curso == 12:  # Superior\n",
    "        categoria = 4\n",
    "    elif curso in [13, 14, 15]:  # Pós-graduação\n",
    "        categoria = 5\n",
    "    # Se curso é inválido ou ausente, tenta usar curso_atual (D00301)\n",
    "    elif curso_atual in [3, 4, 5]:\n",
    "        categoria = 1  # Educação infantil\n",
    "    elif curso_atual in [6, 7]:\n",
    "        categoria = 2  # Fundamental\n",
    "    elif curso_atual in [8, 9]:\n",
    "        categoria = 3  # Médio\n",
    "    elif curso_atual in [10, 11]:\n",
    "        categoria = 4  # Superior\n",
    "    else:\n",
    "        return np.nan\n",
    "\n",
    "    # Rebaixar se não concluiu (exceto se usou curso_atual)\n",
    "    if concluiu == 2 and curso in range(1, 16):\n",
    "        categoria -= 1\n",
    "        if categoria < 0:\n",
    "            categoria = 0\n",
    "\n",
    "    return categoria\n",
    "\n",
    "\n",
    "\n",
    "df['Escolaridade'] = df.apply(map_escolaridade, axis=1)\n",
    "\n",
    "print(df['Escolaridade'].value_counts(dropna=False))\n",
    "\n",
    "# 0: Nunca frequentou escola\n",
    "# 1: Educação infantil\n",
    "# 2: Ensino fundamental\n",
    "# 3: Ensino médio\n",
    "# 4: Ensino superior\n",
    "# 5: Pós-graduação"
   ]
  },
  {
   "cell_type": "code",
   "execution_count": 1475,
   "id": "69ae81c0",
   "metadata": {},
   "outputs": [],
   "source": [
    "df.drop(columns=['D00201', 'D00301', 'D008', 'D00901', 'D014', 'Situacao_escolar'], inplace=True)"
   ]
  },
  {
   "cell_type": "markdown",
   "id": "a1892c33",
   "metadata": {},
   "source": [
    "### Renda"
   ]
  },
  {
   "cell_type": "markdown",
   "id": "365b8c5c",
   "metadata": {},
   "source": [
    "1. E014011: se era trabalhador não remunerado ajudando parente/domicílio\n",
    "2. E01601: se recebia dinheiro no trabalho principal\n",
    "3. E01602: valor da renda do trabalho principal\n",
    "4. E01801: se recebia dinheiro em outro(s) trabalho(s)\n",
    "5. E01802: valor da renda dos outros trabalhos"
   ]
  },
  {
   "cell_type": "markdown",
   "id": "7a868e30",
   "metadata": {},
   "source": [
    "Regras:\n",
    "\n",
    "1. Se E01601 != 1 ou E01801 != 1, a renda respectiva é 0;\n",
    "2. Se a pessoa é não remunerada (E014011 = 1, 2, 3), renda é 0;\n",
    "3. Se E01602 ou E01802 estiverem NaN, mas a pessoa disse que recebia (E01601 ou E01801 = 1), considerar como NaN final.\n",
    "4. Renda total é a soma de E01602 e E01802."
   ]
  },
  {
   "cell_type": "code",
   "execution_count": 1476,
   "id": "bb60e963",
   "metadata": {},
   "outputs": [
    {
     "name": "stdout",
     "output_type": "stream",
     "text": [
      "Valores faltantes: 0\n"
     ]
    }
   ],
   "source": [
    "def calcular_renda(row):\n",
    "    # Regra 2: trabalhador não remunerado (1, 2 ou 3)\n",
    "    if row['E014011'] in [1, 2, 3]:\n",
    "        return 0.0\n",
    "\n",
    "    # Regra 1 + 3: verificar se recebia dinheiro\n",
    "    if row['E01601'] == 1:\n",
    "        renda1 = row['E01602'] if pd.notna(row['E01602']) else np.nan\n",
    "    else:\n",
    "        renda1 = 0.0\n",
    "\n",
    "    if row['E01801'] == 1:\n",
    "        renda2 = row['E01802'] if pd.notna(row['E01802']) else np.nan\n",
    "    else:\n",
    "        renda2 = 0.0\n",
    "\n",
    "    # Regra 4: soma ajustada\n",
    "    if pd.isna(renda1) or pd.isna(renda2):\n",
    "        if pd.notna(renda1) and pd.isna(renda2):\n",
    "            return renda1\n",
    "        elif pd.notna(renda2) and pd.isna(renda1):\n",
    "            return renda2\n",
    "        else:\n",
    "            return np.nan\n",
    "\n",
    "    return renda1 + renda2\n",
    "\n",
    "df['Renda'] = df.apply(calcular_renda, axis=1)\n",
    "print(f\"Valores faltantes:\",df['Renda'].isna().sum())"
   ]
  },
  {
   "cell_type": "code",
   "execution_count": 1477,
   "id": "3b189ab1",
   "metadata": {},
   "outputs": [
    {
     "name": "stdout",
     "output_type": "stream",
     "text": [
      "12208\n"
     ]
    }
   ],
   "source": [
    "print((df['Renda'] == 0.0).sum())"
   ]
  },
  {
   "cell_type": "code",
   "execution_count": 1478,
   "id": "de77bc94",
   "metadata": {},
   "outputs": [],
   "source": [
    "df.drop(columns=['E014011', 'E01601', 'E01602', 'E01801', 'E01802'], inplace=True)"
   ]
  },
  {
   "cell_type": "markdown",
   "id": "2ef23b3c",
   "metadata": {},
   "source": [
    "### Horas trabalhadas *incompleto (checar quant trabalho 3. Três ou mais)"
   ]
  },
  {
   "cell_type": "markdown",
   "id": "22217ff1",
   "metadata": {},
   "source": [
    "1. E011: número de trabalhos na semana \n",
    "2. E017: horas trabalhas em 1 trabalho\n",
    "3. E019: horas trabalhas em mais de 1 trabalho"
   ]
  },
  {
   "cell_type": "code",
   "execution_count": 1479,
   "id": "d5706252",
   "metadata": {},
   "outputs": [
    {
     "name": "stdout",
     "output_type": "stream",
     "text": [
      "Quant_trabalhos\n",
      "0    11977\n",
      "1    11634\n",
      "2      655\n",
      "3       85\n",
      "Name: count, dtype: int64\n",
      "Valores faltantes: 0\n"
     ]
    }
   ],
   "source": [
    "def quantidade_trabalhos(row):\n",
    "    if row['E011'] == 1:\n",
    "        return 1\n",
    "    elif row['E011'] == 2:\n",
    "            return 2\n",
    "    elif row['E011'] == 3:\n",
    "            return 3\n",
    "    else:\n",
    "         return 0\n",
    "\n",
    "df['Quant_trabalhos'] = df.apply(quantidade_trabalhos, axis=1)\n",
    "\n",
    "print(df['Quant_trabalhos'].value_counts(dropna=False))\n",
    "print(f\"Valores faltantes:\",df['Quant_trabalhos'].isna().sum())"
   ]
  },
  {
   "cell_type": "code",
   "execution_count": 1480,
   "id": "5a8d219f",
   "metadata": {},
   "outputs": [
    {
     "name": "stdout",
     "output_type": "stream",
     "text": [
      "E017 faltantes: 11977\n",
      "E019 faltantes: 23611\n"
     ]
    }
   ],
   "source": [
    "print(\"E017 faltantes:\", df['E017'].isna().sum())\n",
    "print(\"E019 faltantes:\", df['E019'].isna().sum())"
   ]
  },
  {
   "cell_type": "code",
   "execution_count": 1481,
   "id": "9a6fd61b",
   "metadata": {},
   "outputs": [],
   "source": [
    "df['Quant_trabalhos'] = df['Quant_trabalhos'].astype(int)\n",
    "df.loc[df['Quant_trabalhos'] == 0, 'E017'] = 0\n",
    "df.loc[df['Quant_trabalhos'].isin([0, 1]), 'E019'] = 0\n",
    "\n",
    "#df['E017']=df['E017'].fillna(0)\n",
    "#df['E019']=df['E019'].fillna(0)"
   ]
  },
  {
   "cell_type": "code",
   "execution_count": 1482,
   "id": "96e0c383",
   "metadata": {},
   "outputs": [
    {
     "name": "stdout",
     "output_type": "stream",
     "text": [
      "E017 faltantes: 0\n",
      "E019 faltantes: 0\n"
     ]
    }
   ],
   "source": [
    "print(\"E017 faltantes:\", df['E017'].isna().sum())\n",
    "print(\"E019 faltantes:\", df['E019'].isna().sum())"
   ]
  },
  {
   "cell_type": "code",
   "execution_count": 1483,
   "id": "c1817259",
   "metadata": {},
   "outputs": [
    {
     "name": "stdout",
     "output_type": "stream",
     "text": [
      "Valores faltantes: 0\n"
     ]
    }
   ],
   "source": [
    "df['Horas_trabalhadas'] = df['E017'] + df['E019']\n",
    "\n",
    "print(\"Valores faltantes:\", df['Horas_trabalhadas'].isna().sum())"
   ]
  },
  {
   "cell_type": "code",
   "execution_count": 1484,
   "id": "43423eb8",
   "metadata": {},
   "outputs": [
    {
     "data": {
      "application/vnd.microsoft.datawrangler.viewer.v0+json": {
       "columns": [
        {
         "name": "index",
         "rawType": "int64",
         "type": "integer"
        },
        {
         "name": "Renda",
         "rawType": "float64",
         "type": "float"
        },
        {
         "name": "Quant_trabalhos",
         "rawType": "int64",
         "type": "integer"
        },
        {
         "name": "Horas_trabalhadas",
         "rawType": "float64",
         "type": "float"
        }
       ],
       "conversionMethod": "pd.DataFrame",
       "ref": "acf56607-a88a-4316-bbf2-ee3a1edbaa17",
       "rows": [
        [
         "0",
         "0.0",
         "0",
         "0.0"
        ],
        [
         "4",
         "0.0",
         "0",
         "0.0"
        ],
        [
         "6",
         "0.0",
         "0",
         "0.0"
        ],
        [
         "9",
         "0.0",
         "0",
         "0.0"
        ],
        [
         "10",
         "0.0",
         "0",
         "0.0"
        ],
        [
         "12",
         "0.0",
         "0",
         "0.0"
        ],
        [
         "13",
         "0.0",
         "0",
         "0.0"
        ],
        [
         "18",
         "0.0",
         "0",
         "0.0"
        ],
        [
         "21",
         "0.0",
         "0",
         "0.0"
        ],
        [
         "22",
         "0.0",
         "0",
         "0.0"
        ],
        [
         "26",
         "0.0",
         "0",
         "0.0"
        ],
        [
         "27",
         "0.0",
         "0",
         "0.0"
        ],
        [
         "28",
         "0.0",
         "0",
         "0.0"
        ],
        [
         "30",
         "0.0",
         "0",
         "0.0"
        ],
        [
         "34",
         "0.0",
         "0",
         "0.0"
        ],
        [
         "39",
         "0.0",
         "0",
         "0.0"
        ],
        [
         "41",
         "0.0",
         "0",
         "0.0"
        ],
        [
         "45",
         "0.0",
         "0",
         "0.0"
        ],
        [
         "46",
         "0.0",
         "0",
         "0.0"
        ],
        [
         "47",
         "0.0",
         "0",
         "0.0"
        ],
        [
         "48",
         "0.0",
         "0",
         "0.0"
        ],
        [
         "51",
         "0.0",
         "0",
         "0.0"
        ],
        [
         "53",
         "0.0",
         "0",
         "0.0"
        ],
        [
         "61",
         "0.0",
         "0",
         "0.0"
        ],
        [
         "62",
         "0.0",
         "0",
         "0.0"
        ],
        [
         "63",
         "0.0",
         "0",
         "0.0"
        ],
        [
         "72",
         "0.0",
         "0",
         "0.0"
        ],
        [
         "77",
         "0.0",
         "0",
         "0.0"
        ],
        [
         "79",
         "0.0",
         "0",
         "0.0"
        ],
        [
         "80",
         "0.0",
         "0",
         "0.0"
        ],
        [
         "81",
         "0.0",
         "0",
         "0.0"
        ],
        [
         "85",
         "0.0",
         "0",
         "0.0"
        ],
        [
         "89",
         "0.0",
         "0",
         "0.0"
        ],
        [
         "91",
         "0.0",
         "0",
         "0.0"
        ],
        [
         "93",
         "0.0",
         "0",
         "0.0"
        ],
        [
         "98",
         "0.0",
         "0",
         "0.0"
        ],
        [
         "100",
         "0.0",
         "0",
         "0.0"
        ],
        [
         "105",
         "0.0",
         "0",
         "0.0"
        ],
        [
         "107",
         "0.0",
         "0",
         "0.0"
        ],
        [
         "109",
         "0.0",
         "0",
         "0.0"
        ],
        [
         "111",
         "0.0",
         "0",
         "0.0"
        ],
        [
         "112",
         "0.0",
         "0",
         "0.0"
        ],
        [
         "115",
         "0.0",
         "0",
         "0.0"
        ],
        [
         "117",
         "0.0",
         "0",
         "0.0"
        ],
        [
         "118",
         "0.0",
         "0",
         "0.0"
        ],
        [
         "119",
         "0.0",
         "0",
         "0.0"
        ],
        [
         "120",
         "0.0",
         "0",
         "0.0"
        ],
        [
         "121",
         "0.0",
         "0",
         "0.0"
        ],
        [
         "125",
         "0.0",
         "0",
         "0.0"
        ],
        [
         "126",
         "0.0",
         "0",
         "0.0"
        ]
       ],
       "shape": {
        "columns": 3,
        "rows": 11977
       }
      },
      "text/html": [
       "<div>\n",
       "<style scoped>\n",
       "    .dataframe tbody tr th:only-of-type {\n",
       "        vertical-align: middle;\n",
       "    }\n",
       "\n",
       "    .dataframe tbody tr th {\n",
       "        vertical-align: top;\n",
       "    }\n",
       "\n",
       "    .dataframe thead th {\n",
       "        text-align: right;\n",
       "    }\n",
       "</style>\n",
       "<table border=\"1\" class=\"dataframe\">\n",
       "  <thead>\n",
       "    <tr style=\"text-align: right;\">\n",
       "      <th></th>\n",
       "      <th>Renda</th>\n",
       "      <th>Quant_trabalhos</th>\n",
       "      <th>Horas_trabalhadas</th>\n",
       "    </tr>\n",
       "  </thead>\n",
       "  <tbody>\n",
       "    <tr>\n",
       "      <th>0</th>\n",
       "      <td>0.0</td>\n",
       "      <td>0</td>\n",
       "      <td>0.0</td>\n",
       "    </tr>\n",
       "    <tr>\n",
       "      <th>4</th>\n",
       "      <td>0.0</td>\n",
       "      <td>0</td>\n",
       "      <td>0.0</td>\n",
       "    </tr>\n",
       "    <tr>\n",
       "      <th>6</th>\n",
       "      <td>0.0</td>\n",
       "      <td>0</td>\n",
       "      <td>0.0</td>\n",
       "    </tr>\n",
       "    <tr>\n",
       "      <th>9</th>\n",
       "      <td>0.0</td>\n",
       "      <td>0</td>\n",
       "      <td>0.0</td>\n",
       "    </tr>\n",
       "    <tr>\n",
       "      <th>10</th>\n",
       "      <td>0.0</td>\n",
       "      <td>0</td>\n",
       "      <td>0.0</td>\n",
       "    </tr>\n",
       "    <tr>\n",
       "      <th>...</th>\n",
       "      <td>...</td>\n",
       "      <td>...</td>\n",
       "      <td>...</td>\n",
       "    </tr>\n",
       "    <tr>\n",
       "      <th>24314</th>\n",
       "      <td>0.0</td>\n",
       "      <td>0</td>\n",
       "      <td>0.0</td>\n",
       "    </tr>\n",
       "    <tr>\n",
       "      <th>24325</th>\n",
       "      <td>0.0</td>\n",
       "      <td>0</td>\n",
       "      <td>0.0</td>\n",
       "    </tr>\n",
       "    <tr>\n",
       "      <th>24326</th>\n",
       "      <td>0.0</td>\n",
       "      <td>0</td>\n",
       "      <td>0.0</td>\n",
       "    </tr>\n",
       "    <tr>\n",
       "      <th>24334</th>\n",
       "      <td>0.0</td>\n",
       "      <td>0</td>\n",
       "      <td>0.0</td>\n",
       "    </tr>\n",
       "    <tr>\n",
       "      <th>24339</th>\n",
       "      <td>0.0</td>\n",
       "      <td>0</td>\n",
       "      <td>0.0</td>\n",
       "    </tr>\n",
       "  </tbody>\n",
       "</table>\n",
       "<p>11977 rows × 3 columns</p>\n",
       "</div>"
      ],
      "text/plain": [
       "       Renda  Quant_trabalhos  Horas_trabalhadas\n",
       "0        0.0                0                0.0\n",
       "4        0.0                0                0.0\n",
       "6        0.0                0                0.0\n",
       "9        0.0                0                0.0\n",
       "10       0.0                0                0.0\n",
       "...      ...              ...                ...\n",
       "24314    0.0                0                0.0\n",
       "24325    0.0                0                0.0\n",
       "24326    0.0                0                0.0\n",
       "24334    0.0                0                0.0\n",
       "24339    0.0                0                0.0\n",
       "\n",
       "[11977 rows x 3 columns]"
      ]
     },
     "execution_count": 1484,
     "metadata": {},
     "output_type": "execute_result"
    }
   ],
   "source": [
    "df['Quant_trabalhos'] = pd.to_numeric(df['Quant_trabalhos'], errors='coerce')\n",
    "df[(df['Renda'] == 0.0) & (df['Quant_trabalhos'] == 0) & (df['Horas_trabalhadas'] == 0.0)][['Renda', 'Quant_trabalhos', 'Horas_trabalhadas']]"
   ]
  },
  {
   "cell_type": "code",
   "execution_count": 1485,
   "id": "d8ceb9bc",
   "metadata": {},
   "outputs": [],
   "source": [
    "df.drop(columns=['E01603', 'E01605', 'E017', 'E019'], inplace=True)"
   ]
  },
  {
   "cell_type": "markdown",
   "id": "0c74b3b2",
   "metadata": {},
   "source": [
    "### Afastamento do trabalho por motivo de saúde & motivo de saúde relacionado ao trabalho"
   ]
  },
  {
   "cell_type": "markdown",
   "id": "65de73ca",
   "metadata": {},
   "source": [
    "1. E005: tinha algum trabalho remunerado do qual estava temporariamente afastado?\n",
    "2. E006011: por que motivo estava afastado desse trabalho\n",
    "3. E008: a doença ou acidente foi relacionado ao trabalho?"
   ]
  },
  {
   "cell_type": "code",
   "execution_count": 1486,
   "id": "da18f04c",
   "metadata": {},
   "outputs": [
    {
     "name": "stdout",
     "output_type": "stream",
     "text": [
      "Temporariamente_afastado\n",
      "Não    24022\n",
      "Sim      329\n",
      "Name: count, dtype: int64\n",
      "Valores faltantes: 0\n"
     ]
    }
   ],
   "source": [
    "def temporariamente_afastado(row):\n",
    "    if row['E005'] == 1:\n",
    "        return 'Sim'\n",
    "    elif row['E005'] == 2:\n",
    "            return 'Não'\n",
    "    else:\n",
    "         return 'Não'\n",
    "\n",
    "df['Temporariamente_afastado'] = df.apply(temporariamente_afastado, axis=1)\n",
    "\n",
    "\n",
    "print(df['Temporariamente_afastado'].value_counts(dropna=False))\n",
    "print(f\"Valores faltantes:\",df['Temporariamente_afastado'].isna().sum())"
   ]
  },
  {
   "cell_type": "code",
   "execution_count": 1487,
   "id": "b423e8e6",
   "metadata": {},
   "outputs": [],
   "source": [
    "df.loc[(df['Temporariamente_afastado']== 'Não'), 'E006011'] = 0 #se E006011=0, não esteve afastado"
   ]
  },
  {
   "cell_type": "code",
   "execution_count": 1488,
   "id": "f5b9dfbe",
   "metadata": {},
   "outputs": [
    {
     "data": {
      "text/plain": [
       "np.int64(0)"
      ]
     },
     "execution_count": 1488,
     "metadata": {},
     "output_type": "execute_result"
    }
   ],
   "source": [
    "df['E006011'].isna().sum()"
   ]
  },
  {
   "cell_type": "code",
   "execution_count": 1489,
   "id": "6c76cd7c",
   "metadata": {},
   "outputs": [],
   "source": [
    "df.loc[(df['E006011'].isin([0, 1, 2, 4, 5, 6, 7])), 'E008'] = 0"
   ]
  },
  {
   "cell_type": "code",
   "execution_count": 1490,
   "id": "8f21c545",
   "metadata": {},
   "outputs": [
    {
     "data": {
      "text/plain": [
       "np.int64(0)"
      ]
     },
     "execution_count": 1490,
     "metadata": {},
     "output_type": "execute_result"
    }
   ],
   "source": [
    "df['E008'].isna().sum()"
   ]
  },
  {
   "cell_type": "code",
   "execution_count": 1491,
   "id": "7dfba839",
   "metadata": {},
   "outputs": [],
   "source": [
    "pd.set_option('future.no_silent_downcasting', True)\n",
    "\n",
    "df['Temporariamente_afastado'] = df['Temporariamente_afastado'].replace({\n",
    "    'Sim': 1,\n",
    "    'Não': 2\n",
    "}).astype(float)"
   ]
  },
  {
   "cell_type": "code",
   "execution_count": 1492,
   "id": "1601e95e",
   "metadata": {},
   "outputs": [],
   "source": [
    "df.drop(columns=['E001','E002', 'E003', 'E004', 'E005'], inplace=True)"
   ]
  },
  {
   "cell_type": "markdown",
   "id": "05822200",
   "metadata": {},
   "source": [
    "### Mobilidade"
   ]
  },
  {
   "cell_type": "markdown",
   "id": "5a9abd9c",
   "metadata": {},
   "source": [
    "1. G059: usa algum aparelho de auxílio para se locomover?\n",
    "2. G060: faz uso de cadeira de rodas?\n",
    "3. G062: faz uso de bengala, muletas ou andador?"
   ]
  },
  {
   "cell_type": "code",
   "execution_count": 1493,
   "id": "207d2c19",
   "metadata": {},
   "outputs": [
    {
     "name": "stdout",
     "output_type": "stream",
     "text": [
      "Mobilidade_auxiliar\n",
      "0.0    23631\n",
      "2.0      517\n",
      "1.0      149\n",
      "4.0       54\n",
      "Name: count, dtype: int64\n",
      "0\n"
     ]
    }
   ],
   "source": [
    "def classificar_mobilidade(row):\n",
    "    usa_aparelho = row['G059'] == 1\n",
    "    cadeira_rodas = row['G060'] == 1\n",
    "    bengala_muleta = row['G062'] == 1\n",
    "\n",
    "    if not usa_aparelho:\n",
    "        return 0.0  # Não usa nenhum aparelho\n",
    "    if cadeira_rodas:\n",
    "        return 1.0  # Só cadeira de rodas\n",
    "    if bengala_muleta:\n",
    "        return 2.0  # Só bengala/muleta/andador\n",
    "    if cadeira_rodas and bengala_muleta:\n",
    "        return 3.0  # Usa os dois\n",
    "    if not cadeira_rodas and not bengala_muleta:\n",
    "        return 4.0  # Não usa nenhum dos dois (uso outras coisas)\n",
    "    return np.nan  # Caso de inconsistência ou valores faltantes\n",
    "\n",
    "df['Mobilidade_auxiliar'] = df.apply(classificar_mobilidade, axis=1)\n",
    "\n",
    "# Visualizar resultado:\n",
    "print(df['Mobilidade_auxiliar'].value_counts(dropna=False))\n",
    "print(df['Mobilidade_auxiliar'].isna().sum())"
   ]
  },
  {
   "cell_type": "code",
   "execution_count": 1494,
   "id": "58b8476f",
   "metadata": {},
   "outputs": [],
   "source": [
    "df = df.drop(columns=['G060', 'G062'])"
   ]
  },
  {
   "cell_type": "markdown",
   "id": "228eaac4",
   "metadata": {},
   "source": [
    "### Plano de Saúde"
   ]
  },
  {
   "cell_type": "markdown",
   "id": "a6cdcac2",
   "metadata": {},
   "source": [
    "1. I00102: se tem plano\n",
    "2. I006: avaliação do plano"
   ]
  },
  {
   "cell_type": "code",
   "execution_count": 1495,
   "id": "34ede46b",
   "metadata": {},
   "outputs": [
    {
     "name": "stdout",
     "output_type": "stream",
     "text": [
      "Avaliacao_plano\n",
      "Não tem plano      19748\n",
      "Bom/muito bom       3409\n",
      "Regular              941\n",
      "Ruim/muito ruim      157\n",
      "Nunca usou            96\n",
      "Name: count, dtype: int64\n",
      "0\n"
     ]
    }
   ],
   "source": [
    "def classificar_plano(row):\n",
    "    tem_plano = row['I00102']\n",
    "    avaliacao = row['I006']\n",
    "    \n",
    "    if tem_plano == 2:\n",
    "        return 'Não tem plano'  # Não tem plano\n",
    "    elif avaliacao in [1, 2]:\n",
    "        return 'Bom/muito bom'  # Muito bom ou bom\n",
    "    elif avaliacao == 3:\n",
    "        return 'Regular'  # Regular\n",
    "    elif avaliacao in [4, 5]:\n",
    "        return 'Ruim/muito ruim' # Ruim ou muito ruim\n",
    "    elif avaliacao == 6:\n",
    "        return 'Nunca usou'  # Nunca usou\n",
    "    else:\n",
    "        return np.nan  # Valores faltantes ou inválidos\n",
    "\n",
    "df['Avaliacao_plano'] = df.apply(classificar_plano, axis=1)\n",
    "\n",
    "print(df['Avaliacao_plano'].value_counts(dropna=False))\n",
    "print(df['Avaliacao_plano'].isna().sum())\n",
    "\n",
    "# 0     | Não tem plano                \n",
    "# 1     | Avaliação muito boa ou boa   \n",
    "# 2     | Avaliação regular            \n",
    "# 3     | Avaliação ruim ou muito ruim \n",
    "# 4     | Nunca usou o plano "
   ]
  },
  {
   "cell_type": "code",
   "execution_count": 1496,
   "id": "81a83816",
   "metadata": {},
   "outputs": [
    {
     "data": {
      "application/vnd.microsoft.datawrangler.viewer.v0+json": {
       "columns": [
        {
         "name": "index",
         "rawType": "int64",
         "type": "integer"
        },
        {
         "name": "Avaliacao_plano",
         "rawType": "object",
         "type": "string"
        }
       ],
       "conversionMethod": "pd.DataFrame",
       "ref": "4c181445-3d37-41da-9535-8ae3ee073d84",
       "rows": [
        [
         "0",
         "Não tem plano"
        ],
        [
         "1",
         "Não tem plano"
        ],
        [
         "2",
         "Regular"
        ],
        [
         "3",
         "Regular"
        ],
        [
         "4",
         "Não tem plano"
        ],
        [
         "5",
         "Não tem plano"
        ],
        [
         "6",
         "Não tem plano"
        ],
        [
         "7",
         "Não tem plano"
        ],
        [
         "8",
         "Não tem plano"
        ],
        [
         "9",
         "Não tem plano"
        ],
        [
         "10",
         "Não tem plano"
        ],
        [
         "11",
         "Não tem plano"
        ],
        [
         "12",
         "Não tem plano"
        ],
        [
         "13",
         "Não tem plano"
        ],
        [
         "14",
         "Não tem plano"
        ],
        [
         "15",
         "Não tem plano"
        ],
        [
         "16",
         "Não tem plano"
        ],
        [
         "17",
         "Não tem plano"
        ],
        [
         "18",
         "Não tem plano"
        ],
        [
         "19",
         "Não tem plano"
        ],
        [
         "20",
         "Não tem plano"
        ],
        [
         "21",
         "Não tem plano"
        ],
        [
         "22",
         "Não tem plano"
        ],
        [
         "23",
         "Não tem plano"
        ],
        [
         "24",
         "Não tem plano"
        ],
        [
         "25",
         "Não tem plano"
        ],
        [
         "26",
         "Não tem plano"
        ],
        [
         "27",
         "Não tem plano"
        ],
        [
         "28",
         "Não tem plano"
        ],
        [
         "29",
         "Não tem plano"
        ],
        [
         "30",
         "Não tem plano"
        ],
        [
         "31",
         "Não tem plano"
        ],
        [
         "32",
         "Não tem plano"
        ],
        [
         "33",
         "Não tem plano"
        ],
        [
         "34",
         "Não tem plano"
        ],
        [
         "35",
         "Não tem plano"
        ],
        [
         "36",
         "Bom/muito bom"
        ],
        [
         "37",
         "Não tem plano"
        ],
        [
         "38",
         "Não tem plano"
        ],
        [
         "39",
         "Não tem plano"
        ],
        [
         "40",
         "Bom/muito bom"
        ],
        [
         "41",
         "Não tem plano"
        ],
        [
         "42",
         "Não tem plano"
        ],
        [
         "43",
         "Não tem plano"
        ],
        [
         "44",
         "Não tem plano"
        ],
        [
         "45",
         "Não tem plano"
        ],
        [
         "46",
         "Não tem plano"
        ],
        [
         "47",
         "Não tem plano"
        ],
        [
         "48",
         "Não tem plano"
        ],
        [
         "49",
         "Não tem plano"
        ]
       ],
       "shape": {
        "columns": 1,
        "rows": 24351
       }
      },
      "text/html": [
       "<div>\n",
       "<style scoped>\n",
       "    .dataframe tbody tr th:only-of-type {\n",
       "        vertical-align: middle;\n",
       "    }\n",
       "\n",
       "    .dataframe tbody tr th {\n",
       "        vertical-align: top;\n",
       "    }\n",
       "\n",
       "    .dataframe thead th {\n",
       "        text-align: right;\n",
       "    }\n",
       "</style>\n",
       "<table border=\"1\" class=\"dataframe\">\n",
       "  <thead>\n",
       "    <tr style=\"text-align: right;\">\n",
       "      <th></th>\n",
       "      <th>Avaliacao_plano</th>\n",
       "    </tr>\n",
       "  </thead>\n",
       "  <tbody>\n",
       "    <tr>\n",
       "      <th>0</th>\n",
       "      <td>Não tem plano</td>\n",
       "    </tr>\n",
       "    <tr>\n",
       "      <th>1</th>\n",
       "      <td>Não tem plano</td>\n",
       "    </tr>\n",
       "    <tr>\n",
       "      <th>2</th>\n",
       "      <td>Regular</td>\n",
       "    </tr>\n",
       "    <tr>\n",
       "      <th>3</th>\n",
       "      <td>Regular</td>\n",
       "    </tr>\n",
       "    <tr>\n",
       "      <th>4</th>\n",
       "      <td>Não tem plano</td>\n",
       "    </tr>\n",
       "    <tr>\n",
       "      <th>...</th>\n",
       "      <td>...</td>\n",
       "    </tr>\n",
       "    <tr>\n",
       "      <th>24346</th>\n",
       "      <td>Não tem plano</td>\n",
       "    </tr>\n",
       "    <tr>\n",
       "      <th>24347</th>\n",
       "      <td>Não tem plano</td>\n",
       "    </tr>\n",
       "    <tr>\n",
       "      <th>24348</th>\n",
       "      <td>Não tem plano</td>\n",
       "    </tr>\n",
       "    <tr>\n",
       "      <th>24349</th>\n",
       "      <td>Não tem plano</td>\n",
       "    </tr>\n",
       "    <tr>\n",
       "      <th>24350</th>\n",
       "      <td>Ruim/muito ruim</td>\n",
       "    </tr>\n",
       "  </tbody>\n",
       "</table>\n",
       "<p>24351 rows × 1 columns</p>\n",
       "</div>"
      ],
      "text/plain": [
       "       Avaliacao_plano\n",
       "0        Não tem plano\n",
       "1        Não tem plano\n",
       "2              Regular\n",
       "3              Regular\n",
       "4        Não tem plano\n",
       "...                ...\n",
       "24346    Não tem plano\n",
       "24347    Não tem plano\n",
       "24348    Não tem plano\n",
       "24349    Não tem plano\n",
       "24350  Ruim/muito ruim\n",
       "\n",
       "[24351 rows x 1 columns]"
      ]
     },
     "execution_count": 1496,
     "metadata": {},
     "output_type": "execute_result"
    }
   ],
   "source": [
    "df[['Avaliacao_plano']]"
   ]
  },
  {
   "cell_type": "code",
   "execution_count": 1497,
   "id": "498a8f90",
   "metadata": {},
   "outputs": [],
   "source": [
    "# Mapeamento explícito\n",
    "mapeamento = {\n",
    "    \"Não tem plano\": 0,\n",
    "    \"Bom/muito bom\": 1,\n",
    "    \"Regular\": 2,\n",
    "    \"Ruim/muito ruim\": 3,\n",
    "    \"Nunca usou\": 4\n",
    "}\n",
    "\n",
    "# Aplicando o mapeamento\n",
    "df[\"Avaliacao_plano\"] = df[\"Avaliacao_plano\"].replace(mapeamento).astype(int)"
   ]
  },
  {
   "cell_type": "code",
   "execution_count": 1498,
   "id": "79566fd1",
   "metadata": {},
   "outputs": [
    {
     "data": {
      "application/vnd.microsoft.datawrangler.viewer.v0+json": {
       "columns": [
        {
         "name": "index",
         "rawType": "int64",
         "type": "integer"
        },
        {
         "name": "Avaliacao_plano",
         "rawType": "int64",
         "type": "integer"
        }
       ],
       "conversionMethod": "pd.DataFrame",
       "ref": "ad9235e9-9909-40e4-ada5-12678014d912",
       "rows": [
        [
         "0",
         "0"
        ],
        [
         "1",
         "0"
        ],
        [
         "2",
         "2"
        ],
        [
         "3",
         "2"
        ],
        [
         "4",
         "0"
        ],
        [
         "5",
         "0"
        ],
        [
         "6",
         "0"
        ],
        [
         "7",
         "0"
        ],
        [
         "8",
         "0"
        ],
        [
         "9",
         "0"
        ],
        [
         "10",
         "0"
        ],
        [
         "11",
         "0"
        ],
        [
         "12",
         "0"
        ],
        [
         "13",
         "0"
        ],
        [
         "14",
         "0"
        ],
        [
         "15",
         "0"
        ],
        [
         "16",
         "0"
        ],
        [
         "17",
         "0"
        ],
        [
         "18",
         "0"
        ],
        [
         "19",
         "0"
        ],
        [
         "20",
         "0"
        ],
        [
         "21",
         "0"
        ],
        [
         "22",
         "0"
        ],
        [
         "23",
         "0"
        ],
        [
         "24",
         "0"
        ],
        [
         "25",
         "0"
        ],
        [
         "26",
         "0"
        ],
        [
         "27",
         "0"
        ],
        [
         "28",
         "0"
        ],
        [
         "29",
         "0"
        ],
        [
         "30",
         "0"
        ],
        [
         "31",
         "0"
        ],
        [
         "32",
         "0"
        ],
        [
         "33",
         "0"
        ],
        [
         "34",
         "0"
        ],
        [
         "35",
         "0"
        ],
        [
         "36",
         "1"
        ],
        [
         "37",
         "0"
        ],
        [
         "38",
         "0"
        ],
        [
         "39",
         "0"
        ],
        [
         "40",
         "1"
        ],
        [
         "41",
         "0"
        ],
        [
         "42",
         "0"
        ],
        [
         "43",
         "0"
        ],
        [
         "44",
         "0"
        ],
        [
         "45",
         "0"
        ],
        [
         "46",
         "0"
        ],
        [
         "47",
         "0"
        ],
        [
         "48",
         "0"
        ],
        [
         "49",
         "0"
        ]
       ],
       "shape": {
        "columns": 1,
        "rows": 24351
       }
      },
      "text/html": [
       "<div>\n",
       "<style scoped>\n",
       "    .dataframe tbody tr th:only-of-type {\n",
       "        vertical-align: middle;\n",
       "    }\n",
       "\n",
       "    .dataframe tbody tr th {\n",
       "        vertical-align: top;\n",
       "    }\n",
       "\n",
       "    .dataframe thead th {\n",
       "        text-align: right;\n",
       "    }\n",
       "</style>\n",
       "<table border=\"1\" class=\"dataframe\">\n",
       "  <thead>\n",
       "    <tr style=\"text-align: right;\">\n",
       "      <th></th>\n",
       "      <th>Avaliacao_plano</th>\n",
       "    </tr>\n",
       "  </thead>\n",
       "  <tbody>\n",
       "    <tr>\n",
       "      <th>0</th>\n",
       "      <td>0</td>\n",
       "    </tr>\n",
       "    <tr>\n",
       "      <th>1</th>\n",
       "      <td>0</td>\n",
       "    </tr>\n",
       "    <tr>\n",
       "      <th>2</th>\n",
       "      <td>2</td>\n",
       "    </tr>\n",
       "    <tr>\n",
       "      <th>3</th>\n",
       "      <td>2</td>\n",
       "    </tr>\n",
       "    <tr>\n",
       "      <th>4</th>\n",
       "      <td>0</td>\n",
       "    </tr>\n",
       "    <tr>\n",
       "      <th>...</th>\n",
       "      <td>...</td>\n",
       "    </tr>\n",
       "    <tr>\n",
       "      <th>24346</th>\n",
       "      <td>0</td>\n",
       "    </tr>\n",
       "    <tr>\n",
       "      <th>24347</th>\n",
       "      <td>0</td>\n",
       "    </tr>\n",
       "    <tr>\n",
       "      <th>24348</th>\n",
       "      <td>0</td>\n",
       "    </tr>\n",
       "    <tr>\n",
       "      <th>24349</th>\n",
       "      <td>0</td>\n",
       "    </tr>\n",
       "    <tr>\n",
       "      <th>24350</th>\n",
       "      <td>3</td>\n",
       "    </tr>\n",
       "  </tbody>\n",
       "</table>\n",
       "<p>24351 rows × 1 columns</p>\n",
       "</div>"
      ],
      "text/plain": [
       "       Avaliacao_plano\n",
       "0                    0\n",
       "1                    0\n",
       "2                    2\n",
       "3                    2\n",
       "4                    0\n",
       "...                ...\n",
       "24346                0\n",
       "24347                0\n",
       "24348                0\n",
       "24349                0\n",
       "24350                3\n",
       "\n",
       "[24351 rows x 1 columns]"
      ]
     },
     "execution_count": 1498,
     "metadata": {},
     "output_type": "execute_result"
    }
   ],
   "source": [
    "df[[\"Avaliacao_plano\"]]"
   ]
  },
  {
   "cell_type": "code",
   "execution_count": 1499,
   "id": "bb952217",
   "metadata": {},
   "outputs": [],
   "source": [
    "df = df.drop(columns=['I006'])"
   ]
  },
  {
   "cell_type": "markdown",
   "id": "911179ef",
   "metadata": {},
   "source": [
    "3. I004: se é de instituição pública\n",
    "4. I00103: se é morador \n",
    "5. I001031: número do titular\n",
    "\n",
    "*C00301 == I001031 --> é titular    "
   ]
  },
  {
   "cell_type": "code",
   "execution_count": 1500,
   "id": "129d46bd",
   "metadata": {},
   "outputs": [
    {
     "name": "stdout",
     "output_type": "stream",
     "text": [
      "Plano_publico\n",
      "0.0    20870\n",
      "2.0     2156\n",
      "1.0     1325\n",
      "Name: count, dtype: int64\n",
      "0\n"
     ]
    }
   ],
   "source": [
    "def definir_plano_publico(row):\n",
    "    if row['I00102'] != 1:\n",
    "        return 0.0  # Não tem plano\n",
    "    if row['I00103'] != 1 and row['C00301'] != row['I001031']: # não é morador\n",
    "        return 0.0  # não é titular do plano\n",
    "    if row['I004'] == 1:\n",
    "        return 1.0  # Plano é de instituição pública\n",
    "    if row['I004'] == 2:\n",
    "        return 2.0  # Plano não é de instituição pública\n",
    "    \n",
    "    return 0.0\n",
    "\n",
    "df['Plano_publico'] = df.apply(definir_plano_publico, axis=1)\n",
    "\n",
    "print(df['Plano_publico'].value_counts(dropna=False))\n",
    "print(df['Plano_publico'].isna().sum())\n",
    "\n",
    "#0     | Não tem plano e/ou não é morador + titular do plano              \n",
    "#1     | Plano é de instituição pública   \n",
    "#2     | Plano não é de instituição pública   "
   ]
  },
  {
   "cell_type": "code",
   "execution_count": 1501,
   "id": "4934a2a4",
   "metadata": {},
   "outputs": [],
   "source": [
    "df = df.drop(columns=['I004'])"
   ]
  },
  {
   "cell_type": "markdown",
   "id": "08b1b744",
   "metadata": {},
   "source": [
    "6. I00401: plano dá direito a consultas\n",
    "7. I00402: plano dá direito a exames\n",
    "8. I00403: plano dá direito a internações"
   ]
  },
  {
   "cell_type": "code",
   "execution_count": 1502,
   "id": "1816ddb0",
   "metadata": {},
   "outputs": [
    {
     "name": "stdout",
     "output_type": "stream",
     "text": [
      "Cobertura_plano\n",
      "0.0    20870\n",
      "3.0     3250\n",
      "2.0      177\n",
      "1.0       36\n",
      "4.0       18\n",
      "Name: count, dtype: int64\n",
      "Valores nulos: 0\n"
     ]
    }
   ],
   "source": [
    "def Cobertura_plano(row):\n",
    "    # Se não tem plano, retorna 0.0\n",
    "    if pd.isna(row['I00102']) or row['I00102'] != 1:\n",
    "        return 0.0\n",
    "\n",
    "    # Verifica titularidade\n",
    "    if pd.isna(row['I00103']) or row['I00103'] != 1:\n",
    "        return 0.0\n",
    "    if pd.isna(row['C00301']) or pd.isna(row['I001031']) or row['C00301'] != row['I001031']:\n",
    "        return 0.0\n",
    "\n",
    "    # Verifica cobertura\n",
    "    coberturas = [\n",
    "        row['I00401'] == 1 if pd.notna(row['I00401']) else False,\n",
    "        row['I00402'] == 1 if pd.notna(row['I00402']) else False,\n",
    "        row['I00403'] == 1 if pd.notna(row['I00403']) else False\n",
    "    ]\n",
    "    total_cobertura = sum(coberturas)\n",
    "\n",
    "    if total_cobertura == 1:\n",
    "        return 1.0\n",
    "    elif total_cobertura == 2:\n",
    "        return 2.0\n",
    "    elif total_cobertura == 3:\n",
    "        return 3.0\n",
    "    elif total_cobertura == 0:\n",
    "        return 4.0  # Não cobre nada, apesar de ter plano e titular\n",
    "    else:\n",
    "        return np.nan  # Caso de erro\n",
    "\n",
    "df['Cobertura_plano'] = df.apply(Cobertura_plano, axis=1)\n",
    "\n",
    "print(df['Cobertura_plano'].value_counts(dropna=False))\n",
    "print(\"Valores nulos:\", df['Cobertura_plano'].isna().sum())\n",
    "\n",
    "\n",
    "# 1- se o plano cobre uma das coisas\n",
    "# 2- se o plano cobre duas das coisas\n",
    "# 3- se o plano cobre as três coisas"
   ]
  },
  {
   "cell_type": "code",
   "execution_count": 1503,
   "id": "c6a04f56",
   "metadata": {},
   "outputs": [],
   "source": [
    "df = df.drop(columns=['I00102', 'I00401', 'I00402', 'I00403', 'I00103', 'I001031'])"
   ]
  },
  {
   "cell_type": "markdown",
   "id": "ce1c4fdd",
   "metadata": {},
   "source": [
    "### Preenchendo aqui os atributos J00402, J00404 e J00801"
   ]
  },
  {
   "cell_type": "code",
   "execution_count": 1504,
   "id": "75067eb0",
   "metadata": {},
   "outputs": [],
   "source": [
    "df.loc[df['J002'] == 2, 'J00402'] = 0\n",
    "df.loc[df['J002'] == 2, 'J00404'] = 0"
   ]
  },
  {
   "cell_type": "code",
   "execution_count": 1505,
   "id": "db195951",
   "metadata": {},
   "outputs": [
    {
     "name": "stdout",
     "output_type": "stream",
     "text": [
      "0\n",
      "0\n"
     ]
    }
   ],
   "source": [
    "print(df['J00402'].isna().sum())\n",
    "print(df['J00404'].isna().sum())"
   ]
  },
  {
   "cell_type": "code",
   "execution_count": 1506,
   "id": "d4a3bd1a",
   "metadata": {},
   "outputs": [
    {
     "name": "stdout",
     "output_type": "stream",
     "text": [
      "0\n"
     ]
    }
   ],
   "source": [
    "df.loc[df['J007'] == 2, 'J00801'] = 0\n",
    "print(df['J00801'].isna().sum())"
   ]
  },
  {
   "cell_type": "markdown",
   "id": "70cd3160",
   "metadata": {},
   "source": [
    "### Exposição tóxica no trabalho"
   ]
  },
  {
   "cell_type": "markdown",
   "id": "04bbd4b8",
   "metadata": {},
   "source": [
    "Atributos:\n",
    "1. M011011: substâncias químicas\n",
    "2. M011021: barulho intenso (ruído)\n",
    "3. M011051: lixo (resíduo urbano)\n",
    "4. M011071: poeira mineral"
   ]
  },
  {
   "cell_type": "code",
   "execution_count": 1507,
   "id": "24a0916f",
   "metadata": {},
   "outputs": [
    {
     "name": "stdout",
     "output_type": "stream",
     "text": [
      "Exposicao_quimica\n",
      "2    22934\n",
      "1     1417\n",
      "Name: count, dtype: int64\n",
      "0\n"
     ]
    }
   ],
   "source": [
    "def marcar_exposicao_quimica(row):\n",
    "    trabalho = row['E011']\n",
    "    exposicao = row['M011011']\n",
    "    \n",
    "    if trabalho in [1, 2, 3]:  # Pessoa trabalha\n",
    "        if exposicao == 1:\n",
    "            return 1  # Exposto\n",
    "        elif exposicao == 2:\n",
    "            return 2  # Não exposto\n",
    "        else:\n",
    "            return np.nan  # Outro valor ou faltante\n",
    "    else:\n",
    "        return 2  # Pessoa não trabalha → marcar como \"não exposto\"\n",
    "\n",
    "df['Exposicao_quimica'] = df.apply(marcar_exposicao_quimica, axis=1)\n",
    "\n",
    "print(df['Exposicao_quimica'].value_counts(dropna=False))\n",
    "print(df['Exposicao_quimica'].isna().sum())"
   ]
  },
  {
   "cell_type": "code",
   "execution_count": 1508,
   "id": "3da027f0",
   "metadata": {},
   "outputs": [
    {
     "name": "stdout",
     "output_type": "stream",
     "text": [
      "Exposicao_ruido\n",
      "2    22089\n",
      "1     2262\n",
      "Name: count, dtype: int64\n",
      "0\n"
     ]
    }
   ],
   "source": [
    "def marcar_exposicao_ruido(row):\n",
    "    trabalho = row['E011']\n",
    "    exposicao = row['M011021']\n",
    "    \n",
    "    if trabalho in [1, 2, 3]:  # Pessoa trabalha\n",
    "        if exposicao == 1:\n",
    "            return 1  # Exposto\n",
    "        elif exposicao == 2:\n",
    "            return 2  # Não exposto\n",
    "        else:\n",
    "            return np.nan  # Outro valor ou faltante\n",
    "    else:\n",
    "        return 2  # Pessoa não trabalha → marcar como \"não exposto\"\n",
    "\n",
    "df['Exposicao_ruido'] = df.apply(marcar_exposicao_ruido, axis=1)\n",
    "\n",
    "print(df['Exposicao_ruido'].value_counts(dropna=False))\n",
    "print(df['Exposicao_ruido'].isna().sum())"
   ]
  },
  {
   "cell_type": "code",
   "execution_count": 1509,
   "id": "c572c83a",
   "metadata": {},
   "outputs": [
    {
     "name": "stdout",
     "output_type": "stream",
     "text": [
      "Exposicao_lixo\n",
      "2    23571\n",
      "1      780\n",
      "Name: count, dtype: int64\n",
      "0\n"
     ]
    }
   ],
   "source": [
    "def marcar_exposicao_lixo(row):\n",
    "    trabalho = row['E011']\n",
    "    exposicao = row['M011051']\n",
    "    \n",
    "    if trabalho in [1, 2, 3]:  # Pessoa trabalha\n",
    "        if exposicao == 1:\n",
    "            return 1  # Exposto\n",
    "        elif exposicao == 2:\n",
    "            return 2  # Não exposto\n",
    "        else:\n",
    "            return np.nan  # Outro valor ou faltante\n",
    "    else:\n",
    "        return 2  # Pessoa não trabalha → marcar como \"não exposto\"\n",
    "\n",
    "df['Exposicao_lixo'] = df.apply(marcar_exposicao_lixo, axis=1)\n",
    "\n",
    "print(df['Exposicao_lixo'].value_counts(dropna=False))\n",
    "print(df['Exposicao_lixo'].isna().sum())"
   ]
  },
  {
   "cell_type": "code",
   "execution_count": 1510,
   "id": "ef16f3c1",
   "metadata": {},
   "outputs": [
    {
     "name": "stdout",
     "output_type": "stream",
     "text": [
      "Exposicao_minerio\n",
      "2    22985\n",
      "1     1366\n",
      "Name: count, dtype: int64\n",
      "0\n"
     ]
    }
   ],
   "source": [
    "def marcar_exposicao_minerio(row):\n",
    "    trabalho = row['E011']\n",
    "    exposicao = row['M011071']\n",
    "    \n",
    "    if trabalho in [1, 2, 3]:  # Pessoa trabalha\n",
    "        if exposicao == 1:\n",
    "            return 1  # Exposto\n",
    "        elif exposicao == 2:\n",
    "            return 2  # Não exposto\n",
    "        else:\n",
    "            return np.nan  # Outro valor ou faltante\n",
    "    else:\n",
    "        return 2  # Pessoa não trabalha → marcar como \"não exposto\"\n",
    "\n",
    "df['Exposicao_minerio'] = df.apply(marcar_exposicao_minerio, axis=1)\n",
    "\n",
    "print(df['Exposicao_minerio'].value_counts(dropna=False))\n",
    "print(df['Exposicao_minerio'].isna().sum())"
   ]
  },
  {
   "cell_type": "code",
   "execution_count": 1511,
   "id": "dc1f8506",
   "metadata": {},
   "outputs": [],
   "source": [
    "df = df.drop(columns=['M011011'])\n",
    "df = df.drop(columns=['M011021'])\n",
    "df = df.drop(columns=['M011051'])\n",
    "df = df.drop(columns=['M011071'])\n",
    "df = df.drop(columns=['E011'])"
   ]
  },
  {
   "cell_type": "markdown",
   "id": "d7451342",
   "metadata": {},
   "source": [
    "### Dor/desconforto no peito"
   ]
  },
  {
   "cell_type": "markdown",
   "id": "daeb7f9b",
   "metadata": {},
   "source": [
    "1. N004: dor ou desconforto no peito ao subir uma ladeira, um lance de escadas ou caminhar rápido no plano\n",
    "2. N005: dor ou desconforto no peito ao caminhar em lugar plano\n",
    "3. N008: onde é a dor/desconforto no peito\n",
    "\n",
    "Outros atributos usados: \n",
    "\n",
    "4. G059: usa algum aparelho de auxílio para se locomover? (Se G59=1 , siga N10) - incompleto!"
   ]
  },
  {
   "cell_type": "code",
   "execution_count": 1512,
   "id": "75b2e3b0",
   "metadata": {},
   "outputs": [
    {
     "name": "stdout",
     "output_type": "stream",
     "text": [
      "Dor_peito\n",
      "Não sente dor                20996\n",
      "Acima ou no meio do peito     2572\n",
      "Abaixo do peito                514\n",
      "Braço esquerdo                 220\n",
      "Outro lugar                     49\n",
      "Name: count, dtype: int64\n",
      "Valores faltantes: 0\n"
     ]
    }
   ],
   "source": [
    "def map_dor_peito(row):\n",
    "    if row['G059'] != 2:\n",
    "        return 'Não sente dor'  # Ignora quem não respondeu 2 em G059 (736 pessoas)\n",
    "\n",
    "    if row['N004'] == 2 and row['N005'] == 2:\n",
    "        return 'Não sente dor'\n",
    "\n",
    "    if row['N004'] == 1 or row['N005'] == 1:\n",
    "        dor_map = {\n",
    "            1: 'Acima ou no meio do peito',\n",
    "            2: 'Abaixo do peito',\n",
    "            3: 'Braço esquerdo',\n",
    "            4: 'Outro lugar'\n",
    "        }\n",
    "        return dor_map.get(row['N008'], pd.NA)\n",
    "\n",
    "    return pd.NA  # Se não cair em nenhum caso anterior \n",
    "\n",
    "df['Dor_peito'] = df.apply(map_dor_peito, axis=1)\n",
    "\n",
    "print(df['Dor_peito'].value_counts(dropna=False))\n",
    "print(f\"Valores faltantes: {df['Dor_peito'].isna().sum()}\")"
   ]
  },
  {
   "cell_type": "code",
   "execution_count": 1513,
   "id": "34874aa7",
   "metadata": {},
   "outputs": [],
   "source": [
    "df = df.drop(columns=['G059', 'N004', 'N005', 'N008'])"
   ]
  },
  {
   "cell_type": "markdown",
   "id": "25228f93",
   "metadata": {},
   "source": [
    "### Exercício físico "
   ]
  },
  {
   "cell_type": "markdown",
   "id": "63a00da7",
   "metadata": {},
   "source": [
    "1. P034: Nos últimos três meses, praticou algum tipo de exercício físico ou esporte?\n",
    "2. P035: Quantos dias por semana.\n",
    "3. P03701: tempo da sessão em horas.\n",
    "4. P03702: tempo da sessão em minutos."
   ]
  },
  {
   "cell_type": "code",
   "execution_count": 1514,
   "id": "d08176ed",
   "metadata": {},
   "outputs": [
    {
     "name": "stdout",
     "output_type": "stream",
     "text": [
      "7.0\n",
      "10.0\n"
     ]
    }
   ],
   "source": [
    "print(df['P035'].max())\n",
    "print(df['P03701'].max())"
   ]
  },
  {
   "cell_type": "code",
   "execution_count": 1515,
   "id": "a163a8da",
   "metadata": {},
   "outputs": [
    {
     "data": {
      "text/plain": [
       "P034\n",
       "2.0    16079\n",
       "1.0     8272\n",
       "Name: count, dtype: int64"
      ]
     },
     "execution_count": 1515,
     "metadata": {},
     "output_type": "execute_result"
    }
   ],
   "source": [
    "df['P034'].value_counts()"
   ]
  },
  {
   "cell_type": "code",
   "execution_count": 1516,
   "id": "fab2da87",
   "metadata": {},
   "outputs": [
    {
     "name": "stdout",
     "output_type": "stream",
     "text": [
      "FaixaTempoExercicio\n",
      "0h             16079\n",
      "até 10h         7759\n",
      "10h a 20h        271\n",
      "mais de 40h      216\n",
      "20h a 40h         26\n",
      "Name: count, dtype: int64\n",
      "Valores faltantes: 0\n"
     ]
    }
   ],
   "source": [
    "# Função para calcular o tempo semanal de exercício físico\n",
    "def calcular_tempo_exercicio(row):\n",
    "    if row['P034'] == 2:\n",
    "        return 0\n",
    "    elif row['P034'] == 1 and row['P035'] > 0:\n",
    "        horas = row['P03701'] if pd.notnull(row['P03701']) else 0\n",
    "        minutos = row['P03702'] if pd.notnull(row['P03702']) else 0\n",
    "        tempo_semanal = row['P035'] * (horas + minutos / 60)\n",
    "        return min(max(tempo_semanal, 0), 70)\n",
    "    else:\n",
    "        return np.nan  # Pode usar 0 ou np.nan dependendo da política de NA\n",
    "\n",
    "# Aplica o cálculo ao DataFrame\n",
    "df['TempoExercicioHoras'] = df.apply(calcular_tempo_exercicio, axis=1)\n",
    "\n",
    "# Função para categorizar em faixas\n",
    "def categorizar_tempo_personalizado(tempo):\n",
    "    if tempo == 0:\n",
    "        return \"0h\"\n",
    "    elif tempo <= 10:\n",
    "        return \"até 10h\"\n",
    "    elif tempo <= 20:\n",
    "        return \"10h a 20h\"\n",
    "    elif tempo <= 40:\n",
    "        return \"20h a 40h\"\n",
    "    else:\n",
    "        return \"mais de 40h\"\n",
    "\n",
    "# Aplica a categorização\n",
    "df['FaixaTempoExercicio'] = df['TempoExercicioHoras'].apply(categorizar_tempo_personalizado)\n",
    "\n",
    "print(df['FaixaTempoExercicio'].value_counts(dropna=False))\n",
    "print(f\"Valores faltantes: {df['FaixaTempoExercicio'].isna().sum()}\")"
   ]
  },
  {
   "cell_type": "code",
   "execution_count": 1517,
   "id": "2cd3a770",
   "metadata": {},
   "outputs": [
    {
     "data": {
      "application/vnd.microsoft.datawrangler.viewer.v0+json": {
       "columns": [
        {
         "name": "index",
         "rawType": "int64",
         "type": "integer"
        },
        {
         "name": "FaixaTempoExercicio",
         "rawType": "object",
         "type": "string"
        }
       ],
       "conversionMethod": "pd.DataFrame",
       "ref": "7cecec8a-2610-4b3a-8fee-d60fc139c941",
       "rows": [
        [
         "0",
         "até 10h"
        ],
        [
         "1",
         "0h"
        ],
        [
         "2",
         "até 10h"
        ],
        [
         "3",
         "0h"
        ],
        [
         "4",
         "até 10h"
        ],
        [
         "5",
         "até 10h"
        ],
        [
         "6",
         "0h"
        ],
        [
         "7",
         "0h"
        ],
        [
         "8",
         "até 10h"
        ],
        [
         "9",
         "0h"
        ],
        [
         "10",
         "0h"
        ],
        [
         "11",
         "até 10h"
        ],
        [
         "12",
         "0h"
        ],
        [
         "13",
         "0h"
        ],
        [
         "14",
         "0h"
        ],
        [
         "15",
         "0h"
        ],
        [
         "16",
         "até 10h"
        ],
        [
         "17",
         "0h"
        ],
        [
         "18",
         "0h"
        ],
        [
         "19",
         "0h"
        ],
        [
         "20",
         "até 10h"
        ],
        [
         "21",
         "0h"
        ],
        [
         "22",
         "0h"
        ],
        [
         "23",
         "0h"
        ],
        [
         "24",
         "até 10h"
        ],
        [
         "25",
         "até 10h"
        ],
        [
         "26",
         "até 10h"
        ],
        [
         "27",
         "0h"
        ],
        [
         "28",
         "0h"
        ],
        [
         "29",
         "0h"
        ],
        [
         "30",
         "0h"
        ],
        [
         "31",
         "0h"
        ],
        [
         "32",
         "0h"
        ],
        [
         "33",
         "0h"
        ],
        [
         "34",
         "0h"
        ],
        [
         "35",
         "0h"
        ],
        [
         "36",
         "até 10h"
        ],
        [
         "37",
         "0h"
        ],
        [
         "38",
         "até 10h"
        ],
        [
         "39",
         "0h"
        ],
        [
         "40",
         "até 10h"
        ],
        [
         "41",
         "0h"
        ],
        [
         "42",
         "0h"
        ],
        [
         "43",
         "0h"
        ],
        [
         "44",
         "até 10h"
        ],
        [
         "45",
         "até 10h"
        ],
        [
         "46",
         "até 10h"
        ],
        [
         "47",
         "0h"
        ],
        [
         "48",
         "0h"
        ],
        [
         "49",
         "até 10h"
        ]
       ],
       "shape": {
        "columns": 1,
        "rows": 24351
       }
      },
      "text/html": [
       "<div>\n",
       "<style scoped>\n",
       "    .dataframe tbody tr th:only-of-type {\n",
       "        vertical-align: middle;\n",
       "    }\n",
       "\n",
       "    .dataframe tbody tr th {\n",
       "        vertical-align: top;\n",
       "    }\n",
       "\n",
       "    .dataframe thead th {\n",
       "        text-align: right;\n",
       "    }\n",
       "</style>\n",
       "<table border=\"1\" class=\"dataframe\">\n",
       "  <thead>\n",
       "    <tr style=\"text-align: right;\">\n",
       "      <th></th>\n",
       "      <th>FaixaTempoExercicio</th>\n",
       "    </tr>\n",
       "  </thead>\n",
       "  <tbody>\n",
       "    <tr>\n",
       "      <th>0</th>\n",
       "      <td>até 10h</td>\n",
       "    </tr>\n",
       "    <tr>\n",
       "      <th>1</th>\n",
       "      <td>0h</td>\n",
       "    </tr>\n",
       "    <tr>\n",
       "      <th>2</th>\n",
       "      <td>até 10h</td>\n",
       "    </tr>\n",
       "    <tr>\n",
       "      <th>3</th>\n",
       "      <td>0h</td>\n",
       "    </tr>\n",
       "    <tr>\n",
       "      <th>4</th>\n",
       "      <td>até 10h</td>\n",
       "    </tr>\n",
       "    <tr>\n",
       "      <th>...</th>\n",
       "      <td>...</td>\n",
       "    </tr>\n",
       "    <tr>\n",
       "      <th>24346</th>\n",
       "      <td>0h</td>\n",
       "    </tr>\n",
       "    <tr>\n",
       "      <th>24347</th>\n",
       "      <td>0h</td>\n",
       "    </tr>\n",
       "    <tr>\n",
       "      <th>24348</th>\n",
       "      <td>0h</td>\n",
       "    </tr>\n",
       "    <tr>\n",
       "      <th>24349</th>\n",
       "      <td>0h</td>\n",
       "    </tr>\n",
       "    <tr>\n",
       "      <th>24350</th>\n",
       "      <td>até 10h</td>\n",
       "    </tr>\n",
       "  </tbody>\n",
       "</table>\n",
       "<p>24351 rows × 1 columns</p>\n",
       "</div>"
      ],
      "text/plain": [
       "      FaixaTempoExercicio\n",
       "0                 até 10h\n",
       "1                      0h\n",
       "2                 até 10h\n",
       "3                      0h\n",
       "4                 até 10h\n",
       "...                   ...\n",
       "24346                  0h\n",
       "24347                  0h\n",
       "24348                  0h\n",
       "24349                  0h\n",
       "24350             até 10h\n",
       "\n",
       "[24351 rows x 1 columns]"
      ]
     },
     "execution_count": 1517,
     "metadata": {},
     "output_type": "execute_result"
    }
   ],
   "source": [
    "df[['FaixaTempoExercicio']]"
   ]
  },
  {
   "cell_type": "code",
   "execution_count": 1518,
   "id": "8f8860f8",
   "metadata": {},
   "outputs": [],
   "source": [
    "# Mapeamento explícito\n",
    "mapeamento = {\n",
    "    \"0h\": 0,\n",
    "    \"até 10h\": 1,\n",
    "    \"10h a 20h\": 2,\n",
    "    \"20h a 40h\": 3,\n",
    "    \"mais de 40h\": 4\n",
    "}\n",
    "\n",
    "# Aplicando o mapeamento\n",
    "df[\"FaixaTempoExercicio\"] = df[\"FaixaTempoExercicio\"].replace(mapeamento).astype(int)"
   ]
  },
  {
   "cell_type": "code",
   "execution_count": 1519,
   "id": "bbc0b6c3",
   "metadata": {},
   "outputs": [
    {
     "data": {
      "application/vnd.microsoft.datawrangler.viewer.v0+json": {
       "columns": [
        {
         "name": "index",
         "rawType": "int64",
         "type": "integer"
        },
        {
         "name": "FaixaTempoExercicio",
         "rawType": "int64",
         "type": "integer"
        }
       ],
       "conversionMethod": "pd.DataFrame",
       "ref": "066091c8-ea00-4274-b6e4-da75c74f97b5",
       "rows": [
        [
         "0",
         "1"
        ],
        [
         "1",
         "0"
        ],
        [
         "2",
         "1"
        ],
        [
         "3",
         "0"
        ],
        [
         "4",
         "1"
        ],
        [
         "5",
         "1"
        ],
        [
         "6",
         "0"
        ],
        [
         "7",
         "0"
        ],
        [
         "8",
         "1"
        ],
        [
         "9",
         "0"
        ],
        [
         "10",
         "0"
        ],
        [
         "11",
         "1"
        ],
        [
         "12",
         "0"
        ],
        [
         "13",
         "0"
        ],
        [
         "14",
         "0"
        ],
        [
         "15",
         "0"
        ],
        [
         "16",
         "1"
        ],
        [
         "17",
         "0"
        ],
        [
         "18",
         "0"
        ],
        [
         "19",
         "0"
        ],
        [
         "20",
         "1"
        ],
        [
         "21",
         "0"
        ],
        [
         "22",
         "0"
        ],
        [
         "23",
         "0"
        ],
        [
         "24",
         "1"
        ],
        [
         "25",
         "1"
        ],
        [
         "26",
         "1"
        ],
        [
         "27",
         "0"
        ],
        [
         "28",
         "0"
        ],
        [
         "29",
         "0"
        ],
        [
         "30",
         "0"
        ],
        [
         "31",
         "0"
        ],
        [
         "32",
         "0"
        ],
        [
         "33",
         "0"
        ],
        [
         "34",
         "0"
        ],
        [
         "35",
         "0"
        ],
        [
         "36",
         "1"
        ],
        [
         "37",
         "0"
        ],
        [
         "38",
         "1"
        ],
        [
         "39",
         "0"
        ],
        [
         "40",
         "1"
        ],
        [
         "41",
         "0"
        ],
        [
         "42",
         "0"
        ],
        [
         "43",
         "0"
        ],
        [
         "44",
         "1"
        ],
        [
         "45",
         "1"
        ],
        [
         "46",
         "1"
        ],
        [
         "47",
         "0"
        ],
        [
         "48",
         "0"
        ],
        [
         "49",
         "1"
        ]
       ],
       "shape": {
        "columns": 1,
        "rows": 24351
       }
      },
      "text/html": [
       "<div>\n",
       "<style scoped>\n",
       "    .dataframe tbody tr th:only-of-type {\n",
       "        vertical-align: middle;\n",
       "    }\n",
       "\n",
       "    .dataframe tbody tr th {\n",
       "        vertical-align: top;\n",
       "    }\n",
       "\n",
       "    .dataframe thead th {\n",
       "        text-align: right;\n",
       "    }\n",
       "</style>\n",
       "<table border=\"1\" class=\"dataframe\">\n",
       "  <thead>\n",
       "    <tr style=\"text-align: right;\">\n",
       "      <th></th>\n",
       "      <th>FaixaTempoExercicio</th>\n",
       "    </tr>\n",
       "  </thead>\n",
       "  <tbody>\n",
       "    <tr>\n",
       "      <th>0</th>\n",
       "      <td>1</td>\n",
       "    </tr>\n",
       "    <tr>\n",
       "      <th>1</th>\n",
       "      <td>0</td>\n",
       "    </tr>\n",
       "    <tr>\n",
       "      <th>2</th>\n",
       "      <td>1</td>\n",
       "    </tr>\n",
       "    <tr>\n",
       "      <th>3</th>\n",
       "      <td>0</td>\n",
       "    </tr>\n",
       "    <tr>\n",
       "      <th>4</th>\n",
       "      <td>1</td>\n",
       "    </tr>\n",
       "    <tr>\n",
       "      <th>...</th>\n",
       "      <td>...</td>\n",
       "    </tr>\n",
       "    <tr>\n",
       "      <th>24346</th>\n",
       "      <td>0</td>\n",
       "    </tr>\n",
       "    <tr>\n",
       "      <th>24347</th>\n",
       "      <td>0</td>\n",
       "    </tr>\n",
       "    <tr>\n",
       "      <th>24348</th>\n",
       "      <td>0</td>\n",
       "    </tr>\n",
       "    <tr>\n",
       "      <th>24349</th>\n",
       "      <td>0</td>\n",
       "    </tr>\n",
       "    <tr>\n",
       "      <th>24350</th>\n",
       "      <td>1</td>\n",
       "    </tr>\n",
       "  </tbody>\n",
       "</table>\n",
       "<p>24351 rows × 1 columns</p>\n",
       "</div>"
      ],
      "text/plain": [
       "       FaixaTempoExercicio\n",
       "0                        1\n",
       "1                        0\n",
       "2                        1\n",
       "3                        0\n",
       "4                        1\n",
       "...                    ...\n",
       "24346                    0\n",
       "24347                    0\n",
       "24348                    0\n",
       "24349                    0\n",
       "24350                    1\n",
       "\n",
       "[24351 rows x 1 columns]"
      ]
     },
     "execution_count": 1519,
     "metadata": {},
     "output_type": "execute_result"
    }
   ],
   "source": [
    "df[['FaixaTempoExercicio']]"
   ]
  },
  {
   "cell_type": "code",
   "execution_count": 1520,
   "id": "07eb4049",
   "metadata": {},
   "outputs": [],
   "source": [
    "df = df.drop(columns=['P034', 'P035', 'P03701', 'P03702', 'TempoExercicioHoras'])"
   ]
  },
  {
   "cell_type": "markdown",
   "id": "97ad73e0",
   "metadata": {},
   "source": [
    "### Hábito de fumar / tabagismo"
   ]
  },
  {
   "cell_type": "markdown",
   "id": "4cca82db",
   "metadata": {},
   "source": [
    "1. P050: Atualmente, o(a) Sr(a) fuma algum produto do tabaco? \n",
    "2. P051: E no passado, o(a) Sr(a) fumou algum produto do tabaco diariamente?\n",
    "3. P052: E no passado, o(a) Sr(a) fumou algum produto do tabaco?\n",
    "4. P053:  Que idade o(a) Sr(a) tinha quando começou a fumar produto do tabaco diariamente?"
   ]
  },
  {
   "cell_type": "markdown",
   "id": "7b0d3a0a",
   "metadata": {},
   "source": [
    "    P050 (Fuma atualmente)\n",
    "\n",
    "1 = Sim, diariamente → usa P053\n",
    "\n",
    "2 = Sim, menos que diariamente → verifica P051\n",
    "\n",
    "3 = Não fuma atualmente → verifica P052\n",
    "\n",
    "    P051 (Fumou diariamente no passado)\n",
    "\n",
    "1 = Sim → usa P053\n",
    "\n",
    "2 = Não → considera como não fumante diário\n",
    "\n",
    "    P052 (Já fumou alguma vez)\n",
    "\n",
    "1 = Sim → usa P053\n",
    "\n",
    "2 ou 3 = Não fumou"
   ]
  },
  {
   "cell_type": "code",
   "execution_count": 1521,
   "id": "30fbdf99",
   "metadata": {},
   "outputs": [
    {
     "name": "stdout",
     "output_type": "stream",
     "text": [
      "Inicio_tabagismo\n",
      "Não fuma                14010\n",
      "Início antes dos 18      6739\n",
      "Início entre 18 e 30     3228\n",
      "Início após os 30         374\n",
      "Name: count, dtype: int64\n",
      "Valores faltantes: 0\n"
     ]
    }
   ],
   "source": [
    "def categorizar_inicio_fumo(row):\n",
    "    p50 = row['P050']\n",
    "    p51 = row['P051']\n",
    "    p52 = row['P052']\n",
    "    p53 = row['P053']  # idade de início\n",
    "\n",
    "    # Fuma diariamente atualmente\n",
    "    if p50 == 1:\n",
    "        idade = p53\n",
    "\n",
    "    # Fuma menos que diariamente → verifica se já fumou diariamente\n",
    "    elif p50 == 2:\n",
    "        if p51 == 1:\n",
    "            idade = p53\n",
    "        else:\n",
    "            return 'Não fuma' \n",
    "\n",
    "    # Não fuma atualmente → verifica se já fumou algum dia\n",
    "    elif p50 == 3:\n",
    "        if p52 == 1:\n",
    "            idade = p53\n",
    "        else:\n",
    "            return 'Não fuma'\n",
    "\n",
    "    else:\n",
    "        return 'Sem informação'  # Resposta inválida ou faltante\n",
    "\n",
    "    # Categoriza com base na idade de início\n",
    "    if pd.notna(idade):\n",
    "        if idade < 18:\n",
    "            return 'Início antes dos 18'\n",
    "        elif 18 <= idade <= 30:\n",
    "            return 'Início entre 18 e 30'\n",
    "        elif idade > 30:\n",
    "            return 'Início após os 30'\n",
    "    return 'Sem informação'  # idade ausente\n",
    "\n",
    "df['Inicio_tabagismo'] = df.apply(categorizar_inicio_fumo, axis=1)\n",
    "\n",
    "print(df['Inicio_tabagismo'].value_counts(dropna=False))\n",
    "print(f\"Valores faltantes: {df['Inicio_tabagismo'].isna().sum()}\")\n"
   ]
  },
  {
   "cell_type": "code",
   "execution_count": 1522,
   "id": "daaa7c53",
   "metadata": {},
   "outputs": [
    {
     "data": {
      "application/vnd.microsoft.datawrangler.viewer.v0+json": {
       "columns": [
        {
         "name": "index",
         "rawType": "int64",
         "type": "integer"
        },
        {
         "name": "Inicio_tabagismo",
         "rawType": "object",
         "type": "string"
        }
       ],
       "conversionMethod": "pd.DataFrame",
       "ref": "5584af97-dcdc-46fc-a58d-92f1d85e7bea",
       "rows": [
        [
         "0",
         "Início antes dos 18"
        ],
        [
         "1",
         "Não fuma"
        ],
        [
         "2",
         "Não fuma"
        ],
        [
         "3",
         "Início antes dos 18"
        ],
        [
         "4",
         "Não fuma"
        ],
        [
         "5",
         "Não fuma"
        ],
        [
         "6",
         "Não fuma"
        ],
        [
         "7",
         "Não fuma"
        ],
        [
         "8",
         "Não fuma"
        ],
        [
         "9",
         "Não fuma"
        ],
        [
         "10",
         "Não fuma"
        ],
        [
         "11",
         "Início entre 18 e 30"
        ],
        [
         "12",
         "Não fuma"
        ],
        [
         "13",
         "Início entre 18 e 30"
        ],
        [
         "14",
         "Não fuma"
        ],
        [
         "15",
         "Início antes dos 18"
        ],
        [
         "16",
         "Não fuma"
        ],
        [
         "17",
         "Não fuma"
        ],
        [
         "18",
         "Não fuma"
        ],
        [
         "19",
         "Não fuma"
        ],
        [
         "20",
         "Não fuma"
        ],
        [
         "21",
         "Não fuma"
        ],
        [
         "22",
         "Não fuma"
        ],
        [
         "23",
         "Início entre 18 e 30"
        ],
        [
         "24",
         "Início entre 18 e 30"
        ],
        [
         "25",
         "Não fuma"
        ],
        [
         "26",
         "Início após os 30"
        ],
        [
         "27",
         "Início antes dos 18"
        ],
        [
         "28",
         "Não fuma"
        ],
        [
         "29",
         "Início antes dos 18"
        ],
        [
         "30",
         "Início entre 18 e 30"
        ],
        [
         "31",
         "Não fuma"
        ],
        [
         "32",
         "Início antes dos 18"
        ],
        [
         "33",
         "Não fuma"
        ],
        [
         "34",
         "Não fuma"
        ],
        [
         "35",
         "Início antes dos 18"
        ],
        [
         "36",
         "Não fuma"
        ],
        [
         "37",
         "Não fuma"
        ],
        [
         "38",
         "Não fuma"
        ],
        [
         "39",
         "Início entre 18 e 30"
        ],
        [
         "40",
         "Não fuma"
        ],
        [
         "41",
         "Não fuma"
        ],
        [
         "42",
         "Início antes dos 18"
        ],
        [
         "43",
         "Não fuma"
        ],
        [
         "44",
         "Não fuma"
        ],
        [
         "45",
         "Não fuma"
        ],
        [
         "46",
         "Não fuma"
        ],
        [
         "47",
         "Não fuma"
        ],
        [
         "48",
         "Não fuma"
        ],
        [
         "49",
         "Início entre 18 e 30"
        ]
       ],
       "shape": {
        "columns": 1,
        "rows": 24351
       }
      },
      "text/html": [
       "<div>\n",
       "<style scoped>\n",
       "    .dataframe tbody tr th:only-of-type {\n",
       "        vertical-align: middle;\n",
       "    }\n",
       "\n",
       "    .dataframe tbody tr th {\n",
       "        vertical-align: top;\n",
       "    }\n",
       "\n",
       "    .dataframe thead th {\n",
       "        text-align: right;\n",
       "    }\n",
       "</style>\n",
       "<table border=\"1\" class=\"dataframe\">\n",
       "  <thead>\n",
       "    <tr style=\"text-align: right;\">\n",
       "      <th></th>\n",
       "      <th>Inicio_tabagismo</th>\n",
       "    </tr>\n",
       "  </thead>\n",
       "  <tbody>\n",
       "    <tr>\n",
       "      <th>0</th>\n",
       "      <td>Início antes dos 18</td>\n",
       "    </tr>\n",
       "    <tr>\n",
       "      <th>1</th>\n",
       "      <td>Não fuma</td>\n",
       "    </tr>\n",
       "    <tr>\n",
       "      <th>2</th>\n",
       "      <td>Não fuma</td>\n",
       "    </tr>\n",
       "    <tr>\n",
       "      <th>3</th>\n",
       "      <td>Início antes dos 18</td>\n",
       "    </tr>\n",
       "    <tr>\n",
       "      <th>4</th>\n",
       "      <td>Não fuma</td>\n",
       "    </tr>\n",
       "    <tr>\n",
       "      <th>...</th>\n",
       "      <td>...</td>\n",
       "    </tr>\n",
       "    <tr>\n",
       "      <th>24346</th>\n",
       "      <td>Não fuma</td>\n",
       "    </tr>\n",
       "    <tr>\n",
       "      <th>24347</th>\n",
       "      <td>Não fuma</td>\n",
       "    </tr>\n",
       "    <tr>\n",
       "      <th>24348</th>\n",
       "      <td>Início entre 18 e 30</td>\n",
       "    </tr>\n",
       "    <tr>\n",
       "      <th>24349</th>\n",
       "      <td>Início após os 30</td>\n",
       "    </tr>\n",
       "    <tr>\n",
       "      <th>24350</th>\n",
       "      <td>Não fuma</td>\n",
       "    </tr>\n",
       "  </tbody>\n",
       "</table>\n",
       "<p>24351 rows × 1 columns</p>\n",
       "</div>"
      ],
      "text/plain": [
       "           Inicio_tabagismo\n",
       "0       Início antes dos 18\n",
       "1                  Não fuma\n",
       "2                  Não fuma\n",
       "3       Início antes dos 18\n",
       "4                  Não fuma\n",
       "...                     ...\n",
       "24346              Não fuma\n",
       "24347              Não fuma\n",
       "24348  Início entre 18 e 30\n",
       "24349     Início após os 30\n",
       "24350              Não fuma\n",
       "\n",
       "[24351 rows x 1 columns]"
      ]
     },
     "execution_count": 1522,
     "metadata": {},
     "output_type": "execute_result"
    }
   ],
   "source": [
    "df[[\"Inicio_tabagismo\"]]"
   ]
  },
  {
   "cell_type": "code",
   "execution_count": 1523,
   "id": "a49cb170",
   "metadata": {},
   "outputs": [],
   "source": [
    "# Mapeamento explícito\n",
    "mapeamento = {\n",
    "    \"Não fuma\": 0,\n",
    "    \"Início antes dos 18\": 1,\n",
    "    \"Início entre 18 e 30\": 2,\n",
    "    \"Início após os 30\": 3\n",
    "}\n",
    "\n",
    "# Aplicando o mapeamento\n",
    "df[\"Inicio_tabagismo\"] = df[\"Inicio_tabagismo\"].replace(mapeamento).astype(int)"
   ]
  },
  {
   "cell_type": "code",
   "execution_count": 1524,
   "id": "9c24180c",
   "metadata": {},
   "outputs": [
    {
     "data": {
      "application/vnd.microsoft.datawrangler.viewer.v0+json": {
       "columns": [
        {
         "name": "index",
         "rawType": "int64",
         "type": "integer"
        },
        {
         "name": "Inicio_tabagismo",
         "rawType": "int64",
         "type": "integer"
        }
       ],
       "conversionMethod": "pd.DataFrame",
       "ref": "2b9912b9-6a5d-424e-85df-2b565ff0e4cd",
       "rows": [
        [
         "0",
         "1"
        ],
        [
         "1",
         "0"
        ],
        [
         "2",
         "0"
        ],
        [
         "3",
         "1"
        ],
        [
         "4",
         "0"
        ],
        [
         "5",
         "0"
        ],
        [
         "6",
         "0"
        ],
        [
         "7",
         "0"
        ],
        [
         "8",
         "0"
        ],
        [
         "9",
         "0"
        ],
        [
         "10",
         "0"
        ],
        [
         "11",
         "2"
        ],
        [
         "12",
         "0"
        ],
        [
         "13",
         "2"
        ],
        [
         "14",
         "0"
        ],
        [
         "15",
         "1"
        ],
        [
         "16",
         "0"
        ],
        [
         "17",
         "0"
        ],
        [
         "18",
         "0"
        ],
        [
         "19",
         "0"
        ],
        [
         "20",
         "0"
        ],
        [
         "21",
         "0"
        ],
        [
         "22",
         "0"
        ],
        [
         "23",
         "2"
        ],
        [
         "24",
         "2"
        ],
        [
         "25",
         "0"
        ],
        [
         "26",
         "3"
        ],
        [
         "27",
         "1"
        ],
        [
         "28",
         "0"
        ],
        [
         "29",
         "1"
        ],
        [
         "30",
         "2"
        ],
        [
         "31",
         "0"
        ],
        [
         "32",
         "1"
        ],
        [
         "33",
         "0"
        ],
        [
         "34",
         "0"
        ],
        [
         "35",
         "1"
        ],
        [
         "36",
         "0"
        ],
        [
         "37",
         "0"
        ],
        [
         "38",
         "0"
        ],
        [
         "39",
         "2"
        ],
        [
         "40",
         "0"
        ],
        [
         "41",
         "0"
        ],
        [
         "42",
         "1"
        ],
        [
         "43",
         "0"
        ],
        [
         "44",
         "0"
        ],
        [
         "45",
         "0"
        ],
        [
         "46",
         "0"
        ],
        [
         "47",
         "0"
        ],
        [
         "48",
         "0"
        ],
        [
         "49",
         "2"
        ]
       ],
       "shape": {
        "columns": 1,
        "rows": 24351
       }
      },
      "text/html": [
       "<div>\n",
       "<style scoped>\n",
       "    .dataframe tbody tr th:only-of-type {\n",
       "        vertical-align: middle;\n",
       "    }\n",
       "\n",
       "    .dataframe tbody tr th {\n",
       "        vertical-align: top;\n",
       "    }\n",
       "\n",
       "    .dataframe thead th {\n",
       "        text-align: right;\n",
       "    }\n",
       "</style>\n",
       "<table border=\"1\" class=\"dataframe\">\n",
       "  <thead>\n",
       "    <tr style=\"text-align: right;\">\n",
       "      <th></th>\n",
       "      <th>Inicio_tabagismo</th>\n",
       "    </tr>\n",
       "  </thead>\n",
       "  <tbody>\n",
       "    <tr>\n",
       "      <th>0</th>\n",
       "      <td>1</td>\n",
       "    </tr>\n",
       "    <tr>\n",
       "      <th>1</th>\n",
       "      <td>0</td>\n",
       "    </tr>\n",
       "    <tr>\n",
       "      <th>2</th>\n",
       "      <td>0</td>\n",
       "    </tr>\n",
       "    <tr>\n",
       "      <th>3</th>\n",
       "      <td>1</td>\n",
       "    </tr>\n",
       "    <tr>\n",
       "      <th>4</th>\n",
       "      <td>0</td>\n",
       "    </tr>\n",
       "    <tr>\n",
       "      <th>...</th>\n",
       "      <td>...</td>\n",
       "    </tr>\n",
       "    <tr>\n",
       "      <th>24346</th>\n",
       "      <td>0</td>\n",
       "    </tr>\n",
       "    <tr>\n",
       "      <th>24347</th>\n",
       "      <td>0</td>\n",
       "    </tr>\n",
       "    <tr>\n",
       "      <th>24348</th>\n",
       "      <td>2</td>\n",
       "    </tr>\n",
       "    <tr>\n",
       "      <th>24349</th>\n",
       "      <td>3</td>\n",
       "    </tr>\n",
       "    <tr>\n",
       "      <th>24350</th>\n",
       "      <td>0</td>\n",
       "    </tr>\n",
       "  </tbody>\n",
       "</table>\n",
       "<p>24351 rows × 1 columns</p>\n",
       "</div>"
      ],
      "text/plain": [
       "       Inicio_tabagismo\n",
       "0                     1\n",
       "1                     0\n",
       "2                     0\n",
       "3                     1\n",
       "4                     0\n",
       "...                 ...\n",
       "24346                 0\n",
       "24347                 0\n",
       "24348                 2\n",
       "24349                 3\n",
       "24350                 0\n",
       "\n",
       "[24351 rows x 1 columns]"
      ]
     },
     "execution_count": 1524,
     "metadata": {},
     "output_type": "execute_result"
    }
   ],
   "source": [
    "df[[\"Inicio_tabagismo\"]]"
   ]
  },
  {
   "cell_type": "markdown",
   "id": "428feecd",
   "metadata": {},
   "source": [
    " P59. Há quanto tempo o(a) Sr(a) parou de fumar?\n",
    "\n",
    "5. P05901 - Anos\n",
    "6. P05902 - Meses\n",
    "7. P05903 - Semanas\n",
    "8. P05904 - Dias"
   ]
  },
  {
   "cell_type": "code",
   "execution_count": 1525,
   "id": "390108a0",
   "metadata": {},
   "outputs": [
    {
     "name": "stdout",
     "output_type": "stream",
     "text": [
      "Tempo_parou_fumar\n",
      "Nunca fumou        13025\n",
      ">5 anos             7045\n",
      "Fumante atual       3233\n",
      "1-5 anos             827\n",
      "1-6 meses            134\n",
      "6-12 meses            65\n",
      "Parou há <1 mês       22\n",
      "Name: count, dtype: int64\n",
      "Valores faltantes: 0\n"
     ]
    }
   ],
   "source": [
    "def tempo_parou_fumar(row):\n",
    "    # Fumante atual\n",
    "    if row['P050'] in [1, 2]:\n",
    "        return 'Fumante atual'\n",
    "\n",
    "    # Nunca fumou\n",
    "    if row['P052'] == 3:\n",
    "        return 'Nunca fumou'\n",
    "\n",
    "    # Ex-fumante: calcular tempo total em meses\n",
    "    if row['P052'] in [1, 2]:\n",
    "        anos = row.get('P05901', 0) or 0\n",
    "        meses = row.get('P05902', 0) or 0\n",
    "        semanas = row.get('P05903', 0) or 0\n",
    "        dias = row.get('P05904', 0) or 0\n",
    "\n",
    "        total_meses = anos * 12 + meses + (semanas / 4.345) + (dias / 30)\n",
    "\n",
    "        if pd.isna(total_meses):\n",
    "            return pd.NA\n",
    "\n",
    "        if total_meses < 1:\n",
    "            return 'Parou há <1 mês'\n",
    "        elif total_meses < 6:\n",
    "            return '1-6 meses'\n",
    "        elif total_meses < 12:\n",
    "            return '6-12 meses'\n",
    "        elif total_meses < 60:\n",
    "            return '1-5 anos'\n",
    "        else:\n",
    "            return '>5 anos'\n",
    "\n",
    "    return pd.NA\n",
    "\n",
    "\n",
    "df['Tempo_parou_fumar'] = df.apply(tempo_parou_fumar, axis=1)\n",
    "\n",
    "print(df['Tempo_parou_fumar'].value_counts(dropna=False))\n",
    "print(f\"Valores faltantes: {df['Tempo_parou_fumar'].isna().sum()}\")"
   ]
  },
  {
   "cell_type": "code",
   "execution_count": 1526,
   "id": "a2b955c8",
   "metadata": {},
   "outputs": [
    {
     "data": {
      "application/vnd.microsoft.datawrangler.viewer.v0+json": {
       "columns": [
        {
         "name": "index",
         "rawType": "int64",
         "type": "integer"
        },
        {
         "name": "Tempo_parou_fumar",
         "rawType": "object",
         "type": "string"
        }
       ],
       "conversionMethod": "pd.DataFrame",
       "ref": "a2d24fa7-e535-411a-9f84-27abd595f344",
       "rows": [
        [
         "0",
         ">5 anos"
        ],
        [
         "1",
         "Nunca fumou"
        ],
        [
         "2",
         ">5 anos"
        ],
        [
         "3",
         ">5 anos"
        ],
        [
         "4",
         "Nunca fumou"
        ],
        [
         "5",
         "Nunca fumou"
        ],
        [
         "6",
         "1-5 anos"
        ],
        [
         "7",
         "Nunca fumou"
        ],
        [
         "8",
         "Nunca fumou"
        ],
        [
         "9",
         "Nunca fumou"
        ],
        [
         "10",
         "Nunca fumou"
        ],
        [
         "11",
         ">5 anos"
        ],
        [
         "12",
         ">5 anos"
        ],
        [
         "13",
         ">5 anos"
        ],
        [
         "14",
         "Nunca fumou"
        ],
        [
         "15",
         "1-6 meses"
        ],
        [
         "16",
         "Nunca fumou"
        ],
        [
         "17",
         "Nunca fumou"
        ],
        [
         "18",
         "Nunca fumou"
        ],
        [
         "19",
         "Nunca fumou"
        ],
        [
         "20",
         "Nunca fumou"
        ],
        [
         "21",
         "Nunca fumou"
        ],
        [
         "22",
         "Nunca fumou"
        ],
        [
         "23",
         ">5 anos"
        ],
        [
         "24",
         "Fumante atual"
        ],
        [
         "25",
         ">5 anos"
        ],
        [
         "26",
         ">5 anos"
        ],
        [
         "27",
         ">5 anos"
        ],
        [
         "28",
         "Nunca fumou"
        ],
        [
         "29",
         ">5 anos"
        ],
        [
         "30",
         "Fumante atual"
        ],
        [
         "31",
         "Nunca fumou"
        ],
        [
         "32",
         "Fumante atual"
        ],
        [
         "33",
         "Nunca fumou"
        ],
        [
         "34",
         "Nunca fumou"
        ],
        [
         "35",
         "Fumante atual"
        ],
        [
         "36",
         ">5 anos"
        ],
        [
         "37",
         "Nunca fumou"
        ],
        [
         "38",
         "Nunca fumou"
        ],
        [
         "39",
         ">5 anos"
        ],
        [
         "40",
         "Nunca fumou"
        ],
        [
         "41",
         "Nunca fumou"
        ],
        [
         "42",
         "Fumante atual"
        ],
        [
         "43",
         "1-5 anos"
        ],
        [
         "44",
         "Nunca fumou"
        ],
        [
         "45",
         "Nunca fumou"
        ],
        [
         "46",
         ">5 anos"
        ],
        [
         "47",
         "Nunca fumou"
        ],
        [
         "48",
         "Nunca fumou"
        ],
        [
         "49",
         ">5 anos"
        ]
       ],
       "shape": {
        "columns": 1,
        "rows": 24351
       }
      },
      "text/html": [
       "<div>\n",
       "<style scoped>\n",
       "    .dataframe tbody tr th:only-of-type {\n",
       "        vertical-align: middle;\n",
       "    }\n",
       "\n",
       "    .dataframe tbody tr th {\n",
       "        vertical-align: top;\n",
       "    }\n",
       "\n",
       "    .dataframe thead th {\n",
       "        text-align: right;\n",
       "    }\n",
       "</style>\n",
       "<table border=\"1\" class=\"dataframe\">\n",
       "  <thead>\n",
       "    <tr style=\"text-align: right;\">\n",
       "      <th></th>\n",
       "      <th>Tempo_parou_fumar</th>\n",
       "    </tr>\n",
       "  </thead>\n",
       "  <tbody>\n",
       "    <tr>\n",
       "      <th>0</th>\n",
       "      <td>&gt;5 anos</td>\n",
       "    </tr>\n",
       "    <tr>\n",
       "      <th>1</th>\n",
       "      <td>Nunca fumou</td>\n",
       "    </tr>\n",
       "    <tr>\n",
       "      <th>2</th>\n",
       "      <td>&gt;5 anos</td>\n",
       "    </tr>\n",
       "    <tr>\n",
       "      <th>3</th>\n",
       "      <td>&gt;5 anos</td>\n",
       "    </tr>\n",
       "    <tr>\n",
       "      <th>4</th>\n",
       "      <td>Nunca fumou</td>\n",
       "    </tr>\n",
       "    <tr>\n",
       "      <th>...</th>\n",
       "      <td>...</td>\n",
       "    </tr>\n",
       "    <tr>\n",
       "      <th>24346</th>\n",
       "      <td>Nunca fumou</td>\n",
       "    </tr>\n",
       "    <tr>\n",
       "      <th>24347</th>\n",
       "      <td>Nunca fumou</td>\n",
       "    </tr>\n",
       "    <tr>\n",
       "      <th>24348</th>\n",
       "      <td>Fumante atual</td>\n",
       "    </tr>\n",
       "    <tr>\n",
       "      <th>24349</th>\n",
       "      <td>Fumante atual</td>\n",
       "    </tr>\n",
       "    <tr>\n",
       "      <th>24350</th>\n",
       "      <td>Nunca fumou</td>\n",
       "    </tr>\n",
       "  </tbody>\n",
       "</table>\n",
       "<p>24351 rows × 1 columns</p>\n",
       "</div>"
      ],
      "text/plain": [
       "      Tempo_parou_fumar\n",
       "0               >5 anos\n",
       "1           Nunca fumou\n",
       "2               >5 anos\n",
       "3               >5 anos\n",
       "4           Nunca fumou\n",
       "...                 ...\n",
       "24346       Nunca fumou\n",
       "24347       Nunca fumou\n",
       "24348     Fumante atual\n",
       "24349     Fumante atual\n",
       "24350       Nunca fumou\n",
       "\n",
       "[24351 rows x 1 columns]"
      ]
     },
     "execution_count": 1526,
     "metadata": {},
     "output_type": "execute_result"
    }
   ],
   "source": [
    "df[[\"Tempo_parou_fumar\"]]"
   ]
  },
  {
   "cell_type": "code",
   "execution_count": 1527,
   "id": "a03c04f8",
   "metadata": {},
   "outputs": [],
   "source": [
    "# Mapeamento explícito\n",
    "mapeamento = {\n",
    "    \"Nunca fumou\": 0,\n",
    "    \"Fumante atual\": 1,\n",
    "    \"Parou há <1 mês\": 2,\n",
    "    \"1-6 meses\": 3,\n",
    "    \"6-12 meses\": 4,\n",
    "    \"1-5 anos\": 5,\n",
    "    \">5 anos\": 6\n",
    "}\n",
    "\n",
    "# Aplicando o mapeamento\n",
    "df[\"Tempo_parou_fumar\"] = df[\"Tempo_parou_fumar\"].replace(mapeamento).astype(int)"
   ]
  },
  {
   "cell_type": "code",
   "execution_count": 1528,
   "id": "0182fa4e",
   "metadata": {},
   "outputs": [
    {
     "data": {
      "application/vnd.microsoft.datawrangler.viewer.v0+json": {
       "columns": [
        {
         "name": "index",
         "rawType": "int64",
         "type": "integer"
        },
        {
         "name": "Tempo_parou_fumar",
         "rawType": "int64",
         "type": "integer"
        }
       ],
       "conversionMethod": "pd.DataFrame",
       "ref": "1ac9f17a-13c3-4f04-8582-52f65b666669",
       "rows": [
        [
         "0",
         "6"
        ],
        [
         "1",
         "0"
        ],
        [
         "2",
         "6"
        ],
        [
         "3",
         "6"
        ],
        [
         "4",
         "0"
        ],
        [
         "5",
         "0"
        ],
        [
         "6",
         "5"
        ],
        [
         "7",
         "0"
        ],
        [
         "8",
         "0"
        ],
        [
         "9",
         "0"
        ],
        [
         "10",
         "0"
        ],
        [
         "11",
         "6"
        ],
        [
         "12",
         "6"
        ],
        [
         "13",
         "6"
        ],
        [
         "14",
         "0"
        ],
        [
         "15",
         "3"
        ],
        [
         "16",
         "0"
        ],
        [
         "17",
         "0"
        ],
        [
         "18",
         "0"
        ],
        [
         "19",
         "0"
        ],
        [
         "20",
         "0"
        ],
        [
         "21",
         "0"
        ],
        [
         "22",
         "0"
        ],
        [
         "23",
         "6"
        ],
        [
         "24",
         "1"
        ],
        [
         "25",
         "6"
        ],
        [
         "26",
         "6"
        ],
        [
         "27",
         "6"
        ],
        [
         "28",
         "0"
        ],
        [
         "29",
         "6"
        ],
        [
         "30",
         "1"
        ],
        [
         "31",
         "0"
        ],
        [
         "32",
         "1"
        ],
        [
         "33",
         "0"
        ],
        [
         "34",
         "0"
        ],
        [
         "35",
         "1"
        ],
        [
         "36",
         "6"
        ],
        [
         "37",
         "0"
        ],
        [
         "38",
         "0"
        ],
        [
         "39",
         "6"
        ],
        [
         "40",
         "0"
        ],
        [
         "41",
         "0"
        ],
        [
         "42",
         "1"
        ],
        [
         "43",
         "5"
        ],
        [
         "44",
         "0"
        ],
        [
         "45",
         "0"
        ],
        [
         "46",
         "6"
        ],
        [
         "47",
         "0"
        ],
        [
         "48",
         "0"
        ],
        [
         "49",
         "6"
        ]
       ],
       "shape": {
        "columns": 1,
        "rows": 24351
       }
      },
      "text/html": [
       "<div>\n",
       "<style scoped>\n",
       "    .dataframe tbody tr th:only-of-type {\n",
       "        vertical-align: middle;\n",
       "    }\n",
       "\n",
       "    .dataframe tbody tr th {\n",
       "        vertical-align: top;\n",
       "    }\n",
       "\n",
       "    .dataframe thead th {\n",
       "        text-align: right;\n",
       "    }\n",
       "</style>\n",
       "<table border=\"1\" class=\"dataframe\">\n",
       "  <thead>\n",
       "    <tr style=\"text-align: right;\">\n",
       "      <th></th>\n",
       "      <th>Tempo_parou_fumar</th>\n",
       "    </tr>\n",
       "  </thead>\n",
       "  <tbody>\n",
       "    <tr>\n",
       "      <th>0</th>\n",
       "      <td>6</td>\n",
       "    </tr>\n",
       "    <tr>\n",
       "      <th>1</th>\n",
       "      <td>0</td>\n",
       "    </tr>\n",
       "    <tr>\n",
       "      <th>2</th>\n",
       "      <td>6</td>\n",
       "    </tr>\n",
       "    <tr>\n",
       "      <th>3</th>\n",
       "      <td>6</td>\n",
       "    </tr>\n",
       "    <tr>\n",
       "      <th>4</th>\n",
       "      <td>0</td>\n",
       "    </tr>\n",
       "    <tr>\n",
       "      <th>...</th>\n",
       "      <td>...</td>\n",
       "    </tr>\n",
       "    <tr>\n",
       "      <th>24346</th>\n",
       "      <td>0</td>\n",
       "    </tr>\n",
       "    <tr>\n",
       "      <th>24347</th>\n",
       "      <td>0</td>\n",
       "    </tr>\n",
       "    <tr>\n",
       "      <th>24348</th>\n",
       "      <td>1</td>\n",
       "    </tr>\n",
       "    <tr>\n",
       "      <th>24349</th>\n",
       "      <td>1</td>\n",
       "    </tr>\n",
       "    <tr>\n",
       "      <th>24350</th>\n",
       "      <td>0</td>\n",
       "    </tr>\n",
       "  </tbody>\n",
       "</table>\n",
       "<p>24351 rows × 1 columns</p>\n",
       "</div>"
      ],
      "text/plain": [
       "       Tempo_parou_fumar\n",
       "0                      6\n",
       "1                      0\n",
       "2                      6\n",
       "3                      6\n",
       "4                      0\n",
       "...                  ...\n",
       "24346                  0\n",
       "24347                  0\n",
       "24348                  1\n",
       "24349                  1\n",
       "24350                  0\n",
       "\n",
       "[24351 rows x 1 columns]"
      ]
     },
     "execution_count": 1528,
     "metadata": {},
     "output_type": "execute_result"
    }
   ],
   "source": [
    "df[[\"Tempo_parou_fumar\"]]"
   ]
  },
  {
   "cell_type": "markdown",
   "id": "a4c49d1c",
   "metadata": {},
   "source": [
    "9. Cigarros industrializados (P05401)\n",
    "10. Cigarros de palha ou enrolados (P05404)\n",
    "11. Cigarros de cravo ou Bali (P05407)\n",
    "12. Cachimbo (P05410)\n",
    "13. Charutos ou cigarrilhas (P05413)\n",
    "14. Narguilé (P05416)\n",
    "15. Outro (P05419)"
   ]
  },
  {
   "cell_type": "code",
   "execution_count": 1529,
   "id": "f8e65330",
   "metadata": {},
   "outputs": [
    {
     "name": "stdout",
     "output_type": "stream",
     "text": [
      "Intensidade_fumo\n",
      "0.0     21118\n",
      "7.0      2509\n",
      "14.0      266\n",
      "3.0       199\n",
      "8.0        63\n",
      "7.3        53\n",
      "1.0        49\n",
      "10.0       39\n",
      "0.3        20\n",
      "6.0        12\n",
      "2.0         5\n",
      "21.0        5\n",
      "4.0         3\n",
      "0.6         2\n",
      "3.3         2\n",
      "21.3        1\n",
      "9.0         1\n",
      "0.9         1\n",
      "7.9         1\n",
      "14.3        1\n",
      "7.6         1\n",
      "Name: count, dtype: int64\n",
      "Valores faltantes: 0\n"
     ]
    }
   ],
   "source": [
    "# Dicionário de conversão de respostas (média ponderada semanal)\n",
    "pesos_fumo = {\n",
    "    1: 7.0,   # diariamente\n",
    "    2: 3.0,   # semanalmente\n",
    "    3: 1.0,   # menos de 1 vez/semana\n",
    "    4: 0.3,   # menos de 1 por mês\n",
    "    5: 0.0    # não fuma\n",
    "}\n",
    "\n",
    "# Lista dos atributos de frequência\n",
    "colunas_fumo = ['P05401', 'P05404', 'P05407', 'P05410', 'P05413', 'P05416', 'P05419']\n",
    "\n",
    "# Substituir as categorias pelos pesos\n",
    "for col in colunas_fumo:\n",
    "    df[col + '_peso'] = df[col].map(pesos_fumo)\n",
    "\n",
    "# Somar os pesos como uma média ponderada de intensidade semanal\n",
    "df['Intensidade_fumo'] = df[[col + '_peso' for col in colunas_fumo]].sum(axis=1)\n",
    "\n",
    "# Ajustar para quem nunca fumou (do campo anterior, que chamamos de Inicio_tabagismo)\n",
    "df.loc[df['Inicio_tabagismo'] == 'Nunca fumou', 'Intensidade_fumo'] = 0.0\n",
    "\n",
    "# (Opcional) arredondar para facilitar leitura\n",
    "df['Intensidade_fumo'] = df['Intensidade_fumo'].round(1)\n",
    "\n",
    "print(df['Intensidade_fumo'].value_counts(dropna=False))\n",
    "print(f\"Valores faltantes: {df['Intensidade_fumo'].isna().sum()}\")\n"
   ]
  },
  {
   "cell_type": "code",
   "execution_count": 1530,
   "id": "d95bcb51",
   "metadata": {},
   "outputs": [],
   "source": [
    "df = df.drop(columns=['P050', 'P051', 'P052', 'P053', 'P05401', 'P05404', 'P05407', 'P05410', 'P05413', 'P05416', 'P05419', 'P05901', 'P05902', 'P05903', 'P05904', \n",
    "                      'P05401_peso', 'P05404_peso', 'P05407_peso', 'P05410_peso', 'P05413_peso', 'P05416_peso', 'P05419_peso'])"
   ]
  },
  {
   "cell_type": "markdown",
   "id": "fcbeb243",
   "metadata": {},
   "source": [
    "### Atributos sobre doenças cardíacas (módulo Q)"
   ]
  },
  {
   "cell_type": "code",
   "execution_count": 1531,
   "id": "27976ee0",
   "metadata": {},
   "outputs": [],
   "source": [
    "df.loc[df['Q00101'] == 6, 'Q00201'] = 2 #diagnóstico de hipertensão\n",
    "df.loc[df['Q02901'] == 6, 'Q03001'] = 2 #diagnóstico de diabetes\n",
    "df.loc[df['Q05901'] == 6, 'Q060'] = 2 #diagnóstico de colesterol alto"
   ]
  },
  {
   "cell_type": "code",
   "execution_count": 1532,
   "id": "a8b853b1",
   "metadata": {},
   "outputs": [
    {
     "name": "stdout",
     "output_type": "stream",
     "text": [
      "0\n",
      "0\n",
      "0\n"
     ]
    }
   ],
   "source": [
    "print(df['Q00201'].isna().sum())\n",
    "print(df['Q03001'].isna().sum())\n",
    "print(df['Q060'].isna().sum())"
   ]
  },
  {
   "cell_type": "code",
   "execution_count": 1533,
   "id": "b717c76e",
   "metadata": {},
   "outputs": [],
   "source": [
    "df = df.drop(columns=['Q00101', 'Q02901', 'Q05901'])    "
   ]
  },
  {
   "cell_type": "markdown",
   "id": "c44bf762",
   "metadata": {},
   "source": [
    "0 = não tem diagnóstico de doença cardíaca!"
   ]
  },
  {
   "cell_type": "code",
   "execution_count": 1534,
   "id": "bb822a0c",
   "metadata": {},
   "outputs": [],
   "source": [
    "df.loc[df['Q06306'] == 2, 'Q06307'] = 0\n",
    "df.loc[df['Q06306'] == 2, 'Q06308'] = 0\n",
    "df.loc[df['Q06306'] == 2, 'Q06309'] = 0\n",
    "df.loc[df['Q06306'] == 2, 'Q06310'] = 0\n",
    "df.loc[df['Q06306'] == 2, 'Q06311'] = 0\n",
    "df.loc[df['Q06306'] == 2, 'Q064'] = 0\n",
    "df.loc[df['Q06306'] == 2, 'Q06506'] = 0\n",
    "df.loc[df['Q06306'] == 2, 'Q06507'] = 0\n",
    "df.loc[df['Q06306'] == 2, 'Q06508'] = 0\n",
    "df.loc[df['Q06306'] == 2, 'Q06509'] = 0\n",
    "df.loc[df['Q06306'] == 2, 'Q06601'] = 0\n",
    "df.loc[df['Q06306'] == 2, 'Q067'] = 0"
   ]
  },
  {
   "cell_type": "code",
   "execution_count": 1535,
   "id": "7a37bb30",
   "metadata": {},
   "outputs": [
    {
     "name": "stdout",
     "output_type": "stream",
     "text": [
      "0\n",
      "0\n",
      "0\n",
      "0\n",
      "0\n",
      "0\n",
      "0\n",
      "0\n",
      "0\n",
      "0\n",
      "0\n",
      "0\n"
     ]
    }
   ],
   "source": [
    "print(df['Q06307'].isna().sum())\n",
    "print(df['Q06308'].isna().sum())\n",
    "print(df['Q06309'].isna().sum())\n",
    "print(df['Q06310'].isna().sum())\n",
    "print(df['Q06311'].isna().sum())\n",
    "print(df['Q064'].isna().sum())\n",
    "print(df['Q06506'].isna().sum())\n",
    "print(df['Q06507'].isna().sum())\n",
    "print(df['Q06508'].isna().sum())\n",
    "print(df['Q06509'].isna().sum())\n",
    "print(df['Q06601'].isna().sum())\n",
    "print(df['Q067'].isna().sum())"
   ]
  },
  {
   "cell_type": "markdown",
   "id": "77d8852e",
   "metadata": {},
   "source": [
    "### Preenchendo aqui os atributos H003, H004 e H010"
   ]
  },
  {
   "cell_type": "code",
   "execution_count": 1536,
   "id": "13f9c2e1",
   "metadata": {},
   "outputs": [],
   "source": [
    "df.loc[df['H001'].isin([4, 5]), 'H002'] = 0"
   ]
  },
  {
   "cell_type": "code",
   "execution_count": 1537,
   "id": "a10af9ea",
   "metadata": {},
   "outputs": [
    {
     "name": "stdout",
     "output_type": "stream",
     "text": [
      "0\n"
     ]
    }
   ],
   "source": [
    "print(df['H002'].isna().sum())"
   ]
  },
  {
   "cell_type": "code",
   "execution_count": 1538,
   "id": "0f3c41ae",
   "metadata": {},
   "outputs": [],
   "source": [
    "df.loc[(df['H002'].isin([1, 0])), 'H003'] = 0"
   ]
  },
  {
   "cell_type": "code",
   "execution_count": 1539,
   "id": "9ad07316",
   "metadata": {},
   "outputs": [
    {
     "name": "stdout",
     "output_type": "stream",
     "text": [
      "0\n"
     ]
    }
   ],
   "source": [
    "print(df['H003'].isna().sum())"
   ]
  },
  {
   "cell_type": "code",
   "execution_count": 1540,
   "id": "8f00ef2d",
   "metadata": {},
   "outputs": [],
   "source": [
    "df.loc[df['H003'] == 0, 'H004'] = 0"
   ]
  },
  {
   "cell_type": "code",
   "execution_count": 1541,
   "id": "0026e850",
   "metadata": {},
   "outputs": [
    {
     "name": "stdout",
     "output_type": "stream",
     "text": [
      "0\n"
     ]
    }
   ],
   "source": [
    "print(df['H004'].isna().sum())"
   ]
  },
  {
   "cell_type": "code",
   "execution_count": 1542,
   "id": "4da78cd2",
   "metadata": {},
   "outputs": [],
   "source": [
    "df.loc[df['H004'] != 1, 'H010'] = 0"
   ]
  },
  {
   "cell_type": "code",
   "execution_count": 1543,
   "id": "72ba3f46",
   "metadata": {},
   "outputs": [
    {
     "name": "stdout",
     "output_type": "stream",
     "text": [
      "0\n"
     ]
    }
   ],
   "source": [
    "print(df['H010'].isna().sum())"
   ]
  },
  {
   "cell_type": "markdown",
   "id": "1f723a43",
   "metadata": {},
   "source": [
    "### Hábito de beber (alcoolismo) - incompleto (só checar)"
   ]
  },
  {
   "cell_type": "markdown",
   "id": "292267a0",
   "metadata": {},
   "source": [
    "1. P027: Com que frequência costuma consumir alguma bebida alcoólica?\n",
    "2. P02801: Quantos dias por semana costuma consumir alguma bebida alcoólica?\n",
    "3. P029:  Em geral, no dia que bebe, quantas doses de bebida alcoólica consome?"
   ]
  },
  {
   "cell_type": "code",
   "execution_count": 1544,
   "id": "07d97984",
   "metadata": {},
   "outputs": [
    {
     "name": "stdout",
     "output_type": "stream",
     "text": [
      "7.0\n",
      "60.0\n"
     ]
    }
   ],
   "source": [
    "print(df['P02801'].max()) # = 7 dias\n",
    "print(df['P029'].max()) # = 60 doses\n",
    "\n",
    "# → Máximo teórico de doses por semana = 7 * 60 = 420 doses"
   ]
  },
  {
   "cell_type": "code",
   "execution_count": 1545,
   "id": "3ffd49aa",
   "metadata": {},
   "outputs": [
    {
     "name": "stdout",
     "output_type": "stream",
     "text": [
      "Quant_doses_alcool_semanal\n",
      "0 doses          17191\n",
      "1 a 5 doses       4070\n",
      "6 a 14 doses      2008\n",
      "15 a 30 doses      785\n",
      "31 a 60 doses      218\n",
      "61+ doses           79\n",
      "Name: count, dtype: int64\n",
      "Valores faltantes: 0\n"
     ]
    }
   ],
   "source": [
    "def calcular_doses_semanais(row):\n",
    "    freq = row['P027']\n",
    "    dias_semana = row['P02801']\n",
    "    doses_por_dia = row['P029']\n",
    "\n",
    "    if freq == 1:\n",
    "        return 0  # Não bebe nunca\n",
    "    elif freq == 2:\n",
    "        return doses_por_dia if pd.notna(doses_por_dia) else pd.NA\n",
    "    elif freq == 3:\n",
    "        if pd.notna(dias_semana) and pd.notna(doses_por_dia):\n",
    "            return dias_semana * doses_por_dia\n",
    "        else:\n",
    "            return pd.NA\n",
    "    return pd.NA\n",
    "\n",
    "def categorizar_doses(doses):\n",
    "    if pd.isna(doses):\n",
    "        return pd.NA\n",
    "    elif doses == 0:\n",
    "        return '0 doses'\n",
    "    elif doses <= 5:\n",
    "        return '1 a 5 doses'\n",
    "    elif doses <= 14:\n",
    "        return '6 a 14 doses'\n",
    "    elif doses <= 30:\n",
    "        return '15 a 30 doses'\n",
    "    elif doses <= 60:\n",
    "        return '31 a 60 doses'\n",
    "    else:\n",
    "        return '61+ doses'\n",
    "\n",
    "df['Doses_semanais'] = df.apply(calcular_doses_semanais, axis=1)\n",
    "df['Quant_doses_alcool_semanal'] = df['Doses_semanais'].apply(categorizar_doses)\n",
    "\n",
    "\n",
    "print(df['Quant_doses_alcool_semanal'].value_counts(dropna=False))\n",
    "print(\"Valores faltantes:\", df['Quant_doses_alcool_semanal'].isna().sum())\n"
   ]
  },
  {
   "cell_type": "code",
   "execution_count": 1546,
   "id": "776147d6",
   "metadata": {},
   "outputs": [
    {
     "data": {
      "application/vnd.microsoft.datawrangler.viewer.v0+json": {
       "columns": [
        {
         "name": "index",
         "rawType": "int64",
         "type": "integer"
        },
        {
         "name": "Quant_doses_alcool_semanal",
         "rawType": "object",
         "type": "string"
        }
       ],
       "conversionMethod": "pd.DataFrame",
       "ref": "45c27a67-c58b-4e31-815a-124eaf3ec6e8",
       "rows": [
        [
         "0",
         "0 doses"
        ],
        [
         "1",
         "0 doses"
        ],
        [
         "2",
         "15 a 30 doses"
        ],
        [
         "3",
         "6 a 14 doses"
        ],
        [
         "4",
         "0 doses"
        ],
        [
         "5",
         "0 doses"
        ],
        [
         "6",
         "0 doses"
        ],
        [
         "7",
         "0 doses"
        ],
        [
         "8",
         "0 doses"
        ],
        [
         "9",
         "0 doses"
        ],
        [
         "10",
         "0 doses"
        ],
        [
         "11",
         "0 doses"
        ],
        [
         "12",
         "0 doses"
        ],
        [
         "13",
         "1 a 5 doses"
        ],
        [
         "14",
         "15 a 30 doses"
        ],
        [
         "15",
         "0 doses"
        ],
        [
         "16",
         "0 doses"
        ],
        [
         "17",
         "0 doses"
        ],
        [
         "18",
         "0 doses"
        ],
        [
         "19",
         "0 doses"
        ],
        [
         "20",
         "0 doses"
        ],
        [
         "21",
         "0 doses"
        ],
        [
         "22",
         "0 doses"
        ],
        [
         "23",
         "0 doses"
        ],
        [
         "24",
         "0 doses"
        ],
        [
         "25",
         "0 doses"
        ],
        [
         "26",
         "0 doses"
        ],
        [
         "27",
         "1 a 5 doses"
        ],
        [
         "28",
         "0 doses"
        ],
        [
         "29",
         "0 doses"
        ],
        [
         "30",
         "0 doses"
        ],
        [
         "31",
         "0 doses"
        ],
        [
         "32",
         "15 a 30 doses"
        ],
        [
         "33",
         "0 doses"
        ],
        [
         "34",
         "0 doses"
        ],
        [
         "35",
         "0 doses"
        ],
        [
         "36",
         "1 a 5 doses"
        ],
        [
         "37",
         "0 doses"
        ],
        [
         "38",
         "0 doses"
        ],
        [
         "39",
         "6 a 14 doses"
        ],
        [
         "40",
         "0 doses"
        ],
        [
         "41",
         "0 doses"
        ],
        [
         "42",
         "6 a 14 doses"
        ],
        [
         "43",
         "0 doses"
        ],
        [
         "44",
         "0 doses"
        ],
        [
         "45",
         "0 doses"
        ],
        [
         "46",
         "61+ doses"
        ],
        [
         "47",
         "0 doses"
        ],
        [
         "48",
         "0 doses"
        ],
        [
         "49",
         "15 a 30 doses"
        ]
       ],
       "shape": {
        "columns": 1,
        "rows": 24351
       }
      },
      "text/html": [
       "<div>\n",
       "<style scoped>\n",
       "    .dataframe tbody tr th:only-of-type {\n",
       "        vertical-align: middle;\n",
       "    }\n",
       "\n",
       "    .dataframe tbody tr th {\n",
       "        vertical-align: top;\n",
       "    }\n",
       "\n",
       "    .dataframe thead th {\n",
       "        text-align: right;\n",
       "    }\n",
       "</style>\n",
       "<table border=\"1\" class=\"dataframe\">\n",
       "  <thead>\n",
       "    <tr style=\"text-align: right;\">\n",
       "      <th></th>\n",
       "      <th>Quant_doses_alcool_semanal</th>\n",
       "    </tr>\n",
       "  </thead>\n",
       "  <tbody>\n",
       "    <tr>\n",
       "      <th>0</th>\n",
       "      <td>0 doses</td>\n",
       "    </tr>\n",
       "    <tr>\n",
       "      <th>1</th>\n",
       "      <td>0 doses</td>\n",
       "    </tr>\n",
       "    <tr>\n",
       "      <th>2</th>\n",
       "      <td>15 a 30 doses</td>\n",
       "    </tr>\n",
       "    <tr>\n",
       "      <th>3</th>\n",
       "      <td>6 a 14 doses</td>\n",
       "    </tr>\n",
       "    <tr>\n",
       "      <th>4</th>\n",
       "      <td>0 doses</td>\n",
       "    </tr>\n",
       "    <tr>\n",
       "      <th>...</th>\n",
       "      <td>...</td>\n",
       "    </tr>\n",
       "    <tr>\n",
       "      <th>24346</th>\n",
       "      <td>6 a 14 doses</td>\n",
       "    </tr>\n",
       "    <tr>\n",
       "      <th>24347</th>\n",
       "      <td>0 doses</td>\n",
       "    </tr>\n",
       "    <tr>\n",
       "      <th>24348</th>\n",
       "      <td>1 a 5 doses</td>\n",
       "    </tr>\n",
       "    <tr>\n",
       "      <th>24349</th>\n",
       "      <td>15 a 30 doses</td>\n",
       "    </tr>\n",
       "    <tr>\n",
       "      <th>24350</th>\n",
       "      <td>0 doses</td>\n",
       "    </tr>\n",
       "  </tbody>\n",
       "</table>\n",
       "<p>24351 rows × 1 columns</p>\n",
       "</div>"
      ],
      "text/plain": [
       "      Quant_doses_alcool_semanal\n",
       "0                        0 doses\n",
       "1                        0 doses\n",
       "2                  15 a 30 doses\n",
       "3                   6 a 14 doses\n",
       "4                        0 doses\n",
       "...                          ...\n",
       "24346               6 a 14 doses\n",
       "24347                    0 doses\n",
       "24348                1 a 5 doses\n",
       "24349              15 a 30 doses\n",
       "24350                    0 doses\n",
       "\n",
       "[24351 rows x 1 columns]"
      ]
     },
     "execution_count": 1546,
     "metadata": {},
     "output_type": "execute_result"
    }
   ],
   "source": [
    "df[[\"Quant_doses_alcool_semanal\"]]"
   ]
  },
  {
   "cell_type": "code",
   "execution_count": 1547,
   "id": "a353fb72",
   "metadata": {},
   "outputs": [],
   "source": [
    "mapeamento = {\n",
    "    \"0 doses\": 0,\n",
    "    \"1 a 5 doses\": 1,\n",
    "    \"6 a 14 doses\": 2,\n",
    "    \"15 a 30 doses\": 3,\n",
    "    \"31 a 60 doses\": 4,\n",
    "    \"61+ doses\": 5\n",
    "}\n",
    "\n",
    "# Aplicando o mapeamento\n",
    "df[\"Quant_doses_alcool_semanal\"] = df[\"Quant_doses_alcool_semanal\"].replace(mapeamento).astype(int)"
   ]
  },
  {
   "cell_type": "code",
   "execution_count": 1548,
   "id": "65a2cd75",
   "metadata": {},
   "outputs": [
    {
     "data": {
      "application/vnd.microsoft.datawrangler.viewer.v0+json": {
       "columns": [
        {
         "name": "index",
         "rawType": "int64",
         "type": "integer"
        },
        {
         "name": "Quant_doses_alcool_semanal",
         "rawType": "int64",
         "type": "integer"
        }
       ],
       "conversionMethod": "pd.DataFrame",
       "ref": "0e78e567-f6d8-4902-bca6-eb0b55573005",
       "rows": [
        [
         "0",
         "0"
        ],
        [
         "1",
         "0"
        ],
        [
         "2",
         "3"
        ],
        [
         "3",
         "2"
        ],
        [
         "4",
         "0"
        ],
        [
         "5",
         "0"
        ],
        [
         "6",
         "0"
        ],
        [
         "7",
         "0"
        ],
        [
         "8",
         "0"
        ],
        [
         "9",
         "0"
        ],
        [
         "10",
         "0"
        ],
        [
         "11",
         "0"
        ],
        [
         "12",
         "0"
        ],
        [
         "13",
         "1"
        ],
        [
         "14",
         "3"
        ],
        [
         "15",
         "0"
        ],
        [
         "16",
         "0"
        ],
        [
         "17",
         "0"
        ],
        [
         "18",
         "0"
        ],
        [
         "19",
         "0"
        ],
        [
         "20",
         "0"
        ],
        [
         "21",
         "0"
        ],
        [
         "22",
         "0"
        ],
        [
         "23",
         "0"
        ],
        [
         "24",
         "0"
        ],
        [
         "25",
         "0"
        ],
        [
         "26",
         "0"
        ],
        [
         "27",
         "1"
        ],
        [
         "28",
         "0"
        ],
        [
         "29",
         "0"
        ],
        [
         "30",
         "0"
        ],
        [
         "31",
         "0"
        ],
        [
         "32",
         "3"
        ],
        [
         "33",
         "0"
        ],
        [
         "34",
         "0"
        ],
        [
         "35",
         "0"
        ],
        [
         "36",
         "1"
        ],
        [
         "37",
         "0"
        ],
        [
         "38",
         "0"
        ],
        [
         "39",
         "2"
        ],
        [
         "40",
         "0"
        ],
        [
         "41",
         "0"
        ],
        [
         "42",
         "2"
        ],
        [
         "43",
         "0"
        ],
        [
         "44",
         "0"
        ],
        [
         "45",
         "0"
        ],
        [
         "46",
         "5"
        ],
        [
         "47",
         "0"
        ],
        [
         "48",
         "0"
        ],
        [
         "49",
         "3"
        ]
       ],
       "shape": {
        "columns": 1,
        "rows": 24351
       }
      },
      "text/html": [
       "<div>\n",
       "<style scoped>\n",
       "    .dataframe tbody tr th:only-of-type {\n",
       "        vertical-align: middle;\n",
       "    }\n",
       "\n",
       "    .dataframe tbody tr th {\n",
       "        vertical-align: top;\n",
       "    }\n",
       "\n",
       "    .dataframe thead th {\n",
       "        text-align: right;\n",
       "    }\n",
       "</style>\n",
       "<table border=\"1\" class=\"dataframe\">\n",
       "  <thead>\n",
       "    <tr style=\"text-align: right;\">\n",
       "      <th></th>\n",
       "      <th>Quant_doses_alcool_semanal</th>\n",
       "    </tr>\n",
       "  </thead>\n",
       "  <tbody>\n",
       "    <tr>\n",
       "      <th>0</th>\n",
       "      <td>0</td>\n",
       "    </tr>\n",
       "    <tr>\n",
       "      <th>1</th>\n",
       "      <td>0</td>\n",
       "    </tr>\n",
       "    <tr>\n",
       "      <th>2</th>\n",
       "      <td>3</td>\n",
       "    </tr>\n",
       "    <tr>\n",
       "      <th>3</th>\n",
       "      <td>2</td>\n",
       "    </tr>\n",
       "    <tr>\n",
       "      <th>4</th>\n",
       "      <td>0</td>\n",
       "    </tr>\n",
       "    <tr>\n",
       "      <th>...</th>\n",
       "      <td>...</td>\n",
       "    </tr>\n",
       "    <tr>\n",
       "      <th>24346</th>\n",
       "      <td>2</td>\n",
       "    </tr>\n",
       "    <tr>\n",
       "      <th>24347</th>\n",
       "      <td>0</td>\n",
       "    </tr>\n",
       "    <tr>\n",
       "      <th>24348</th>\n",
       "      <td>1</td>\n",
       "    </tr>\n",
       "    <tr>\n",
       "      <th>24349</th>\n",
       "      <td>3</td>\n",
       "    </tr>\n",
       "    <tr>\n",
       "      <th>24350</th>\n",
       "      <td>0</td>\n",
       "    </tr>\n",
       "  </tbody>\n",
       "</table>\n",
       "<p>24351 rows × 1 columns</p>\n",
       "</div>"
      ],
      "text/plain": [
       "       Quant_doses_alcool_semanal\n",
       "0                               0\n",
       "1                               0\n",
       "2                               3\n",
       "3                               2\n",
       "4                               0\n",
       "...                           ...\n",
       "24346                           2\n",
       "24347                           0\n",
       "24348                           1\n",
       "24349                           3\n",
       "24350                           0\n",
       "\n",
       "[24351 rows x 1 columns]"
      ]
     },
     "execution_count": 1548,
     "metadata": {},
     "output_type": "execute_result"
    }
   ],
   "source": [
    "df[[\"Quant_doses_alcool_semanal\"]]"
   ]
  },
  {
   "cell_type": "code",
   "execution_count": 1549,
   "id": "64d8e005",
   "metadata": {},
   "outputs": [],
   "source": [
    "df = df.drop(columns=['P027','P02801', 'P029'])"
   ]
  },
  {
   "cell_type": "markdown",
   "id": "6a0c729d",
   "metadata": {},
   "source": [
    "### Peso e altura"
   ]
  },
  {
   "cell_type": "markdown",
   "id": "d813ba84",
   "metadata": {},
   "source": [
    "1. P00103: Peso - Informado (em kg)\n",
    "2. P00104: Peso - Final (em kg)\n",
    "3. P00403: Altura - Informada (em cm)\n",
    "4. P00404: Altura - Final (em cm)"
   ]
  },
  {
   "cell_type": "code",
   "execution_count": 1550,
   "id": "80297b52",
   "metadata": {},
   "outputs": [
    {
     "name": "stdout",
     "output_type": "stream",
     "text": [
      "2172\n",
      "27\n"
     ]
    }
   ],
   "source": [
    "print(df['P00103'].isna().sum())\n",
    "print(df['P00104'].isna().sum())"
   ]
  },
  {
   "cell_type": "code",
   "execution_count": 1551,
   "id": "39010e4b",
   "metadata": {},
   "outputs": [
    {
     "name": "stdout",
     "output_type": "stream",
     "text": [
      "5601\n",
      "27\n"
     ]
    }
   ],
   "source": [
    "print(df['P00403'].isna().sum())\n",
    "print(df['P00404'].isna().sum())"
   ]
  },
  {
   "cell_type": "code",
   "execution_count": 1552,
   "id": "8057cf7d",
   "metadata": {},
   "outputs": [
    {
     "data": {
      "application/vnd.microsoft.datawrangler.viewer.v0+json": {
       "columns": [
        {
         "name": "index",
         "rawType": "int64",
         "type": "integer"
        },
        {
         "name": "P00104",
         "rawType": "float64",
         "type": "float"
        },
        {
         "name": "P00103",
         "rawType": "float64",
         "type": "float"
        }
       ],
       "conversionMethod": "pd.DataFrame",
       "ref": "166128b6-8b83-4569-84eb-a13959bf178b",
       "rows": [],
       "shape": {
        "columns": 2,
        "rows": 0
       }
      },
      "text/html": [
       "<div>\n",
       "<style scoped>\n",
       "    .dataframe tbody tr th:only-of-type {\n",
       "        vertical-align: middle;\n",
       "    }\n",
       "\n",
       "    .dataframe tbody tr th {\n",
       "        vertical-align: top;\n",
       "    }\n",
       "\n",
       "    .dataframe thead th {\n",
       "        text-align: right;\n",
       "    }\n",
       "</style>\n",
       "<table border=\"1\" class=\"dataframe\">\n",
       "  <thead>\n",
       "    <tr style=\"text-align: right;\">\n",
       "      <th></th>\n",
       "      <th>P00104</th>\n",
       "      <th>P00103</th>\n",
       "    </tr>\n",
       "  </thead>\n",
       "  <tbody>\n",
       "  </tbody>\n",
       "</table>\n",
       "</div>"
      ],
      "text/plain": [
       "Empty DataFrame\n",
       "Columns: [P00104, P00103]\n",
       "Index: []"
      ]
     },
     "execution_count": 1552,
     "metadata": {},
     "output_type": "execute_result"
    }
   ],
   "source": [
    "faltantes_iguais = df[(df['P00104'].isna()) & (df['P00103'].notna())][['P00104', 'P00103']]\n",
    "faltantes_iguais"
   ]
  },
  {
   "cell_type": "code",
   "execution_count": 1553,
   "id": "d810f5b5",
   "metadata": {},
   "outputs": [
    {
     "data": {
      "application/vnd.microsoft.datawrangler.viewer.v0+json": {
       "columns": [
        {
         "name": "index",
         "rawType": "int64",
         "type": "integer"
        },
        {
         "name": "P00103",
         "rawType": "float64",
         "type": "float"
        },
        {
         "name": "P00104",
         "rawType": "float64",
         "type": "float"
        }
       ],
       "conversionMethod": "pd.DataFrame",
       "ref": "a352cab0-c7e7-4435-a942-a415a2a21775",
       "rows": [
        [
         "479",
         null,
         null
        ],
        [
         "1722",
         null,
         null
        ],
        [
         "1749",
         null,
         null
        ],
        [
         "1794",
         null,
         null
        ],
        [
         "5239",
         null,
         null
        ],
        [
         "5330",
         null,
         null
        ],
        [
         "6533",
         null,
         null
        ],
        [
         "7441",
         null,
         null
        ],
        [
         "7941",
         null,
         null
        ],
        [
         "9154",
         null,
         null
        ],
        [
         "10613",
         null,
         null
        ],
        [
         "10850",
         null,
         null
        ],
        [
         "11546",
         null,
         null
        ],
        [
         "13656",
         null,
         null
        ],
        [
         "14004",
         null,
         null
        ],
        [
         "14320",
         null,
         null
        ],
        [
         "15312",
         null,
         null
        ],
        [
         "16231",
         null,
         null
        ],
        [
         "16460",
         null,
         null
        ],
        [
         "17829",
         null,
         null
        ],
        [
         "17953",
         null,
         null
        ],
        [
         "19837",
         null,
         null
        ],
        [
         "20840",
         null,
         null
        ],
        [
         "23116",
         null,
         null
        ],
        [
         "23183",
         null,
         null
        ],
        [
         "23508",
         null,
         null
        ],
        [
         "23557",
         null,
         null
        ]
       ],
       "shape": {
        "columns": 2,
        "rows": 27
       }
      },
      "text/html": [
       "<div>\n",
       "<style scoped>\n",
       "    .dataframe tbody tr th:only-of-type {\n",
       "        vertical-align: middle;\n",
       "    }\n",
       "\n",
       "    .dataframe tbody tr th {\n",
       "        vertical-align: top;\n",
       "    }\n",
       "\n",
       "    .dataframe thead th {\n",
       "        text-align: right;\n",
       "    }\n",
       "</style>\n",
       "<table border=\"1\" class=\"dataframe\">\n",
       "  <thead>\n",
       "    <tr style=\"text-align: right;\">\n",
       "      <th></th>\n",
       "      <th>P00103</th>\n",
       "      <th>P00104</th>\n",
       "    </tr>\n",
       "  </thead>\n",
       "  <tbody>\n",
       "    <tr>\n",
       "      <th>479</th>\n",
       "      <td>NaN</td>\n",
       "      <td>NaN</td>\n",
       "    </tr>\n",
       "    <tr>\n",
       "      <th>1722</th>\n",
       "      <td>NaN</td>\n",
       "      <td>NaN</td>\n",
       "    </tr>\n",
       "    <tr>\n",
       "      <th>1749</th>\n",
       "      <td>NaN</td>\n",
       "      <td>NaN</td>\n",
       "    </tr>\n",
       "    <tr>\n",
       "      <th>1794</th>\n",
       "      <td>NaN</td>\n",
       "      <td>NaN</td>\n",
       "    </tr>\n",
       "    <tr>\n",
       "      <th>5239</th>\n",
       "      <td>NaN</td>\n",
       "      <td>NaN</td>\n",
       "    </tr>\n",
       "    <tr>\n",
       "      <th>5330</th>\n",
       "      <td>NaN</td>\n",
       "      <td>NaN</td>\n",
       "    </tr>\n",
       "    <tr>\n",
       "      <th>6533</th>\n",
       "      <td>NaN</td>\n",
       "      <td>NaN</td>\n",
       "    </tr>\n",
       "    <tr>\n",
       "      <th>7441</th>\n",
       "      <td>NaN</td>\n",
       "      <td>NaN</td>\n",
       "    </tr>\n",
       "    <tr>\n",
       "      <th>7941</th>\n",
       "      <td>NaN</td>\n",
       "      <td>NaN</td>\n",
       "    </tr>\n",
       "    <tr>\n",
       "      <th>9154</th>\n",
       "      <td>NaN</td>\n",
       "      <td>NaN</td>\n",
       "    </tr>\n",
       "    <tr>\n",
       "      <th>10613</th>\n",
       "      <td>NaN</td>\n",
       "      <td>NaN</td>\n",
       "    </tr>\n",
       "    <tr>\n",
       "      <th>10850</th>\n",
       "      <td>NaN</td>\n",
       "      <td>NaN</td>\n",
       "    </tr>\n",
       "    <tr>\n",
       "      <th>11546</th>\n",
       "      <td>NaN</td>\n",
       "      <td>NaN</td>\n",
       "    </tr>\n",
       "    <tr>\n",
       "      <th>13656</th>\n",
       "      <td>NaN</td>\n",
       "      <td>NaN</td>\n",
       "    </tr>\n",
       "    <tr>\n",
       "      <th>14004</th>\n",
       "      <td>NaN</td>\n",
       "      <td>NaN</td>\n",
       "    </tr>\n",
       "    <tr>\n",
       "      <th>14320</th>\n",
       "      <td>NaN</td>\n",
       "      <td>NaN</td>\n",
       "    </tr>\n",
       "    <tr>\n",
       "      <th>15312</th>\n",
       "      <td>NaN</td>\n",
       "      <td>NaN</td>\n",
       "    </tr>\n",
       "    <tr>\n",
       "      <th>16231</th>\n",
       "      <td>NaN</td>\n",
       "      <td>NaN</td>\n",
       "    </tr>\n",
       "    <tr>\n",
       "      <th>16460</th>\n",
       "      <td>NaN</td>\n",
       "      <td>NaN</td>\n",
       "    </tr>\n",
       "    <tr>\n",
       "      <th>17829</th>\n",
       "      <td>NaN</td>\n",
       "      <td>NaN</td>\n",
       "    </tr>\n",
       "    <tr>\n",
       "      <th>17953</th>\n",
       "      <td>NaN</td>\n",
       "      <td>NaN</td>\n",
       "    </tr>\n",
       "    <tr>\n",
       "      <th>19837</th>\n",
       "      <td>NaN</td>\n",
       "      <td>NaN</td>\n",
       "    </tr>\n",
       "    <tr>\n",
       "      <th>20840</th>\n",
       "      <td>NaN</td>\n",
       "      <td>NaN</td>\n",
       "    </tr>\n",
       "    <tr>\n",
       "      <th>23116</th>\n",
       "      <td>NaN</td>\n",
       "      <td>NaN</td>\n",
       "    </tr>\n",
       "    <tr>\n",
       "      <th>23183</th>\n",
       "      <td>NaN</td>\n",
       "      <td>NaN</td>\n",
       "    </tr>\n",
       "    <tr>\n",
       "      <th>23508</th>\n",
       "      <td>NaN</td>\n",
       "      <td>NaN</td>\n",
       "    </tr>\n",
       "    <tr>\n",
       "      <th>23557</th>\n",
       "      <td>NaN</td>\n",
       "      <td>NaN</td>\n",
       "    </tr>\n",
       "  </tbody>\n",
       "</table>\n",
       "</div>"
      ],
      "text/plain": [
       "       P00103  P00104\n",
       "479       NaN     NaN\n",
       "1722      NaN     NaN\n",
       "1749      NaN     NaN\n",
       "1794      NaN     NaN\n",
       "5239      NaN     NaN\n",
       "5330      NaN     NaN\n",
       "6533      NaN     NaN\n",
       "7441      NaN     NaN\n",
       "7941      NaN     NaN\n",
       "9154      NaN     NaN\n",
       "10613     NaN     NaN\n",
       "10850     NaN     NaN\n",
       "11546     NaN     NaN\n",
       "13656     NaN     NaN\n",
       "14004     NaN     NaN\n",
       "14320     NaN     NaN\n",
       "15312     NaN     NaN\n",
       "16231     NaN     NaN\n",
       "16460     NaN     NaN\n",
       "17829     NaN     NaN\n",
       "17953     NaN     NaN\n",
       "19837     NaN     NaN\n",
       "20840     NaN     NaN\n",
       "23116     NaN     NaN\n",
       "23183     NaN     NaN\n",
       "23508     NaN     NaN\n",
       "23557     NaN     NaN"
      ]
     },
     "execution_count": 1553,
     "metadata": {},
     "output_type": "execute_result"
    }
   ],
   "source": [
    "faltantes_p00104 = df[df['P00104'].isna()][['P00103', 'P00104']]\n",
    "faltantes_p00104"
   ]
  },
  {
   "cell_type": "code",
   "execution_count": 1554,
   "id": "e6b3dd65",
   "metadata": {},
   "outputs": [
    {
     "data": {
      "application/vnd.microsoft.datawrangler.viewer.v0+json": {
       "columns": [
        {
         "name": "index",
         "rawType": "int64",
         "type": "integer"
        },
        {
         "name": "P00404",
         "rawType": "float64",
         "type": "float"
        },
        {
         "name": "P00403",
         "rawType": "float64",
         "type": "float"
        }
       ],
       "conversionMethod": "pd.DataFrame",
       "ref": "7b04a58d-f979-4033-b341-ef7084763868",
       "rows": [],
       "shape": {
        "columns": 2,
        "rows": 0
       }
      },
      "text/html": [
       "<div>\n",
       "<style scoped>\n",
       "    .dataframe tbody tr th:only-of-type {\n",
       "        vertical-align: middle;\n",
       "    }\n",
       "\n",
       "    .dataframe tbody tr th {\n",
       "        vertical-align: top;\n",
       "    }\n",
       "\n",
       "    .dataframe thead th {\n",
       "        text-align: right;\n",
       "    }\n",
       "</style>\n",
       "<table border=\"1\" class=\"dataframe\">\n",
       "  <thead>\n",
       "    <tr style=\"text-align: right;\">\n",
       "      <th></th>\n",
       "      <th>P00404</th>\n",
       "      <th>P00403</th>\n",
       "    </tr>\n",
       "  </thead>\n",
       "  <tbody>\n",
       "  </tbody>\n",
       "</table>\n",
       "</div>"
      ],
      "text/plain": [
       "Empty DataFrame\n",
       "Columns: [P00404, P00403]\n",
       "Index: []"
      ]
     },
     "execution_count": 1554,
     "metadata": {},
     "output_type": "execute_result"
    }
   ],
   "source": [
    "faltantes_iguais = df[(df['P00404'].isna()) & (df['P00403'].notna())][['P00404', 'P00403']]\n",
    "faltantes_iguais"
   ]
  },
  {
   "cell_type": "code",
   "execution_count": 1555,
   "id": "9d394f79",
   "metadata": {},
   "outputs": [
    {
     "data": {
      "application/vnd.microsoft.datawrangler.viewer.v0+json": {
       "columns": [
        {
         "name": "index",
         "rawType": "int64",
         "type": "integer"
        },
        {
         "name": "P00403",
         "rawType": "float64",
         "type": "float"
        },
        {
         "name": "P00404",
         "rawType": "float64",
         "type": "float"
        }
       ],
       "conversionMethod": "pd.DataFrame",
       "ref": "be054205-d166-4a32-b6d0-f09f407eb6c4",
       "rows": [
        [
         "479",
         null,
         null
        ],
        [
         "1722",
         null,
         null
        ],
        [
         "1749",
         null,
         null
        ],
        [
         "1794",
         null,
         null
        ],
        [
         "5239",
         null,
         null
        ],
        [
         "5330",
         null,
         null
        ],
        [
         "6533",
         null,
         null
        ],
        [
         "7441",
         null,
         null
        ],
        [
         "7941",
         null,
         null
        ],
        [
         "9154",
         null,
         null
        ],
        [
         "10613",
         null,
         null
        ],
        [
         "10850",
         null,
         null
        ],
        [
         "11546",
         null,
         null
        ],
        [
         "13656",
         null,
         null
        ],
        [
         "14004",
         null,
         null
        ],
        [
         "14320",
         null,
         null
        ],
        [
         "15312",
         null,
         null
        ],
        [
         "16231",
         null,
         null
        ],
        [
         "16460",
         null,
         null
        ],
        [
         "17829",
         null,
         null
        ],
        [
         "17953",
         null,
         null
        ],
        [
         "19837",
         null,
         null
        ],
        [
         "20840",
         null,
         null
        ],
        [
         "23116",
         null,
         null
        ],
        [
         "23183",
         null,
         null
        ],
        [
         "23508",
         null,
         null
        ],
        [
         "23557",
         null,
         null
        ]
       ],
       "shape": {
        "columns": 2,
        "rows": 27
       }
      },
      "text/html": [
       "<div>\n",
       "<style scoped>\n",
       "    .dataframe tbody tr th:only-of-type {\n",
       "        vertical-align: middle;\n",
       "    }\n",
       "\n",
       "    .dataframe tbody tr th {\n",
       "        vertical-align: top;\n",
       "    }\n",
       "\n",
       "    .dataframe thead th {\n",
       "        text-align: right;\n",
       "    }\n",
       "</style>\n",
       "<table border=\"1\" class=\"dataframe\">\n",
       "  <thead>\n",
       "    <tr style=\"text-align: right;\">\n",
       "      <th></th>\n",
       "      <th>P00403</th>\n",
       "      <th>P00404</th>\n",
       "    </tr>\n",
       "  </thead>\n",
       "  <tbody>\n",
       "    <tr>\n",
       "      <th>479</th>\n",
       "      <td>NaN</td>\n",
       "      <td>NaN</td>\n",
       "    </tr>\n",
       "    <tr>\n",
       "      <th>1722</th>\n",
       "      <td>NaN</td>\n",
       "      <td>NaN</td>\n",
       "    </tr>\n",
       "    <tr>\n",
       "      <th>1749</th>\n",
       "      <td>NaN</td>\n",
       "      <td>NaN</td>\n",
       "    </tr>\n",
       "    <tr>\n",
       "      <th>1794</th>\n",
       "      <td>NaN</td>\n",
       "      <td>NaN</td>\n",
       "    </tr>\n",
       "    <tr>\n",
       "      <th>5239</th>\n",
       "      <td>NaN</td>\n",
       "      <td>NaN</td>\n",
       "    </tr>\n",
       "    <tr>\n",
       "      <th>5330</th>\n",
       "      <td>NaN</td>\n",
       "      <td>NaN</td>\n",
       "    </tr>\n",
       "    <tr>\n",
       "      <th>6533</th>\n",
       "      <td>NaN</td>\n",
       "      <td>NaN</td>\n",
       "    </tr>\n",
       "    <tr>\n",
       "      <th>7441</th>\n",
       "      <td>NaN</td>\n",
       "      <td>NaN</td>\n",
       "    </tr>\n",
       "    <tr>\n",
       "      <th>7941</th>\n",
       "      <td>NaN</td>\n",
       "      <td>NaN</td>\n",
       "    </tr>\n",
       "    <tr>\n",
       "      <th>9154</th>\n",
       "      <td>NaN</td>\n",
       "      <td>NaN</td>\n",
       "    </tr>\n",
       "    <tr>\n",
       "      <th>10613</th>\n",
       "      <td>NaN</td>\n",
       "      <td>NaN</td>\n",
       "    </tr>\n",
       "    <tr>\n",
       "      <th>10850</th>\n",
       "      <td>NaN</td>\n",
       "      <td>NaN</td>\n",
       "    </tr>\n",
       "    <tr>\n",
       "      <th>11546</th>\n",
       "      <td>NaN</td>\n",
       "      <td>NaN</td>\n",
       "    </tr>\n",
       "    <tr>\n",
       "      <th>13656</th>\n",
       "      <td>NaN</td>\n",
       "      <td>NaN</td>\n",
       "    </tr>\n",
       "    <tr>\n",
       "      <th>14004</th>\n",
       "      <td>NaN</td>\n",
       "      <td>NaN</td>\n",
       "    </tr>\n",
       "    <tr>\n",
       "      <th>14320</th>\n",
       "      <td>NaN</td>\n",
       "      <td>NaN</td>\n",
       "    </tr>\n",
       "    <tr>\n",
       "      <th>15312</th>\n",
       "      <td>NaN</td>\n",
       "      <td>NaN</td>\n",
       "    </tr>\n",
       "    <tr>\n",
       "      <th>16231</th>\n",
       "      <td>NaN</td>\n",
       "      <td>NaN</td>\n",
       "    </tr>\n",
       "    <tr>\n",
       "      <th>16460</th>\n",
       "      <td>NaN</td>\n",
       "      <td>NaN</td>\n",
       "    </tr>\n",
       "    <tr>\n",
       "      <th>17829</th>\n",
       "      <td>NaN</td>\n",
       "      <td>NaN</td>\n",
       "    </tr>\n",
       "    <tr>\n",
       "      <th>17953</th>\n",
       "      <td>NaN</td>\n",
       "      <td>NaN</td>\n",
       "    </tr>\n",
       "    <tr>\n",
       "      <th>19837</th>\n",
       "      <td>NaN</td>\n",
       "      <td>NaN</td>\n",
       "    </tr>\n",
       "    <tr>\n",
       "      <th>20840</th>\n",
       "      <td>NaN</td>\n",
       "      <td>NaN</td>\n",
       "    </tr>\n",
       "    <tr>\n",
       "      <th>23116</th>\n",
       "      <td>NaN</td>\n",
       "      <td>NaN</td>\n",
       "    </tr>\n",
       "    <tr>\n",
       "      <th>23183</th>\n",
       "      <td>NaN</td>\n",
       "      <td>NaN</td>\n",
       "    </tr>\n",
       "    <tr>\n",
       "      <th>23508</th>\n",
       "      <td>NaN</td>\n",
       "      <td>NaN</td>\n",
       "    </tr>\n",
       "    <tr>\n",
       "      <th>23557</th>\n",
       "      <td>NaN</td>\n",
       "      <td>NaN</td>\n",
       "    </tr>\n",
       "  </tbody>\n",
       "</table>\n",
       "</div>"
      ],
      "text/plain": [
       "       P00403  P00404\n",
       "479       NaN     NaN\n",
       "1722      NaN     NaN\n",
       "1749      NaN     NaN\n",
       "1794      NaN     NaN\n",
       "5239      NaN     NaN\n",
       "5330      NaN     NaN\n",
       "6533      NaN     NaN\n",
       "7441      NaN     NaN\n",
       "7941      NaN     NaN\n",
       "9154      NaN     NaN\n",
       "10613     NaN     NaN\n",
       "10850     NaN     NaN\n",
       "11546     NaN     NaN\n",
       "13656     NaN     NaN\n",
       "14004     NaN     NaN\n",
       "14320     NaN     NaN\n",
       "15312     NaN     NaN\n",
       "16231     NaN     NaN\n",
       "16460     NaN     NaN\n",
       "17829     NaN     NaN\n",
       "17953     NaN     NaN\n",
       "19837     NaN     NaN\n",
       "20840     NaN     NaN\n",
       "23116     NaN     NaN\n",
       "23183     NaN     NaN\n",
       "23508     NaN     NaN\n",
       "23557     NaN     NaN"
      ]
     },
     "execution_count": 1555,
     "metadata": {},
     "output_type": "execute_result"
    }
   ],
   "source": [
    "faltantes_p00404 = df[df['P00404'].isna()][['P00403', 'P00404']]\n",
    "faltantes_p00404"
   ]
  },
  {
   "cell_type": "code",
   "execution_count": 1556,
   "id": "06bf0f0d",
   "metadata": {},
   "outputs": [
    {
     "data": {
      "text/plain": [
       "True"
      ]
     },
     "execution_count": 1556,
     "metadata": {},
     "output_type": "execute_result"
    }
   ],
   "source": [
    "faltantes = df['P00104'].isna().equals(df['P00404'].isna())\n",
    "faltantes"
   ]
  },
  {
   "cell_type": "code",
   "execution_count": 1557,
   "id": "051988f6",
   "metadata": {},
   "outputs": [],
   "source": [
    "df = df.drop(columns=['P00103', 'P00403'])"
   ]
  },
  {
   "cell_type": "markdown",
   "id": "7e550da0",
   "metadata": {},
   "source": [
    "### Lalala"
   ]
  },
  {
   "cell_type": "code",
   "execution_count": 1558,
   "id": "11e964e1",
   "metadata": {},
   "outputs": [
    {
     "name": "stdout",
     "output_type": "stream",
     "text": [
      "M00203 faltantes: 3\n",
      "M00203\n",
      "1.0    23962\n",
      "2.0      383\n",
      "NaN        3\n",
      "9.0        3\n",
      "Name: count, dtype: int64\n"
     ]
    }
   ],
   "source": [
    "print(\"M00203 faltantes:\", df['M00203'].isna().sum())\n",
    "print(df['M00203'].value_counts(dropna=False)) #ver isso aqui (incompleto)"
   ]
  },
  {
   "cell_type": "code",
   "execution_count": 1559,
   "id": "184e1af6",
   "metadata": {},
   "outputs": [],
   "source": [
    "df = df[~(df['M00203'].isna() | (df['M00203'] == 9))]"
   ]
  },
  {
   "cell_type": "code",
   "execution_count": 1560,
   "id": "2744d3ef",
   "metadata": {},
   "outputs": [
    {
     "name": "stdout",
     "output_type": "stream",
     "text": [
      "M00203\n",
      "1.0    23962\n",
      "2.0      383\n",
      "Name: count, dtype: int64\n"
     ]
    }
   ],
   "source": [
    "print(df['M00203'].value_counts(dropna=False))"
   ]
  },
  {
   "cell_type": "code",
   "execution_count": 1561,
   "id": "76d111e7",
   "metadata": {},
   "outputs": [],
   "source": [
    "df.to_csv('../Bases/Criados/base_preenchida.csv', index=False)"
   ]
  },
  {
   "cell_type": "code",
   "execution_count": 1562,
   "id": "342b24d8",
   "metadata": {},
   "outputs": [
    {
     "data": {
      "text/plain": [
       "Index(['F001021', 'F007021', 'F008021', 'VDF00102', 'P00104', 'P00404'], dtype='object')"
      ]
     },
     "execution_count": 1562,
     "metadata": {},
     "output_type": "execute_result"
    }
   ],
   "source": [
    "df.columns[df.isnull().any()]"
   ]
  },
  {
   "cell_type": "code",
   "execution_count": 1563,
   "id": "5343a183",
   "metadata": {},
   "outputs": [
    {
     "data": {
      "text/plain": [
       "np.int64(6)"
      ]
     },
     "execution_count": 1563,
     "metadata": {},
     "output_type": "execute_result"
    }
   ],
   "source": [
    "(df.isnull().sum() > 0).sum()"
   ]
  }
 ],
 "metadata": {
  "kernelspec": {
   "display_name": "Python 3",
   "language": "python",
   "name": "python3"
  },
  "language_info": {
   "codemirror_mode": {
    "name": "ipython",
    "version": 3
   },
   "file_extension": ".py",
   "mimetype": "text/x-python",
   "name": "python",
   "nbconvert_exporter": "python",
   "pygments_lexer": "ipython3",
   "version": "3.13.2"
  }
 },
 "nbformat": 4,
 "nbformat_minor": 5
}
