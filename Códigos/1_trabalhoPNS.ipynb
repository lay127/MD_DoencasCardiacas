{
 "cells": [
  {
   "cell_type": "code",
   "execution_count": 1,
   "id": "b75cf1b1",
   "metadata": {},
   "outputs": [],
   "source": [
    "import pandas as pd"
   ]
  },
  {
   "cell_type": "markdown",
   "id": "320f93b1",
   "metadata": {},
   "source": [
    "### Montando a base para tratamento de outliers"
   ]
  },
  {
   "cell_type": "code",
   "execution_count": 2,
   "id": "d10905da",
   "metadata": {},
   "outputs": [],
   "source": [
    "colunas_base_outliers = ['V0001', 'V0024', 'UPA_PNS', 'V0006_PNS', 'C00301', \n",
    "                        'V0015', 'V0026', 'V0031', 'B001', 'C006', 'C008', 'C009', 'C011', 'C012','D00901', 'D014', 'D015', 'E01602', 'E017', 'E01802', 'E019', 'E027', \n",
    "                        'F001011', 'F001021', 'F007011', 'F007021', 'F008011', 'F008021', 'VDF001', 'VDF00102', 'F016', 'G059', 'G060', 'G062', 'G032', \n",
    "                        'I00102', 'I006', 'I004', 'I00401', 'I00402', 'I00403','I012', 'J001', 'J00101', 'J01101', 'J060', 'M001', 'M00203', 'M00302', 'M011011', 'M011021', 'M011051', 'M011071', \n",
    "                        'N004', 'N005', 'N008', 'N010', 'N011', 'N012', 'N016', 'P00104', 'P00404', 'P00901', 'P01101', 'P02001', 'P018', 'P02002', 'P02501', 'P02602', 'P02601', 'P027', 'P02801', 'P029', 'P035', 'P03701', 'P03702',\n",
    "                        'P04501', 'P04502', 'P050', 'P051', 'P052', 'P053', 'P05401', 'P05404', 'P05407', 'P05410', 'P05413', 'P05416', 'P05419', 'P06701', 'P068', 'Q00201', 'Q03001', 'Q060', 'Q06306', \n",
    "                        'Q068', 'Q11006', 'Q128', 'R034', 'T001', 'H003', 'H004', 'H010']\n"
   ]
  },
  {
   "cell_type": "markdown",
   "id": "a64f9e8c",
   "metadata": {},
   "source": [
    "Alguns atributos eliminados depois: 'E006011', 'E008', 'E005', 'J002', 'J00402', 'J00404', 'J007', 'J00801'"
   ]
  },
  {
   "cell_type": "code",
   "execution_count": 3,
   "id": "5cfcc85c",
   "metadata": {},
   "outputs": [
    {
     "data": {
      "application/vnd.microsoft.datawrangler.viewer.v0+json": {
       "columns": [
        {
         "name": "index",
         "rawType": "int64",
         "type": "integer"
        },
        {
         "name": "V0001",
         "rawType": "int64",
         "type": "integer"
        },
        {
         "name": "V0024",
         "rawType": "int64",
         "type": "integer"
        },
        {
         "name": "UPA_PNS",
         "rawType": "int64",
         "type": "integer"
        },
        {
         "name": "V0006_PNS",
         "rawType": "int64",
         "type": "integer"
        },
        {
         "name": "V0015",
         "rawType": "int64",
         "type": "integer"
        },
        {
         "name": "V0026",
         "rawType": "int64",
         "type": "integer"
        },
        {
         "name": "V0031",
         "rawType": "int64",
         "type": "integer"
        },
        {
         "name": "B001",
         "rawType": "float64",
         "type": "float"
        },
        {
         "name": "C00301",
         "rawType": "float64",
         "type": "float"
        },
        {
         "name": "C006",
         "rawType": "float64",
         "type": "float"
        },
        {
         "name": "C008",
         "rawType": "float64",
         "type": "float"
        },
        {
         "name": "C009",
         "rawType": "float64",
         "type": "float"
        },
        {
         "name": "C011",
         "rawType": "float64",
         "type": "float"
        },
        {
         "name": "C012",
         "rawType": "float64",
         "type": "float"
        },
        {
         "name": "D00901",
         "rawType": "float64",
         "type": "float"
        },
        {
         "name": "D014",
         "rawType": "float64",
         "type": "float"
        },
        {
         "name": "D015",
         "rawType": "float64",
         "type": "float"
        },
        {
         "name": "E01602",
         "rawType": "float64",
         "type": "float"
        },
        {
         "name": "E017",
         "rawType": "float64",
         "type": "float"
        },
        {
         "name": "E01802",
         "rawType": "float64",
         "type": "float"
        },
        {
         "name": "E019",
         "rawType": "float64",
         "type": "float"
        },
        {
         "name": "E027",
         "rawType": "float64",
         "type": "float"
        },
        {
         "name": "F001011",
         "rawType": "float64",
         "type": "float"
        },
        {
         "name": "F001021",
         "rawType": "float64",
         "type": "float"
        },
        {
         "name": "F007011",
         "rawType": "float64",
         "type": "float"
        },
        {
         "name": "F007021",
         "rawType": "float64",
         "type": "float"
        },
        {
         "name": "F008011",
         "rawType": "float64",
         "type": "float"
        },
        {
         "name": "F008021",
         "rawType": "float64",
         "type": "float"
        },
        {
         "name": "VDF001",
         "rawType": "float64",
         "type": "float"
        },
        {
         "name": "VDF00102",
         "rawType": "float64",
         "type": "float"
        },
        {
         "name": "F016",
         "rawType": "float64",
         "type": "float"
        },
        {
         "name": "G059",
         "rawType": "float64",
         "type": "float"
        },
        {
         "name": "G060",
         "rawType": "float64",
         "type": "float"
        },
        {
         "name": "G062",
         "rawType": "float64",
         "type": "float"
        },
        {
         "name": "G032",
         "rawType": "float64",
         "type": "float"
        },
        {
         "name": "I00102",
         "rawType": "float64",
         "type": "float"
        },
        {
         "name": "I006",
         "rawType": "float64",
         "type": "float"
        },
        {
         "name": "I004",
         "rawType": "float64",
         "type": "float"
        },
        {
         "name": "I00401",
         "rawType": "float64",
         "type": "float"
        },
        {
         "name": "I00402",
         "rawType": "float64",
         "type": "float"
        },
        {
         "name": "I00403",
         "rawType": "float64",
         "type": "float"
        },
        {
         "name": "I012",
         "rawType": "float64",
         "type": "float"
        },
        {
         "name": "J001",
         "rawType": "float64",
         "type": "float"
        },
        {
         "name": "J00101",
         "rawType": "float64",
         "type": "float"
        },
        {
         "name": "J01101",
         "rawType": "float64",
         "type": "float"
        },
        {
         "name": "J060",
         "rawType": "float64",
         "type": "float"
        },
        {
         "name": "M001",
         "rawType": "float64",
         "type": "float"
        },
        {
         "name": "M00203",
         "rawType": "float64",
         "type": "float"
        },
        {
         "name": "M00302",
         "rawType": "float64",
         "type": "float"
        },
        {
         "name": "M011011",
         "rawType": "float64",
         "type": "float"
        },
        {
         "name": "M011021",
         "rawType": "float64",
         "type": "float"
        },
        {
         "name": "M011051",
         "rawType": "float64",
         "type": "float"
        },
        {
         "name": "M011071",
         "rawType": "float64",
         "type": "float"
        },
        {
         "name": "N004",
         "rawType": "float64",
         "type": "float"
        },
        {
         "name": "N005",
         "rawType": "float64",
         "type": "float"
        },
        {
         "name": "N008",
         "rawType": "float64",
         "type": "float"
        },
        {
         "name": "N010",
         "rawType": "float64",
         "type": "float"
        },
        {
         "name": "N011",
         "rawType": "float64",
         "type": "float"
        },
        {
         "name": "N012",
         "rawType": "float64",
         "type": "float"
        },
        {
         "name": "N016",
         "rawType": "float64",
         "type": "float"
        },
        {
         "name": "P00104",
         "rawType": "float64",
         "type": "float"
        },
        {
         "name": "P00404",
         "rawType": "float64",
         "type": "float"
        },
        {
         "name": "P00901",
         "rawType": "float64",
         "type": "float"
        },
        {
         "name": "P01101",
         "rawType": "float64",
         "type": "float"
        },
        {
         "name": "P02001",
         "rawType": "float64",
         "type": "float"
        },
        {
         "name": "P018",
         "rawType": "float64",
         "type": "float"
        },
        {
         "name": "P02002",
         "rawType": "float64",
         "type": "float"
        },
        {
         "name": "P02501",
         "rawType": "float64",
         "type": "float"
        },
        {
         "name": "P02602",
         "rawType": "float64",
         "type": "float"
        },
        {
         "name": "P02601",
         "rawType": "float64",
         "type": "float"
        },
        {
         "name": "P027",
         "rawType": "float64",
         "type": "float"
        },
        {
         "name": "P02801",
         "rawType": "float64",
         "type": "float"
        },
        {
         "name": "P029",
         "rawType": "float64",
         "type": "float"
        },
        {
         "name": "P035",
         "rawType": "float64",
         "type": "float"
        },
        {
         "name": "P03701",
         "rawType": "float64",
         "type": "float"
        },
        {
         "name": "P03702",
         "rawType": "float64",
         "type": "float"
        },
        {
         "name": "P04501",
         "rawType": "float64",
         "type": "float"
        },
        {
         "name": "P04502",
         "rawType": "float64",
         "type": "float"
        },
        {
         "name": "P050",
         "rawType": "float64",
         "type": "float"
        },
        {
         "name": "P051",
         "rawType": "float64",
         "type": "float"
        },
        {
         "name": "P052",
         "rawType": "float64",
         "type": "float"
        },
        {
         "name": "P053",
         "rawType": "float64",
         "type": "float"
        },
        {
         "name": "P05401",
         "rawType": "float64",
         "type": "float"
        },
        {
         "name": "P05404",
         "rawType": "float64",
         "type": "float"
        },
        {
         "name": "P05407",
         "rawType": "float64",
         "type": "float"
        },
        {
         "name": "P05410",
         "rawType": "float64",
         "type": "float"
        },
        {
         "name": "P05413",
         "rawType": "float64",
         "type": "float"
        },
        {
         "name": "P05416",
         "rawType": "float64",
         "type": "float"
        },
        {
         "name": "P05419",
         "rawType": "float64",
         "type": "float"
        },
        {
         "name": "P06701",
         "rawType": "float64",
         "type": "float"
        },
        {
         "name": "P068",
         "rawType": "float64",
         "type": "float"
        },
        {
         "name": "Q00201",
         "rawType": "float64",
         "type": "float"
        },
        {
         "name": "Q03001",
         "rawType": "float64",
         "type": "float"
        },
        {
         "name": "Q060",
         "rawType": "float64",
         "type": "float"
        },
        {
         "name": "Q06306",
         "rawType": "float64",
         "type": "float"
        },
        {
         "name": "Q068",
         "rawType": "float64",
         "type": "float"
        },
        {
         "name": "Q11006",
         "rawType": "float64",
         "type": "float"
        },
        {
         "name": "Q128",
         "rawType": "float64",
         "type": "float"
        },
        {
         "name": "R034",
         "rawType": "float64",
         "type": "float"
        },
        {
         "name": "T001",
         "rawType": "float64",
         "type": "float"
        },
        {
         "name": "H003",
         "rawType": "float64",
         "type": "float"
        },
        {
         "name": "H004",
         "rawType": "float64",
         "type": "float"
        },
        {
         "name": "H010",
         "rawType": "float64",
         "type": "float"
        }
       ],
       "conversionMethod": "pd.DataFrame",
       "ref": "b6c70d51-649f-4528-93f9-92f6bc68a515",
       "rows": [
        [
         "0",
         "11",
         "1110011",
         "110000016",
         "1",
         "1",
         "1",
         "1",
         "1.0",
         "1.0",
         "2.0",
         "55.0",
         "1.0",
         "1.0",
         "1.0",
         "5.0",
         "1.0",
         "1.0",
         "100.0",
         "40.0",
         null,
         null,
         "1.0",
         "2.0",
         null,
         "2.0",
         null,
         "2.0",
         null,
         "2.0",
         null,
         "1.0",
         "2.0",
         null,
         null,
         "1.0",
         "2.0",
         null,
         null,
         null,
         null,
         null,
         "1.0",
         "3.0",
         "3.0",
         "1.0",
         "1.0",
         "1.0",
         "1.0",
         null,
         "2.0",
         "2.0",
         "2.0",
         "2.0",
         "2.0",
         "2.0",
         null,
         "4.0",
         "2.0",
         "2.0",
         "2.0",
         "60.0",
         "145.0",
         "1.0",
         "3.0",
         "7.0",
         "3.0",
         "1.0",
         "0.0",
         "0.0",
         "3.0",
         "2.0",
         null,
         "5.0",
         "1.0",
         "0.0",
         "30.0",
         "3.0",
         "1.0",
         "3.0",
         null,
         "1.0",
         "15.0",
         null,
         null,
         null,
         null,
         null,
         null,
         null,
         "4.0",
         "1.0",
         "1.0",
         "2.0",
         "1.0",
         "2.0",
         "2.0",
         "2.0",
         "2.0",
         null,
         "2.0",
         "2.0",
         "1.0",
         "3.0"
        ],
        [
         "1",
         "11",
         "1110011",
         "110000016",
         "1",
         "1",
         "1",
         "1",
         "1.0",
         "2.0",
         "1.0",
         "69.0",
         "4.0",
         "1.0",
         "2.0",
         null,
         null,
         "2.0",
         null,
         null,
         null,
         null,
         "2.0",
         "1.0",
         "998.0",
         "2.0",
         null,
         "2.0",
         null,
         "2.0",
         null,
         "2.0",
         "2.0",
         null,
         null,
         "2.0",
         "2.0",
         null,
         null,
         null,
         null,
         null,
         "2.0",
         "3.0",
         "3.0",
         "1.0",
         "2.0",
         null,
         null,
         null,
         null,
         null,
         null,
         null,
         null,
         null,
         null,
         null,
         null,
         null,
         null,
         null,
         null,
         null,
         null,
         null,
         null,
         null,
         null,
         null,
         null,
         null,
         null,
         null,
         null,
         null,
         null,
         null,
         null,
         null,
         null,
         null,
         null,
         null,
         null,
         null,
         null,
         null,
         null,
         null,
         null,
         null,
         null,
         null,
         null,
         null,
         null,
         null,
         null,
         null,
         null,
         null,
         null,
         null
        ],
        [
         "2",
         "11",
         "1110011",
         "110000016",
         "1",
         "1",
         "1",
         "1",
         "1.0",
         "3.0",
         "1.0",
         "31.0",
         "2.0",
         "4.0",
         "2.0",
         "10.0",
         "1.0",
         "2.0",
         "1000.0",
         "36.0",
         null,
         null,
         "2.0",
         "2.0",
         null,
         "2.0",
         null,
         "2.0",
         null,
         "2.0",
         null,
         "2.0",
         "2.0",
         null,
         null,
         "2.0",
         "2.0",
         null,
         null,
         null,
         null,
         null,
         "2.0",
         "3.0",
         "4.0",
         "1.0",
         "2.0",
         null,
         null,
         null,
         null,
         null,
         null,
         null,
         null,
         null,
         null,
         null,
         null,
         null,
         null,
         null,
         null,
         null,
         null,
         null,
         null,
         null,
         null,
         null,
         null,
         null,
         null,
         null,
         null,
         null,
         null,
         null,
         null,
         null,
         null,
         null,
         null,
         null,
         null,
         null,
         null,
         null,
         null,
         null,
         null,
         null,
         null,
         null,
         null,
         null,
         null,
         null,
         null,
         null,
         null,
         null,
         null,
         null
        ],
        [
         "3",
         "11",
         "1110011",
         "110000016",
         "1",
         "1",
         "1",
         "1",
         "1.0",
         "4.0",
         "1.0",
         "9.0",
         "2.0",
         null,
         "2.0",
         null,
         null,
         "2.0",
         null,
         null,
         null,
         null,
         null,
         "2.0",
         null,
         "2.0",
         null,
         "2.0",
         null,
         "2.0",
         null,
         "2.0",
         "2.0",
         null,
         null,
         "2.0",
         "2.0",
         null,
         null,
         null,
         null,
         null,
         "2.0",
         "2.0",
         "2.0",
         "1.0",
         "2.0",
         null,
         null,
         null,
         null,
         null,
         null,
         null,
         null,
         null,
         null,
         null,
         null,
         null,
         null,
         null,
         null,
         null,
         null,
         null,
         null,
         null,
         null,
         null,
         null,
         null,
         null,
         null,
         null,
         null,
         null,
         null,
         null,
         null,
         null,
         null,
         null,
         null,
         null,
         null,
         null,
         null,
         null,
         null,
         null,
         null,
         null,
         null,
         null,
         null,
         null,
         null,
         null,
         null,
         null,
         null,
         null,
         null
        ],
        [
         "4",
         "11",
         "1110011",
         "110000016",
         "1",
         "1",
         "1",
         "1",
         "1.0",
         "5.0",
         "2.0",
         "6.0",
         "4.0",
         null,
         "2.0",
         null,
         null,
         "2.0",
         null,
         null,
         null,
         null,
         null,
         "2.0",
         null,
         "2.0",
         null,
         "2.0",
         null,
         "2.0",
         null,
         "2.0",
         "2.0",
         null,
         null,
         "2.0",
         "2.0",
         null,
         null,
         null,
         null,
         null,
         "2.0",
         "2.0",
         "2.0",
         "1.0",
         "2.0",
         null,
         null,
         null,
         null,
         null,
         null,
         null,
         null,
         null,
         null,
         null,
         null,
         null,
         null,
         null,
         null,
         null,
         null,
         null,
         null,
         null,
         null,
         null,
         null,
         null,
         null,
         null,
         null,
         null,
         null,
         null,
         null,
         null,
         null,
         null,
         null,
         null,
         null,
         null,
         null,
         null,
         null,
         null,
         null,
         null,
         null,
         null,
         null,
         null,
         null,
         null,
         null,
         null,
         null,
         null,
         null,
         null
        ]
       ],
       "shape": {
        "columns": 103,
        "rows": 5
       }
      },
      "text/html": [
       "<div>\n",
       "<style scoped>\n",
       "    .dataframe tbody tr th:only-of-type {\n",
       "        vertical-align: middle;\n",
       "    }\n",
       "\n",
       "    .dataframe tbody tr th {\n",
       "        vertical-align: top;\n",
       "    }\n",
       "\n",
       "    .dataframe thead th {\n",
       "        text-align: right;\n",
       "    }\n",
       "</style>\n",
       "<table border=\"1\" class=\"dataframe\">\n",
       "  <thead>\n",
       "    <tr style=\"text-align: right;\">\n",
       "      <th></th>\n",
       "      <th>V0001</th>\n",
       "      <th>V0024</th>\n",
       "      <th>UPA_PNS</th>\n",
       "      <th>V0006_PNS</th>\n",
       "      <th>V0015</th>\n",
       "      <th>V0026</th>\n",
       "      <th>V0031</th>\n",
       "      <th>B001</th>\n",
       "      <th>C00301</th>\n",
       "      <th>C006</th>\n",
       "      <th>...</th>\n",
       "      <th>Q060</th>\n",
       "      <th>Q06306</th>\n",
       "      <th>Q068</th>\n",
       "      <th>Q11006</th>\n",
       "      <th>Q128</th>\n",
       "      <th>R034</th>\n",
       "      <th>T001</th>\n",
       "      <th>H003</th>\n",
       "      <th>H004</th>\n",
       "      <th>H010</th>\n",
       "    </tr>\n",
       "  </thead>\n",
       "  <tbody>\n",
       "    <tr>\n",
       "      <th>0</th>\n",
       "      <td>11</td>\n",
       "      <td>1110011</td>\n",
       "      <td>110000016</td>\n",
       "      <td>1</td>\n",
       "      <td>1</td>\n",
       "      <td>1</td>\n",
       "      <td>1</td>\n",
       "      <td>1.0</td>\n",
       "      <td>1.0</td>\n",
       "      <td>2.0</td>\n",
       "      <td>...</td>\n",
       "      <td>1.0</td>\n",
       "      <td>2.0</td>\n",
       "      <td>2.0</td>\n",
       "      <td>2.0</td>\n",
       "      <td>2.0</td>\n",
       "      <td>NaN</td>\n",
       "      <td>2.0</td>\n",
       "      <td>2.0</td>\n",
       "      <td>1.0</td>\n",
       "      <td>3.0</td>\n",
       "    </tr>\n",
       "    <tr>\n",
       "      <th>1</th>\n",
       "      <td>11</td>\n",
       "      <td>1110011</td>\n",
       "      <td>110000016</td>\n",
       "      <td>1</td>\n",
       "      <td>1</td>\n",
       "      <td>1</td>\n",
       "      <td>1</td>\n",
       "      <td>1.0</td>\n",
       "      <td>2.0</td>\n",
       "      <td>1.0</td>\n",
       "      <td>...</td>\n",
       "      <td>NaN</td>\n",
       "      <td>NaN</td>\n",
       "      <td>NaN</td>\n",
       "      <td>NaN</td>\n",
       "      <td>NaN</td>\n",
       "      <td>NaN</td>\n",
       "      <td>NaN</td>\n",
       "      <td>NaN</td>\n",
       "      <td>NaN</td>\n",
       "      <td>NaN</td>\n",
       "    </tr>\n",
       "    <tr>\n",
       "      <th>2</th>\n",
       "      <td>11</td>\n",
       "      <td>1110011</td>\n",
       "      <td>110000016</td>\n",
       "      <td>1</td>\n",
       "      <td>1</td>\n",
       "      <td>1</td>\n",
       "      <td>1</td>\n",
       "      <td>1.0</td>\n",
       "      <td>3.0</td>\n",
       "      <td>1.0</td>\n",
       "      <td>...</td>\n",
       "      <td>NaN</td>\n",
       "      <td>NaN</td>\n",
       "      <td>NaN</td>\n",
       "      <td>NaN</td>\n",
       "      <td>NaN</td>\n",
       "      <td>NaN</td>\n",
       "      <td>NaN</td>\n",
       "      <td>NaN</td>\n",
       "      <td>NaN</td>\n",
       "      <td>NaN</td>\n",
       "    </tr>\n",
       "    <tr>\n",
       "      <th>3</th>\n",
       "      <td>11</td>\n",
       "      <td>1110011</td>\n",
       "      <td>110000016</td>\n",
       "      <td>1</td>\n",
       "      <td>1</td>\n",
       "      <td>1</td>\n",
       "      <td>1</td>\n",
       "      <td>1.0</td>\n",
       "      <td>4.0</td>\n",
       "      <td>1.0</td>\n",
       "      <td>...</td>\n",
       "      <td>NaN</td>\n",
       "      <td>NaN</td>\n",
       "      <td>NaN</td>\n",
       "      <td>NaN</td>\n",
       "      <td>NaN</td>\n",
       "      <td>NaN</td>\n",
       "      <td>NaN</td>\n",
       "      <td>NaN</td>\n",
       "      <td>NaN</td>\n",
       "      <td>NaN</td>\n",
       "    </tr>\n",
       "    <tr>\n",
       "      <th>4</th>\n",
       "      <td>11</td>\n",
       "      <td>1110011</td>\n",
       "      <td>110000016</td>\n",
       "      <td>1</td>\n",
       "      <td>1</td>\n",
       "      <td>1</td>\n",
       "      <td>1</td>\n",
       "      <td>1.0</td>\n",
       "      <td>5.0</td>\n",
       "      <td>2.0</td>\n",
       "      <td>...</td>\n",
       "      <td>NaN</td>\n",
       "      <td>NaN</td>\n",
       "      <td>NaN</td>\n",
       "      <td>NaN</td>\n",
       "      <td>NaN</td>\n",
       "      <td>NaN</td>\n",
       "      <td>NaN</td>\n",
       "      <td>NaN</td>\n",
       "      <td>NaN</td>\n",
       "      <td>NaN</td>\n",
       "    </tr>\n",
       "  </tbody>\n",
       "</table>\n",
       "<p>5 rows × 103 columns</p>\n",
       "</div>"
      ],
      "text/plain": [
       "   V0001    V0024    UPA_PNS  V0006_PNS  V0015  V0026  V0031  B001  C00301  \\\n",
       "0     11  1110011  110000016          1      1      1      1   1.0     1.0   \n",
       "1     11  1110011  110000016          1      1      1      1   1.0     2.0   \n",
       "2     11  1110011  110000016          1      1      1      1   1.0     3.0   \n",
       "3     11  1110011  110000016          1      1      1      1   1.0     4.0   \n",
       "4     11  1110011  110000016          1      1      1      1   1.0     5.0   \n",
       "\n",
       "   C006  ...  Q060  Q06306  Q068  Q11006  Q128  R034  T001  H003  H004  H010  \n",
       "0   2.0  ...   1.0     2.0   2.0     2.0   2.0   NaN   2.0   2.0   1.0   3.0  \n",
       "1   1.0  ...   NaN     NaN   NaN     NaN   NaN   NaN   NaN   NaN   NaN   NaN  \n",
       "2   1.0  ...   NaN     NaN   NaN     NaN   NaN   NaN   NaN   NaN   NaN   NaN  \n",
       "3   1.0  ...   NaN     NaN   NaN     NaN   NaN   NaN   NaN   NaN   NaN   NaN  \n",
       "4   2.0  ...   NaN     NaN   NaN     NaN   NaN   NaN   NaN   NaN   NaN   NaN  \n",
       "\n",
       "[5 rows x 103 columns]"
      ]
     },
     "execution_count": 3,
     "metadata": {},
     "output_type": "execute_result"
    }
   ],
   "source": [
    "df = pd.read_csv('..\\\\Bases\\\\Originais\\\\pns2019.csv', usecols=colunas_base_outliers)\n",
    "df.head()"
   ]
  },
  {
   "cell_type": "code",
   "execution_count": 4,
   "id": "c60cb62d",
   "metadata": {},
   "outputs": [],
   "source": [
    "# Códigos dos estados do Nordeste\n",
    "nordeste = [21, 22, 23, 24, 25, 26, 27, 28, 29]\n",
    "\n",
    "# Códigos dos estados do Centro-Oeste\n",
    "centro_oeste = [50, 51, 52, 53]\n",
    "\n",
    "df_filtrado = df.dropna(subset=['Q06306'])\n",
    "\n",
    "df_filtrado = df_filtrado[\n",
    "    (df_filtrado['V0015'] == 1) & #Tipo da entrevista: Realizada (1)\n",
    "    (df_filtrado['V0001'].isin(nordeste + centro_oeste)) & #Região nordeste e centro-oeste apenas\n",
    "    (~df_filtrado['C012'].isin([3, 9])) & #Informante do Módulo C \n",
    "    (~df_filtrado['D015'].isin([3, 9])) & #Informante do Módulo D \n",
    "    (~df_filtrado['E027'].isin([3, 9])) & #Informante do Módulo E \n",
    "    (~df_filtrado['F016'].isin([3, 9])) & #Informante do Módulo F \n",
    "    (~df_filtrado['G032'].isin([3, 9])) & #Informante do Módulo G \n",
    "    (~df_filtrado['I012'].isin([3, 9])) & #Informante do Módulo I \n",
    "    (~df_filtrado['J060'].isin([3, 9])) & #Informante do Módulo J \n",
    "    (df_filtrado['M001'] == 1) & #Entrevista do adulto selecionado: Realizada (1)\n",
    "    (~df_filtrado['M00302'].isin([2])) & #O informante desta parte é: (todas as opções menos \"Não morador\")\n",
    "    (df_filtrado['C008'] >= 40) & (df_filtrado['C008'] <= 70) #Pessoas com entre 40 e 70 anos\n",
    "]\n",
    "\n",
    "#Colunas acrescentadas para análise e produto cartesiano: \n",
    "# 'D00201', 'D00301', 'D008'\n",
    "# 'E011', 'E014011', 'E01601', 'E01603', 'E01605', 'E01801'\n",
    "## tirei 'E010010', 'E01604', 'E01804'\n",
    "# 'I00103', 'I001031','C00301'\n",
    "# 'N00101'\n",
    "## peso: 'W00101', 'W00102', 'W00103' (já tirei)\n",
    "## altura: 'W00201', 'W00202', 'W00203' (já tirei)\n",
    "# 'P00103', 'P00403'\n",
    "## tirei o P01001 e o P019\n",
    "# 'P034'\n",
    "## tirei o P058\n",
    "# 'P05901', 'P05902', 'P05903', 'P05904'\n",
    "# 'Q00101', 'Q02901', 'Q05901'\n",
    "# 'R031', 'R032', 'R033'\n",
    "# 'R010', 'R025', 'R028', 'R029', 'R030'\n",
    "# 'H001', 'H002'\n",
    "# Atributos sobre contraceptivo: 'R010', 'R025', 'R028', 'R029', 'R030', 'R031', 'R032', 'R033', 'R034', 'R03601', 'R03607', 'R03608', 'R03610', 'S065', \n",
    "\n",
    "\n",
    "colunas_existentes = [col for col in colunas_base_outliers if col in df_filtrado.columns]\n",
    "\n",
    "df_filtrado = df_filtrado[colunas_existentes]"
   ]
  },
  {
   "cell_type": "code",
   "execution_count": 5,
   "id": "ea8120b5",
   "metadata": {},
   "outputs": [],
   "source": [
    "df_filtrado = df_filtrado.drop(columns=['V0015', 'C012', 'D015', 'E027', 'F016', 'G032', 'I012', 'J060', 'M001', 'M00302']) #drop dos filtros"
   ]
  },
  {
   "cell_type": "code",
   "execution_count": 6,
   "id": "faf47262",
   "metadata": {},
   "outputs": [],
   "source": [
    "df_filtrado.to_csv('..\\\\Bases\\\\Criados\\\\1_base_bruta.csv', index=False)"
   ]
  },
  {
   "cell_type": "code",
   "execution_count": 7,
   "id": "d3d38aee",
   "metadata": {},
   "outputs": [
    {
     "data": {
      "text/plain": [
       "Index(['D00901', 'D014', 'E01602', 'E017', 'E01802', 'E019', 'F001021',\n",
       "       'F007021', 'F008021', 'VDF00102', 'G060', 'G062', 'I006', 'I004',\n",
       "       'I00401', 'I00402', 'I00403', 'M00203', 'M011011', 'M011021', 'M011051',\n",
       "       'M011071', 'N004', 'N005', 'N008', 'P00104', 'P00404', 'P02801', 'P029',\n",
       "       'P035', 'P03701', 'P03702', 'P051', 'P052', 'P053', 'P05401', 'P05404',\n",
       "       'P05407', 'P05410', 'P05413', 'P05416', 'P05419', 'Q00201', 'Q03001',\n",
       "       'Q060', 'R034', 'H003', 'H004', 'H010'],\n",
       "      dtype='object')"
      ]
     },
     "execution_count": 7,
     "metadata": {},
     "output_type": "execute_result"
    }
   ],
   "source": [
    "df_filtrado.columns[df_filtrado.isnull().any()]"
   ]
  },
  {
   "cell_type": "code",
   "execution_count": 8,
   "id": "d977b665",
   "metadata": {},
   "outputs": [
    {
     "data": {
      "text/plain": [
       "np.int64(49)"
      ]
     },
     "execution_count": 8,
     "metadata": {},
     "output_type": "execute_result"
    }
   ],
   "source": [
    "(df_filtrado.isnull().sum() > 0).sum()"
   ]
  },
  {
   "cell_type": "markdown",
   "id": "fb24f4a0",
   "metadata": {},
   "source": [
    "### Montando a base para fazer o tableone e o produto cartesiano"
   ]
  },
  {
   "cell_type": "markdown",
   "id": "6113f43a",
   "metadata": {},
   "source": [
    "1. V0001 (UF)\n",
    "2. V0024 (Estrato)\n",
    "3. UPA_PNS (Unidade Primária de Amostragem)\n",
    "4. V0006_PNS (Número de ordem do domicílio na PNS)\n",
    "5. C00301 (Número de ordem do morador)\n",
    "\n",
    "'V0001', 'V0024', 'UPA_PNS', 'V0006_PNS', 'C00301'"
   ]
  },
  {
   "cell_type": "code",
   "execution_count": 2,
   "id": "5d235358",
   "metadata": {},
   "outputs": [],
   "source": [
    "pns2019 = pd.read_csv('..\\\\Bases\\\\Originais\\\\pns2019.csv')\n",
    "base_sem_outliers = pd.read_csv('..\\\\Bases\\\\Criados\\\\2_base_sem_outliers.csv')"
   ]
  },
  {
   "cell_type": "code",
   "execution_count": 3,
   "id": "f59adb64",
   "metadata": {},
   "outputs": [],
   "source": [
    "#Criando a chave única por pessoa\n",
    "def criar_chave(df):\n",
    "    return (\n",
    "        df['V0001'].astype(str) + '_' +\n",
    "        df['V0024'].astype(str) + '_' +\n",
    "        df['UPA_PNS'].astype(str) + '_' +\n",
    "        df['V0006_PNS'].astype(str) + '_' +\n",
    "        df['C00301'].astype(str)\n",
    "    )\n",
    "\n",
    "pns2019['chave_pessoa'] = criar_chave(pns2019)\n",
    "base_sem_outliers['chave_pessoa'] = criar_chave(base_sem_outliers)"
   ]
  },
  {
   "cell_type": "code",
   "execution_count": null,
   "id": "9b940021",
   "metadata": {},
   "outputs": [
    {
     "data": {
      "text/plain": [
       "\"\\nColunas adicionadas: \\n\\n'D00201', 'D00301', 'D008',\\n'E011', 'E014011', 'E01601', 'E01801',\\n'I00103', 'I001031'\\n'N00101',\\n'P00103', 'P00403', \\n'P034',\\n'P05901', 'P05902', 'P05903', 'P05904',\\n'Q00101', 'Q02901', 'Q05901'\\n'H001', 'H002',\\n\""
      ]
     },
     "execution_count": 4,
     "metadata": {},
     "output_type": "execute_result"
    }
   ],
   "source": [
    "# Merge para adicionar colunas da pns2019 na base_sem_outliers\n",
    "base_sem_outliers = base_sem_outliers.merge(\n",
    "    pns2019[['chave_pessoa', 'D00201', 'D00301', 'D008', 'E011', 'E014011', 'E01601', 'E01801',\n",
    "             'I00103', 'I001031', 'P00103', 'P00403', 'P034', 'P05901', 'P05902', 'P05903', 'P05904', 'Q00101', 'Q02901', \n",
    "             'Q05901', 'H001', 'H002',]],\n",
    "    on='chave_pessoa',\n",
    "    how='left' # ou 'right', 'inner', 'outer' conforme necessidade\n",
    ")\n",
    "\n",
    "'''\n",
    "Colunas adicionadas: \n",
    "\n",
    "'D00201', 'D00301', 'D008',\n",
    "'E011', 'E014011', 'E01601', 'E01801',\n",
    "'I00103', 'I001031'\n",
    "'P00103', 'P00403', \n",
    "'P034',\n",
    "'P05901', 'P05902', 'P05903', 'P05904',\n",
    "'Q00101', 'Q02901', 'Q05901'\n",
    "'H001', 'H002',\n",
    "'''"
   ]
  },
  {
   "cell_type": "code",
   "execution_count": 5,
   "id": "3865d545",
   "metadata": {},
   "outputs": [],
   "source": [
    "base_sem_outliers = base_sem_outliers.drop(columns=['V0024', 'UPA_PNS', 'V0006_PNS', 'chave_pessoa'])"
   ]
  },
  {
   "cell_type": "code",
   "execution_count": 6,
   "id": "bb7fde0b",
   "metadata": {},
   "outputs": [],
   "source": [
    "base_sem_outliers.to_csv('..\\\\Bases\\\\Criados\\\\3_base_doencas_cardiacas.csv', index=False)"
   ]
  },
  {
   "cell_type": "markdown",
   "id": "390bd2e6",
   "metadata": {},
   "source": [
    "### Informações gerais das bases (desatualizado)"
   ]
  },
  {
   "cell_type": "code",
   "execution_count": null,
   "id": "5aad5812",
   "metadata": {},
   "outputs": [],
   "source": [
    "df1 = pd.read_csv('..\\\\Bases\\\\Criados\\\\1_bruta.csv')"
   ]
  },
  {
   "cell_type": "code",
   "execution_count": 12,
   "id": "2848256d",
   "metadata": {},
   "outputs": [
    {
     "data": {
      "text/plain": [
       "(24392, 106)"
      ]
     },
     "execution_count": 12,
     "metadata": {},
     "output_type": "execute_result"
    }
   ],
   "source": [
    "df1.shape"
   ]
  },
  {
   "cell_type": "code",
   "execution_count": 13,
   "id": "e0d4b326",
   "metadata": {},
   "outputs": [
    {
     "name": "stdout",
     "output_type": "stream",
     "text": [
      "<class 'pandas.core.frame.DataFrame'>\n",
      "RangeIndex: 24392 entries, 0 to 24391\n",
      "Columns: 106 entries, V0001 to H010\n",
      "dtypes: float64(100), int64(6)\n",
      "memory usage: 19.7 MB\n"
     ]
    }
   ],
   "source": [
    "df1.info()"
   ]
  },
  {
   "cell_type": "code",
   "execution_count": 14,
   "id": "7f4c1017",
   "metadata": {},
   "outputs": [],
   "source": [
    "df2 = pd.read_csv('..\\\\Bases\\\\Criados\\\\2_base_sem_outliers.csv')"
   ]
  },
  {
   "cell_type": "code",
   "execution_count": 15,
   "id": "d6f936d9",
   "metadata": {},
   "outputs": [
    {
     "data": {
      "text/plain": [
       "(24351, 106)"
      ]
     },
     "execution_count": 15,
     "metadata": {},
     "output_type": "execute_result"
    }
   ],
   "source": [
    "df2.shape"
   ]
  },
  {
   "cell_type": "code",
   "execution_count": 16,
   "id": "be06c7f8",
   "metadata": {},
   "outputs": [
    {
     "name": "stdout",
     "output_type": "stream",
     "text": [
      "<class 'pandas.core.frame.DataFrame'>\n",
      "RangeIndex: 24351 entries, 0 to 24350\n",
      "Columns: 106 entries, V0001 to H010\n",
      "dtypes: float64(100), int64(6)\n",
      "memory usage: 19.7 MB\n"
     ]
    }
   ],
   "source": [
    "df2.info()"
   ]
  },
  {
   "cell_type": "code",
   "execution_count": 17,
   "id": "be7d975b",
   "metadata": {},
   "outputs": [],
   "source": [
    "df3 = pd.read_csv('..\\\\Bases\\\\Criados\\\\3_base_doencas_cardiacas.csv')"
   ]
  },
  {
   "cell_type": "code",
   "execution_count": 18,
   "id": "22a70efc",
   "metadata": {},
   "outputs": [
    {
     "data": {
      "text/plain": [
       "(24351, 141)"
      ]
     },
     "execution_count": 18,
     "metadata": {},
     "output_type": "execute_result"
    }
   ],
   "source": [
    "df3.shape"
   ]
  },
  {
   "cell_type": "code",
   "execution_count": 19,
   "id": "e547a76b",
   "metadata": {},
   "outputs": [
    {
     "name": "stdout",
     "output_type": "stream",
     "text": [
      "<class 'pandas.core.frame.DataFrame'>\n",
      "RangeIndex: 24351 entries, 0 to 24350\n",
      "Columns: 141 entries, V0001 to H002\n",
      "dtypes: float64(134), int64(6), object(1)\n",
      "memory usage: 26.2+ MB\n"
     ]
    }
   ],
   "source": [
    "df3.info()"
   ]
  },
  {
   "cell_type": "code",
   "execution_count": 20,
   "id": "9d5e8dd3",
   "metadata": {},
   "outputs": [],
   "source": [
    "df4 = pd.read_csv('..\\\\Bases\\\\Criados\\\\4_base_preenchida.csv')"
   ]
  },
  {
   "cell_type": "code",
   "execution_count": 21,
   "id": "3d6b2988",
   "metadata": {},
   "outputs": [
    {
     "data": {
      "text/plain": [
       "(24318, 96)"
      ]
     },
     "execution_count": 21,
     "metadata": {},
     "output_type": "execute_result"
    }
   ],
   "source": [
    "df4.shape"
   ]
  },
  {
   "cell_type": "code",
   "execution_count": 22,
   "id": "0afa302b",
   "metadata": {},
   "outputs": [
    {
     "name": "stdout",
     "output_type": "stream",
     "text": [
      "<class 'pandas.core.frame.DataFrame'>\n",
      "RangeIndex: 24318 entries, 0 to 24317\n",
      "Data columns (total 96 columns):\n",
      " #   Column                      Non-Null Count  Dtype  \n",
      "---  ------                      --------------  -----  \n",
      " 0   V0001                       24318 non-null  int64  \n",
      " 1   V0024                       24318 non-null  int64  \n",
      " 2   UPA_PNS                     24318 non-null  int64  \n",
      " 3   V0006_PNS                   24318 non-null  int64  \n",
      " 4   C00301                      24318 non-null  float64\n",
      " 5   V0026                       24318 non-null  int64  \n",
      " 6   V0031                       24318 non-null  int64  \n",
      " 7   B001                        24318 non-null  float64\n",
      " 8   C006                        24318 non-null  float64\n",
      " 9   C008                        24318 non-null  float64\n",
      " 10  C009                        24318 non-null  float64\n",
      " 11  C011                        24318 non-null  float64\n",
      " 12  E006011                     24318 non-null  float64\n",
      " 13  E008                        24318 non-null  float64\n",
      " 14  F001011                     24318 non-null  float64\n",
      " 15  F001021                     9178 non-null   float64\n",
      " 16  F007011                     24318 non-null  float64\n",
      " 17  F007021                     756 non-null    float64\n",
      " 18  F008011                     24318 non-null  float64\n",
      " 19  F008021                     1139 non-null   float64\n",
      " 20  VDF001                      24318 non-null  float64\n",
      " 21  VDF00102                    3466 non-null   float64\n",
      " 22  J001                        24318 non-null  float64\n",
      " 23  J00101                      24318 non-null  float64\n",
      " 24  J002                        24318 non-null  float64\n",
      " 25  J00402                      24318 non-null  float64\n",
      " 26  J00404                      24318 non-null  float64\n",
      " 27  J007                        24318 non-null  float64\n",
      " 28  J00801                      24318 non-null  float64\n",
      " 29  J01101                      24318 non-null  float64\n",
      " 30  M00203                      24318 non-null  float64\n",
      " 31  N010                        24318 non-null  float64\n",
      " 32  N011                        24318 non-null  float64\n",
      " 33  N012                        24318 non-null  float64\n",
      " 34  N016                        24318 non-null  float64\n",
      " 35  P00104                      24318 non-null  float64\n",
      " 36  P00404                      24318 non-null  float64\n",
      " 37  P00901                      24318 non-null  float64\n",
      " 38  P01101                      24318 non-null  float64\n",
      " 39  P02001                      24318 non-null  float64\n",
      " 40  P018                        24318 non-null  float64\n",
      " 41  P02002                      24318 non-null  float64\n",
      " 42  P02501                      24318 non-null  float64\n",
      " 43  P02602                      24318 non-null  float64\n",
      " 44  P02601                      24318 non-null  float64\n",
      " 45  P04501                      24318 non-null  float64\n",
      " 46  P04502                      24318 non-null  float64\n",
      " 47  P06701                      24318 non-null  float64\n",
      " 48  P068                        24318 non-null  float64\n",
      " 49  Q00201                      24318 non-null  float64\n",
      " 50  Q03001                      24318 non-null  float64\n",
      " 51  Q060                        24318 non-null  float64\n",
      " 52  Q06306                      24318 non-null  float64\n",
      " 53  Q064                        24318 non-null  float64\n",
      " 54  Q06506                      24318 non-null  float64\n",
      " 55  Q06507                      24318 non-null  float64\n",
      " 56  Q06508                      24318 non-null  float64\n",
      " 57  Q06509                      24318 non-null  float64\n",
      " 58  Q06601                      24318 non-null  float64\n",
      " 59  Q067                        24318 non-null  float64\n",
      " 60  Q068                        24318 non-null  float64\n",
      " 61  Q11006                      24318 non-null  float64\n",
      " 62  Q128                        24318 non-null  float64\n",
      " 63  T001                        24318 non-null  float64\n",
      " 64  H003                        24318 non-null  float64\n",
      " 65  H004                        24318 non-null  float64\n",
      " 66  H010                        24318 non-null  float64\n",
      " 67  chave_pessoa                24318 non-null  object \n",
      " 68  N00101                      24318 non-null  float64\n",
      " 69  Q06307                      24318 non-null  float64\n",
      " 70  Q06308                      24318 non-null  float64\n",
      " 71  Q06309                      24318 non-null  float64\n",
      " 72  Q06310                      24318 non-null  float64\n",
      " 73  Q06311                      24318 non-null  float64\n",
      " 74  H001                        24318 non-null  float64\n",
      " 75  H002                        24318 non-null  float64\n",
      " 76  Escolaridade                24318 non-null  int64  \n",
      " 77  Renda                       24318 non-null  float64\n",
      " 78  Quant_trabalhos             24318 non-null  int64  \n",
      " 79  Horas_trabalhadas           24318 non-null  float64\n",
      " 80  Temporariamente_afastado    24318 non-null  float64\n",
      " 81  Mobilidade_auxiliar         24318 non-null  float64\n",
      " 82  Avaliacao_plano             24318 non-null  int64  \n",
      " 83  Plano_publico               24318 non-null  float64\n",
      " 84  Cobertura_plano             24318 non-null  float64\n",
      " 85  Exposicao_quimica           24318 non-null  int64  \n",
      " 86  Exposicao_ruido             24318 non-null  int64  \n",
      " 87  Exposicao_lixo              24318 non-null  int64  \n",
      " 88  Exposicao_minerio           24318 non-null  int64  \n",
      " 89  Dor_peito                   24318 non-null  object \n",
      " 90  FaixaTempoExercicio         24318 non-null  int64  \n",
      " 91  Inicio_tabagismo            24318 non-null  int64  \n",
      " 92  Tempo_parou_fumar           24318 non-null  int64  \n",
      " 93  Intensidade_fumo            24318 non-null  float64\n",
      " 94  Doses_semanais              24318 non-null  float64\n",
      " 95  Quant_doses_alcool_semanal  24318 non-null  int64  \n",
      "dtypes: float64(77), int64(17), object(2)\n",
      "memory usage: 17.8+ MB\n"
     ]
    }
   ],
   "source": [
    "df4.info()"
   ]
  },
  {
   "cell_type": "code",
   "execution_count": null,
   "id": "330010cc",
   "metadata": {},
   "outputs": [],
   "source": [
    "df5 = pd.read_csv('../Bases/Criados/5_base_codificada.csv')"
   ]
  },
  {
   "cell_type": "code",
   "execution_count": null,
   "id": "f9dfc347",
   "metadata": {},
   "outputs": [
    {
     "data": {
      "text/plain": [
       "['V0001',\n",
       " 'V0026',\n",
       " 'V0031',\n",
       " 'C006',\n",
       " 'C008',\n",
       " 'C009',\n",
       " 'C011',\n",
       " 'J00101',\n",
       " 'N010',\n",
       " 'N011',\n",
       " 'N012',\n",
       " 'N016',\n",
       " 'P00901',\n",
       " 'P01101',\n",
       " 'P018',\n",
       " 'P02601',\n",
       " 'P04501',\n",
       " 'P04502',\n",
       " 'Q00201',\n",
       " 'Q03001',\n",
       " 'Q060',\n",
       " 'Q06306',\n",
       " 'Q064',\n",
       " 'Q06506',\n",
       " 'Q06507',\n",
       " 'Q06508',\n",
       " 'Q06509',\n",
       " 'Q06601',\n",
       " 'Q067',\n",
       " 'Q068',\n",
       " 'Q11006',\n",
       " 'Q128',\n",
       " 'Escolaridade',\n",
       " 'Renda',\n",
       " 'Quant_trabalhos',\n",
       " 'Horas_trabalhadas',\n",
       " 'Avaliacao_plano',\n",
       " 'FaixaTempoExercicio',\n",
       " 'Inicio_tabagismo',\n",
       " 'Tempo_parou_fumar',\n",
       " 'Intensidade_fumo',\n",
       " 'Quant_doses_alcool_semanal',\n",
       " 'AusenciaTrabalhoPorDC',\n",
       " 'Doenca_limitante',\n",
       " 'imc',\n",
       " 'faixa_imc']"
      ]
     },
     "execution_count": 4,
     "metadata": {},
     "output_type": "execute_result"
    }
   ],
   "source": [
    "list(df5.columns)"
   ]
  },
  {
   "cell_type": "markdown",
   "id": "c986bd49",
   "metadata": {},
   "source": [
    "### Checando inconsistências"
   ]
  },
  {
   "cell_type": "code",
   "execution_count": null,
   "id": "9b3e0c83",
   "metadata": {},
   "outputs": [
    {
     "data": {
      "text/html": [
       "<div>\n",
       "<style scoped>\n",
       "    .dataframe tbody tr th:only-of-type {\n",
       "        vertical-align: middle;\n",
       "    }\n",
       "\n",
       "    .dataframe tbody tr th {\n",
       "        vertical-align: top;\n",
       "    }\n",
       "\n",
       "    .dataframe thead th {\n",
       "        text-align: right;\n",
       "    }\n",
       "</style>\n",
       "<table border=\"1\" class=\"dataframe\">\n",
       "  <thead>\n",
       "    <tr style=\"text-align: right;\">\n",
       "      <th></th>\n",
       "      <th>C008</th>\n",
       "      <th>Q064</th>\n",
       "    </tr>\n",
       "  </thead>\n",
       "  <tbody>\n",
       "  </tbody>\n",
       "</table>\n",
       "</div>"
      ],
      "text/plain": [
       "Empty DataFrame\n",
       "Columns: [C008, Q064]\n",
       "Index: []"
      ]
     },
     "execution_count": 34,
     "metadata": {},
     "output_type": "execute_result"
    }
   ],
   "source": [
    "df.loc[df['Q064'] > df['C008'], ['C008', 'Q064']] #checando se a idade do diagnóstico é maior que a idade do morador"
   ]
  },
  {
   "cell_type": "code",
   "execution_count": 45,
   "id": "cbee2ee6",
   "metadata": {},
   "outputs": [
    {
     "name": "stdout",
     "output_type": "stream",
     "text": [
      "Duplicados em pns2019: 0\n",
      "Duplicados em base_outliers: 0\n"
     ]
    }
   ],
   "source": [
    "# Ver duplicados na base pns2019\n",
    "duplicados_pns = pns2019[pns2019.duplicated('chave_pessoa', keep=False)]\n",
    "\n",
    "# Ver duplicados na base base_outliers\n",
    "duplicados_outliers = base_sem_outliers[base_sem_outliers.duplicated('chave_pessoa', keep=False)]\n",
    "\n",
    "print(\"Duplicados em pns2019:\", pns2019['chave_pessoa'].duplicated().sum())\n",
    "print(\"Duplicados em base_outliers:\", base_sem_outliers['chave_pessoa'].duplicated().sum())"
   ]
  }
 ],
 "metadata": {
  "kernelspec": {
   "display_name": "Python 3",
   "language": "python",
   "name": "python3"
  },
  "language_info": {
   "codemirror_mode": {
    "name": "ipython",
    "version": 3
   },
   "file_extension": ".py",
   "mimetype": "text/x-python",
   "name": "python",
   "nbconvert_exporter": "python",
   "pygments_lexer": "ipython3",
   "version": "3.13.2"
  }
 },
 "nbformat": 4,
 "nbformat_minor": 5
}
