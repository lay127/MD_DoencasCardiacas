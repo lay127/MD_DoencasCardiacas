{
 "cells": [
  {
   "cell_type": "code",
   "execution_count": 1,
   "id": "b75cf1b1",
   "metadata": {},
   "outputs": [],
   "source": [
    "import pandas as pd"
   ]
  },
  {
   "cell_type": "markdown",
   "id": "320f93b1",
   "metadata": {},
   "source": [
    "### Montando a base para tratamento de outliers"
   ]
  },
  {
   "cell_type": "code",
   "execution_count": 2,
   "id": "d10905da",
   "metadata": {},
   "outputs": [],
   "source": [
    "colunas_base_outliers = ['V0001', 'V0024', 'UPA_PNS', 'V0006_PNS', 'C00301', \n",
    "                        'V0015', 'V0026', 'V0031', 'B001', 'C006', 'C008', 'C009', 'C011', 'C012','D00901', 'D014', 'D015', 'E006011', 'E008', 'E01602', 'E017', 'E01802', 'E019', 'E027', \n",
    "                        'F001011', 'F001021', 'F007011', 'F007021', 'F008011', 'F008021', 'VDF001', 'VDF00102', 'F016', 'G059', 'G060', 'G062', 'G032', \n",
    "                        'I00102', 'I006', 'I004', 'I00401', 'I00402', 'I00403','I012', 'J001', 'J00101', 'J002', 'J00402', 'J00404', 'J007', 'J00801', 'J01101', 'J060', 'M001', 'M00203', 'M00302', 'M011011', 'M011021', 'M011051', 'M011071', \n",
    "                        'N004', 'N005', 'N008', 'N010', 'N011', 'N012', 'N016', 'P00104', 'P00404', 'P00901', 'P01101', 'P02001', 'P018', 'P02002', 'P02501', 'P02602', 'P02601', 'P027', 'P02801', 'P029', 'P035', 'P03701', 'P03702',\n",
    "                        'P04501', 'P04502', 'P050', 'P051', 'P052', 'P053', 'P05401', 'P05404', 'P05407', 'P05410', 'P05413', 'P05416', 'P05419', 'P06701', 'P068', 'Q00201', 'Q03001', 'Q060', 'Q06306', 'Q064',\n",
    "                        'Q06506', 'Q06507', 'Q06508', 'Q06509', 'Q06601', 'Q067', 'Q068', 'Q11006', 'Q128', 'T001', 'H003', 'H004', 'H010']"
   ]
  },
  {
   "cell_type": "code",
   "execution_count": 3,
   "id": "5cfcc85c",
   "metadata": {},
   "outputs": [
    {
     "data": {
      "application/vnd.microsoft.datawrangler.viewer.v0+json": {
       "columns": [
        {
         "name": "index",
         "rawType": "int64",
         "type": "integer"
        },
        {
         "name": "V0001",
         "rawType": "int64",
         "type": "integer"
        },
        {
         "name": "V0024",
         "rawType": "int64",
         "type": "integer"
        },
        {
         "name": "UPA_PNS",
         "rawType": "int64",
         "type": "integer"
        },
        {
         "name": "V0006_PNS",
         "rawType": "int64",
         "type": "integer"
        },
        {
         "name": "V0015",
         "rawType": "int64",
         "type": "integer"
        },
        {
         "name": "V0026",
         "rawType": "int64",
         "type": "integer"
        },
        {
         "name": "V0031",
         "rawType": "int64",
         "type": "integer"
        },
        {
         "name": "B001",
         "rawType": "float64",
         "type": "float"
        },
        {
         "name": "C00301",
         "rawType": "float64",
         "type": "float"
        },
        {
         "name": "C006",
         "rawType": "float64",
         "type": "float"
        },
        {
         "name": "C008",
         "rawType": "float64",
         "type": "float"
        },
        {
         "name": "C009",
         "rawType": "float64",
         "type": "float"
        },
        {
         "name": "C011",
         "rawType": "float64",
         "type": "float"
        },
        {
         "name": "C012",
         "rawType": "float64",
         "type": "float"
        },
        {
         "name": "D00901",
         "rawType": "float64",
         "type": "float"
        },
        {
         "name": "D014",
         "rawType": "float64",
         "type": "float"
        },
        {
         "name": "D015",
         "rawType": "float64",
         "type": "float"
        },
        {
         "name": "E006011",
         "rawType": "float64",
         "type": "float"
        },
        {
         "name": "E008",
         "rawType": "float64",
         "type": "float"
        },
        {
         "name": "E01602",
         "rawType": "float64",
         "type": "float"
        },
        {
         "name": "E017",
         "rawType": "float64",
         "type": "float"
        },
        {
         "name": "E01802",
         "rawType": "float64",
         "type": "float"
        },
        {
         "name": "E019",
         "rawType": "float64",
         "type": "float"
        },
        {
         "name": "E027",
         "rawType": "float64",
         "type": "float"
        },
        {
         "name": "F001011",
         "rawType": "float64",
         "type": "float"
        },
        {
         "name": "F001021",
         "rawType": "float64",
         "type": "float"
        },
        {
         "name": "F007011",
         "rawType": "float64",
         "type": "float"
        },
        {
         "name": "F007021",
         "rawType": "float64",
         "type": "float"
        },
        {
         "name": "F008011",
         "rawType": "float64",
         "type": "float"
        },
        {
         "name": "F008021",
         "rawType": "float64",
         "type": "float"
        },
        {
         "name": "VDF001",
         "rawType": "float64",
         "type": "float"
        },
        {
         "name": "VDF00102",
         "rawType": "float64",
         "type": "float"
        },
        {
         "name": "F016",
         "rawType": "float64",
         "type": "float"
        },
        {
         "name": "G059",
         "rawType": "float64",
         "type": "float"
        },
        {
         "name": "G060",
         "rawType": "float64",
         "type": "float"
        },
        {
         "name": "G062",
         "rawType": "float64",
         "type": "float"
        },
        {
         "name": "G032",
         "rawType": "float64",
         "type": "float"
        },
        {
         "name": "I00102",
         "rawType": "float64",
         "type": "float"
        },
        {
         "name": "I006",
         "rawType": "float64",
         "type": "float"
        },
        {
         "name": "I004",
         "rawType": "float64",
         "type": "float"
        },
        {
         "name": "I00401",
         "rawType": "float64",
         "type": "float"
        },
        {
         "name": "I00402",
         "rawType": "float64",
         "type": "float"
        },
        {
         "name": "I00403",
         "rawType": "float64",
         "type": "float"
        },
        {
         "name": "I012",
         "rawType": "float64",
         "type": "float"
        },
        {
         "name": "J001",
         "rawType": "float64",
         "type": "float"
        },
        {
         "name": "J00101",
         "rawType": "float64",
         "type": "float"
        },
        {
         "name": "J002",
         "rawType": "float64",
         "type": "float"
        },
        {
         "name": "J00402",
         "rawType": "float64",
         "type": "float"
        },
        {
         "name": "J00404",
         "rawType": "float64",
         "type": "float"
        },
        {
         "name": "J007",
         "rawType": "float64",
         "type": "float"
        },
        {
         "name": "J00801",
         "rawType": "float64",
         "type": "float"
        },
        {
         "name": "J01101",
         "rawType": "float64",
         "type": "float"
        },
        {
         "name": "J060",
         "rawType": "float64",
         "type": "float"
        },
        {
         "name": "M001",
         "rawType": "float64",
         "type": "float"
        },
        {
         "name": "M00203",
         "rawType": "float64",
         "type": "float"
        },
        {
         "name": "M00302",
         "rawType": "float64",
         "type": "float"
        },
        {
         "name": "M011011",
         "rawType": "float64",
         "type": "float"
        },
        {
         "name": "M011021",
         "rawType": "float64",
         "type": "float"
        },
        {
         "name": "M011051",
         "rawType": "float64",
         "type": "float"
        },
        {
         "name": "M011071",
         "rawType": "float64",
         "type": "float"
        },
        {
         "name": "N004",
         "rawType": "float64",
         "type": "float"
        },
        {
         "name": "N005",
         "rawType": "float64",
         "type": "float"
        },
        {
         "name": "N008",
         "rawType": "float64",
         "type": "float"
        },
        {
         "name": "N010",
         "rawType": "float64",
         "type": "float"
        },
        {
         "name": "N011",
         "rawType": "float64",
         "type": "float"
        },
        {
         "name": "N012",
         "rawType": "float64",
         "type": "float"
        },
        {
         "name": "N016",
         "rawType": "float64",
         "type": "float"
        },
        {
         "name": "P00104",
         "rawType": "float64",
         "type": "float"
        },
        {
         "name": "P00404",
         "rawType": "float64",
         "type": "float"
        },
        {
         "name": "P00901",
         "rawType": "float64",
         "type": "float"
        },
        {
         "name": "P01101",
         "rawType": "float64",
         "type": "float"
        },
        {
         "name": "P02001",
         "rawType": "float64",
         "type": "float"
        },
        {
         "name": "P018",
         "rawType": "float64",
         "type": "float"
        },
        {
         "name": "P02002",
         "rawType": "float64",
         "type": "float"
        },
        {
         "name": "P02501",
         "rawType": "float64",
         "type": "float"
        },
        {
         "name": "P02602",
         "rawType": "float64",
         "type": "float"
        },
        {
         "name": "P02601",
         "rawType": "float64",
         "type": "float"
        },
        {
         "name": "P027",
         "rawType": "float64",
         "type": "float"
        },
        {
         "name": "P02801",
         "rawType": "float64",
         "type": "float"
        },
        {
         "name": "P029",
         "rawType": "float64",
         "type": "float"
        },
        {
         "name": "P035",
         "rawType": "float64",
         "type": "float"
        },
        {
         "name": "P03701",
         "rawType": "float64",
         "type": "float"
        },
        {
         "name": "P03702",
         "rawType": "float64",
         "type": "float"
        },
        {
         "name": "P04501",
         "rawType": "float64",
         "type": "float"
        },
        {
         "name": "P04502",
         "rawType": "float64",
         "type": "float"
        },
        {
         "name": "P050",
         "rawType": "float64",
         "type": "float"
        },
        {
         "name": "P051",
         "rawType": "float64",
         "type": "float"
        },
        {
         "name": "P052",
         "rawType": "float64",
         "type": "float"
        },
        {
         "name": "P053",
         "rawType": "float64",
         "type": "float"
        },
        {
         "name": "P05401",
         "rawType": "float64",
         "type": "float"
        },
        {
         "name": "P05404",
         "rawType": "float64",
         "type": "float"
        },
        {
         "name": "P05407",
         "rawType": "float64",
         "type": "float"
        },
        {
         "name": "P05410",
         "rawType": "float64",
         "type": "float"
        },
        {
         "name": "P05413",
         "rawType": "float64",
         "type": "float"
        },
        {
         "name": "P05416",
         "rawType": "float64",
         "type": "float"
        },
        {
         "name": "P05419",
         "rawType": "float64",
         "type": "float"
        },
        {
         "name": "P06701",
         "rawType": "float64",
         "type": "float"
        },
        {
         "name": "P068",
         "rawType": "float64",
         "type": "float"
        },
        {
         "name": "Q00201",
         "rawType": "float64",
         "type": "float"
        },
        {
         "name": "Q03001",
         "rawType": "float64",
         "type": "float"
        },
        {
         "name": "Q060",
         "rawType": "float64",
         "type": "float"
        },
        {
         "name": "Q06306",
         "rawType": "float64",
         "type": "float"
        },
        {
         "name": "Q064",
         "rawType": "float64",
         "type": "float"
        },
        {
         "name": "Q06506",
         "rawType": "float64",
         "type": "float"
        },
        {
         "name": "Q06507",
         "rawType": "float64",
         "type": "float"
        },
        {
         "name": "Q06508",
         "rawType": "float64",
         "type": "float"
        },
        {
         "name": "Q06509",
         "rawType": "float64",
         "type": "float"
        },
        {
         "name": "Q06601",
         "rawType": "float64",
         "type": "float"
        },
        {
         "name": "Q067",
         "rawType": "float64",
         "type": "float"
        },
        {
         "name": "Q068",
         "rawType": "float64",
         "type": "float"
        },
        {
         "name": "Q11006",
         "rawType": "float64",
         "type": "float"
        },
        {
         "name": "Q128",
         "rawType": "float64",
         "type": "float"
        },
        {
         "name": "T001",
         "rawType": "float64",
         "type": "float"
        },
        {
         "name": "H003",
         "rawType": "float64",
         "type": "float"
        },
        {
         "name": "H004",
         "rawType": "float64",
         "type": "float"
        },
        {
         "name": "H010",
         "rawType": "float64",
         "type": "float"
        }
       ],
       "conversionMethod": "pd.DataFrame",
       "ref": "e2a8b9ec-f930-4533-85c2-dc3b15676efe",
       "rows": [
        [
         "0",
         "11",
         "1110011",
         "110000016",
         "1",
         "1",
         "1",
         "1",
         "1.0",
         "1.0",
         "2.0",
         "55.0",
         "1.0",
         "1.0",
         "1.0",
         "5.0",
         "1.0",
         "1.0",
         null,
         null,
         "100.0",
         "40.0",
         null,
         null,
         "1.0",
         "2.0",
         null,
         "2.0",
         null,
         "2.0",
         null,
         "2.0",
         null,
         "1.0",
         "2.0",
         null,
         null,
         "1.0",
         "2.0",
         null,
         null,
         null,
         null,
         null,
         "1.0",
         "3.0",
         "3.0",
         "2.0",
         null,
         null,
         "1.0",
         "1.0",
         "1.0",
         "1.0",
         "1.0",
         "1.0",
         null,
         "2.0",
         "2.0",
         "2.0",
         "2.0",
         "2.0",
         "2.0",
         null,
         "4.0",
         "2.0",
         "2.0",
         "2.0",
         "60.0",
         "145.0",
         "1.0",
         "3.0",
         "7.0",
         "3.0",
         "1.0",
         "0.0",
         "0.0",
         "3.0",
         "2.0",
         null,
         "5.0",
         "1.0",
         "0.0",
         "30.0",
         "3.0",
         "1.0",
         "3.0",
         null,
         "1.0",
         "15.0",
         null,
         null,
         null,
         null,
         null,
         null,
         null,
         "4.0",
         "1.0",
         "1.0",
         "2.0",
         "1.0",
         "2.0",
         null,
         null,
         null,
         null,
         null,
         null,
         null,
         "2.0",
         "2.0",
         "2.0",
         "2.0",
         "2.0",
         "1.0",
         "3.0"
        ],
        [
         "1",
         "11",
         "1110011",
         "110000016",
         "1",
         "1",
         "1",
         "1",
         "1.0",
         "2.0",
         "1.0",
         "69.0",
         "4.0",
         "1.0",
         "2.0",
         null,
         null,
         "2.0",
         null,
         null,
         null,
         null,
         null,
         null,
         "2.0",
         "1.0",
         "998.0",
         "2.0",
         null,
         "2.0",
         null,
         "2.0",
         null,
         "2.0",
         "2.0",
         null,
         null,
         "2.0",
         "2.0",
         null,
         null,
         null,
         null,
         null,
         "2.0",
         "3.0",
         "3.0",
         "2.0",
         null,
         null,
         "1.0",
         "1.0",
         "1.0",
         "2.0",
         null,
         null,
         null,
         null,
         null,
         null,
         null,
         null,
         null,
         null,
         null,
         null,
         null,
         null,
         null,
         null,
         null,
         null,
         null,
         null,
         null,
         null,
         null,
         null,
         null,
         null,
         null,
         null,
         null,
         null,
         null,
         null,
         null,
         null,
         null,
         null,
         null,
         null,
         null,
         null,
         null,
         null,
         null,
         null,
         null,
         null,
         null,
         null,
         null,
         null,
         null,
         null,
         null,
         null,
         null,
         null,
         null,
         null,
         null,
         null,
         null,
         null,
         null
        ],
        [
         "2",
         "11",
         "1110011",
         "110000016",
         "1",
         "1",
         "1",
         "1",
         "1.0",
         "3.0",
         "1.0",
         "31.0",
         "2.0",
         "4.0",
         "2.0",
         "10.0",
         "1.0",
         "2.0",
         null,
         null,
         "1000.0",
         "36.0",
         null,
         null,
         "2.0",
         "2.0",
         null,
         "2.0",
         null,
         "2.0",
         null,
         "2.0",
         null,
         "2.0",
         "2.0",
         null,
         null,
         "2.0",
         "2.0",
         null,
         null,
         null,
         null,
         null,
         "2.0",
         "3.0",
         "4.0",
         "2.0",
         null,
         null,
         "2.0",
         null,
         "1.0",
         "2.0",
         null,
         null,
         null,
         null,
         null,
         null,
         null,
         null,
         null,
         null,
         null,
         null,
         null,
         null,
         null,
         null,
         null,
         null,
         null,
         null,
         null,
         null,
         null,
         null,
         null,
         null,
         null,
         null,
         null,
         null,
         null,
         null,
         null,
         null,
         null,
         null,
         null,
         null,
         null,
         null,
         null,
         null,
         null,
         null,
         null,
         null,
         null,
         null,
         null,
         null,
         null,
         null,
         null,
         null,
         null,
         null,
         null,
         null,
         null,
         null,
         null,
         null,
         null
        ],
        [
         "3",
         "11",
         "1110011",
         "110000016",
         "1",
         "1",
         "1",
         "1",
         "1.0",
         "4.0",
         "1.0",
         "9.0",
         "2.0",
         null,
         "2.0",
         null,
         null,
         "2.0",
         null,
         null,
         null,
         null,
         null,
         null,
         null,
         "2.0",
         null,
         "2.0",
         null,
         "2.0",
         null,
         "2.0",
         null,
         "2.0",
         "2.0",
         null,
         null,
         "2.0",
         "2.0",
         null,
         null,
         null,
         null,
         null,
         "2.0",
         "2.0",
         "2.0",
         "2.0",
         null,
         null,
         "2.0",
         null,
         "1.0",
         "2.0",
         null,
         null,
         null,
         null,
         null,
         null,
         null,
         null,
         null,
         null,
         null,
         null,
         null,
         null,
         null,
         null,
         null,
         null,
         null,
         null,
         null,
         null,
         null,
         null,
         null,
         null,
         null,
         null,
         null,
         null,
         null,
         null,
         null,
         null,
         null,
         null,
         null,
         null,
         null,
         null,
         null,
         null,
         null,
         null,
         null,
         null,
         null,
         null,
         null,
         null,
         null,
         null,
         null,
         null,
         null,
         null,
         null,
         null,
         null,
         null,
         null,
         null,
         null
        ],
        [
         "4",
         "11",
         "1110011",
         "110000016",
         "1",
         "1",
         "1",
         "1",
         "1.0",
         "5.0",
         "2.0",
         "6.0",
         "4.0",
         null,
         "2.0",
         null,
         null,
         "2.0",
         null,
         null,
         null,
         null,
         null,
         null,
         null,
         "2.0",
         null,
         "2.0",
         null,
         "2.0",
         null,
         "2.0",
         null,
         "2.0",
         "2.0",
         null,
         null,
         "2.0",
         "2.0",
         null,
         null,
         null,
         null,
         null,
         "2.0",
         "2.0",
         "2.0",
         "2.0",
         null,
         null,
         "2.0",
         null,
         "1.0",
         "2.0",
         null,
         null,
         null,
         null,
         null,
         null,
         null,
         null,
         null,
         null,
         null,
         null,
         null,
         null,
         null,
         null,
         null,
         null,
         null,
         null,
         null,
         null,
         null,
         null,
         null,
         null,
         null,
         null,
         null,
         null,
         null,
         null,
         null,
         null,
         null,
         null,
         null,
         null,
         null,
         null,
         null,
         null,
         null,
         null,
         null,
         null,
         null,
         null,
         null,
         null,
         null,
         null,
         null,
         null,
         null,
         null,
         null,
         null,
         null,
         null,
         null,
         null,
         null
        ]
       ],
       "shape": {
        "columns": 116,
        "rows": 5
       }
      },
      "text/html": [
       "<div>\n",
       "<style scoped>\n",
       "    .dataframe tbody tr th:only-of-type {\n",
       "        vertical-align: middle;\n",
       "    }\n",
       "\n",
       "    .dataframe tbody tr th {\n",
       "        vertical-align: top;\n",
       "    }\n",
       "\n",
       "    .dataframe thead th {\n",
       "        text-align: right;\n",
       "    }\n",
       "</style>\n",
       "<table border=\"1\" class=\"dataframe\">\n",
       "  <thead>\n",
       "    <tr style=\"text-align: right;\">\n",
       "      <th></th>\n",
       "      <th>V0001</th>\n",
       "      <th>V0024</th>\n",
       "      <th>UPA_PNS</th>\n",
       "      <th>V0006_PNS</th>\n",
       "      <th>V0015</th>\n",
       "      <th>V0026</th>\n",
       "      <th>V0031</th>\n",
       "      <th>B001</th>\n",
       "      <th>C00301</th>\n",
       "      <th>C006</th>\n",
       "      <th>...</th>\n",
       "      <th>Q06509</th>\n",
       "      <th>Q06601</th>\n",
       "      <th>Q067</th>\n",
       "      <th>Q068</th>\n",
       "      <th>Q11006</th>\n",
       "      <th>Q128</th>\n",
       "      <th>T001</th>\n",
       "      <th>H003</th>\n",
       "      <th>H004</th>\n",
       "      <th>H010</th>\n",
       "    </tr>\n",
       "  </thead>\n",
       "  <tbody>\n",
       "    <tr>\n",
       "      <th>0</th>\n",
       "      <td>11</td>\n",
       "      <td>1110011</td>\n",
       "      <td>110000016</td>\n",
       "      <td>1</td>\n",
       "      <td>1</td>\n",
       "      <td>1</td>\n",
       "      <td>1</td>\n",
       "      <td>1.0</td>\n",
       "      <td>1.0</td>\n",
       "      <td>2.0</td>\n",
       "      <td>...</td>\n",
       "      <td>NaN</td>\n",
       "      <td>NaN</td>\n",
       "      <td>NaN</td>\n",
       "      <td>2.0</td>\n",
       "      <td>2.0</td>\n",
       "      <td>2.0</td>\n",
       "      <td>2.0</td>\n",
       "      <td>2.0</td>\n",
       "      <td>1.0</td>\n",
       "      <td>3.0</td>\n",
       "    </tr>\n",
       "    <tr>\n",
       "      <th>1</th>\n",
       "      <td>11</td>\n",
       "      <td>1110011</td>\n",
       "      <td>110000016</td>\n",
       "      <td>1</td>\n",
       "      <td>1</td>\n",
       "      <td>1</td>\n",
       "      <td>1</td>\n",
       "      <td>1.0</td>\n",
       "      <td>2.0</td>\n",
       "      <td>1.0</td>\n",
       "      <td>...</td>\n",
       "      <td>NaN</td>\n",
       "      <td>NaN</td>\n",
       "      <td>NaN</td>\n",
       "      <td>NaN</td>\n",
       "      <td>NaN</td>\n",
       "      <td>NaN</td>\n",
       "      <td>NaN</td>\n",
       "      <td>NaN</td>\n",
       "      <td>NaN</td>\n",
       "      <td>NaN</td>\n",
       "    </tr>\n",
       "    <tr>\n",
       "      <th>2</th>\n",
       "      <td>11</td>\n",
       "      <td>1110011</td>\n",
       "      <td>110000016</td>\n",
       "      <td>1</td>\n",
       "      <td>1</td>\n",
       "      <td>1</td>\n",
       "      <td>1</td>\n",
       "      <td>1.0</td>\n",
       "      <td>3.0</td>\n",
       "      <td>1.0</td>\n",
       "      <td>...</td>\n",
       "      <td>NaN</td>\n",
       "      <td>NaN</td>\n",
       "      <td>NaN</td>\n",
       "      <td>NaN</td>\n",
       "      <td>NaN</td>\n",
       "      <td>NaN</td>\n",
       "      <td>NaN</td>\n",
       "      <td>NaN</td>\n",
       "      <td>NaN</td>\n",
       "      <td>NaN</td>\n",
       "    </tr>\n",
       "    <tr>\n",
       "      <th>3</th>\n",
       "      <td>11</td>\n",
       "      <td>1110011</td>\n",
       "      <td>110000016</td>\n",
       "      <td>1</td>\n",
       "      <td>1</td>\n",
       "      <td>1</td>\n",
       "      <td>1</td>\n",
       "      <td>1.0</td>\n",
       "      <td>4.0</td>\n",
       "      <td>1.0</td>\n",
       "      <td>...</td>\n",
       "      <td>NaN</td>\n",
       "      <td>NaN</td>\n",
       "      <td>NaN</td>\n",
       "      <td>NaN</td>\n",
       "      <td>NaN</td>\n",
       "      <td>NaN</td>\n",
       "      <td>NaN</td>\n",
       "      <td>NaN</td>\n",
       "      <td>NaN</td>\n",
       "      <td>NaN</td>\n",
       "    </tr>\n",
       "    <tr>\n",
       "      <th>4</th>\n",
       "      <td>11</td>\n",
       "      <td>1110011</td>\n",
       "      <td>110000016</td>\n",
       "      <td>1</td>\n",
       "      <td>1</td>\n",
       "      <td>1</td>\n",
       "      <td>1</td>\n",
       "      <td>1.0</td>\n",
       "      <td>5.0</td>\n",
       "      <td>2.0</td>\n",
       "      <td>...</td>\n",
       "      <td>NaN</td>\n",
       "      <td>NaN</td>\n",
       "      <td>NaN</td>\n",
       "      <td>NaN</td>\n",
       "      <td>NaN</td>\n",
       "      <td>NaN</td>\n",
       "      <td>NaN</td>\n",
       "      <td>NaN</td>\n",
       "      <td>NaN</td>\n",
       "      <td>NaN</td>\n",
       "    </tr>\n",
       "  </tbody>\n",
       "</table>\n",
       "<p>5 rows × 116 columns</p>\n",
       "</div>"
      ],
      "text/plain": [
       "   V0001    V0024    UPA_PNS  V0006_PNS  V0015  V0026  V0031  B001  C00301  \\\n",
       "0     11  1110011  110000016          1      1      1      1   1.0     1.0   \n",
       "1     11  1110011  110000016          1      1      1      1   1.0     2.0   \n",
       "2     11  1110011  110000016          1      1      1      1   1.0     3.0   \n",
       "3     11  1110011  110000016          1      1      1      1   1.0     4.0   \n",
       "4     11  1110011  110000016          1      1      1      1   1.0     5.0   \n",
       "\n",
       "   C006  ...  Q06509  Q06601  Q067  Q068  Q11006  Q128  T001  H003  H004  H010  \n",
       "0   2.0  ...     NaN     NaN   NaN   2.0     2.0   2.0   2.0   2.0   1.0   3.0  \n",
       "1   1.0  ...     NaN     NaN   NaN   NaN     NaN   NaN   NaN   NaN   NaN   NaN  \n",
       "2   1.0  ...     NaN     NaN   NaN   NaN     NaN   NaN   NaN   NaN   NaN   NaN  \n",
       "3   1.0  ...     NaN     NaN   NaN   NaN     NaN   NaN   NaN   NaN   NaN   NaN  \n",
       "4   2.0  ...     NaN     NaN   NaN   NaN     NaN   NaN   NaN   NaN   NaN   NaN  \n",
       "\n",
       "[5 rows x 116 columns]"
      ]
     },
     "execution_count": 3,
     "metadata": {},
     "output_type": "execute_result"
    }
   ],
   "source": [
    "df = pd.read_csv('..\\\\Bases\\\\Originais\\\\pns2019.csv', usecols=colunas_base_outliers)\n",
    "df.head()"
   ]
  },
  {
   "cell_type": "code",
   "execution_count": 4,
   "id": "c60cb62d",
   "metadata": {},
   "outputs": [],
   "source": [
    "# Códigos dos estados do Nordeste\n",
    "nordeste = [21, 22, 23, 24, 25, 26, 27, 28, 29]\n",
    "\n",
    "# Códigos dos estados do Centro-Oeste\n",
    "centro_oeste = [50, 51, 52, 53]\n",
    "\n",
    "df_filtrado = df.dropna(subset=['Q06306'])\n",
    "\n",
    "df_filtrado = df_filtrado[\n",
    "    (df_filtrado['V0015'] == 1) & #Tipo da entrevista: Realizada (1)\n",
    "    (df_filtrado['V0001'].isin(nordeste + centro_oeste)) & #Região nordeste e centro-oeste apenas\n",
    "    (~df_filtrado['C012'].isin([3, 9])) & #Informante do Módulo C \n",
    "    (~df_filtrado['D015'].isin([3, 9])) & #Informante do Módulo D \n",
    "    (~df_filtrado['E027'].isin([3, 9])) & #Informante do Módulo E \n",
    "    (~df_filtrado['F016'].isin([3, 9])) & #Informante do Módulo F \n",
    "    (~df_filtrado['G032'].isin([3, 9])) & #Informante do Módulo G \n",
    "    (~df_filtrado['I012'].isin([3, 9])) & #Informante do Módulo I \n",
    "    (~df_filtrado['J060'].isin([3, 9])) & #Informante do Módulo J \n",
    "    (df_filtrado['M001'] == 1) & #Entrevista do adulto selecionado: Realizada (1)\n",
    "    (~df_filtrado['M00302'].isin([2])) & #O informante desta parte é: (todas as opções menos \"Não morador\")\n",
    "    (df_filtrado['C008'] >= 40)  # Pessoas com 40 anos ou mais\n",
    "]\n",
    "\n",
    "#Colunas acrescentadas para análise (se for permanecer, mudar oficialmente no tableone antes de tratar): D00201, D00301, D008\n",
    "# 'E001', 'E002', 'E003', 'E004', 'E005'\n",
    "# 'E011', 'E014011', 'E01601', 'E01603', 'E01605', 'E01801'\n",
    "# tirei 'E010010', 'E01604', 'E01804'\n",
    "# 'I00103', 'I001031','C00301'\n",
    "# 'N00101'\n",
    "# peso: 'W00101', 'W00102', 'W00103' (já tirei)\n",
    "# altura: 'W00201', 'W00202', 'W00203' (já tirei)\n",
    "# 'P00103', 'P00403'\n",
    "# tirei o P01001 e o P019\n",
    "# 'P034'\n",
    "# tirei o P058\n",
    "# 'P05901', 'P05902', 'P05903', 'P05904'\n",
    "# 'Q00101', 'Q02901', 'Q05901'\n",
    "# 'Q06307', 'Q06308', 'Q06309', 'Q06310', 'Q06311'\n",
    "# 'R031', 'R032', 'R033'\n",
    "# 'R010', 'R025', 'R028', 'R029', 'R030'\n",
    "# 'H001', 'H002'\n",
    "# Atributos sobre contraceptivo: 'R010', 'R025', 'R028', 'R029', 'R030', 'R031', 'R032', 'R033', 'R034', 'R03601', 'R03607', 'R03608', 'R03610', 'S065', \n",
    "\n",
    "colunas_existentes = [col for col in colunas_base_outliers if col in df_filtrado.columns]\n",
    "\n",
    "df_filtrado = df_filtrado[colunas_existentes]"
   ]
  },
  {
   "cell_type": "code",
   "execution_count": 5,
   "id": "ea8120b5",
   "metadata": {},
   "outputs": [],
   "source": [
    "df_filtrado = df_filtrado.drop(columns=['V0015', 'C012', 'D015', 'E027', 'F016', 'G032', 'I012', 'J060', 'M001', 'M00302'])"
   ]
  },
  {
   "cell_type": "code",
   "execution_count": 6,
   "id": "faf47262",
   "metadata": {},
   "outputs": [],
   "source": [
    "df_filtrado.to_csv('..\\\\Bases\\\\Criados\\\\1_base_outliers.csv', index=False)"
   ]
  },
  {
   "cell_type": "markdown",
   "id": "fb24f4a0",
   "metadata": {},
   "source": [
    "### Montando a base para fazer o tableone e produto cartesiano"
   ]
  },
  {
   "cell_type": "markdown",
   "id": "6113f43a",
   "metadata": {},
   "source": [
    "1. V0001 (UF)\n",
    "2. V0024 (Estrato)\n",
    "3. UPA_PNS (Unidade Primária de Amostragem)\n",
    "4. V0006_PNS (Número de ordem do domicílio na PNS)\n",
    "5. C00301 (Número de ordem do morador)\n",
    "\n",
    "'V0001', 'V0024', 'UPA_PNS', 'V0006_PNS', 'C00301'"
   ]
  },
  {
   "cell_type": "code",
   "execution_count": 7,
   "id": "5d235358",
   "metadata": {},
   "outputs": [],
   "source": [
    "pns2019 = pd.read_csv('..\\\\Bases\\\\Originais\\\\pns2019.csv')\n",
    "base_sem_outliers = pd.read_csv('..\\\\Bases\\\\Criados\\\\2_base_sem_outliers.csv')"
   ]
  },
  {
   "cell_type": "code",
   "execution_count": 8,
   "id": "f59adb64",
   "metadata": {},
   "outputs": [],
   "source": [
    "#Criando a chave única por pessoa\n",
    "def criar_chave(df):\n",
    "    return (\n",
    "        df['V0001'].astype(str) + '_' +\n",
    "        df['V0024'].astype(str) + '_' +\n",
    "        df['UPA_PNS'].astype(str) + '_' +\n",
    "        df['V0006_PNS'].astype(str) + '_' +\n",
    "        df['C00301'].astype(str)\n",
    "    )\n",
    "\n",
    "pns2019['chave_pessoa'] = criar_chave(pns2019)\n",
    "base_sem_outliers['chave_pessoa'] = criar_chave(base_sem_outliers)"
   ]
  },
  {
   "cell_type": "code",
   "execution_count": 9,
   "id": "9b940021",
   "metadata": {},
   "outputs": [
    {
     "data": {
      "text/plain": [
       "\"\\nColunas adicionadas: \\n\\n'D00201', 'D00301', 'D008',\\n'E001', 'E002', 'E003', 'E004', 'E005',\\n'E011', 'E014011', 'E01601', 'E01603', 'E01605', 'E01801',\\n'I00103', 'I001031'\\n'N00101',\\n'P00103', 'P00403', \\n'P034',\\n'P05901', 'P05902', 'P05903', 'P05904',\\n'Q00101', 'Q02901', 'Q05901'\\n'Q06307', 'Q06308', 'Q06309', 'Q06310', 'Q06311',\\n'H001', 'H002',\\n\""
      ]
     },
     "execution_count": 9,
     "metadata": {},
     "output_type": "execute_result"
    }
   ],
   "source": [
    "# Merge para adicionar colunas da pns2019 na base_sem_outliers\n",
    "base_sem_outliers = base_sem_outliers.merge(\n",
    "    pns2019[['chave_pessoa', 'D00201', 'D00301', 'D008', 'E001', 'E002', 'E003', 'E004', 'E005', 'E011', 'E014011', 'E01601', 'E01603', 'E01605', 'E01801',\n",
    "             'I00103', 'I001031', 'N00101', 'P00103', 'P00403', 'P034', 'P05901', 'P05902', 'P05903', 'P05904', 'Q00101', 'Q02901', \n",
    "             'Q05901', 'Q06307', 'Q06308', 'Q06309', 'Q06310', 'Q06311', 'H001', 'H002',]],\n",
    "    on='chave_pessoa',\n",
    "    how='left' # ou 'right', 'inner', 'outer' conforme necessidade\n",
    ")\n",
    "\n",
    "'''\n",
    "Colunas adicionadas: \n",
    "\n",
    "'D00201', 'D00301', 'D008',\n",
    "'E001', 'E002', 'E003', 'E004', 'E005',\n",
    "'E011', 'E014011', 'E01601', 'E01603', 'E01605', 'E01801',\n",
    "'I00103', 'I001031'\n",
    "'N00101',\n",
    "'P00103', 'P00403', \n",
    "'P034',\n",
    "'P05901', 'P05902', 'P05903', 'P05904',\n",
    "'Q00101', 'Q02901', 'Q05901'\n",
    "'Q06307', 'Q06308', 'Q06309', 'Q06310', 'Q06311',\n",
    "'H001', 'H002',\n",
    "'''"
   ]
  },
  {
   "cell_type": "code",
   "execution_count": 10,
   "id": "bb7fde0b",
   "metadata": {},
   "outputs": [],
   "source": [
    "base_sem_outliers.to_csv('..\\\\Bases\\\\Criados\\\\3_base_doencas_cardiacas.csv', index=False)"
   ]
  },
  {
   "cell_type": "markdown",
   "id": "390bd2e6",
   "metadata": {},
   "source": [
    "### Informações das bases"
   ]
  },
  {
   "cell_type": "code",
   "execution_count": 11,
   "id": "5aad5812",
   "metadata": {},
   "outputs": [],
   "source": [
    "df1 = pd.read_csv('..\\\\Bases\\\\Criados\\\\1_base_outliers.csv')"
   ]
  },
  {
   "cell_type": "code",
   "execution_count": 12,
   "id": "2848256d",
   "metadata": {},
   "outputs": [
    {
     "data": {
      "text/plain": [
       "(24392, 106)"
      ]
     },
     "execution_count": 12,
     "metadata": {},
     "output_type": "execute_result"
    }
   ],
   "source": [
    "df1.shape"
   ]
  },
  {
   "cell_type": "code",
   "execution_count": 13,
   "id": "e0d4b326",
   "metadata": {},
   "outputs": [
    {
     "name": "stdout",
     "output_type": "stream",
     "text": [
      "<class 'pandas.core.frame.DataFrame'>\n",
      "RangeIndex: 24392 entries, 0 to 24391\n",
      "Columns: 106 entries, V0001 to H010\n",
      "dtypes: float64(100), int64(6)\n",
      "memory usage: 19.7 MB\n"
     ]
    }
   ],
   "source": [
    "df1.info()"
   ]
  },
  {
   "cell_type": "code",
   "execution_count": 14,
   "id": "7f4c1017",
   "metadata": {},
   "outputs": [],
   "source": [
    "df2 = pd.read_csv('..\\\\Bases\\\\Criados\\\\2_base_sem_outliers.csv')"
   ]
  },
  {
   "cell_type": "code",
   "execution_count": 15,
   "id": "d6f936d9",
   "metadata": {},
   "outputs": [
    {
     "data": {
      "text/plain": [
       "(24351, 106)"
      ]
     },
     "execution_count": 15,
     "metadata": {},
     "output_type": "execute_result"
    }
   ],
   "source": [
    "df2.shape"
   ]
  },
  {
   "cell_type": "code",
   "execution_count": 16,
   "id": "be06c7f8",
   "metadata": {},
   "outputs": [
    {
     "name": "stdout",
     "output_type": "stream",
     "text": [
      "<class 'pandas.core.frame.DataFrame'>\n",
      "RangeIndex: 24351 entries, 0 to 24350\n",
      "Columns: 106 entries, V0001 to H010\n",
      "dtypes: float64(100), int64(6)\n",
      "memory usage: 19.7 MB\n"
     ]
    }
   ],
   "source": [
    "df2.info()"
   ]
  },
  {
   "cell_type": "code",
   "execution_count": 17,
   "id": "be7d975b",
   "metadata": {},
   "outputs": [],
   "source": [
    "df3 = pd.read_csv('..\\\\Bases\\\\Criados\\\\3_base_doencas_cardiacas.csv')"
   ]
  },
  {
   "cell_type": "code",
   "execution_count": 18,
   "id": "22a70efc",
   "metadata": {},
   "outputs": [
    {
     "data": {
      "text/plain": [
       "(24351, 141)"
      ]
     },
     "execution_count": 18,
     "metadata": {},
     "output_type": "execute_result"
    }
   ],
   "source": [
    "df3.shape"
   ]
  },
  {
   "cell_type": "code",
   "execution_count": 19,
   "id": "e547a76b",
   "metadata": {},
   "outputs": [
    {
     "name": "stdout",
     "output_type": "stream",
     "text": [
      "<class 'pandas.core.frame.DataFrame'>\n",
      "RangeIndex: 24351 entries, 0 to 24350\n",
      "Columns: 141 entries, V0001 to H002\n",
      "dtypes: float64(134), int64(6), object(1)\n",
      "memory usage: 26.2+ MB\n"
     ]
    }
   ],
   "source": [
    "df3.info()"
   ]
  },
  {
   "cell_type": "code",
   "execution_count": 20,
   "id": "9d5e8dd3",
   "metadata": {},
   "outputs": [],
   "source": [
    "df4 = pd.read_csv('..\\\\Bases\\\\Criados\\\\4_base_preenchida.csv')"
   ]
  },
  {
   "cell_type": "code",
   "execution_count": 21,
   "id": "3d6b2988",
   "metadata": {},
   "outputs": [
    {
     "data": {
      "text/plain": [
       "(24318, 96)"
      ]
     },
     "execution_count": 21,
     "metadata": {},
     "output_type": "execute_result"
    }
   ],
   "source": [
    "df4.shape"
   ]
  },
  {
   "cell_type": "code",
   "execution_count": 22,
   "id": "0afa302b",
   "metadata": {},
   "outputs": [
    {
     "name": "stdout",
     "output_type": "stream",
     "text": [
      "<class 'pandas.core.frame.DataFrame'>\n",
      "RangeIndex: 24318 entries, 0 to 24317\n",
      "Data columns (total 96 columns):\n",
      " #   Column                      Non-Null Count  Dtype  \n",
      "---  ------                      --------------  -----  \n",
      " 0   V0001                       24318 non-null  int64  \n",
      " 1   V0024                       24318 non-null  int64  \n",
      " 2   UPA_PNS                     24318 non-null  int64  \n",
      " 3   V0006_PNS                   24318 non-null  int64  \n",
      " 4   C00301                      24318 non-null  float64\n",
      " 5   V0026                       24318 non-null  int64  \n",
      " 6   V0031                       24318 non-null  int64  \n",
      " 7   B001                        24318 non-null  float64\n",
      " 8   C006                        24318 non-null  float64\n",
      " 9   C008                        24318 non-null  float64\n",
      " 10  C009                        24318 non-null  float64\n",
      " 11  C011                        24318 non-null  float64\n",
      " 12  E006011                     24318 non-null  float64\n",
      " 13  E008                        24318 non-null  float64\n",
      " 14  F001011                     24318 non-null  float64\n",
      " 15  F001021                     9178 non-null   float64\n",
      " 16  F007011                     24318 non-null  float64\n",
      " 17  F007021                     756 non-null    float64\n",
      " 18  F008011                     24318 non-null  float64\n",
      " 19  F008021                     1139 non-null   float64\n",
      " 20  VDF001                      24318 non-null  float64\n",
      " 21  VDF00102                    3466 non-null   float64\n",
      " 22  J001                        24318 non-null  float64\n",
      " 23  J00101                      24318 non-null  float64\n",
      " 24  J002                        24318 non-null  float64\n",
      " 25  J00402                      24318 non-null  float64\n",
      " 26  J00404                      24318 non-null  float64\n",
      " 27  J007                        24318 non-null  float64\n",
      " 28  J00801                      24318 non-null  float64\n",
      " 29  J01101                      24318 non-null  float64\n",
      " 30  M00203                      24318 non-null  float64\n",
      " 31  N010                        24318 non-null  float64\n",
      " 32  N011                        24318 non-null  float64\n",
      " 33  N012                        24318 non-null  float64\n",
      " 34  N016                        24318 non-null  float64\n",
      " 35  P00104                      24318 non-null  float64\n",
      " 36  P00404                      24318 non-null  float64\n",
      " 37  P00901                      24318 non-null  float64\n",
      " 38  P01101                      24318 non-null  float64\n",
      " 39  P02001                      24318 non-null  float64\n",
      " 40  P018                        24318 non-null  float64\n",
      " 41  P02002                      24318 non-null  float64\n",
      " 42  P02501                      24318 non-null  float64\n",
      " 43  P02602                      24318 non-null  float64\n",
      " 44  P02601                      24318 non-null  float64\n",
      " 45  P04501                      24318 non-null  float64\n",
      " 46  P04502                      24318 non-null  float64\n",
      " 47  P06701                      24318 non-null  float64\n",
      " 48  P068                        24318 non-null  float64\n",
      " 49  Q00201                      24318 non-null  float64\n",
      " 50  Q03001                      24318 non-null  float64\n",
      " 51  Q060                        24318 non-null  float64\n",
      " 52  Q06306                      24318 non-null  float64\n",
      " 53  Q064                        24318 non-null  float64\n",
      " 54  Q06506                      24318 non-null  float64\n",
      " 55  Q06507                      24318 non-null  float64\n",
      " 56  Q06508                      24318 non-null  float64\n",
      " 57  Q06509                      24318 non-null  float64\n",
      " 58  Q06601                      24318 non-null  float64\n",
      " 59  Q067                        24318 non-null  float64\n",
      " 60  Q068                        24318 non-null  float64\n",
      " 61  Q11006                      24318 non-null  float64\n",
      " 62  Q128                        24318 non-null  float64\n",
      " 63  T001                        24318 non-null  float64\n",
      " 64  H003                        24318 non-null  float64\n",
      " 65  H004                        24318 non-null  float64\n",
      " 66  H010                        24318 non-null  float64\n",
      " 67  chave_pessoa                24318 non-null  object \n",
      " 68  N00101                      24318 non-null  float64\n",
      " 69  Q06307                      24318 non-null  float64\n",
      " 70  Q06308                      24318 non-null  float64\n",
      " 71  Q06309                      24318 non-null  float64\n",
      " 72  Q06310                      24318 non-null  float64\n",
      " 73  Q06311                      24318 non-null  float64\n",
      " 74  H001                        24318 non-null  float64\n",
      " 75  H002                        24318 non-null  float64\n",
      " 76  Escolaridade                24318 non-null  int64  \n",
      " 77  Renda                       24318 non-null  float64\n",
      " 78  Quant_trabalhos             24318 non-null  int64  \n",
      " 79  Horas_trabalhadas           24318 non-null  float64\n",
      " 80  Temporariamente_afastado    24318 non-null  float64\n",
      " 81  Mobilidade_auxiliar         24318 non-null  float64\n",
      " 82  Avaliacao_plano             24318 non-null  int64  \n",
      " 83  Plano_publico               24318 non-null  float64\n",
      " 84  Cobertura_plano             24318 non-null  float64\n",
      " 85  Exposicao_quimica           24318 non-null  int64  \n",
      " 86  Exposicao_ruido             24318 non-null  int64  \n",
      " 87  Exposicao_lixo              24318 non-null  int64  \n",
      " 88  Exposicao_minerio           24318 non-null  int64  \n",
      " 89  Dor_peito                   24318 non-null  object \n",
      " 90  FaixaTempoExercicio         24318 non-null  int64  \n",
      " 91  Inicio_tabagismo            24318 non-null  int64  \n",
      " 92  Tempo_parou_fumar           24318 non-null  int64  \n",
      " 93  Intensidade_fumo            24318 non-null  float64\n",
      " 94  Doses_semanais              24318 non-null  float64\n",
      " 95  Quant_doses_alcool_semanal  24318 non-null  int64  \n",
      "dtypes: float64(77), int64(17), object(2)\n",
      "memory usage: 17.8+ MB\n"
     ]
    }
   ],
   "source": [
    "df4.info()"
   ]
  },
  {
   "cell_type": "code",
   "execution_count": 24,
   "id": "05813b9b",
   "metadata": {},
   "outputs": [],
   "source": [
    "df5 = pd.read_csv('../Bases/Criados/5_plano_cartesiano.csv')"
   ]
  },
  {
   "cell_type": "code",
   "execution_count": 25,
   "id": "3f76920c",
   "metadata": {},
   "outputs": [
    {
     "data": {
      "text/plain": [
       "(24318, 57)"
      ]
     },
     "execution_count": 25,
     "metadata": {},
     "output_type": "execute_result"
    }
   ],
   "source": [
    "df5.shape"
   ]
  },
  {
   "cell_type": "code",
   "execution_count": 26,
   "id": "770e9937",
   "metadata": {},
   "outputs": [
    {
     "data": {
      "text/plain": [
       "Index(['AusenciaTrabalhoPorDC'], dtype='object')"
      ]
     },
     "execution_count": 26,
     "metadata": {},
     "output_type": "execute_result"
    }
   ],
   "source": [
    "df5.columns[df5.isnull().any()]"
   ]
  },
  {
   "cell_type": "code",
   "execution_count": 27,
   "id": "a32f6b95",
   "metadata": {},
   "outputs": [
    {
     "data": {
      "application/vnd.microsoft.datawrangler.viewer.v0+json": {
       "columns": [
        {
         "name": "index",
         "rawType": "int64",
         "type": "integer"
        },
        {
         "name": "Coluna",
         "rawType": "object",
         "type": "string"
        },
        {
         "name": "Tipo",
         "rawType": "object",
         "type": "unknown"
        }
       ],
       "conversionMethod": "pd.DataFrame",
       "ref": "06fb67d2-a8b2-4902-b6cc-cba6c2bf5fa0",
       "rows": [
        [
         "0",
         "V0001",
         "int64"
        ],
        [
         "1",
         "V0024",
         "int64"
        ],
        [
         "2",
         "UPA_PNS",
         "int64"
        ],
        [
         "3",
         "V0006_PNS",
         "int64"
        ],
        [
         "4",
         "C00301",
         "float64"
        ],
        [
         "5",
         "V0026",
         "int64"
        ],
        [
         "6",
         "V0031",
         "int64"
        ],
        [
         "7",
         "C006",
         "float64"
        ],
        [
         "8",
         "C008",
         "float64"
        ],
        [
         "9",
         "C009",
         "float64"
        ],
        [
         "10",
         "C011",
         "float64"
        ],
        [
         "11",
         "J00101",
         "float64"
        ],
        [
         "12",
         "N010",
         "float64"
        ],
        [
         "13",
         "N011",
         "float64"
        ],
        [
         "14",
         "N012",
         "float64"
        ],
        [
         "15",
         "N016",
         "float64"
        ],
        [
         "16",
         "P00901",
         "float64"
        ],
        [
         "17",
         "P01101",
         "float64"
        ],
        [
         "18",
         "P018",
         "float64"
        ],
        [
         "19",
         "P02601",
         "float64"
        ],
        [
         "20",
         "P04501",
         "float64"
        ],
        [
         "21",
         "P04502",
         "float64"
        ],
        [
         "22",
         "P068",
         "float64"
        ],
        [
         "23",
         "Q00201",
         "float64"
        ],
        [
         "24",
         "Q03001",
         "float64"
        ],
        [
         "25",
         "Q060",
         "float64"
        ],
        [
         "26",
         "Q06306",
         "float64"
        ],
        [
         "27",
         "Q064",
         "int64"
        ],
        [
         "28",
         "Q06506",
         "float64"
        ],
        [
         "29",
         "Q06507",
         "float64"
        ],
        [
         "30",
         "Q06508",
         "float64"
        ],
        [
         "31",
         "Q06509",
         "float64"
        ],
        [
         "32",
         "Q06601",
         "float64"
        ],
        [
         "33",
         "Q067",
         "float64"
        ],
        [
         "34",
         "Q068",
         "float64"
        ],
        [
         "35",
         "Q11006",
         "float64"
        ],
        [
         "36",
         "Q128",
         "float64"
        ],
        [
         "37",
         "chave_pessoa",
         "object"
        ],
        [
         "38",
         "Q06307",
         "float64"
        ],
        [
         "39",
         "Q06308",
         "float64"
        ],
        [
         "40",
         "Q06309",
         "float64"
        ],
        [
         "41",
         "Q06310",
         "float64"
        ],
        [
         "42",
         "Q06311",
         "float64"
        ],
        [
         "43",
         "Escolaridade",
         "int64"
        ],
        [
         "44",
         "Renda",
         "float64"
        ],
        [
         "45",
         "Quant_trabalhos",
         "int64"
        ],
        [
         "46",
         "Horas_trabalhadas",
         "float64"
        ],
        [
         "47",
         "Dor_peito",
         "object"
        ],
        [
         "48",
         "FaixaTempoExercicio",
         "int64"
        ],
        [
         "49",
         "Inicio_tabagismo",
         "int64"
        ]
       ],
       "shape": {
        "columns": 2,
        "rows": 57
       }
      },
      "text/html": [
       "<div>\n",
       "<style scoped>\n",
       "    .dataframe tbody tr th:only-of-type {\n",
       "        vertical-align: middle;\n",
       "    }\n",
       "\n",
       "    .dataframe tbody tr th {\n",
       "        vertical-align: top;\n",
       "    }\n",
       "\n",
       "    .dataframe thead th {\n",
       "        text-align: right;\n",
       "    }\n",
       "</style>\n",
       "<table border=\"1\" class=\"dataframe\">\n",
       "  <thead>\n",
       "    <tr style=\"text-align: right;\">\n",
       "      <th></th>\n",
       "      <th>Coluna</th>\n",
       "      <th>Tipo</th>\n",
       "    </tr>\n",
       "  </thead>\n",
       "  <tbody>\n",
       "    <tr>\n",
       "      <th>0</th>\n",
       "      <td>V0001</td>\n",
       "      <td>int64</td>\n",
       "    </tr>\n",
       "    <tr>\n",
       "      <th>1</th>\n",
       "      <td>V0024</td>\n",
       "      <td>int64</td>\n",
       "    </tr>\n",
       "    <tr>\n",
       "      <th>2</th>\n",
       "      <td>UPA_PNS</td>\n",
       "      <td>int64</td>\n",
       "    </tr>\n",
       "    <tr>\n",
       "      <th>3</th>\n",
       "      <td>V0006_PNS</td>\n",
       "      <td>int64</td>\n",
       "    </tr>\n",
       "    <tr>\n",
       "      <th>4</th>\n",
       "      <td>C00301</td>\n",
       "      <td>float64</td>\n",
       "    </tr>\n",
       "    <tr>\n",
       "      <th>5</th>\n",
       "      <td>V0026</td>\n",
       "      <td>int64</td>\n",
       "    </tr>\n",
       "    <tr>\n",
       "      <th>6</th>\n",
       "      <td>V0031</td>\n",
       "      <td>int64</td>\n",
       "    </tr>\n",
       "    <tr>\n",
       "      <th>7</th>\n",
       "      <td>C006</td>\n",
       "      <td>float64</td>\n",
       "    </tr>\n",
       "    <tr>\n",
       "      <th>8</th>\n",
       "      <td>C008</td>\n",
       "      <td>float64</td>\n",
       "    </tr>\n",
       "    <tr>\n",
       "      <th>9</th>\n",
       "      <td>C009</td>\n",
       "      <td>float64</td>\n",
       "    </tr>\n",
       "    <tr>\n",
       "      <th>10</th>\n",
       "      <td>C011</td>\n",
       "      <td>float64</td>\n",
       "    </tr>\n",
       "    <tr>\n",
       "      <th>11</th>\n",
       "      <td>J00101</td>\n",
       "      <td>float64</td>\n",
       "    </tr>\n",
       "    <tr>\n",
       "      <th>12</th>\n",
       "      <td>N010</td>\n",
       "      <td>float64</td>\n",
       "    </tr>\n",
       "    <tr>\n",
       "      <th>13</th>\n",
       "      <td>N011</td>\n",
       "      <td>float64</td>\n",
       "    </tr>\n",
       "    <tr>\n",
       "      <th>14</th>\n",
       "      <td>N012</td>\n",
       "      <td>float64</td>\n",
       "    </tr>\n",
       "    <tr>\n",
       "      <th>15</th>\n",
       "      <td>N016</td>\n",
       "      <td>float64</td>\n",
       "    </tr>\n",
       "    <tr>\n",
       "      <th>16</th>\n",
       "      <td>P00901</td>\n",
       "      <td>float64</td>\n",
       "    </tr>\n",
       "    <tr>\n",
       "      <th>17</th>\n",
       "      <td>P01101</td>\n",
       "      <td>float64</td>\n",
       "    </tr>\n",
       "    <tr>\n",
       "      <th>18</th>\n",
       "      <td>P018</td>\n",
       "      <td>float64</td>\n",
       "    </tr>\n",
       "    <tr>\n",
       "      <th>19</th>\n",
       "      <td>P02601</td>\n",
       "      <td>float64</td>\n",
       "    </tr>\n",
       "    <tr>\n",
       "      <th>20</th>\n",
       "      <td>P04501</td>\n",
       "      <td>float64</td>\n",
       "    </tr>\n",
       "    <tr>\n",
       "      <th>21</th>\n",
       "      <td>P04502</td>\n",
       "      <td>float64</td>\n",
       "    </tr>\n",
       "    <tr>\n",
       "      <th>22</th>\n",
       "      <td>P068</td>\n",
       "      <td>float64</td>\n",
       "    </tr>\n",
       "    <tr>\n",
       "      <th>23</th>\n",
       "      <td>Q00201</td>\n",
       "      <td>float64</td>\n",
       "    </tr>\n",
       "    <tr>\n",
       "      <th>24</th>\n",
       "      <td>Q03001</td>\n",
       "      <td>float64</td>\n",
       "    </tr>\n",
       "    <tr>\n",
       "      <th>25</th>\n",
       "      <td>Q060</td>\n",
       "      <td>float64</td>\n",
       "    </tr>\n",
       "    <tr>\n",
       "      <th>26</th>\n",
       "      <td>Q06306</td>\n",
       "      <td>float64</td>\n",
       "    </tr>\n",
       "    <tr>\n",
       "      <th>27</th>\n",
       "      <td>Q064</td>\n",
       "      <td>int64</td>\n",
       "    </tr>\n",
       "    <tr>\n",
       "      <th>28</th>\n",
       "      <td>Q06506</td>\n",
       "      <td>float64</td>\n",
       "    </tr>\n",
       "    <tr>\n",
       "      <th>29</th>\n",
       "      <td>Q06507</td>\n",
       "      <td>float64</td>\n",
       "    </tr>\n",
       "    <tr>\n",
       "      <th>30</th>\n",
       "      <td>Q06508</td>\n",
       "      <td>float64</td>\n",
       "    </tr>\n",
       "    <tr>\n",
       "      <th>31</th>\n",
       "      <td>Q06509</td>\n",
       "      <td>float64</td>\n",
       "    </tr>\n",
       "    <tr>\n",
       "      <th>32</th>\n",
       "      <td>Q06601</td>\n",
       "      <td>float64</td>\n",
       "    </tr>\n",
       "    <tr>\n",
       "      <th>33</th>\n",
       "      <td>Q067</td>\n",
       "      <td>float64</td>\n",
       "    </tr>\n",
       "    <tr>\n",
       "      <th>34</th>\n",
       "      <td>Q068</td>\n",
       "      <td>float64</td>\n",
       "    </tr>\n",
       "    <tr>\n",
       "      <th>35</th>\n",
       "      <td>Q11006</td>\n",
       "      <td>float64</td>\n",
       "    </tr>\n",
       "    <tr>\n",
       "      <th>36</th>\n",
       "      <td>Q128</td>\n",
       "      <td>float64</td>\n",
       "    </tr>\n",
       "    <tr>\n",
       "      <th>37</th>\n",
       "      <td>chave_pessoa</td>\n",
       "      <td>object</td>\n",
       "    </tr>\n",
       "    <tr>\n",
       "      <th>38</th>\n",
       "      <td>Q06307</td>\n",
       "      <td>float64</td>\n",
       "    </tr>\n",
       "    <tr>\n",
       "      <th>39</th>\n",
       "      <td>Q06308</td>\n",
       "      <td>float64</td>\n",
       "    </tr>\n",
       "    <tr>\n",
       "      <th>40</th>\n",
       "      <td>Q06309</td>\n",
       "      <td>float64</td>\n",
       "    </tr>\n",
       "    <tr>\n",
       "      <th>41</th>\n",
       "      <td>Q06310</td>\n",
       "      <td>float64</td>\n",
       "    </tr>\n",
       "    <tr>\n",
       "      <th>42</th>\n",
       "      <td>Q06311</td>\n",
       "      <td>float64</td>\n",
       "    </tr>\n",
       "    <tr>\n",
       "      <th>43</th>\n",
       "      <td>Escolaridade</td>\n",
       "      <td>int64</td>\n",
       "    </tr>\n",
       "    <tr>\n",
       "      <th>44</th>\n",
       "      <td>Renda</td>\n",
       "      <td>float64</td>\n",
       "    </tr>\n",
       "    <tr>\n",
       "      <th>45</th>\n",
       "      <td>Quant_trabalhos</td>\n",
       "      <td>int64</td>\n",
       "    </tr>\n",
       "    <tr>\n",
       "      <th>46</th>\n",
       "      <td>Horas_trabalhadas</td>\n",
       "      <td>float64</td>\n",
       "    </tr>\n",
       "    <tr>\n",
       "      <th>47</th>\n",
       "      <td>Dor_peito</td>\n",
       "      <td>object</td>\n",
       "    </tr>\n",
       "    <tr>\n",
       "      <th>48</th>\n",
       "      <td>FaixaTempoExercicio</td>\n",
       "      <td>int64</td>\n",
       "    </tr>\n",
       "    <tr>\n",
       "      <th>49</th>\n",
       "      <td>Inicio_tabagismo</td>\n",
       "      <td>int64</td>\n",
       "    </tr>\n",
       "    <tr>\n",
       "      <th>50</th>\n",
       "      <td>Tempo_parou_fumar</td>\n",
       "      <td>int64</td>\n",
       "    </tr>\n",
       "    <tr>\n",
       "      <th>51</th>\n",
       "      <td>Intensidade_fumo</td>\n",
       "      <td>float64</td>\n",
       "    </tr>\n",
       "    <tr>\n",
       "      <th>52</th>\n",
       "      <td>Quant_doses_alcool_semanal</td>\n",
       "      <td>int64</td>\n",
       "    </tr>\n",
       "    <tr>\n",
       "      <th>53</th>\n",
       "      <td>AusenciaTrabalhoPorDC</td>\n",
       "      <td>float64</td>\n",
       "    </tr>\n",
       "    <tr>\n",
       "      <th>54</th>\n",
       "      <td>Doenca_limitante</td>\n",
       "      <td>float64</td>\n",
       "    </tr>\n",
       "    <tr>\n",
       "      <th>55</th>\n",
       "      <td>imc</td>\n",
       "      <td>float64</td>\n",
       "    </tr>\n",
       "    <tr>\n",
       "      <th>56</th>\n",
       "      <td>faixa_imc</td>\n",
       "      <td>object</td>\n",
       "    </tr>\n",
       "  </tbody>\n",
       "</table>\n",
       "</div>"
      ],
      "text/plain": [
       "                        Coluna     Tipo\n",
       "0                        V0001    int64\n",
       "1                        V0024    int64\n",
       "2                      UPA_PNS    int64\n",
       "3                    V0006_PNS    int64\n",
       "4                       C00301  float64\n",
       "5                        V0026    int64\n",
       "6                        V0031    int64\n",
       "7                         C006  float64\n",
       "8                         C008  float64\n",
       "9                         C009  float64\n",
       "10                        C011  float64\n",
       "11                      J00101  float64\n",
       "12                        N010  float64\n",
       "13                        N011  float64\n",
       "14                        N012  float64\n",
       "15                        N016  float64\n",
       "16                      P00901  float64\n",
       "17                      P01101  float64\n",
       "18                        P018  float64\n",
       "19                      P02601  float64\n",
       "20                      P04501  float64\n",
       "21                      P04502  float64\n",
       "22                        P068  float64\n",
       "23                      Q00201  float64\n",
       "24                      Q03001  float64\n",
       "25                        Q060  float64\n",
       "26                      Q06306  float64\n",
       "27                        Q064    int64\n",
       "28                      Q06506  float64\n",
       "29                      Q06507  float64\n",
       "30                      Q06508  float64\n",
       "31                      Q06509  float64\n",
       "32                      Q06601  float64\n",
       "33                        Q067  float64\n",
       "34                        Q068  float64\n",
       "35                      Q11006  float64\n",
       "36                        Q128  float64\n",
       "37                chave_pessoa   object\n",
       "38                      Q06307  float64\n",
       "39                      Q06308  float64\n",
       "40                      Q06309  float64\n",
       "41                      Q06310  float64\n",
       "42                      Q06311  float64\n",
       "43                Escolaridade    int64\n",
       "44                       Renda  float64\n",
       "45             Quant_trabalhos    int64\n",
       "46           Horas_trabalhadas  float64\n",
       "47                   Dor_peito   object\n",
       "48         FaixaTempoExercicio    int64\n",
       "49            Inicio_tabagismo    int64\n",
       "50           Tempo_parou_fumar    int64\n",
       "51            Intensidade_fumo  float64\n",
       "52  Quant_doses_alcool_semanal    int64\n",
       "53       AusenciaTrabalhoPorDC  float64\n",
       "54            Doenca_limitante  float64\n",
       "55                         imc  float64\n",
       "56                   faixa_imc   object"
      ]
     },
     "execution_count": 27,
     "metadata": {},
     "output_type": "execute_result"
    }
   ],
   "source": [
    "tipos_df = pd.DataFrame({\n",
    "    'Coluna': df5.columns,\n",
    "    'Tipo': df5.dtypes.values\n",
    "})\n",
    "tipos_df\n"
   ]
  },
  {
   "cell_type": "markdown",
   "id": "c986bd49",
   "metadata": {},
   "source": [
    "### Checando dados inconsistentes"
   ]
  },
  {
   "cell_type": "code",
   "execution_count": null,
   "id": "9b3e0c83",
   "metadata": {},
   "outputs": [
    {
     "data": {
      "text/html": [
       "<div>\n",
       "<style scoped>\n",
       "    .dataframe tbody tr th:only-of-type {\n",
       "        vertical-align: middle;\n",
       "    }\n",
       "\n",
       "    .dataframe tbody tr th {\n",
       "        vertical-align: top;\n",
       "    }\n",
       "\n",
       "    .dataframe thead th {\n",
       "        text-align: right;\n",
       "    }\n",
       "</style>\n",
       "<table border=\"1\" class=\"dataframe\">\n",
       "  <thead>\n",
       "    <tr style=\"text-align: right;\">\n",
       "      <th></th>\n",
       "      <th>C008</th>\n",
       "      <th>Q064</th>\n",
       "    </tr>\n",
       "  </thead>\n",
       "  <tbody>\n",
       "  </tbody>\n",
       "</table>\n",
       "</div>"
      ],
      "text/plain": [
       "Empty DataFrame\n",
       "Columns: [C008, Q064]\n",
       "Index: []"
      ]
     },
     "execution_count": 34,
     "metadata": {},
     "output_type": "execute_result"
    }
   ],
   "source": [
    "df.loc[df['Q064'] > df['C008'], ['C008', 'Q064']] #checando se a idade do diagnóstico é maior que a idade do morador"
   ]
  },
  {
   "cell_type": "code",
   "execution_count": 45,
   "id": "cbee2ee6",
   "metadata": {},
   "outputs": [
    {
     "name": "stdout",
     "output_type": "stream",
     "text": [
      "Duplicados em pns2019: 0\n",
      "Duplicados em base_outliers: 0\n"
     ]
    }
   ],
   "source": [
    "# Ver duplicados na base pns2019\n",
    "duplicados_pns = pns2019[pns2019.duplicated('chave_pessoa', keep=False)]\n",
    "\n",
    "# Ver duplicados na base base_outliers\n",
    "duplicados_outliers = base_sem_outliers[base_sem_outliers.duplicated('chave_pessoa', keep=False)]\n",
    "\n",
    "print(\"Duplicados em pns2019:\", pns2019['chave_pessoa'].duplicated().sum())\n",
    "print(\"Duplicados em base_outliers:\", base_sem_outliers['chave_pessoa'].duplicated().sum())"
   ]
  }
 ],
 "metadata": {
  "kernelspec": {
   "display_name": "Python 3",
   "language": "python",
   "name": "python3"
  },
  "language_info": {
   "codemirror_mode": {
    "name": "ipython",
    "version": 3
   },
   "file_extension": ".py",
   "mimetype": "text/x-python",
   "name": "python",
   "nbconvert_exporter": "python",
   "pygments_lexer": "ipython3",
   "version": "3.13.2"
  }
 },
 "nbformat": 4,
 "nbformat_minor": 5
}
