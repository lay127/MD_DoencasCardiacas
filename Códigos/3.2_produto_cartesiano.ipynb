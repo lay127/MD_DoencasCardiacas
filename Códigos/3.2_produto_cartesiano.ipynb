{
 "cells": [
  {
   "cell_type": "code",
   "execution_count": 1,
   "id": "4a4551df",
   "metadata": {},
   "outputs": [],
   "source": [
    "import pandas as pd\n",
    "import numpy as np"
   ]
  },
  {
   "cell_type": "code",
   "execution_count": 2,
   "id": "b2ae8773",
   "metadata": {},
   "outputs": [],
   "source": [
    "df =  pd.read_csv('../Bases/Criados/4_base_preenchida.csv')"
   ]
  },
  {
   "cell_type": "code",
   "execution_count": 3,
   "id": "5e21af81",
   "metadata": {},
   "outputs": [],
   "source": [
    "df = df.drop(columns=['B001', 'E006011', 'E008', 'J01101', 'M00203', 'P02001', 'P02002','P02501', 'P02602', 'P06701', 'T001', 'H001', 'H002', 'H003', 'H004','H010', 'N00101',\n",
    "                      'Temporariamente_afastado', 'Mobilidade_auxiliar', 'Exposicao_quimica', 'Exposicao_ruido', 'Exposicao_lixo', 'Exposicao_minerio', 'Doses_semanais',\n",
    "                      'Plano_publico', 'Cobertura_plano', 'P068', 'Q06307', 'Q06308', 'Q06309', 'Q06310', 'Q06311'])"
   ]
  },
  {
   "cell_type": "code",
   "execution_count": 181,
   "id": "13d8ae4a",
   "metadata": {},
   "outputs": [
    {
     "ename": "AttributeError",
     "evalue": "'list' object has no attribute 'reset_index'",
     "output_type": "error",
     "traceback": [
      "\u001b[1;31m---------------------------------------------------------------------------\u001b[0m",
      "\u001b[1;31mAttributeError\u001b[0m                            Traceback (most recent call last)",
      "Cell \u001b[1;32mIn[181], line 3\u001b[0m\n\u001b[0;32m      1\u001b[0m \u001b[38;5;66;03m#Mantém apenas as linhas onde C009 está entre 1 e 5;\u001b[39;00m\n\u001b[0;32m      2\u001b[0m \u001b[38;5;66;03m#Reseta o índice, para que a base fique com numeração sequencial limpa.\u001b[39;00m\n\u001b[1;32m----> 3\u001b[0m df \u001b[38;5;241m=\u001b[39m \u001b[43m[\u001b[49m\u001b[43mdf\u001b[49m\u001b[43m[\u001b[49m\u001b[38;5;124;43m'\u001b[39;49m\u001b[38;5;124;43mC009\u001b[39;49m\u001b[38;5;124;43m'\u001b[39;49m\u001b[43m]\u001b[49m\u001b[38;5;241;43m.\u001b[39;49m\u001b[43misin\u001b[49m\u001b[43m(\u001b[49m\u001b[43m[\u001b[49m\u001b[38;5;241;43m1\u001b[39;49m\u001b[43m,\u001b[49m\u001b[43m \u001b[49m\u001b[38;5;241;43m2\u001b[39;49m\u001b[43m,\u001b[49m\u001b[43m \u001b[49m\u001b[38;5;241;43m3\u001b[39;49m\u001b[43m,\u001b[49m\u001b[43m \u001b[49m\u001b[38;5;241;43m4\u001b[39;49m\u001b[43m,\u001b[49m\u001b[43m \u001b[49m\u001b[38;5;241;43m5\u001b[39;49m\u001b[43m]\u001b[49m\u001b[43m)\u001b[49m\u001b[43m]\u001b[49m\u001b[38;5;241;43m.\u001b[39;49m\u001b[43mreset_index\u001b[49m(drop\u001b[38;5;241m=\u001b[39m\u001b[38;5;28;01mTrue\u001b[39;00m)\n",
      "\u001b[1;31mAttributeError\u001b[0m: 'list' object has no attribute 'reset_index'"
     ]
    }
   ],
   "source": [
    "#Mantém apenas as linhas onde C009 está entre 1 e 5;\n",
    "#Reseta o índice, para que a base fique com numeração sequencial limpa.\n",
    "df = [df['C009'].isin([1, 2, 3, 4, 5])].reset_index(drop=True)"
   ]
  },
  {
   "cell_type": "code",
   "execution_count": 4,
   "id": "b66c44d8",
   "metadata": {},
   "outputs": [],
   "source": [
    "#Renda\n",
    "\n",
    "df['F001021'] = df.apply(lambda x: x['F001021'] if x['F001011'] == 1 else 0, axis=1)\n",
    "df['F007021'] = df.apply(lambda x: x['F007021'] if x['F007011'] == 1 else 0, axis=1)\n",
    "df['F008021'] = df.apply(lambda x: x['F008021'] if x['F008011'] == 1 else 0, axis=1)\n",
    "df['VDF00102'] = df.apply(lambda x: x['VDF00102'] if x['VDF001'] == 1 else 0, axis=1)\n",
    "\n",
    "# Somando tudo com a renda\n",
    "df['Renda'] = df['Renda'] + df['F001021'] + df['F007021'] + df['F008021'] + df['VDF00102']\n",
    "\n",
    "df = df.drop('F001021', axis=1)\n",
    "df = df.drop('F007021', axis=1)\n",
    "df = df.drop('F008021', axis=1)\n",
    "df = df.drop('VDF00102', axis=1)\n",
    "df = df.drop('F001011', axis=1)\n",
    "df = df.drop('F007011', axis=1)\n",
    "df = df.drop('F008011', axis=1)\n",
    "df = df.drop('VDF001', axis=1)"
   ]
  },
  {
   "cell_type": "markdown",
   "id": "07abb153",
   "metadata": {},
   "source": [
    "#### lalalalala"
   ]
  },
  {
   "cell_type": "markdown",
   "id": "8e93b441",
   "metadata": {},
   "source": [
    "1. J002- Nas duas últimas semanas, ___ deixou de realizar quaisquer de suas atividades habituais (trabalhar, ir à escola, brincar, afazeres domésticos etc.) por motivo da própria saúde\n",
    "2. J00402- Qual foi o principal motivo de saúde que impediu ___ de realizar suas atividades habituais nas duas últimas semanas\n",
    "3. J00404- Este motivo de saúde estava relacionado ao trabalho\n",
    "\n",
    "se J002 = 2, então 0.\n",
    "\n",
    "se J002 = 1 e J00402 = 8 e J00404 = 1, então 1.\n",
    "\n",
    "se J002 = 1 e J00402 = 8 e J00404 = 2, então 2.\n"
   ]
  },
  {
   "cell_type": "code",
   "execution_count": 5,
   "id": "29037b65",
   "metadata": {},
   "outputs": [],
   "source": [
    "condicoes = [\n",
    "    df['J002'] == 2,\n",
    "    (df['J002'] == 1) & (df['J00402'] == 8) & (df['J00404'] == 1),\n",
    "    (df['J002'] == 1) & (df['J00402'] == 8) & (df['J00404'] == 2)\n",
    "]\n",
    "\n",
    "# Resultados correspondentes às condições\n",
    "valores = [0, 1, 2]\n",
    "\n",
    "# Crie o novo atributo\n",
    "df['AusenciaTrabalhoPorDC'] = np.select(condicoes, valores, default=np.nan)"
   ]
  },
  {
   "cell_type": "code",
   "execution_count": 6,
   "id": "315e9d23",
   "metadata": {},
   "outputs": [
    {
     "name": "stdout",
     "output_type": "stream",
     "text": [
      "2639\n"
     ]
    }
   ],
   "source": [
    "print(df['AusenciaTrabalhoPorDC'].isna().sum())\n"
   ]
  },
  {
   "cell_type": "code",
   "execution_count": 7,
   "id": "7329fc19",
   "metadata": {},
   "outputs": [],
   "source": [
    "df['AusenciaTrabalhoPorDC'] = df['AusenciaTrabalhoPorDC'].fillna(0)"
   ]
  },
  {
   "cell_type": "code",
   "execution_count": 8,
   "id": "70a752f8",
   "metadata": {},
   "outputs": [],
   "source": [
    "df = df.drop(columns=['J001', 'J002', 'J00402', 'J00404'])"
   ]
  },
  {
   "cell_type": "markdown",
   "id": "1bb10461",
   "metadata": {},
   "source": [
    "#### lalalla"
   ]
  },
  {
   "cell_type": "markdown",
   "id": "fed7e3f9",
   "metadata": {},
   "source": [
    "1. J007 -  Algum médico já deu o diagnóstico de alguma doença  crônica, física ou mental, ou doença de longa duração (de mais de 6 meses de duração) a  ___ ?\n",
    "2. J00801 - Alguma dessas doenças limita de alguma forma suas atividades habituais (trabalhar, ir à escola, brincar, afazeres domésticos, etc.)\n",
    "\n",
    "se J007 = 2, então 0.\n",
    "\n",
    "se J007 = 1 e J00801 = 1, então 1.\n",
    "\n",
    "se J007 = 1 e J00801 = 2, então 2."
   ]
  },
  {
   "cell_type": "code",
   "execution_count": 9,
   "id": "07cac79c",
   "metadata": {},
   "outputs": [],
   "source": [
    "condicoes = [\n",
    "    df['J007'] == 2,\n",
    "    (df['J007'] == 1) & (df['J00801'] == 1),\n",
    "    (df['J007'] == 1) & (df['J00801'] == 2)\n",
    "]\n",
    "\n",
    "# Valores correspondentes às condições\n",
    "valores = [0, 1, 2]\n",
    "\n",
    "# Criando novo atributo\n",
    "df['Doenca_limitante'] = np.select(condicoes, valores, default=np.nan)"
   ]
  },
  {
   "cell_type": "code",
   "execution_count": 10,
   "id": "f45a04b6",
   "metadata": {},
   "outputs": [
    {
     "name": "stdout",
     "output_type": "stream",
     "text": [
      "0\n"
     ]
    }
   ],
   "source": [
    "print(df['Doenca_limitante'].isna().sum())"
   ]
  },
  {
   "cell_type": "code",
   "execution_count": 11,
   "id": "ba76bfae",
   "metadata": {},
   "outputs": [],
   "source": [
    "df = df = df.drop(columns=['J007', 'J00801'])"
   ]
  },
  {
   "cell_type": "markdown",
   "id": "8adbc2c9",
   "metadata": {},
   "source": [
    "#### Produto cartesiano N010, N011, N012 e N016"
   ]
  },
  {
   "cell_type": "code",
   "execution_count": 90,
   "id": "e48d5deb",
   "metadata": {},
   "outputs": [
    {
     "name": "stdout",
     "output_type": "stream",
     "text": [
      "   N010  N011  N012  N016\n",
      "0     1     1     1     1\n",
      "1     1     1     1     2\n",
      "2     1     1     1     3\n",
      "3     1     1     1     4\n",
      "4     1     1     2     1\n"
     ]
    }
   ],
   "source": [
    "import itertools\n",
    "\n",
    "# Supondo que essas sejam as categorias possíveis (ajuste conforme o dicionário da PNS)\n",
    "categorias = [1, 2, 3, 4]  # Por exemplo: 1=Nunca, 2=Raramente, ..., 5=Sempre\n",
    "\n",
    "# Produto cartesiano\n",
    "combinacoes = list(itertools.product(categorias, repeat=4))\n",
    "\n",
    "# Transformar em DataFrame para visualização\n",
    "import pandas as pd\n",
    "df_combinacoes = pd.DataFrame(combinacoes, columns=['N010', 'N011', 'N012', 'N016'])\n",
    "\n",
    "print(df_combinacoes.head())\n"
   ]
  },
  {
   "cell_type": "code",
   "execution_count": 91,
   "id": "a27f8d85",
   "metadata": {},
   "outputs": [],
   "source": [
    "# Como string: para criar um código tipo \"1-2-3\"\n",
    "df['sono_combinado'] = df['N010'].astype(str) + '-' + df['N011'].astype(str) + '-' + df['N012'].astype(str)\n",
    "\n",
    "# Ou como tupla (útil para agrupar e contar depois)\n",
    "df['sono_combinado_tuple'] = list(zip(df['N010'], df['N011'], df['N012']))\n"
   ]
  },
  {
   "cell_type": "code",
   "execution_count": 92,
   "id": "58b192e0",
   "metadata": {},
   "outputs": [
    {
     "data": {
      "application/vnd.microsoft.datawrangler.viewer.v0+json": {
       "columns": [
        {
         "name": "index",
         "rawType": "int64",
         "type": "integer"
        },
        {
         "name": "sono_combinado",
         "rawType": "object",
         "type": "string"
        },
        {
         "name": "frequencia",
         "rawType": "int64",
         "type": "integer"
        }
       ],
       "conversionMethod": "pd.DataFrame",
       "ref": "d168d897-b4ca-4c45-a408-c0f3c331ee40",
       "rows": [
        [
         "0",
         "1.0-1.0-1.0",
         "10577"
        ],
        [
         "1",
         "2.0-1.0-1.0",
         "1610"
        ],
        [
         "2",
         "1.0-2.0-1.0",
         "1309"
        ],
        [
         "3",
         "2.0-2.0-2.0",
         "1074"
        ],
        [
         "4",
         "2.0-2.0-1.0",
         "922"
        ],
        [
         "5",
         "4.0-1.0-1.0",
         "873"
        ],
        [
         "6",
         "1.0-2.0-2.0",
         "856"
        ],
        [
         "7",
         "1.0-1.0-2.0",
         "655"
        ],
        [
         "8",
         "4.0-4.0-4.0",
         "589"
        ],
        [
         "9",
         "3.0-1.0-1.0",
         "485"
        ],
        [
         "10",
         "4.0-2.0-2.0",
         "371"
        ],
        [
         "11",
         "4.0-2.0-1.0",
         "351"
        ],
        [
         "12",
         "3.0-2.0-2.0",
         "282"
        ],
        [
         "13",
         "2.0-1.0-2.0",
         "277"
        ],
        [
         "14",
         "4.0-4.0-1.0",
         "245"
        ],
        [
         "15",
         "4.0-4.0-2.0",
         "216"
        ],
        [
         "16",
         "3.0-2.0-1.0",
         "216"
        ],
        [
         "17",
         "3.0-3.0-3.0",
         "208"
        ],
        [
         "18",
         "1.0-3.0-1.0",
         "184"
        ],
        [
         "19",
         "1.0-4.0-1.0",
         "172"
        ],
        [
         "20",
         "4.0-1.0-2.0",
         "171"
        ],
        [
         "21",
         "3.0-3.0-2.0",
         "146"
        ],
        [
         "22",
         "3.0-3.0-1.0",
         "137"
        ],
        [
         "23",
         "4.0-3.0-3.0",
         "133"
        ],
        [
         "24",
         "2.0-3.0-2.0",
         "121"
        ],
        [
         "25",
         "2.0-4.0-4.0",
         "117"
        ],
        [
         "26",
         "4.0-4.0-3.0",
         "113"
        ],
        [
         "27",
         "1.0-4.0-4.0",
         "107"
        ],
        [
         "28",
         "1.0-3.0-2.0",
         "102"
        ],
        [
         "29",
         "2.0-3.0-3.0",
         "101"
        ],
        [
         "30",
         "2.0-3.0-1.0",
         "101"
        ],
        [
         "31",
         "4.0-3.0-1.0",
         "100"
        ],
        [
         "32",
         "3.0-1.0-2.0",
         "95"
        ],
        [
         "33",
         "4.0-3.0-2.0",
         "90"
        ],
        [
         "34",
         "2.0-4.0-1.0",
         "83"
        ],
        [
         "35",
         "2.0-4.0-2.0",
         "80"
        ],
        [
         "36",
         "1.0-3.0-3.0",
         "79"
        ],
        [
         "37",
         "2.0-2.0-3.0",
         "78"
        ],
        [
         "38",
         "1.0-4.0-2.0",
         "78"
        ],
        [
         "39",
         "4.0-2.0-4.0",
         "66"
        ],
        [
         "40",
         "1.0-1.0-3.0",
         "60"
        ],
        [
         "41",
         "1.0-2.0-3.0",
         "55"
        ],
        [
         "42",
         "4.0-1.0-4.0",
         "53"
        ],
        [
         "43",
         "4.0-3.0-4.0",
         "50"
        ],
        [
         "44",
         "3.0-2.0-3.0",
         "48"
        ],
        [
         "45",
         "4.0-2.0-3.0",
         "47"
        ],
        [
         "46",
         "3.0-4.0-4.0",
         "41"
        ],
        [
         "47",
         "2.0-4.0-3.0",
         "41"
        ],
        [
         "48",
         "1.0-4.0-3.0",
         "39"
        ],
        [
         "49",
         "1.0-1.0-4.0",
         "39"
        ]
       ],
       "shape": {
        "columns": 2,
        "rows": 64
       }
      },
      "text/html": [
       "<div>\n",
       "<style scoped>\n",
       "    .dataframe tbody tr th:only-of-type {\n",
       "        vertical-align: middle;\n",
       "    }\n",
       "\n",
       "    .dataframe tbody tr th {\n",
       "        vertical-align: top;\n",
       "    }\n",
       "\n",
       "    .dataframe thead th {\n",
       "        text-align: right;\n",
       "    }\n",
       "</style>\n",
       "<table border=\"1\" class=\"dataframe\">\n",
       "  <thead>\n",
       "    <tr style=\"text-align: right;\">\n",
       "      <th></th>\n",
       "      <th>sono_combinado</th>\n",
       "      <th>frequencia</th>\n",
       "    </tr>\n",
       "  </thead>\n",
       "  <tbody>\n",
       "    <tr>\n",
       "      <th>0</th>\n",
       "      <td>1.0-1.0-1.0</td>\n",
       "      <td>10577</td>\n",
       "    </tr>\n",
       "    <tr>\n",
       "      <th>1</th>\n",
       "      <td>2.0-1.0-1.0</td>\n",
       "      <td>1610</td>\n",
       "    </tr>\n",
       "    <tr>\n",
       "      <th>2</th>\n",
       "      <td>1.0-2.0-1.0</td>\n",
       "      <td>1309</td>\n",
       "    </tr>\n",
       "    <tr>\n",
       "      <th>3</th>\n",
       "      <td>2.0-2.0-2.0</td>\n",
       "      <td>1074</td>\n",
       "    </tr>\n",
       "    <tr>\n",
       "      <th>4</th>\n",
       "      <td>2.0-2.0-1.0</td>\n",
       "      <td>922</td>\n",
       "    </tr>\n",
       "    <tr>\n",
       "      <th>...</th>\n",
       "      <td>...</td>\n",
       "      <td>...</td>\n",
       "    </tr>\n",
       "    <tr>\n",
       "      <th>59</th>\n",
       "      <td>3.0-4.0-3.0</td>\n",
       "      <td>19</td>\n",
       "    </tr>\n",
       "    <tr>\n",
       "      <th>60</th>\n",
       "      <td>2.0-1.0-4.0</td>\n",
       "      <td>17</td>\n",
       "    </tr>\n",
       "    <tr>\n",
       "      <th>61</th>\n",
       "      <td>2.0-3.0-4.0</td>\n",
       "      <td>16</td>\n",
       "    </tr>\n",
       "    <tr>\n",
       "      <th>62</th>\n",
       "      <td>3.0-1.0-4.0</td>\n",
       "      <td>10</td>\n",
       "    </tr>\n",
       "    <tr>\n",
       "      <th>63</th>\n",
       "      <td>3.0-2.0-4.0</td>\n",
       "      <td>7</td>\n",
       "    </tr>\n",
       "  </tbody>\n",
       "</table>\n",
       "<p>64 rows × 2 columns</p>\n",
       "</div>"
      ],
      "text/plain": [
       "   sono_combinado  frequencia\n",
       "0     1.0-1.0-1.0       10577\n",
       "1     2.0-1.0-1.0        1610\n",
       "2     1.0-2.0-1.0        1309\n",
       "3     2.0-2.0-2.0        1074\n",
       "4     2.0-2.0-1.0         922\n",
       "..            ...         ...\n",
       "59    3.0-4.0-3.0          19\n",
       "60    2.0-1.0-4.0          17\n",
       "61    2.0-3.0-4.0          16\n",
       "62    3.0-1.0-4.0          10\n",
       "63    3.0-2.0-4.0           7\n",
       "\n",
       "[64 rows x 2 columns]"
      ]
     },
     "execution_count": 92,
     "metadata": {},
     "output_type": "execute_result"
    }
   ],
   "source": [
    "# Como DataFrame\n",
    "frequencias = df['sono_combinado'].value_counts().reset_index()\n",
    "frequencias.columns = ['sono_combinado', 'frequencia']\n",
    "\n",
    "frequencias\n"
   ]
  },
  {
   "cell_type": "code",
   "execution_count": 93,
   "id": "493a804e",
   "metadata": {},
   "outputs": [],
   "source": [
    "df = df.drop(columns=['sono_combinado', 'sono_combinado_tuple'])"
   ]
  },
  {
   "cell_type": "markdown",
   "id": "a565ea65",
   "metadata": {},
   "source": [
    "#### IMC"
   ]
  },
  {
   "cell_type": "code",
   "execution_count": 12,
   "id": "5ea56678",
   "metadata": {},
   "outputs": [],
   "source": [
    "# Calculando o IMC (peso / altura²) e convertendo altura de cm para metros\n",
    "df['imc'] = df['P00104'] / ((df['P00404'] / 100) ** 2)\n",
    "\n",
    "# Classificando em faixas\n",
    "conditions = [\n",
    "    (df['imc'] < 18.5),\n",
    "    ((df['imc'] >= 18.5) & (df['imc'] < 25)),\n",
    "    ((df['imc'] >= 25) & (df['imc'] < 30)),\n",
    "    ((df['imc'] >= 30) & (df['imc'] < 35)),\n",
    "    ((df['imc'] >= 35) & (df['imc'] < 40)),\n",
    "    (df['imc'] >= 40)\n",
    "]\n",
    "\n",
    "labels = [\n",
    "    'Abaixo do peso',\n",
    "    'Peso normal',\n",
    "    'Sobrepeso',\n",
    "    'Obesidade Grau I',\n",
    "    'Obesidade Grau II',\n",
    "    'Obesidade Grau III'\n",
    "]\n",
    "\n",
    "# Criando a coluna com as faixas\n",
    "df['faixa_imc'] = np.select(conditions, labels, default='Dados inválidos')\n",
    "\n",
    "# Opcional: Arredondar o IMC para 2 casas decimais\n",
    "df['imc'] = df['imc'].round(2)"
   ]
  },
  {
   "cell_type": "code",
   "execution_count": 13,
   "id": "21ee359d",
   "metadata": {},
   "outputs": [],
   "source": [
    "df = df.drop(columns=['P00104', 'P00404'])"
   ]
  },
  {
   "cell_type": "markdown",
   "id": "a1f4f4de",
   "metadata": {},
   "source": [
    "#### Produto cartesiano P04501 e P04502"
   ]
  },
  {
   "cell_type": "code",
   "execution_count": 96,
   "id": "c79188de",
   "metadata": {},
   "outputs": [
    {
     "name": "stdout",
     "output_type": "stream",
     "text": [
      "    P04501  P04502\n",
      "0        1       1\n",
      "1        1       2\n",
      "2        1       3\n",
      "3        1       4\n",
      "4        1       5\n",
      "5        1       6\n",
      "6        2       1\n",
      "7        2       2\n",
      "8        2       3\n",
      "9        2       4\n",
      "10       2       5\n",
      "11       2       6\n",
      "12       3       1\n",
      "13       3       2\n",
      "14       3       3\n",
      "15       3       4\n",
      "16       3       5\n",
      "17       3       6\n",
      "18       4       1\n",
      "19       4       2\n",
      "20       4       3\n",
      "21       4       4\n",
      "22       4       5\n",
      "23       4       6\n",
      "24       5       1\n",
      "25       5       2\n",
      "26       5       3\n",
      "27       5       4\n",
      "28       5       5\n",
      "29       5       6\n",
      "30       6       1\n",
      "31       6       2\n",
      "32       6       3\n",
      "33       6       4\n",
      "34       6       5\n",
      "35       6       6\n"
     ]
    }
   ],
   "source": [
    "import itertools\n",
    "import pandas as pd\n",
    "\n",
    "# Categorias possíveis: opções de 1 a 6\n",
    "categorias = list(range(1, 7))\n",
    "\n",
    "# Produto cartesiano\n",
    "combinacoes = list(itertools.product(categorias, categorias))\n",
    "\n",
    "# Transformar em DataFrame\n",
    "df_combinacoes = pd.DataFrame(combinacoes, columns=['P04501', 'P04502'])\n",
    "\n",
    "print(df_combinacoes)"
   ]
  },
  {
   "cell_type": "code",
   "execution_count": 97,
   "id": "1b0eddfa",
   "metadata": {},
   "outputs": [],
   "source": [
    "df['tela_combinado'] = df['P04501'].astype(str) + '-' + df['P04502'].astype(str)"
   ]
  },
  {
   "cell_type": "code",
   "execution_count": 98,
   "id": "d85a9de7",
   "metadata": {},
   "outputs": [
    {
     "data": {
      "application/vnd.microsoft.datawrangler.viewer.v0+json": {
       "columns": [
        {
         "name": "index",
         "rawType": "int64",
         "type": "integer"
        },
        {
         "name": "tela_combinado",
         "rawType": "object",
         "type": "string"
        },
        {
         "name": "frequencia",
         "rawType": "int64",
         "type": "integer"
        }
       ],
       "conversionMethod": "pd.DataFrame",
       "ref": "29ededaf-a3b3-4797-958e-6891794e70c9",
       "rows": [
        [
         "0",
         "2.0-6.0",
         "3481"
        ],
        [
         "1",
         "3.0-6.0",
         "2554"
        ],
        [
         "2",
         "1.0-6.0",
         "2136"
        ],
        [
         "3",
         "4.0-6.0",
         "1845"
        ],
        [
         "4",
         "2.0-1.0",
         "1311"
        ],
        [
         "5",
         "6.0-6.0",
         "1285"
        ],
        [
         "6",
         "1.0-1.0",
         "1199"
        ],
        [
         "7",
         "2.0-2.0",
         "1186"
        ],
        [
         "8",
         "3.0-1.0",
         "915"
        ],
        [
         "9",
         "3.0-2.0",
         "806"
        ],
        [
         "10",
         "5.0-6.0",
         "799"
        ],
        [
         "11",
         "4.0-1.0",
         "681"
        ],
        [
         "12",
         "1.0-2.0",
         "668"
        ],
        [
         "13",
         "3.0-3.0",
         "544"
        ],
        [
         "14",
         "2.0-3.0",
         "544"
        ],
        [
         "15",
         "4.0-2.0",
         "480"
        ],
        [
         "16",
         "4.0-4.0",
         "370"
        ],
        [
         "17",
         "1.0-3.0",
         "366"
        ],
        [
         "18",
         "2.0-4.0",
         "348"
        ],
        [
         "19",
         "3.0-4.0",
         "306"
        ],
        [
         "20",
         "4.0-3.0",
         "303"
        ],
        [
         "21",
         "6.0-1.0",
         "281"
        ],
        [
         "22",
         "5.0-1.0",
         "234"
        ],
        [
         "23",
         "6.0-2.0",
         "226"
        ],
        [
         "24",
         "1.0-4.0",
         "209"
        ],
        [
         "25",
         "4.0-5.0",
         "167"
        ],
        [
         "26",
         "5.0-2.0",
         "133"
        ],
        [
         "27",
         "2.0-5.0",
         "131"
        ],
        [
         "28",
         "6.0-3.0",
         "125"
        ],
        [
         "29",
         "1.0-5.0",
         "125"
        ],
        [
         "30",
         "5.0-5.0",
         "124"
        ],
        [
         "31",
         "6.0-4.0",
         "110"
        ],
        [
         "32",
         "3.0-5.0",
         "108"
        ],
        [
         "33",
         "5.0-4.0",
         "103"
        ],
        [
         "34",
         "5.0-3.0",
         "74"
        ],
        [
         "35",
         "6.0-5.0",
         "68"
        ]
       ],
       "shape": {
        "columns": 2,
        "rows": 36
       }
      },
      "text/html": [
       "<div>\n",
       "<style scoped>\n",
       "    .dataframe tbody tr th:only-of-type {\n",
       "        vertical-align: middle;\n",
       "    }\n",
       "\n",
       "    .dataframe tbody tr th {\n",
       "        vertical-align: top;\n",
       "    }\n",
       "\n",
       "    .dataframe thead th {\n",
       "        text-align: right;\n",
       "    }\n",
       "</style>\n",
       "<table border=\"1\" class=\"dataframe\">\n",
       "  <thead>\n",
       "    <tr style=\"text-align: right;\">\n",
       "      <th></th>\n",
       "      <th>tela_combinado</th>\n",
       "      <th>frequencia</th>\n",
       "    </tr>\n",
       "  </thead>\n",
       "  <tbody>\n",
       "    <tr>\n",
       "      <th>0</th>\n",
       "      <td>2.0-6.0</td>\n",
       "      <td>3481</td>\n",
       "    </tr>\n",
       "    <tr>\n",
       "      <th>1</th>\n",
       "      <td>3.0-6.0</td>\n",
       "      <td>2554</td>\n",
       "    </tr>\n",
       "    <tr>\n",
       "      <th>2</th>\n",
       "      <td>1.0-6.0</td>\n",
       "      <td>2136</td>\n",
       "    </tr>\n",
       "    <tr>\n",
       "      <th>3</th>\n",
       "      <td>4.0-6.0</td>\n",
       "      <td>1845</td>\n",
       "    </tr>\n",
       "    <tr>\n",
       "      <th>4</th>\n",
       "      <td>2.0-1.0</td>\n",
       "      <td>1311</td>\n",
       "    </tr>\n",
       "    <tr>\n",
       "      <th>5</th>\n",
       "      <td>6.0-6.0</td>\n",
       "      <td>1285</td>\n",
       "    </tr>\n",
       "    <tr>\n",
       "      <th>6</th>\n",
       "      <td>1.0-1.0</td>\n",
       "      <td>1199</td>\n",
       "    </tr>\n",
       "    <tr>\n",
       "      <th>7</th>\n",
       "      <td>2.0-2.0</td>\n",
       "      <td>1186</td>\n",
       "    </tr>\n",
       "    <tr>\n",
       "      <th>8</th>\n",
       "      <td>3.0-1.0</td>\n",
       "      <td>915</td>\n",
       "    </tr>\n",
       "    <tr>\n",
       "      <th>9</th>\n",
       "      <td>3.0-2.0</td>\n",
       "      <td>806</td>\n",
       "    </tr>\n",
       "    <tr>\n",
       "      <th>10</th>\n",
       "      <td>5.0-6.0</td>\n",
       "      <td>799</td>\n",
       "    </tr>\n",
       "    <tr>\n",
       "      <th>11</th>\n",
       "      <td>4.0-1.0</td>\n",
       "      <td>681</td>\n",
       "    </tr>\n",
       "    <tr>\n",
       "      <th>12</th>\n",
       "      <td>1.0-2.0</td>\n",
       "      <td>668</td>\n",
       "    </tr>\n",
       "    <tr>\n",
       "      <th>13</th>\n",
       "      <td>3.0-3.0</td>\n",
       "      <td>544</td>\n",
       "    </tr>\n",
       "    <tr>\n",
       "      <th>14</th>\n",
       "      <td>2.0-3.0</td>\n",
       "      <td>544</td>\n",
       "    </tr>\n",
       "    <tr>\n",
       "      <th>15</th>\n",
       "      <td>4.0-2.0</td>\n",
       "      <td>480</td>\n",
       "    </tr>\n",
       "    <tr>\n",
       "      <th>16</th>\n",
       "      <td>4.0-4.0</td>\n",
       "      <td>370</td>\n",
       "    </tr>\n",
       "    <tr>\n",
       "      <th>17</th>\n",
       "      <td>1.0-3.0</td>\n",
       "      <td>366</td>\n",
       "    </tr>\n",
       "    <tr>\n",
       "      <th>18</th>\n",
       "      <td>2.0-4.0</td>\n",
       "      <td>348</td>\n",
       "    </tr>\n",
       "    <tr>\n",
       "      <th>19</th>\n",
       "      <td>3.0-4.0</td>\n",
       "      <td>306</td>\n",
       "    </tr>\n",
       "    <tr>\n",
       "      <th>20</th>\n",
       "      <td>4.0-3.0</td>\n",
       "      <td>303</td>\n",
       "    </tr>\n",
       "    <tr>\n",
       "      <th>21</th>\n",
       "      <td>6.0-1.0</td>\n",
       "      <td>281</td>\n",
       "    </tr>\n",
       "    <tr>\n",
       "      <th>22</th>\n",
       "      <td>5.0-1.0</td>\n",
       "      <td>234</td>\n",
       "    </tr>\n",
       "    <tr>\n",
       "      <th>23</th>\n",
       "      <td>6.0-2.0</td>\n",
       "      <td>226</td>\n",
       "    </tr>\n",
       "    <tr>\n",
       "      <th>24</th>\n",
       "      <td>1.0-4.0</td>\n",
       "      <td>209</td>\n",
       "    </tr>\n",
       "    <tr>\n",
       "      <th>25</th>\n",
       "      <td>4.0-5.0</td>\n",
       "      <td>167</td>\n",
       "    </tr>\n",
       "    <tr>\n",
       "      <th>26</th>\n",
       "      <td>5.0-2.0</td>\n",
       "      <td>133</td>\n",
       "    </tr>\n",
       "    <tr>\n",
       "      <th>27</th>\n",
       "      <td>2.0-5.0</td>\n",
       "      <td>131</td>\n",
       "    </tr>\n",
       "    <tr>\n",
       "      <th>28</th>\n",
       "      <td>6.0-3.0</td>\n",
       "      <td>125</td>\n",
       "    </tr>\n",
       "    <tr>\n",
       "      <th>29</th>\n",
       "      <td>1.0-5.0</td>\n",
       "      <td>125</td>\n",
       "    </tr>\n",
       "    <tr>\n",
       "      <th>30</th>\n",
       "      <td>5.0-5.0</td>\n",
       "      <td>124</td>\n",
       "    </tr>\n",
       "    <tr>\n",
       "      <th>31</th>\n",
       "      <td>6.0-4.0</td>\n",
       "      <td>110</td>\n",
       "    </tr>\n",
       "    <tr>\n",
       "      <th>32</th>\n",
       "      <td>3.0-5.0</td>\n",
       "      <td>108</td>\n",
       "    </tr>\n",
       "    <tr>\n",
       "      <th>33</th>\n",
       "      <td>5.0-4.0</td>\n",
       "      <td>103</td>\n",
       "    </tr>\n",
       "    <tr>\n",
       "      <th>34</th>\n",
       "      <td>5.0-3.0</td>\n",
       "      <td>74</td>\n",
       "    </tr>\n",
       "    <tr>\n",
       "      <th>35</th>\n",
       "      <td>6.0-5.0</td>\n",
       "      <td>68</td>\n",
       "    </tr>\n",
       "  </tbody>\n",
       "</table>\n",
       "</div>"
      ],
      "text/plain": [
       "   tela_combinado  frequencia\n",
       "0         2.0-6.0        3481\n",
       "1         3.0-6.0        2554\n",
       "2         1.0-6.0        2136\n",
       "3         4.0-6.0        1845\n",
       "4         2.0-1.0        1311\n",
       "5         6.0-6.0        1285\n",
       "6         1.0-1.0        1199\n",
       "7         2.0-2.0        1186\n",
       "8         3.0-1.0         915\n",
       "9         3.0-2.0         806\n",
       "10        5.0-6.0         799\n",
       "11        4.0-1.0         681\n",
       "12        1.0-2.0         668\n",
       "13        3.0-3.0         544\n",
       "14        2.0-3.0         544\n",
       "15        4.0-2.0         480\n",
       "16        4.0-4.0         370\n",
       "17        1.0-3.0         366\n",
       "18        2.0-4.0         348\n",
       "19        3.0-4.0         306\n",
       "20        4.0-3.0         303\n",
       "21        6.0-1.0         281\n",
       "22        5.0-1.0         234\n",
       "23        6.0-2.0         226\n",
       "24        1.0-4.0         209\n",
       "25        4.0-5.0         167\n",
       "26        5.0-2.0         133\n",
       "27        2.0-5.0         131\n",
       "28        6.0-3.0         125\n",
       "29        1.0-5.0         125\n",
       "30        5.0-5.0         124\n",
       "31        6.0-4.0         110\n",
       "32        3.0-5.0         108\n",
       "33        5.0-4.0         103\n",
       "34        5.0-3.0          74\n",
       "35        6.0-5.0          68"
      ]
     },
     "execution_count": 98,
     "metadata": {},
     "output_type": "execute_result"
    }
   ],
   "source": [
    "# Criar coluna combinada como string, tipo \"1-2\", \"3-4\"\n",
    "df['tela_combinado'] = df['P04501'].astype(str) + '-' + df['P04502'].astype(str)\n",
    "\n",
    "# Contar as combinações\n",
    "frequencias_tela = df['tela_combinado'].value_counts().reset_index()\n",
    "frequencias_tela.columns = ['tela_combinado', 'frequencia']\n",
    "\n",
    "# Visualizar o resultado\n",
    "frequencias_tela\n"
   ]
  },
  {
   "cell_type": "code",
   "execution_count": 99,
   "id": "b44a4675",
   "metadata": {},
   "outputs": [],
   "source": [
    "df = df.drop(columns=['tela_combinado'])"
   ]
  },
  {
   "cell_type": "markdown",
   "id": "5cc7344f",
   "metadata": {},
   "source": [
    "#### Discretização da variável contínua Q064 (idade do diagnóstico) em faixas categóricas:"
   ]
  },
  {
   "cell_type": "markdown",
   "id": "f33c769d",
   "metadata": {},
   "source": [
    "0 - não tem DC\n",
    "1 - de 0 a 25 anos\n",
    "2 - de 25 a 40 anos\n",
    "3 - de 40 a 55 anos\n",
    "4 - de 55 a 70 anos\n",
    "5 - > de 70 anos "
   ]
  },
  {
   "cell_type": "code",
   "execution_count": 14,
   "id": "c80c08a9",
   "metadata": {},
   "outputs": [],
   "source": [
    "def categorizar_dc(idade):\n",
    "    if idade == 0:\n",
    "        return 0  # Não tem doença do coração\n",
    "    elif idade <= 25:\n",
    "        return 1\n",
    "    elif idade <= 40:\n",
    "        return 2\n",
    "    elif idade <= 55:\n",
    "        return 3\n",
    "    elif idade <= 70:\n",
    "        return 4\n",
    "    else:\n",
    "        return 5\n",
    "\n",
    "df['Q064'] = df['Q064'].apply(categorizar_dc)"
   ]
  },
  {
   "cell_type": "code",
   "execution_count": 15,
   "id": "56d892d2",
   "metadata": {},
   "outputs": [
    {
     "data": {
      "text/plain": [
       "Q064\n",
       "0    22680\n",
       "1       94\n",
       "2      261\n",
       "3      584\n",
       "4      513\n",
       "5      186\n",
       "Name: count, dtype: int64"
      ]
     },
     "execution_count": 15,
     "metadata": {},
     "output_type": "execute_result"
    }
   ],
   "source": [
    "df['Q064'].value_counts().sort_index()"
   ]
  },
  {
   "cell_type": "markdown",
   "id": "d85ef6c7",
   "metadata": {},
   "source": [
    "#### Discretização da variável contínua Renda em faixas categóricas: "
   ]
  },
  {
   "cell_type": "markdown",
   "id": "100a1b78",
   "metadata": {},
   "source": [
    "#### Discretização da variável contínua Horas_trabalhadas em faixas categóricas: "
   ]
  },
  {
   "cell_type": "code",
   "execution_count": 16,
   "id": "3d4aa60d",
   "metadata": {},
   "outputs": [],
   "source": [
    "df = df.to_csv('../Bases/Criados/5_plano_cartesiano.csv', index=False)"
   ]
  },
  {
   "cell_type": "markdown",
   "id": "cb847616",
   "metadata": {},
   "source": [
    "# Drops não uteis"
   ]
  },
  {
   "cell_type": "code",
   "execution_count": null,
   "id": "1589ad2b",
   "metadata": {},
   "outputs": [],
   "source": [
    "# Não tem necessidade\n",
    "##df = df.drop('V0031', axis=1)"
   ]
  },
  {
   "cell_type": "code",
   "execution_count": 165,
   "id": "6fadcdec",
   "metadata": {},
   "outputs": [],
   "source": [
    "# J01101 Quando ____ consultou um médico pela última vez \n",
    "# H001 Quando foi a última vez que o(a) sr(a) consultou com um(a) médico(a)?\n",
    "# É a mesma coisa e não é util\n",
    "\n",
    "df = df.drop('J01101', axis=1)\n",
    "df = df.drop('H001', axis=1)\n",
    "\n",
    "# Primeira consulta com esse médico?\n",
    "# Local do atendimento\n",
    "# Dificuldade para atendimento\n",
    "# Todas essas tão bem inuteis\n",
    "\n",
    "df = df.drop('H002', axis=1)\n",
    "df = df.drop('H004', axis=1)\n",
    "df = df.drop('H010', axis=1)"
   ]
  },
  {
   "cell_type": "code",
   "execution_count": 166,
   "id": "8cf5240a",
   "metadata": {},
   "outputs": [],
   "source": [
    "# E006011 e E008 dropados por não trazerem muita info util\n",
    "df = df.drop('E008', axis=1)\n",
    "df = df.drop('E006011', axis=1)"
   ]
  },
  {
   "cell_type": "code",
   "execution_count": 167,
   "id": "6b5905f1",
   "metadata": {},
   "outputs": [],
   "source": [
    "# Não são muito uteis, eu sei que medem a cobertura do plano mas ta intankavel colocar isso aq\n",
    "# Titular do plano de saúde\n",
    "# Nº de ordem do titular\n",
    "# Plano de servidor público?\n",
    "\n",
    "# df = df.drop('I00103', axis=1)\n",
    "# df = df.drop('I001031', axis=1)\n",
    "# df = df.drop('I004', axis=1)"
   ]
  },
  {
   "cell_type": "markdown",
   "id": "a37dda7d",
   "metadata": {},
   "source": [
    "# Planos Cartesianos"
   ]
  },
  {
   "cell_type": "code",
   "execution_count": 168,
   "id": "123b52db",
   "metadata": {},
   "outputs": [],
   "source": [
    "# Juntei todos os atributos que diziam valor de renda que recebiam no renda\n",
    "\n",
    "# Ajustando os valores conforme as condições especificadas\n",
    "df['F001021'] = df.apply(lambda x: x['F001021'] if x['F001011'] == 1 else 0, axis=1)\n",
    "df['F007021'] = df.apply(lambda x: x['F007021'] if x['F007011'] == 1 else 0, axis=1)\n",
    "df['F008021'] = df.apply(lambda x: x['F008021'] if x['F008011'] == 1 else 0, axis=1)\n",
    "df['VDF00102'] = df.apply(lambda x: x['VDF00102'] if x['VDF001'] == 1 else 0, axis=1)\n",
    "\n",
    "# Somando tudo com a renda\n",
    "df['Renda'] = df['Renda'] + df['F001021'] + df['F007021'] + df['F008021'] + df['VDF00102']"
   ]
  },
  {
   "cell_type": "code",
   "execution_count": 169,
   "id": "5371348e",
   "metadata": {},
   "outputs": [],
   "source": [
    "# Dropei os atributos usados anteriormente\n",
    "df = df.drop('F001021', axis=1)\n",
    "df = df.drop('F007021', axis=1)\n",
    "df = df.drop('F008021', axis=1)\n",
    "df = df.drop('VDF00102', axis=1)\n",
    "df = df.drop('F001011', axis=1)\n",
    "df = df.drop('F007011', axis=1)\n",
    "df = df.drop('F008011', axis=1)\n",
    "df = df.drop('VDF001', axis=1)"
   ]
  },
  {
   "cell_type": "code",
   "execution_count": 170,
   "id": "9c3ca547",
   "metadata": {},
   "outputs": [],
   "source": [
    "# Criando o novo atributo combinado do plano de saude\n",
    "# df['Plano_de_Saúde_Cobertura'] = df['I00102'].astype(str)  # Começa com o valor de I00102\n",
    "\n",
    "# Combinando com I00401, I00402, I00403 apenas quando I00102 for 1\n",
    "#df.loc[df['I00102'] == 1, 'Plano_de_Saúde_Cobertura'] = (\n",
    "#   df['I00102'].astype(str) + ' ' + \n",
    "#    df['I00401'].astype(str) + ' ' + \n",
    "#    df['I00402'].astype(str) + ' ' +  \n",
    "#    df['I00403'].astype(str)\n",
    "#)\n",
    "\n",
    "# Quando I00102 for 2, mantém apenas \"2\" (não combina com os outros)\n",
    "#df.loc[df['I00102'] == 2, 'Plano_de_Saúde_Cobertura'] = '2'"
   ]
  },
  {
   "cell_type": "code",
   "execution_count": 171,
   "id": "a42dd85e",
   "metadata": {},
   "outputs": [],
   "source": [
    "# Dropei os atributos usados anteriormente\n",
    "#df = df.drop('I00401', axis=1)\n",
    "#df = df.drop('I00402', axis=1)\n",
    "#df = df.drop('I00403', axis=1)"
   ]
  },
  {
   "cell_type": "code",
   "execution_count": 172,
   "id": "347f43d6",
   "metadata": {},
   "outputs": [
    {
     "name": "stdout",
     "output_type": "stream",
     "text": [
      "Registros nulos na soma: 0\n"
     ]
    }
   ],
   "source": [
    "# Criando a nova coluna com a soma das horas tv e dispositivos\n",
    "df['horas_dispositivos_tv'] = df['P04501'] + df['P04502']\n",
    "\n",
    "# Verificando se há valores nulos (opcional)\n",
    "print(\"Registros nulos na soma:\", df['horas_dispositivos_tv'].isnull().sum())"
   ]
  },
  {
   "cell_type": "code",
   "execution_count": 173,
   "id": "a4a81c41",
   "metadata": {},
   "outputs": [
    {
     "data": {
      "text/plain": [
       "0         8.0\n",
       "1         7.0\n",
       "2         4.0\n",
       "3         6.0\n",
       "4         7.0\n",
       "         ... \n",
       "24340     4.0\n",
       "24341     8.0\n",
       "24342     4.0\n",
       "24343    10.0\n",
       "24344     8.0\n",
       "Name: horas_dispositivos_tv, Length: 24345, dtype: float64"
      ]
     },
     "execution_count": 173,
     "metadata": {},
     "output_type": "execute_result"
    }
   ],
   "source": [
    "df['horas_dispositivos_tv']"
   ]
  },
  {
   "cell_type": "code",
   "execution_count": 174,
   "id": "cc0deeba",
   "metadata": {},
   "outputs": [],
   "source": [
    "# Dropei os atributos usados anteriormente\n",
    "df = df.drop('P04501', axis=1)\n",
    "df = df.drop('P04502', axis=1)"
   ]
  },
  {
   "cell_type": "markdown",
   "id": "599ec50c",
   "metadata": {},
   "source": [
    "# IMC"
   ]
  },
  {
   "cell_type": "code",
   "execution_count": 175,
   "id": "a21611d0",
   "metadata": {},
   "outputs": [],
   "source": [
    "# calculo do imc, mas eu provavelmente vou mudar ele de lugar, pois precisamos inputar primeiro\n",
    "\n",
    "import numpy as np\n",
    "\n",
    "# Calculando o IMC (peso / altura²) e convertendo altura de cm para metros\n",
    "df['imc'] = df['P00104'] / ((df['P00404'] / 100) ** 2)\n",
    "\n",
    "# Classificando em faixas\n",
    "conditions = [\n",
    "    (df['imc'] < 18.5),\n",
    "    ((df['imc'] >= 18.5) & (df['imc'] < 25)),\n",
    "    ((df['imc'] >= 25) & (df['imc'] < 30)),\n",
    "    ((df['imc'] >= 30) & (df['imc'] < 35)),\n",
    "    ((df['imc'] >= 35) & (df['imc'] < 40)),\n",
    "    (df['imc'] >= 40)\n",
    "]\n",
    "\n",
    "labels = [\n",
    "    'Abaixo do peso',\n",
    "    'Peso normal',\n",
    "    'Sobrepeso',\n",
    "    'Obesidade Grau I',\n",
    "    'Obesidade Grau II',\n",
    "    'Obesidade Grau III'\n",
    "]\n",
    "\n",
    "# Criando a coluna com as faixas\n",
    "df['faixa_imc'] = np.select(conditions, labels, default='Dados inválidos')\n",
    "\n",
    "# Opcional: Arredondar o IMC para 2 casas decimais\n",
    "df['imc'] = df['imc'].round(2)"
   ]
  },
  {
   "cell_type": "code",
   "execution_count": 176,
   "id": "1d684c1c",
   "metadata": {},
   "outputs": [
    {
     "data": {
      "text/plain": [
       "0        25.88\n",
       "1        34.05\n",
       "2        36.89\n",
       "3        28.38\n",
       "4        28.96\n",
       "         ...  \n",
       "24340    24.84\n",
       "24341    23.62\n",
       "24342    22.32\n",
       "24343    25.51\n",
       "24344    31.53\n",
       "Name: imc, Length: 24345, dtype: float64"
      ]
     },
     "execution_count": 176,
     "metadata": {},
     "output_type": "execute_result"
    }
   ],
   "source": [
    "df['imc']"
   ]
  },
  {
   "cell_type": "markdown",
   "id": "b01cc80d",
   "metadata": {},
   "source": [
    "# Remoção de Registros"
   ]
  },
  {
   "cell_type": "code",
   "execution_count": 120,
   "id": "f28fbf18",
   "metadata": {},
   "outputs": [
    {
     "ename": "TypeError",
     "evalue": "object of type 'NoneType' has no len()",
     "output_type": "error",
     "traceback": [
      "\u001b[1;31m---------------------------------------------------------------------------\u001b[0m",
      "\u001b[1;31mTypeError\u001b[0m                                 Traceback (most recent call last)",
      "Cell \u001b[1;32mIn[120], line 4\u001b[0m\n\u001b[0;32m      1\u001b[0m \u001b[38;5;66;03m#Peso final tinha alguns registros em branco, então eu retirei eles\u001b[39;00m\n\u001b[0;32m      2\u001b[0m \n\u001b[0;32m      3\u001b[0m \u001b[38;5;66;03m# Total de registros antes de remover\u001b[39;00m\n\u001b[1;32m----> 4\u001b[0m total_antes \u001b[38;5;241m=\u001b[39m \u001b[38;5;28;43mlen\u001b[39;49m\u001b[43m(\u001b[49m\u001b[43mdf\u001b[49m\u001b[43m)\u001b[49m\n\u001b[0;32m      6\u001b[0m \u001b[38;5;66;03m# Remover linhas onde P00104 está vazio (NaN ou string vazia)\u001b[39;00m\n\u001b[0;32m      7\u001b[0m df \u001b[38;5;241m=\u001b[39m df[\u001b[38;5;241m~\u001b[39mdf[\u001b[38;5;124m'\u001b[39m\u001b[38;5;124mP00104\u001b[39m\u001b[38;5;124m'\u001b[39m]\u001b[38;5;241m.\u001b[39misna() \u001b[38;5;241m&\u001b[39m (df[\u001b[38;5;124m'\u001b[39m\u001b[38;5;124mP00104\u001b[39m\u001b[38;5;124m'\u001b[39m] \u001b[38;5;241m!=\u001b[39m \u001b[38;5;124m'\u001b[39m\u001b[38;5;124m'\u001b[39m)]\n",
      "\u001b[1;31mTypeError\u001b[0m: object of type 'NoneType' has no len()"
     ]
    }
   ],
   "source": [
    "#Peso final tinha alguns registros em branco, então eu retirei eles\n",
    "\n",
    "# Total de registros antes de remover\n",
    "total_antes = len(df)\n",
    "\n",
    "# Remover linhas onde P00104 está vazio (NaN ou string vazia)\n",
    "df = df[~df['P00104'].isna() & (df['P00104'] != '')]\n",
    "\n",
    "# Total de registros depois de remover\n",
    "total_depois = len(df)\n",
    "\n",
    "# Exibir quantos registros foram retirados\n",
    "registros_removidos = total_antes - total_depois\n",
    "print(f\"Registros removidos: {registros_removidos}\")\n",
    "\n",
    "# Total de registros antes de remover\n",
    "total_antes = len(df)"
   ]
  },
  {
   "cell_type": "markdown",
   "id": "5f0138cb",
   "metadata": {},
   "source": [
    "# Extras"
   ]
  },
  {
   "cell_type": "code",
   "execution_count": 178,
   "id": "e7718531",
   "metadata": {},
   "outputs": [
    {
     "name": "stdout",
     "output_type": "stream",
     "text": [
      "Series([], dtype: float64)\n"
     ]
    }
   ],
   "source": [
    "# Verificar colunas com dados faltantes\n",
    "colunas_com_faltantes = df.columns[df.isnull().any()].tolist()\n",
    "\n",
    "# Mostrar apenas as colunas com dados faltantes e a quantidade de faltantes\n",
    "df_faltantes = df[colunas_com_faltantes].isnull().sum()\n",
    "print(df_faltantes[df_faltantes > 0])"
   ]
  },
  {
   "cell_type": "code",
   "execution_count": 69,
   "id": "166072b6",
   "metadata": {},
   "outputs": [],
   "source": [
    "# 4. Salvar em um novo CSV (opcional)\n",
    "df.to_csv('../Bases/Criados/5_base_plano_cartesiano.csv', index=False)"
   ]
  }
 ],
 "metadata": {
  "kernelspec": {
   "display_name": "Python 3",
   "language": "python",
   "name": "python3"
  },
  "language_info": {
   "codemirror_mode": {
    "name": "ipython",
    "version": 3
   },
   "file_extension": ".py",
   "mimetype": "text/x-python",
   "name": "python",
   "nbconvert_exporter": "python",
   "pygments_lexer": "ipython3",
   "version": "3.13.2"
  }
 },
 "nbformat": 4,
 "nbformat_minor": 5
}
