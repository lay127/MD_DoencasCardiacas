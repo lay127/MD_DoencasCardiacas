{
 "cells": [
  {
   "cell_type": "code",
   "execution_count": 4,
   "id": "b75cf1b1",
   "metadata": {},
   "outputs": [],
   "source": [
    "import pandas as pd"
   ]
  },
  {
   "cell_type": "markdown",
   "id": "320f93b1",
   "metadata": {},
   "source": [
    "### Montando a base para tratamento de outliers"
   ]
  },
  {
   "cell_type": "code",
   "execution_count": 1,
   "id": "d10905da",
   "metadata": {},
   "outputs": [],
   "source": [
    "colunas_base_outliers = ['V0001', 'V0024', 'UPA_PNS', 'V0006_PNS', 'C00301', \n",
    "                        'V0015', 'V0026', 'V0031', 'B001', 'C006', 'C008', 'C009', 'C011', 'C012','D00901', 'D014', 'D015', 'E006011', 'E008', 'E01602', 'E017', 'E01802', 'E019', 'E027', \n",
    "                        'F001011', 'F001021', 'F007011', 'F007021', 'F008011', 'F008021', 'VDF001', 'VDF00102', 'F016', 'G059', 'G060', 'G062', 'G032', \n",
    "                        'I00102', 'I006', 'I004', 'I00401', 'I00402', 'I00403','I012', 'J001', 'J00101', 'J002', 'J00402', 'J00404', 'J007', 'J00801', 'J01101', 'J060', 'M001', 'M00203', 'M00302', 'M011011', 'M011021', 'M011051', 'M011071', \n",
    "                        'N004', 'N005', 'N008', 'N010', 'N011', 'N012', 'N016', 'P00104', 'P00404', 'P00901', 'P01101', 'P02001', 'P018', 'P02002', 'P02501', 'P02602', 'P02601', 'P027', 'P02801', 'P029', 'P035', 'P03701', 'P03702',\n",
    "                        'P04501', 'P04502', 'P050', 'P051', 'P052', 'P053', 'P05401', 'P05404', 'P05407', 'P05410', 'P05413', 'P05416', 'P05419', 'P06701', 'P068', 'Q00201', 'Q03001', 'Q060', 'Q06306', 'Q064',\n",
    "                        'Q06506', 'Q06507', 'Q06508', 'Q06509', 'Q06601', 'Q067', 'Q068', 'Q11006', 'Q128', 'T001', 'H003', 'H004', 'H010']"
   ]
  },
  {
   "cell_type": "code",
   "execution_count": 2,
   "id": "5cfcc85c",
   "metadata": {},
   "outputs": [
    {
     "ename": "NameError",
     "evalue": "name 'pd' is not defined",
     "output_type": "error",
     "traceback": [
      "\u001b[1;31m---------------------------------------------------------------------------\u001b[0m",
      "\u001b[1;31mNameError\u001b[0m                                 Traceback (most recent call last)",
      "Cell \u001b[1;32mIn[2], line 1\u001b[0m\n\u001b[1;32m----> 1\u001b[0m df \u001b[38;5;241m=\u001b[39m \u001b[43mpd\u001b[49m\u001b[38;5;241m.\u001b[39mread_csv(\u001b[38;5;124m'\u001b[39m\u001b[38;5;124m..\u001b[39m\u001b[38;5;130;01m\\\\\u001b[39;00m\u001b[38;5;124mBases\u001b[39m\u001b[38;5;130;01m\\\\\u001b[39;00m\u001b[38;5;124mOriginais\u001b[39m\u001b[38;5;130;01m\\\\\u001b[39;00m\u001b[38;5;124mpns2019.csv\u001b[39m\u001b[38;5;124m'\u001b[39m, usecols\u001b[38;5;241m=\u001b[39mcolunas_base_outliers)\n\u001b[0;32m      2\u001b[0m df\u001b[38;5;241m.\u001b[39mhead()\n",
      "\u001b[1;31mNameError\u001b[0m: name 'pd' is not defined"
     ]
    }
   ],
   "source": [
    "df = pd.read_csv('..\\\\Bases\\\\Originais\\\\pns2019.csv', usecols=colunas_base_outliers)\n",
    "df.head()"
   ]
  },
  {
   "cell_type": "code",
   "execution_count": null,
   "id": "c60cb62d",
   "metadata": {},
   "outputs": [],
   "source": [
    "# Códigos dos estados do Nordeste\n",
    "nordeste = [21, 22, 23, 24, 25, 26, 27, 28, 29]\n",
    "\n",
    "# Códigos dos estados do Centro-Oeste\n",
    "centro_oeste = [50, 51, 52, 53]\n",
    "\n",
    "df_filtrado = df.dropna(subset=['Q06306'])\n",
    "\n",
    "df_filtrado = df_filtrado[\n",
    "    (df_filtrado['V0015'] == 1) & #Tipo da entrevista: Realizada (1)\n",
    "    (df_filtrado['V0001'].isin(nordeste + centro_oeste)) & #Região nordeste e centro-oeste apenas\n",
    "    (~df_filtrado['C012'].isin([3, 9])) & #Informante do Módulo C \n",
    "    (~df_filtrado['D015'].isin([3, 9])) & #Informante do Módulo D \n",
    "    (~df_filtrado['E027'].isin([3, 9])) & #Informante do Módulo E \n",
    "    (~df_filtrado['F016'].isin([3, 9])) & #Informante do Módulo F \n",
    "    (~df_filtrado['G032'].isin([3, 9])) & #Informante do Módulo G \n",
    "    (~df_filtrado['I012'].isin([3, 9])) & #Informante do Módulo I \n",
    "    (~df_filtrado['J060'].isin([3, 9])) & #Informante do Módulo J \n",
    "    (df_filtrado['M001'] == 1) & #Entrevista do adulto selecionado: Realizada (1)\n",
    "    (~df_filtrado['M00302'].isin([2])) & #O informante desta parte é: (todas as opções menos \"Não morador\")\n",
    "    (df_filtrado['C008'] >= 40)  # Pessoas com 40 anos ou mais\n",
    "]\n",
    "\n",
    "#Colunas acrescentadas para análise (se for permanecer, mudar oficialmente no tableone antes de tratar): D00201, D00301, D008\n",
    "# 'E001', 'E002', 'E003', 'E004', 'E005'\n",
    "# 'E011', 'E014011', 'E01601', 'E01603', 'E01605', 'E01801'\n",
    "# tirei 'E010010', 'E01604', 'E01804'\n",
    "# 'I00103', 'I001031','C00301'\n",
    "# 'N00101'\n",
    "# peso: 'W00101', 'W00102', 'W00103' (já tirei)\n",
    "# altura: 'W00201', 'W00202', 'W00203' (já tirei)\n",
    "# 'P00103', 'P00403'\n",
    "# tirei o P01001 e o P019\n",
    "# 'P034'\n",
    "# tirei o P058\n",
    "# 'P05901', 'P05902', 'P05903', 'P05904'\n",
    "# 'Q00101', 'Q02901', 'Q05901'\n",
    "# 'Q06307', 'Q06308', 'Q06309', 'Q06310', 'Q06311'\n",
    "# 'R031', 'R032', 'R033'\n",
    "# 'R010', 'R025', 'R028', 'R029', 'R030'\n",
    "# 'H001', 'H002'\n",
    "# Atributos sobre contraceptivo: 'R010', 'R025', 'R028', 'R029', 'R030', 'R031', 'R032', 'R033', 'R034', 'R03601', 'R03607', 'R03608', 'R03610', 'S065', \n",
    "\n",
    "colunas_existentes = [col for col in colunas_base_outliers if col in df_filtrado.columns]\n",
    "\n",
    "df_filtrado = df_filtrado[colunas_existentes]"
   ]
  },
  {
   "cell_type": "code",
   "execution_count": null,
   "id": "ea8120b5",
   "metadata": {},
   "outputs": [],
   "source": [
    "df_filtrado = df_filtrado.drop(columns=['V0015', 'C012', 'D015', 'E027', 'F016', 'G032', 'I012', 'J060', 'M001', 'M00302'])"
   ]
  },
  {
   "cell_type": "code",
   "execution_count": null,
   "id": "faf47262",
   "metadata": {},
   "outputs": [],
   "source": [
    "df_filtrado.to_csv('..\\\\Bases\\\\Criados\\\\base_outliers.csv', index=False)"
   ]
  },
  {
   "cell_type": "markdown",
   "id": "fb24f4a0",
   "metadata": {},
   "source": [
    "### Montando a base para fazer o tableone e produto cartesiano"
   ]
  },
  {
   "cell_type": "markdown",
   "id": "6113f43a",
   "metadata": {},
   "source": [
    "1. V0001 (UF)\n",
    "2. V0024 (Estrato)\n",
    "3. UPA_PNS (Unidade Primária de Amostragem)\n",
    "4. V0006_PNS (Número de ordem do domicílio na PNS)\n",
    "5. C00301 (Número de ordem do morador)\n",
    "\n",
    "'V0001', 'V0024', 'UPA_PNS', 'V0006_PNS', 'C00301'"
   ]
  },
  {
   "cell_type": "code",
   "execution_count": 5,
   "id": "5d235358",
   "metadata": {},
   "outputs": [],
   "source": [
    "pns2019 = pd.read_csv('..\\\\Bases\\\\Originais\\\\pns2019.csv')\n",
    "base_sem_outliers = pd.read_csv('..\\\\Bases\\\\Criados\\\\base_sem_outliers.csv')"
   ]
  },
  {
   "cell_type": "code",
   "execution_count": 6,
   "id": "f59adb64",
   "metadata": {},
   "outputs": [],
   "source": [
    "#Criando a chave única por pessoa\n",
    "def criar_chave(df):\n",
    "    return (\n",
    "        df['V0001'].astype(str) + '_' +\n",
    "        df['V0024'].astype(str) + '_' +\n",
    "        df['UPA_PNS'].astype(str) + '_' +\n",
    "        df['V0006_PNS'].astype(str) + '_' +\n",
    "        df['C00301'].astype(str)\n",
    "    )\n",
    "\n",
    "pns2019['chave_pessoa'] = criar_chave(pns2019)\n",
    "base_sem_outliers['chave_pessoa'] = criar_chave(base_sem_outliers)"
   ]
  },
  {
   "cell_type": "code",
   "execution_count": 7,
   "id": "9b940021",
   "metadata": {},
   "outputs": [
    {
     "data": {
      "text/plain": [
       "\"\\nColunas adicionadas: \\n\\n'D00201', 'D00301', 'D008',\\n'E001', 'E002', 'E003', 'E004', 'E005',\\n'E011', 'E014011', 'E01601', 'E01603', 'E01605', 'E01801',\\n'I00103', 'I001031', 'C00301', -------------------------------------------> **checar C00301\\n'N00101',\\n'P00103', 'P00403', \\n'P034',\\n'P05901', 'P05902', 'P05903', 'P05904',\\n'Q00101', 'Q02901', 'Q05901'\\n'Q06307', 'Q06308', 'Q06309', 'Q06310', 'Q06311',\\n'H001', 'H002',\\n\""
      ]
     },
     "execution_count": 7,
     "metadata": {},
     "output_type": "execute_result"
    }
   ],
   "source": [
    "# Merge para adicionar colunas da pns2019 na base_sem_outliers\n",
    "base_sem_outliers = base_sem_outliers.merge(\n",
    "    pns2019[['chave_pessoa', 'C00301', 'D00201', 'D00301', 'D008', 'E001', 'E002', 'E003', 'E004', 'E005', 'E011', 'E014011', 'E01601', 'E01603', 'E01605', 'E01801',\n",
    "             'I00103', 'I001031', 'N00101', 'P00103', 'P00403', 'P034', 'P05901', 'P05902', 'P05903', 'P05904', 'Q00101', 'Q02901', \n",
    "             'Q05901', 'Q06307', 'Q06308', 'Q06309', 'Q06310', 'Q06311', 'H001', 'H002',]],\n",
    "    on='chave_pessoa',\n",
    "    how='left' # ou 'right', 'inner', 'outer' conforme necessidade\n",
    ")\n",
    "\n",
    "'''\n",
    "Colunas adicionadas: \n",
    "\n",
    "'D00201', 'D00301', 'D008',\n",
    "'E001', 'E002', 'E003', 'E004', 'E005',\n",
    "'E011', 'E014011', 'E01601', 'E01603', 'E01605', 'E01801',\n",
    "'I00103', 'I001031', 'C00301', -------------------------------------------> **checar C00301\n",
    "'N00101',\n",
    "'P00103', 'P00403', \n",
    "'P034',\n",
    "'P05901', 'P05902', 'P05903', 'P05904',\n",
    "'Q00101', 'Q02901', 'Q05901'\n",
    "'Q06307', 'Q06308', 'Q06309', 'Q06310', 'Q06311',\n",
    "'H001', 'H002',\n",
    "'''"
   ]
  },
  {
   "cell_type": "code",
   "execution_count": 8,
   "id": "bb7fde0b",
   "metadata": {},
   "outputs": [],
   "source": [
    "base_sem_outliers.to_csv('..\\\\Bases\\\\Criados\\\\base_doencas_cardiacas.csv', index=False)"
   ]
  },
  {
   "cell_type": "markdown",
   "id": "c986bd49",
   "metadata": {},
   "source": [
    "### Checando dados inconsistentes"
   ]
  },
  {
   "cell_type": "code",
   "execution_count": null,
   "id": "9b3e0c83",
   "metadata": {},
   "outputs": [
    {
     "data": {
      "text/html": [
       "<div>\n",
       "<style scoped>\n",
       "    .dataframe tbody tr th:only-of-type {\n",
       "        vertical-align: middle;\n",
       "    }\n",
       "\n",
       "    .dataframe tbody tr th {\n",
       "        vertical-align: top;\n",
       "    }\n",
       "\n",
       "    .dataframe thead th {\n",
       "        text-align: right;\n",
       "    }\n",
       "</style>\n",
       "<table border=\"1\" class=\"dataframe\">\n",
       "  <thead>\n",
       "    <tr style=\"text-align: right;\">\n",
       "      <th></th>\n",
       "      <th>C008</th>\n",
       "      <th>Q064</th>\n",
       "    </tr>\n",
       "  </thead>\n",
       "  <tbody>\n",
       "  </tbody>\n",
       "</table>\n",
       "</div>"
      ],
      "text/plain": [
       "Empty DataFrame\n",
       "Columns: [C008, Q064]\n",
       "Index: []"
      ]
     },
     "execution_count": 34,
     "metadata": {},
     "output_type": "execute_result"
    }
   ],
   "source": [
    "df.loc[df['Q064'] > df['C008'], ['C008', 'Q064']] #checando se a idade do diagnóstico é maior que a idade do morador"
   ]
  },
  {
   "cell_type": "code",
   "execution_count": 45,
   "id": "cbee2ee6",
   "metadata": {},
   "outputs": [
    {
     "name": "stdout",
     "output_type": "stream",
     "text": [
      "Duplicados em pns2019: 0\n",
      "Duplicados em base_outliers: 0\n"
     ]
    }
   ],
   "source": [
    "# Ver duplicados na base pns2019\n",
    "duplicados_pns = pns2019[pns2019.duplicated('chave_pessoa', keep=False)]\n",
    "\n",
    "# Ver duplicados na base base_outliers\n",
    "duplicados_outliers = base_sem_outliers[base_sem_outliers.duplicated('chave_pessoa', keep=False)]\n",
    "\n",
    "print(\"Duplicados em pns2019:\", pns2019['chave_pessoa'].duplicated().sum())\n",
    "print(\"Duplicados em base_outliers:\", base_sem_outliers['chave_pessoa'].duplicated().sum())"
   ]
  }
 ],
 "metadata": {
  "kernelspec": {
   "display_name": "Python 3",
   "language": "python",
   "name": "python3"
  },
  "language_info": {
   "codemirror_mode": {
    "name": "ipython",
    "version": 3
   },
   "file_extension": ".py",
   "mimetype": "text/x-python",
   "name": "python",
   "nbconvert_exporter": "python",
   "pygments_lexer": "ipython3",
   "version": "3.13.2"
  }
 },
 "nbformat": 4,
 "nbformat_minor": 5
}
