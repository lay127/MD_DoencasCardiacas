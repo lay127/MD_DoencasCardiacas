{
 "cells": [
  {
   "cell_type": "code",
   "execution_count": 106,
   "id": "4a4551df",
   "metadata": {},
   "outputs": [],
   "source": [
    "import pandas as pd"
   ]
  },
  {
   "cell_type": "code",
   "execution_count": 107,
   "id": "b2ae8773",
   "metadata": {},
   "outputs": [],
   "source": [
    "df =  pd.read_csv('../Bases/Criados/base_preenchida.csv')"
   ]
  },
  {
   "cell_type": "code",
   "execution_count": 108,
   "id": "1589ad2b",
   "metadata": {},
   "outputs": [],
   "source": [
    "# Não tem necessidade\n",
    "df = df.drop('V0031', axis=1)"
   ]
  },
  {
   "cell_type": "code",
   "execution_count": 109,
   "id": "8cf5240a",
   "metadata": {},
   "outputs": [],
   "source": [
    "# E006011 e E008 dropados por não trazerem muita info util\n",
    "df = df.drop('E008', axis=1)\n",
    "df = df.drop('E006011', axis=1)"
   ]
  },
  {
   "cell_type": "code",
   "execution_count": null,
   "id": "123b52db",
   "metadata": {},
   "outputs": [],
   "source": [
    "# Juntei todos os atributos que diziam valor de renda que recebiam no renda\n",
    "\n",
    "# Ajustando os valores conforme as condições especificadas\n",
    "df['F001021'] = df.apply(lambda x: x['F001021'] if x['F001011'] == 1 else 0, axis=1)\n",
    "df['F007021'] = df.apply(lambda x: x['F007021'] if x['F007011'] == 1 else 0, axis=1)\n",
    "df['F008021'] = df.apply(lambda x: x['F008021'] if x['F008011'] == 1 else 0, axis=1)\n",
    "df['VDF00102'] = df.apply(lambda x: x['VDF00102'] if x['VDF001'] == 1 else 0, axis=1)\n",
    "\n",
    "# Somando tudo com a renda\n",
    "df['Renda'] = df['Renda'] + df['F001021'] + df['F007021'] + df['F008021'] + df['VDF00102']"
   ]
  },
  {
   "cell_type": "code",
   "execution_count": null,
   "id": "5371348e",
   "metadata": {},
   "outputs": [],
   "source": [
    "# Dropei os atributos usados anteriormente\n",
    "df = df.drop('F001021', axis=1)\n",
    "df = df.drop('F007021', axis=1)\n",
    "df = df.drop('F008021', axis=1)\n",
    "df = df.drop('VDF00102', axis=1)\n",
    "df = df.drop('F001011', axis=1)\n",
    "df = df.drop('F007011', axis=1)\n",
    "df = df.drop('F008011', axis=1)\n",
    "df = df.drop('VDF001', axis=1)"
   ]
  },
  {
   "cell_type": "code",
   "execution_count": 112,
   "id": "3dc47d33",
   "metadata": {},
   "outputs": [],
   "source": [
    "# Não são muito uteis, eu sei que medem a cobertura do plano mas ta intankavel colocar isso aq\n",
    "# Titular do plano de saúde\n",
    "# Nº de ordem do titular\n",
    "# Plano de servidor público?\n",
    "\n",
    "# df = df.drop('I00103', axis=1)\n",
    "# df = df.drop('I001031', axis=1)\n",
    "# df = df.drop('I004', axis=1)"
   ]
  },
  {
   "cell_type": "code",
   "execution_count": 113,
   "id": "9c3ca547",
   "metadata": {},
   "outputs": [],
   "source": [
    "# Criando o novo atributo combinado\n",
    "# df['Plano_de_Saúde_Cobertura'] = df['I00102'].astype(str)  # Começa com o valor de I00102\n",
    "\n",
    "# Combinando com I00401, I00402, I00403 apenas quando I00102 for 1\n",
    "#df.loc[df['I00102'] == 1, 'Plano_de_Saúde_Cobertura'] = (\n",
    "#   df['I00102'].astype(str) + ' ' + \n",
    "#    df['I00401'].astype(str) + ' ' + \n",
    "#    df['I00402'].astype(str) + ' ' +  \n",
    "#    df['I00403'].astype(str)\n",
    "#)\n",
    "\n",
    "# Quando I00102 for 2, mantém apenas \"2\" (não combina com os outros)\n",
    "#df.loc[df['I00102'] == 2, 'Plano_de_Saúde_Cobertura'] = '2'"
   ]
  },
  {
   "cell_type": "code",
   "execution_count": 114,
   "id": "2b61ce5a",
   "metadata": {},
   "outputs": [],
   "source": [
    "# 3. Filtrar apenas as linhas que atendem às condições (opcional)\n",
    "#df_filtrado = df.dropna(subset=['Plano_de_Saúde_Cobertura'])\n",
    "\n",
    "# Mostrar as primeiras linhas para verificar\n",
    "#df['Plano_de_Saúde_Cobertura']"
   ]
  },
  {
   "cell_type": "code",
   "execution_count": 115,
   "id": "a42dd85e",
   "metadata": {},
   "outputs": [],
   "source": [
    "#df = df.drop('I00401', axis=1)\n",
    "#df = df.drop('I00402', axis=1)\n",
    "#df = df.drop('I00403', axis=1)"
   ]
  },
  {
   "cell_type": "code",
   "execution_count": 116,
   "id": "6a3aba3f",
   "metadata": {},
   "outputs": [],
   "source": [
    "# J01101 Quando ____ consultou um médico pela última vez \n",
    "# H001 Quando foi a última vez que o(a) sr(a) consultou com um(a) médico(a)?\n",
    "# É a mesma coisa e não é util\n",
    "\n",
    "df = df.drop('J01101', axis=1)\n",
    "df = df.drop('H001', axis=1)\n",
    "\n",
    "# Primeira consulta com esse médico?\n",
    "# Local do atendimento\n",
    "# Dificuldade para atendimento\n",
    "# Todas essas tão bem inuteis\n",
    "\n",
    "df = df.drop('H002', axis=1)\n",
    "df = df.drop('H004', axis=1)\n",
    "df = df.drop('H010', axis=1)"
   ]
  },
  {
   "cell_type": "code",
   "execution_count": null,
   "id": "a21611d0",
   "metadata": {},
   "outputs": [],
   "source": [
    "# calculo do imc, mas eu provavelmente vou mudar ele de lugar, pois precisamos inputar primeiro\n",
    "\n",
    "import numpy as np\n",
    "\n",
    "# Calculando o IMC (peso / altura²) e convertendo altura de cm para metros\n",
    "df['imc'] = df['P00103'] / ((df['P00104'] / 100) ** 2)\n",
    "\n",
    "# Classificando em faixas\n",
    "conditions = [\n",
    "    (df['imc'] < 18.5),\n",
    "    ((df['imc'] >= 18.5) & (df['imc'] < 25)),\n",
    "    ((df['imc'] >= 25) & (df['imc'] < 30)),\n",
    "    ((df['imc'] >= 30) & (df['imc'] < 35)),\n",
    "    ((df['imc'] >= 35) & (df['imc'] < 40)),\n",
    "    (df['imc'] >= 40)\n",
    "]\n",
    "\n",
    "labels = [\n",
    "    'Abaixo do peso',\n",
    "    'Peso normal',\n",
    "    'Sobrepeso',\n",
    "    'Obesidade Grau I',\n",
    "    'Obesidade Grau II',\n",
    "    'Obesidade Grau III'\n",
    "]\n",
    "\n",
    "# Criando a coluna com as faixas\n",
    "df['faixa_imc'] = np.select(conditions, labels, default='Dados inválidos')\n",
    "\n",
    "# Opcional: Arredondar o IMC para 2 casas decimais\n",
    "df['imc'] = df['imc'].round(2)"
   ]
  },
  {
   "cell_type": "code",
   "execution_count": 118,
   "id": "1d684c1c",
   "metadata": {},
   "outputs": [
    {
     "data": {
      "text/plain": [
       "0        121.95\n",
       "1        117.65\n",
       "2        102.04\n",
       "3        120.48\n",
       "4           NaN\n",
       "          ...  \n",
       "24346    161.29\n",
       "24347    161.29\n",
       "24348    158.73\n",
       "24349    138.89\n",
       "24350    112.36\n",
       "Name: imc, Length: 24351, dtype: float64"
      ]
     },
     "execution_count": 118,
     "metadata": {},
     "output_type": "execute_result"
    }
   ],
   "source": [
    "df['imc']"
   ]
  },
  {
   "cell_type": "code",
   "execution_count": 119,
   "id": "cb3dbe0c",
   "metadata": {},
   "outputs": [
    {
     "data": {
      "text/plain": [
       "0        Obesidade Grau III\n",
       "1        Obesidade Grau III\n",
       "2        Obesidade Grau III\n",
       "3        Obesidade Grau III\n",
       "4           Dados inválidos\n",
       "                ...        \n",
       "24346    Obesidade Grau III\n",
       "24347    Obesidade Grau III\n",
       "24348    Obesidade Grau III\n",
       "24349    Obesidade Grau III\n",
       "24350    Obesidade Grau III\n",
       "Name: faixa_imc, Length: 24351, dtype: object"
      ]
     },
     "execution_count": 119,
     "metadata": {},
     "output_type": "execute_result"
    }
   ],
   "source": [
    "df['faixa_imc']"
   ]
  },
  {
   "cell_type": "code",
   "execution_count": null,
   "id": "ebcd700f",
   "metadata": {},
   "outputs": [
    {
     "name": "stdout",
     "output_type": "stream",
     "text": [
      "Registros removidos: 3\n"
     ]
    }
   ],
   "source": [
    "# Remoção dos registros vazios do atributo Morador selecionado está apto para responder? \n",
    "\n",
    "# Total de registros antes de remover\n",
    "total_antes = len(df)\n",
    "\n",
    "# Remover linhas onde M00203 está vazio (NaN ou string vazia)\n",
    "df = df[~df['M00203'].isna() & (df['M00203'] != '')]\n",
    "\n",
    "# Total de registros depois de remover\n",
    "total_depois = len(df)\n",
    "\n",
    "# Exibir quantos registros foram retirados\n",
    "registros_removidos = total_antes - total_depois\n",
    "print(f\"Registros removidos: {registros_removidos}\")"
   ]
  },
  {
   "cell_type": "code",
   "execution_count": 121,
   "id": "87ecfcf8",
   "metadata": {},
   "outputs": [],
   "source": [
    "# Drop nesses de altura e peso pois tem muitos faltantes\n",
    "df = df.drop('P00403', axis=1)\n",
    "df = df.drop('P00404', axis=1)"
   ]
  },
  {
   "cell_type": "code",
   "execution_count": null,
   "id": "f28fbf18",
   "metadata": {},
   "outputs": [
    {
     "name": "stdout",
     "output_type": "stream",
     "text": [
      "Registros removidos: 27\n"
     ]
    }
   ],
   "source": [
    "#Peso final tinha alguns registros em branco, então eu retirei eles\n",
    "\n",
    "# Total de registros antes de remover\n",
    "total_antes = len(df)\n",
    "\n",
    "# Remover linhas onde P00104 está vazio (NaN ou string vazia)\n",
    "df = df[~df['P00104'].isna() & (df['P00104'] != '')]\n",
    "\n",
    "# Total de registros depois de remover\n",
    "total_depois = len(df)\n",
    "\n",
    "# Exibir quantos registros foram retirados\n",
    "registros_removidos = total_antes - total_depois\n",
    "print(f\"Registros removidos: {registros_removidos}\")\n",
    "\n",
    "# Total de registros antes de remover\n",
    "total_antes = len(df)"
   ]
  },
  {
   "cell_type": "code",
   "execution_count": 123,
   "id": "0a37468a",
   "metadata": {},
   "outputs": [
    {
     "name": "stdout",
     "output_type": "stream",
     "text": [
      "Registros nulos na soma: 0\n"
     ]
    }
   ],
   "source": [
    "# Criando a nova coluna com a soma das horas tv e dispositivos\n",
    "df['horas_dispositivos_tv'] = df['P04501'] + df['P04502']\n",
    "\n",
    "# Verificando se há valores nulos (opcional)\n",
    "print(\"Registros nulos na soma:\", df['horas_dispositivos_tv'].isnull().sum())"
   ]
  },
  {
   "cell_type": "code",
   "execution_count": null,
   "id": "a2c0e7ec",
   "metadata": {},
   "outputs": [],
   "source": [
    "# Criando a nova coluna com consumo de verduras e frutas por semana\n",
    "df['consumo_frutas_verduras'] = df['P00901'].astype(str) + ' ' + df['P018'].astype(str)"
   ]
  },
  {
   "cell_type": "code",
   "execution_count": 125,
   "id": "71b9ce14",
   "metadata": {},
   "outputs": [
    {
     "data": {
      "text/plain": [
       "0        6.0 3.0\n",
       "1        2.0 5.0\n",
       "2        1.0 3.0\n",
       "3        3.0 7.0\n",
       "4        6.0 6.0\n",
       "          ...   \n",
       "24346    5.0 7.0\n",
       "24347    3.0 2.0\n",
       "24348    7.0 2.0\n",
       "24349    7.0 3.0\n",
       "24350    6.0 3.0\n",
       "Name: consumo_frutas_verduras, Length: 24321, dtype: object"
      ]
     },
     "execution_count": 125,
     "metadata": {},
     "output_type": "execute_result"
    }
   ],
   "source": [
    "df['consumo_frutas_verduras']"
   ]
  },
  {
   "cell_type": "code",
   "execution_count": null,
   "id": "fed22af2",
   "metadata": {},
   "outputs": [],
   "source": [
    "# Dropei os atributos usados anteriormente\n",
    "df = df.drop('P00901', axis=1)\n",
    "df = df.drop('P018', axis=1)"
   ]
  },
  {
   "cell_type": "code",
   "execution_count": null,
   "id": "632d5477",
   "metadata": {},
   "outputs": [],
   "source": [
    "# Criando a nova coluna com consumo de coisas não saudaveis por semana\n",
    "df['consumo_alimentos_nsaudaveis'] = (df['P02001'].astype(str) + ' ' + \n",
    "                          df['P02002'].astype(str) + ' ' + \n",
    "                          df['P02501'].astype(str) + ' ' + \n",
    "                          df['P02602'].astype(str))"
   ]
  },
  {
   "cell_type": "code",
   "execution_count": 128,
   "id": "8fa9d565",
   "metadata": {},
   "outputs": [
    {
     "data": {
      "text/plain": [
       "0        0.0 2.0 1.0 3.0\n",
       "1        0.0 1.0 0.0 0.0\n",
       "2        0.0 4.0 0.0 3.0\n",
       "3        0.0 0.0 0.0 0.0\n",
       "4        0.0 0.0 0.0 0.0\n",
       "              ...       \n",
       "24346    0.0 0.0 0.0 0.0\n",
       "24347    2.0 1.0 7.0 0.0\n",
       "24348    0.0 1.0 0.0 0.0\n",
       "24349    0.0 0.0 0.0 0.0\n",
       "24350    0.0 6.0 0.0 0.0\n",
       "Name: consumo_alimentos_nsaudaveis, Length: 24321, dtype: object"
      ]
     },
     "execution_count": 128,
     "metadata": {},
     "output_type": "execute_result"
    }
   ],
   "source": [
    "df['consumo_alimentos_nsaudaveis']"
   ]
  },
  {
   "cell_type": "code",
   "execution_count": null,
   "id": "fa21c7ba",
   "metadata": {},
   "outputs": [],
   "source": [
    "# Dropei os atributos usados anteriormente\n",
    "df = df.drop('P02001', axis=1)\n",
    "df = df.drop('P02002', axis=1)\n",
    "df = df.drop('P02501', axis=1)\n",
    "df = df.drop('P02602', axis=1)"
   ]
  },
  {
   "cell_type": "code",
   "execution_count": 130,
   "id": "e7718531",
   "metadata": {},
   "outputs": [
    {
     "name": "stdout",
     "output_type": "stream",
     "text": [
      "P00103             2144\n",
      "Faixa_ex_fisico      69\n",
      "imc                2144\n",
      "dtype: int64\n"
     ]
    }
   ],
   "source": [
    "# Verificar colunas com dados faltantes\n",
    "colunas_com_faltantes = df.columns[df.isnull().any()].tolist()\n",
    "\n",
    "# Mostrar apenas as colunas com dados faltantes e a quantidade de faltantes\n",
    "df_faltantes = df[colunas_com_faltantes].isnull().sum()\n",
    "print(df_faltantes[df_faltantes > 0])"
   ]
  },
  {
   "cell_type": "code",
   "execution_count": 131,
   "id": "166072b6",
   "metadata": {},
   "outputs": [],
   "source": [
    "# 4. Salvar em um novo CSV (opcional)\n",
    "df.to_csv('../Bases/Criados/base_plano_cartesiano.csv', index=False)"
   ]
  }
 ],
 "metadata": {
  "kernelspec": {
   "display_name": "Python 3",
   "language": "python",
   "name": "python3"
  },
  "language_info": {
   "codemirror_mode": {
    "name": "ipython",
    "version": 3
   },
   "file_extension": ".py",
   "mimetype": "text/x-python",
   "name": "python",
   "nbconvert_exporter": "python",
   "pygments_lexer": "ipython3",
   "version": "3.13.2"
  }
 },
 "nbformat": 4,
 "nbformat_minor": 5
}
