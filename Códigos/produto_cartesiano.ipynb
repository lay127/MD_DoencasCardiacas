{
 "cells": [
  {
   "cell_type": "code",
   "execution_count": 1,
   "id": "4a4551df",
   "metadata": {},
   "outputs": [],
   "source": [
    "import pandas as pd"
   ]
  },
  {
   "cell_type": "code",
   "execution_count": 2,
   "id": "b2ae8773",
   "metadata": {},
   "outputs": [],
   "source": [
    "df =  pd.read_csv('../Bases/Criados/base_preenchida.csv')"
   ]
  },
  {
   "cell_type": "markdown",
   "id": "cb847616",
   "metadata": {},
   "source": [
    "# Drops não uteis"
   ]
  },
  {
   "cell_type": "code",
   "execution_count": 3,
   "id": "1589ad2b",
   "metadata": {},
   "outputs": [],
   "source": [
    "# Não tem necessidade\n",
    "df = df.drop('V0031', axis=1)"
   ]
  },
  {
   "cell_type": "code",
   "execution_count": 4,
   "id": "6fadcdec",
   "metadata": {},
   "outputs": [],
   "source": [
    "# J01101 Quando ____ consultou um médico pela última vez \n",
    "# H001 Quando foi a última vez que o(a) sr(a) consultou com um(a) médico(a)?\n",
    "# É a mesma coisa e não é util\n",
    "\n",
    "df = df.drop('J01101', axis=1)\n",
    "df = df.drop('H001', axis=1)\n",
    "\n",
    "# Primeira consulta com esse médico?\n",
    "# Local do atendimento\n",
    "# Dificuldade para atendimento\n",
    "# Todas essas tão bem inuteis\n",
    "\n",
    "df = df.drop('H002', axis=1)\n",
    "df = df.drop('H004', axis=1)\n",
    "df = df.drop('H010', axis=1)"
   ]
  },
  {
   "cell_type": "code",
   "execution_count": 5,
   "id": "8cf5240a",
   "metadata": {},
   "outputs": [],
   "source": [
    "# E006011 e E008 dropados por não trazerem muita info util\n",
    "df = df.drop('E008', axis=1)\n",
    "df = df.drop('E006011', axis=1)"
   ]
  },
  {
   "cell_type": "code",
   "execution_count": 6,
   "id": "6b5905f1",
   "metadata": {},
   "outputs": [],
   "source": [
    "# Não são muito uteis, eu sei que medem a cobertura do plano mas ta intankavel colocar isso aq\n",
    "# Titular do plano de saúde\n",
    "# Nº de ordem do titular\n",
    "# Plano de servidor público?\n",
    "\n",
    "# df = df.drop('I00103', axis=1)\n",
    "# df = df.drop('I001031', axis=1)\n",
    "# df = df.drop('I004', axis=1)"
   ]
  },
  {
   "cell_type": "markdown",
   "id": "a37dda7d",
   "metadata": {},
   "source": [
    "# Planos Cartesianos"
   ]
  },
  {
   "cell_type": "code",
   "execution_count": 7,
   "id": "123b52db",
   "metadata": {},
   "outputs": [],
   "source": [
    "# Juntei todos os atributos que diziam valor de renda que recebiam no renda\n",
    "\n",
    "# Ajustando os valores conforme as condições especificadas\n",
    "df['F001021'] = df.apply(lambda x: x['F001021'] if x['F001011'] == 1 else 0, axis=1)\n",
    "df['F007021'] = df.apply(lambda x: x['F007021'] if x['F007011'] == 1 else 0, axis=1)\n",
    "df['F008021'] = df.apply(lambda x: x['F008021'] if x['F008011'] == 1 else 0, axis=1)\n",
    "df['VDF00102'] = df.apply(lambda x: x['VDF00102'] if x['VDF001'] == 1 else 0, axis=1)\n",
    "\n",
    "# Somando tudo com a renda\n",
    "df['Renda'] = df['Renda'] + df['F001021'] + df['F007021'] + df['F008021'] + df['VDF00102']"
   ]
  },
  {
   "cell_type": "code",
   "execution_count": 8,
   "id": "5371348e",
   "metadata": {},
   "outputs": [],
   "source": [
    "# Dropei os atributos usados anteriormente\n",
    "df = df.drop('F001021', axis=1)\n",
    "df = df.drop('F007021', axis=1)\n",
    "df = df.drop('F008021', axis=1)\n",
    "df = df.drop('VDF00102', axis=1)\n",
    "df = df.drop('F001011', axis=1)\n",
    "df = df.drop('F007011', axis=1)\n",
    "df = df.drop('F008011', axis=1)\n",
    "df = df.drop('VDF001', axis=1)"
   ]
  },
  {
   "cell_type": "code",
   "execution_count": 9,
   "id": "9c3ca547",
   "metadata": {},
   "outputs": [],
   "source": [
    "# Criando o novo atributo combinado do plano de saude\n",
    "# df['Plano_de_Saúde_Cobertura'] = df['I00102'].astype(str)  # Começa com o valor de I00102\n",
    "\n",
    "# Combinando com I00401, I00402, I00403 apenas quando I00102 for 1\n",
    "#df.loc[df['I00102'] == 1, 'Plano_de_Saúde_Cobertura'] = (\n",
    "#   df['I00102'].astype(str) + ' ' + \n",
    "#    df['I00401'].astype(str) + ' ' + \n",
    "#    df['I00402'].astype(str) + ' ' +  \n",
    "#    df['I00403'].astype(str)\n",
    "#)\n",
    "\n",
    "# Quando I00102 for 2, mantém apenas \"2\" (não combina com os outros)\n",
    "#df.loc[df['I00102'] == 2, 'Plano_de_Saúde_Cobertura'] = '2'"
   ]
  },
  {
   "cell_type": "code",
   "execution_count": 10,
   "id": "a42dd85e",
   "metadata": {},
   "outputs": [],
   "source": [
    "# Dropei os atributos usados anteriormente\n",
    "#df = df.drop('I00401', axis=1)\n",
    "#df = df.drop('I00402', axis=1)\n",
    "#df = df.drop('I00403', axis=1)"
   ]
  },
  {
   "cell_type": "code",
   "execution_count": 11,
   "id": "347f43d6",
   "metadata": {},
   "outputs": [
    {
     "name": "stdout",
     "output_type": "stream",
     "text": [
      "Registros nulos na soma: 0\n"
     ]
    }
   ],
   "source": [
    "# Criando a nova coluna com a soma das horas tv e dispositivos\n",
    "df['horas_dispositivos_tv'] = df['P04501'] + df['P04502']\n",
    "\n",
    "# Verificando se há valores nulos (opcional)\n",
    "print(\"Registros nulos na soma:\", df['horas_dispositivos_tv'].isnull().sum())"
   ]
  },
  {
   "cell_type": "code",
   "execution_count": 12,
   "id": "a4a81c41",
   "metadata": {},
   "outputs": [
    {
     "data": {
      "text/plain": [
       "0         8.0\n",
       "1         7.0\n",
       "2         4.0\n",
       "3         6.0\n",
       "4         7.0\n",
       "         ... \n",
       "24340     4.0\n",
       "24341     8.0\n",
       "24342     4.0\n",
       "24343    10.0\n",
       "24344     8.0\n",
       "Name: horas_dispositivos_tv, Length: 24345, dtype: float64"
      ]
     },
     "execution_count": 12,
     "metadata": {},
     "output_type": "execute_result"
    }
   ],
   "source": [
    "df['horas_dispositivos_tv']"
   ]
  },
  {
   "cell_type": "code",
   "execution_count": 13,
   "id": "cc0deeba",
   "metadata": {},
   "outputs": [],
   "source": [
    "# Dropei os atributos usados anteriormente\n",
    "df = df.drop('P04501', axis=1)\n",
    "df = df.drop('P04502', axis=1)"
   ]
  },
  {
   "cell_type": "code",
   "execution_count": 14,
   "id": "cc1cbc98",
   "metadata": {},
   "outputs": [],
   "source": [
    "# Criando a nova coluna com consumo de verduras e frutas por semana\n",
    "df['consumo_frutas_verduras'] = df['P00901'].astype(str) + ' ' + df['P018'].astype(str)"
   ]
  },
  {
   "cell_type": "code",
   "execution_count": 15,
   "id": "83c8ec00",
   "metadata": {},
   "outputs": [
    {
     "data": {
      "text/plain": [
       "0        6.0 3.0\n",
       "1        2.0 5.0\n",
       "2        1.0 3.0\n",
       "3        3.0 7.0\n",
       "4        6.0 6.0\n",
       "          ...   \n",
       "24340    5.0 7.0\n",
       "24341    3.0 2.0\n",
       "24342    7.0 2.0\n",
       "24343    7.0 3.0\n",
       "24344    6.0 3.0\n",
       "Name: consumo_frutas_verduras, Length: 24345, dtype: object"
      ]
     },
     "execution_count": 15,
     "metadata": {},
     "output_type": "execute_result"
    }
   ],
   "source": [
    "df['consumo_frutas_verduras']"
   ]
  },
  {
   "cell_type": "code",
   "execution_count": 16,
   "id": "d77eb6af",
   "metadata": {},
   "outputs": [],
   "source": [
    "# Dropei os atributos usados anteriormente\n",
    "df = df.drop('P00901', axis=1)\n",
    "df = df.drop('P018', axis=1)"
   ]
  },
  {
   "cell_type": "code",
   "execution_count": 17,
   "id": "19f4ccf5",
   "metadata": {},
   "outputs": [],
   "source": [
    "# Criando a nova coluna com consumo de coisas não saudaveis por semana\n",
    "df['consumo_alimentos_nsaudaveis'] = (df['P02001'].astype(str) + ' ' + \n",
    "                          df['P02002'].astype(str) + ' ' + \n",
    "                          df['P02501'].astype(str) + ' ' + \n",
    "                          df['P02602'].astype(str))"
   ]
  },
  {
   "cell_type": "code",
   "execution_count": 18,
   "id": "b4ad4234",
   "metadata": {},
   "outputs": [
    {
     "data": {
      "text/plain": [
       "0        0.0 2.0 1.0 3.0\n",
       "1        0.0 1.0 0.0 0.0\n",
       "2        0.0 4.0 0.0 3.0\n",
       "3        0.0 0.0 0.0 0.0\n",
       "4        0.0 0.0 0.0 0.0\n",
       "              ...       \n",
       "24340    0.0 0.0 0.0 0.0\n",
       "24341    2.0 1.0 7.0 0.0\n",
       "24342    0.0 1.0 0.0 0.0\n",
       "24343    0.0 0.0 0.0 0.0\n",
       "24344    0.0 6.0 0.0 0.0\n",
       "Name: consumo_alimentos_nsaudaveis, Length: 24345, dtype: object"
      ]
     },
     "execution_count": 18,
     "metadata": {},
     "output_type": "execute_result"
    }
   ],
   "source": [
    "df['consumo_alimentos_nsaudaveis']"
   ]
  },
  {
   "cell_type": "code",
   "execution_count": 19,
   "id": "78f40162",
   "metadata": {},
   "outputs": [],
   "source": [
    "# Dropei os atributos usados anteriormente\n",
    "df = df.drop('P02001', axis=1)\n",
    "df = df.drop('P02002', axis=1)\n",
    "df = df.drop('P02501', axis=1)\n",
    "df = df.drop('P02602', axis=1)"
   ]
  },
  {
   "cell_type": "markdown",
   "id": "599ec50c",
   "metadata": {},
   "source": [
    "# IMC"
   ]
  },
  {
   "cell_type": "code",
   "execution_count": 20,
   "id": "a21611d0",
   "metadata": {},
   "outputs": [],
   "source": [
    "# calculo do imc, mas eu provavelmente vou mudar ele de lugar, pois precisamos inputar primeiro\n",
    "\n",
    "import numpy as np\n",
    "\n",
    "# Calculando o IMC (peso / altura²) e convertendo altura de cm para metros\n",
    "df['imc'] = df['P00104'] / ((df['P00404'] / 100) ** 2)\n",
    "\n",
    "# Classificando em faixas\n",
    "conditions = [\n",
    "    (df['imc'] < 18.5),\n",
    "    ((df['imc'] >= 18.5) & (df['imc'] < 25)),\n",
    "    ((df['imc'] >= 25) & (df['imc'] < 30)),\n",
    "    ((df['imc'] >= 30) & (df['imc'] < 35)),\n",
    "    ((df['imc'] >= 35) & (df['imc'] < 40)),\n",
    "    (df['imc'] >= 40)\n",
    "]\n",
    "\n",
    "labels = [\n",
    "    'Abaixo do peso',\n",
    "    'Peso normal',\n",
    "    'Sobrepeso',\n",
    "    'Obesidade Grau I',\n",
    "    'Obesidade Grau II',\n",
    "    'Obesidade Grau III'\n",
    "]\n",
    "\n",
    "# Criando a coluna com as faixas\n",
    "df['faixa_imc'] = np.select(conditions, labels, default='Dados inválidos')\n",
    "\n",
    "# Opcional: Arredondar o IMC para 2 casas decimais\n",
    "df['imc'] = df['imc'].round(2)"
   ]
  },
  {
   "cell_type": "code",
   "execution_count": 21,
   "id": "1d684c1c",
   "metadata": {},
   "outputs": [
    {
     "data": {
      "text/plain": [
       "0        25.88\n",
       "1        34.05\n",
       "2        36.89\n",
       "3        28.38\n",
       "4        28.96\n",
       "         ...  \n",
       "24340    24.84\n",
       "24341    23.62\n",
       "24342    22.32\n",
       "24343    25.51\n",
       "24344    31.53\n",
       "Name: imc, Length: 24345, dtype: float64"
      ]
     },
     "execution_count": 21,
     "metadata": {},
     "output_type": "execute_result"
    }
   ],
   "source": [
    "df['imc']"
   ]
  },
  {
   "cell_type": "code",
   "execution_count": 22,
   "id": "cb3dbe0c",
   "metadata": {},
   "outputs": [
    {
     "data": {
      "text/plain": [
       "0                Sobrepeso\n",
       "1         Obesidade Grau I\n",
       "2        Obesidade Grau II\n",
       "3                Sobrepeso\n",
       "4                Sobrepeso\n",
       "               ...        \n",
       "24340          Peso normal\n",
       "24341          Peso normal\n",
       "24342          Peso normal\n",
       "24343            Sobrepeso\n",
       "24344     Obesidade Grau I\n",
       "Name: faixa_imc, Length: 24345, dtype: object"
      ]
     },
     "execution_count": 22,
     "metadata": {},
     "output_type": "execute_result"
    }
   ],
   "source": [
    "df['faixa_imc']"
   ]
  },
  {
   "cell_type": "markdown",
   "id": "b01cc80d",
   "metadata": {},
   "source": [
    "# Remoção de Registros"
   ]
  },
  {
   "cell_type": "code",
   "execution_count": 23,
   "id": "f28fbf18",
   "metadata": {},
   "outputs": [
    {
     "name": "stdout",
     "output_type": "stream",
     "text": [
      "Registros removidos: 27\n"
     ]
    }
   ],
   "source": [
    "#Peso final tinha alguns registros em branco, então eu retirei eles\n",
    "\n",
    "# Total de registros antes de remover\n",
    "total_antes = len(df)\n",
    "\n",
    "# Remover linhas onde P00104 está vazio (NaN ou string vazia)\n",
    "df = df[~df['P00104'].isna() & (df['P00104'] != '')]\n",
    "\n",
    "# Total de registros depois de remover\n",
    "total_depois = len(df)\n",
    "\n",
    "# Exibir quantos registros foram retirados\n",
    "registros_removidos = total_antes - total_depois\n",
    "print(f\"Registros removidos: {registros_removidos}\")\n",
    "\n",
    "# Total de registros antes de remover\n",
    "total_antes = len(df)"
   ]
  },
  {
   "cell_type": "markdown",
   "id": "5f0138cb",
   "metadata": {},
   "source": [
    "# Extras"
   ]
  },
  {
   "cell_type": "code",
   "execution_count": 24,
   "id": "e7718531",
   "metadata": {},
   "outputs": [
    {
     "name": "stdout",
     "output_type": "stream",
     "text": [
      "Series([], dtype: float64)\n"
     ]
    }
   ],
   "source": [
    "# Verificar colunas com dados faltantes\n",
    "colunas_com_faltantes = df.columns[df.isnull().any()].tolist()\n",
    "\n",
    "# Mostrar apenas as colunas com dados faltantes e a quantidade de faltantes\n",
    "df_faltantes = df[colunas_com_faltantes].isnull().sum()\n",
    "print(df_faltantes[df_faltantes > 0])"
   ]
  },
  {
   "cell_type": "code",
   "execution_count": 25,
   "id": "166072b6",
   "metadata": {},
   "outputs": [],
   "source": [
    "# 4. Salvar em um novo CSV (opcional)\n",
    "df.to_csv('../Bases/Criados/base_plano_cartesiano.csv', index=False)"
   ]
  }
 ],
 "metadata": {
  "kernelspec": {
   "display_name": "Python 3",
   "language": "python",
   "name": "python3"
  },
  "language_info": {
   "codemirror_mode": {
    "name": "ipython",
    "version": 3
   },
   "file_extension": ".py",
   "mimetype": "text/x-python",
   "name": "python",
   "nbconvert_exporter": "python",
   "pygments_lexer": "ipython3",
   "version": "3.13.2"
  }
 },
 "nbformat": 4,
 "nbformat_minor": 5
}
