{
 "cells": [
  {
   "cell_type": "markdown",
   "id": "07abb153",
   "metadata": {},
   "source": [
    "#### lalalalala (deletar)"
   ]
  },
  {
   "cell_type": "markdown",
   "id": "8e93b441",
   "metadata": {},
   "source": [
    "1. J002- Nas duas últimas semanas, ___ deixou de realizar quaisquer de suas atividades habituais (trabalhar, ir à escola, brincar, afazeres domésticos etc.) por motivo da própria saúde\n",
    "2. J00402- Qual foi o principal motivo de saúde que impediu ___ de realizar suas atividades habituais nas duas últimas semanas\n",
    "3. J00404- Este motivo de saúde estava relacionado ao trabalho\n",
    "\n",
    "se J002 = 2, então 0.\n",
    "\n",
    "se J002 = 1 e J00402 = 8 e J00404 = 1, então 1.\n",
    "\n",
    "se J002 = 1 e J00402 = 8 e J00404 = 2, então 2.\n"
   ]
  },
  {
   "cell_type": "code",
   "execution_count": 5,
   "id": "29037b65",
   "metadata": {},
   "outputs": [],
   "source": [
    "condicoes = [\n",
    "    df['J002'] == 2,\n",
    "    (df['J002'] == 1) & (df['J00402'] == 8) & (df['J00404'] == 1),\n",
    "    (df['J002'] == 1) & (df['J00402'] == 8) & (df['J00404'] == 2)\n",
    "]\n",
    "\n",
    "# Resultados correspondentes às condições\n",
    "valores = [0, 1, 2]\n",
    "\n",
    "# Crie o novo atributo\n",
    "df['AusenciaTrabalhoPorDC'] = np.select(condicoes, valores, default=np.nan)"
   ]
  },
  {
   "cell_type": "code",
   "execution_count": 6,
   "id": "315e9d23",
   "metadata": {},
   "outputs": [
    {
     "name": "stdout",
     "output_type": "stream",
     "text": [
      "2639\n"
     ]
    }
   ],
   "source": [
    "print(df['AusenciaTrabalhoPorDC'].isna().sum())\n"
   ]
  },
  {
   "cell_type": "code",
   "execution_count": 7,
   "id": "7329fc19",
   "metadata": {},
   "outputs": [],
   "source": [
    "df['AusenciaTrabalhoPorDC'] = df['AusenciaTrabalhoPorDC'].fillna(0)"
   ]
  },
  {
   "cell_type": "code",
   "execution_count": 8,
   "id": "70a752f8",
   "metadata": {},
   "outputs": [],
   "source": [
    "df = df.drop(columns=['J001', 'J002', 'J00402', 'J00404'])"
   ]
  },
  {
   "cell_type": "markdown",
   "id": "8adbc2c9",
   "metadata": {},
   "source": [
    "#### Produto cartesiano N010, N011, N012 e N016"
   ]
  },
  {
   "cell_type": "code",
   "execution_count": 90,
   "id": "e48d5deb",
   "metadata": {},
   "outputs": [
    {
     "name": "stdout",
     "output_type": "stream",
     "text": [
      "   N010  N011  N012  N016\n",
      "0     1     1     1     1\n",
      "1     1     1     1     2\n",
      "2     1     1     1     3\n",
      "3     1     1     1     4\n",
      "4     1     1     2     1\n"
     ]
    }
   ],
   "source": [
    "import itertools\n",
    "\n",
    "# Supondo que essas sejam as categorias possíveis (ajuste conforme o dicionário da PNS)\n",
    "categorias = [1, 2, 3, 4]  # Por exemplo: 1=Nunca, 2=Raramente, ..., 5=Sempre\n",
    "\n",
    "# Produto cartesiano\n",
    "combinacoes = list(itertools.product(categorias, repeat=4))\n",
    "\n",
    "# Transformar em DataFrame para visualização\n",
    "import pandas as pd\n",
    "df_combinacoes = pd.DataFrame(combinacoes, columns=['N010', 'N011', 'N012', 'N016'])\n",
    "\n",
    "print(df_combinacoes.head())\n"
   ]
  },
  {
   "cell_type": "code",
   "execution_count": 91,
   "id": "a27f8d85",
   "metadata": {},
   "outputs": [],
   "source": [
    "# Como string: para criar um código tipo \"1-2-3\"\n",
    "df['sono_combinado'] = df['N010'].astype(str) + '-' + df['N011'].astype(str) + '-' + df['N012'].astype(str)\n",
    "\n",
    "# Ou como tupla (útil para agrupar e contar depois)\n",
    "df['sono_combinado_tuple'] = list(zip(df['N010'], df['N011'], df['N012']))\n"
   ]
  },
  {
   "cell_type": "code",
   "execution_count": 92,
   "id": "58b192e0",
   "metadata": {},
   "outputs": [
    {
     "data": {
      "application/vnd.microsoft.datawrangler.viewer.v0+json": {
       "columns": [
        {
         "name": "index",
         "rawType": "int64",
         "type": "integer"
        },
        {
         "name": "sono_combinado",
         "rawType": "object",
         "type": "string"
        },
        {
         "name": "frequencia",
         "rawType": "int64",
         "type": "integer"
        }
       ],
       "conversionMethod": "pd.DataFrame",
       "ref": "d168d897-b4ca-4c45-a408-c0f3c331ee40",
       "rows": [
        [
         "0",
         "1.0-1.0-1.0",
         "10577"
        ],
        [
         "1",
         "2.0-1.0-1.0",
         "1610"
        ],
        [
         "2",
         "1.0-2.0-1.0",
         "1309"
        ],
        [
         "3",
         "2.0-2.0-2.0",
         "1074"
        ],
        [
         "4",
         "2.0-2.0-1.0",
         "922"
        ],
        [
         "5",
         "4.0-1.0-1.0",
         "873"
        ],
        [
         "6",
         "1.0-2.0-2.0",
         "856"
        ],
        [
         "7",
         "1.0-1.0-2.0",
         "655"
        ],
        [
         "8",
         "4.0-4.0-4.0",
         "589"
        ],
        [
         "9",
         "3.0-1.0-1.0",
         "485"
        ],
        [
         "10",
         "4.0-2.0-2.0",
         "371"
        ],
        [
         "11",
         "4.0-2.0-1.0",
         "351"
        ],
        [
         "12",
         "3.0-2.0-2.0",
         "282"
        ],
        [
         "13",
         "2.0-1.0-2.0",
         "277"
        ],
        [
         "14",
         "4.0-4.0-1.0",
         "245"
        ],
        [
         "15",
         "4.0-4.0-2.0",
         "216"
        ],
        [
         "16",
         "3.0-2.0-1.0",
         "216"
        ],
        [
         "17",
         "3.0-3.0-3.0",
         "208"
        ],
        [
         "18",
         "1.0-3.0-1.0",
         "184"
        ],
        [
         "19",
         "1.0-4.0-1.0",
         "172"
        ],
        [
         "20",
         "4.0-1.0-2.0",
         "171"
        ],
        [
         "21",
         "3.0-3.0-2.0",
         "146"
        ],
        [
         "22",
         "3.0-3.0-1.0",
         "137"
        ],
        [
         "23",
         "4.0-3.0-3.0",
         "133"
        ],
        [
         "24",
         "2.0-3.0-2.0",
         "121"
        ],
        [
         "25",
         "2.0-4.0-4.0",
         "117"
        ],
        [
         "26",
         "4.0-4.0-3.0",
         "113"
        ],
        [
         "27",
         "1.0-4.0-4.0",
         "107"
        ],
        [
         "28",
         "1.0-3.0-2.0",
         "102"
        ],
        [
         "29",
         "2.0-3.0-3.0",
         "101"
        ],
        [
         "30",
         "2.0-3.0-1.0",
         "101"
        ],
        [
         "31",
         "4.0-3.0-1.0",
         "100"
        ],
        [
         "32",
         "3.0-1.0-2.0",
         "95"
        ],
        [
         "33",
         "4.0-3.0-2.0",
         "90"
        ],
        [
         "34",
         "2.0-4.0-1.0",
         "83"
        ],
        [
         "35",
         "2.0-4.0-2.0",
         "80"
        ],
        [
         "36",
         "1.0-3.0-3.0",
         "79"
        ],
        [
         "37",
         "2.0-2.0-3.0",
         "78"
        ],
        [
         "38",
         "1.0-4.0-2.0",
         "78"
        ],
        [
         "39",
         "4.0-2.0-4.0",
         "66"
        ],
        [
         "40",
         "1.0-1.0-3.0",
         "60"
        ],
        [
         "41",
         "1.0-2.0-3.0",
         "55"
        ],
        [
         "42",
         "4.0-1.0-4.0",
         "53"
        ],
        [
         "43",
         "4.0-3.0-4.0",
         "50"
        ],
        [
         "44",
         "3.0-2.0-3.0",
         "48"
        ],
        [
         "45",
         "4.0-2.0-3.0",
         "47"
        ],
        [
         "46",
         "3.0-4.0-4.0",
         "41"
        ],
        [
         "47",
         "2.0-4.0-3.0",
         "41"
        ],
        [
         "48",
         "1.0-4.0-3.0",
         "39"
        ],
        [
         "49",
         "1.0-1.0-4.0",
         "39"
        ]
       ],
       "shape": {
        "columns": 2,
        "rows": 64
       }
      },
      "text/html": [
       "<div>\n",
       "<style scoped>\n",
       "    .dataframe tbody tr th:only-of-type {\n",
       "        vertical-align: middle;\n",
       "    }\n",
       "\n",
       "    .dataframe tbody tr th {\n",
       "        vertical-align: top;\n",
       "    }\n",
       "\n",
       "    .dataframe thead th {\n",
       "        text-align: right;\n",
       "    }\n",
       "</style>\n",
       "<table border=\"1\" class=\"dataframe\">\n",
       "  <thead>\n",
       "    <tr style=\"text-align: right;\">\n",
       "      <th></th>\n",
       "      <th>sono_combinado</th>\n",
       "      <th>frequencia</th>\n",
       "    </tr>\n",
       "  </thead>\n",
       "  <tbody>\n",
       "    <tr>\n",
       "      <th>0</th>\n",
       "      <td>1.0-1.0-1.0</td>\n",
       "      <td>10577</td>\n",
       "    </tr>\n",
       "    <tr>\n",
       "      <th>1</th>\n",
       "      <td>2.0-1.0-1.0</td>\n",
       "      <td>1610</td>\n",
       "    </tr>\n",
       "    <tr>\n",
       "      <th>2</th>\n",
       "      <td>1.0-2.0-1.0</td>\n",
       "      <td>1309</td>\n",
       "    </tr>\n",
       "    <tr>\n",
       "      <th>3</th>\n",
       "      <td>2.0-2.0-2.0</td>\n",
       "      <td>1074</td>\n",
       "    </tr>\n",
       "    <tr>\n",
       "      <th>4</th>\n",
       "      <td>2.0-2.0-1.0</td>\n",
       "      <td>922</td>\n",
       "    </tr>\n",
       "    <tr>\n",
       "      <th>...</th>\n",
       "      <td>...</td>\n",
       "      <td>...</td>\n",
       "    </tr>\n",
       "    <tr>\n",
       "      <th>59</th>\n",
       "      <td>3.0-4.0-3.0</td>\n",
       "      <td>19</td>\n",
       "    </tr>\n",
       "    <tr>\n",
       "      <th>60</th>\n",
       "      <td>2.0-1.0-4.0</td>\n",
       "      <td>17</td>\n",
       "    </tr>\n",
       "    <tr>\n",
       "      <th>61</th>\n",
       "      <td>2.0-3.0-4.0</td>\n",
       "      <td>16</td>\n",
       "    </tr>\n",
       "    <tr>\n",
       "      <th>62</th>\n",
       "      <td>3.0-1.0-4.0</td>\n",
       "      <td>10</td>\n",
       "    </tr>\n",
       "    <tr>\n",
       "      <th>63</th>\n",
       "      <td>3.0-2.0-4.0</td>\n",
       "      <td>7</td>\n",
       "    </tr>\n",
       "  </tbody>\n",
       "</table>\n",
       "<p>64 rows × 2 columns</p>\n",
       "</div>"
      ],
      "text/plain": [
       "   sono_combinado  frequencia\n",
       "0     1.0-1.0-1.0       10577\n",
       "1     2.0-1.0-1.0        1610\n",
       "2     1.0-2.0-1.0        1309\n",
       "3     2.0-2.0-2.0        1074\n",
       "4     2.0-2.0-1.0         922\n",
       "..            ...         ...\n",
       "59    3.0-4.0-3.0          19\n",
       "60    2.0-1.0-4.0          17\n",
       "61    2.0-3.0-4.0          16\n",
       "62    3.0-1.0-4.0          10\n",
       "63    3.0-2.0-4.0           7\n",
       "\n",
       "[64 rows x 2 columns]"
      ]
     },
     "execution_count": 92,
     "metadata": {},
     "output_type": "execute_result"
    }
   ],
   "source": [
    "# Como DataFrame\n",
    "frequencias = df['sono_combinado'].value_counts().reset_index()\n",
    "frequencias.columns = ['sono_combinado', 'frequencia']\n",
    "\n",
    "frequencias\n"
   ]
  },
  {
   "cell_type": "code",
   "execution_count": 93,
   "id": "493a804e",
   "metadata": {},
   "outputs": [],
   "source": [
    "df = df.drop(columns=['sono_combinado', 'sono_combinado_tuple'])"
   ]
  },
  {
   "cell_type": "markdown",
   "id": "a1f4f4de",
   "metadata": {},
   "source": [
    "#### Produto cartesiano P04501 e P04502"
   ]
  },
  {
   "cell_type": "code",
   "execution_count": 96,
   "id": "c79188de",
   "metadata": {},
   "outputs": [
    {
     "name": "stdout",
     "output_type": "stream",
     "text": [
      "    P04501  P04502\n",
      "0        1       1\n",
      "1        1       2\n",
      "2        1       3\n",
      "3        1       4\n",
      "4        1       5\n",
      "5        1       6\n",
      "6        2       1\n",
      "7        2       2\n",
      "8        2       3\n",
      "9        2       4\n",
      "10       2       5\n",
      "11       2       6\n",
      "12       3       1\n",
      "13       3       2\n",
      "14       3       3\n",
      "15       3       4\n",
      "16       3       5\n",
      "17       3       6\n",
      "18       4       1\n",
      "19       4       2\n",
      "20       4       3\n",
      "21       4       4\n",
      "22       4       5\n",
      "23       4       6\n",
      "24       5       1\n",
      "25       5       2\n",
      "26       5       3\n",
      "27       5       4\n",
      "28       5       5\n",
      "29       5       6\n",
      "30       6       1\n",
      "31       6       2\n",
      "32       6       3\n",
      "33       6       4\n",
      "34       6       5\n",
      "35       6       6\n"
     ]
    }
   ],
   "source": [
    "import itertools\n",
    "import pandas as pd\n",
    "\n",
    "# Categorias possíveis: opções de 1 a 6\n",
    "categorias = list(range(1, 7))\n",
    "\n",
    "# Produto cartesiano\n",
    "combinacoes = list(itertools.product(categorias, categorias))\n",
    "\n",
    "# Transformar em DataFrame\n",
    "df_combinacoes = pd.DataFrame(combinacoes, columns=['P04501', 'P04502'])\n",
    "\n",
    "print(df_combinacoes)"
   ]
  },
  {
   "cell_type": "code",
   "execution_count": 175,
   "id": "a21611d0",
   "metadata": {},
   "outputs": [],
   "source": [
    "# calculo do imc, mas eu provavelmente vou mudar ele de lugar, pois precisamos inputar primeiro\n",
    "\n",
    "import numpy as np\n",
    "\n",
    "# Calculando o IMC (peso / altura²) e convertendo altura de cm para metros\n",
    "df['imc'] = df['P00104'] / ((df['P00404'] / 100) ** 2)\n",
    "\n",
    "# Classificando em faixas\n",
    "conditions = [\n",
    "    (df['imc'] < 18.5),\n",
    "    ((df['imc'] >= 18.5) & (df['imc'] < 25)),\n",
    "    ((df['imc'] >= 25) & (df['imc'] < 30)),\n",
    "    ((df['imc'] >= 30) & (df['imc'] < 35)),\n",
    "    ((df['imc'] >= 35) & (df['imc'] < 40)),\n",
    "    (df['imc'] >= 40)\n",
    "]\n",
    "\n",
    "labels = [\n",
    "    'Abaixo do peso',\n",
    "    'Peso normal',\n",
    "    'Sobrepeso',\n",
    "    'Obesidade Grau I',\n",
    "    'Obesidade Grau II',\n",
    "    'Obesidade Grau III'\n",
    "]\n",
    "\n",
    "# Criando a coluna com as faixas\n",
    "df['faixa_imc'] = np.select(conditions, labels, default='Dados inválidos')\n",
    "\n",
    "# Opcional: Arredondar o IMC para 2 casas decimais\n",
    "df['imc'] = df['imc'].round(2)"
   ]
  },
  {
   "cell_type": "code",
   "execution_count": 176,
   "id": "1d684c1c",
   "metadata": {},
   "outputs": [
    {
     "data": {
      "text/plain": [
       "0        25.88\n",
       "1        34.05\n",
       "2        36.89\n",
       "3        28.38\n",
       "4        28.96\n",
       "         ...  \n",
       "24340    24.84\n",
       "24341    23.62\n",
       "24342    22.32\n",
       "24343    25.51\n",
       "24344    31.53\n",
       "Name: imc, Length: 24345, dtype: float64"
      ]
     },
     "execution_count": 176,
     "metadata": {},
     "output_type": "execute_result"
    }
   ],
   "source": [
    "df['imc']"
   ]
  }
 ],
 "metadata": {
  "kernelspec": {
   "display_name": "Python 3",
   "language": "python",
   "name": "python3"
  },
  "language_info": {
   "codemirror_mode": {
    "name": "ipython",
    "version": 3
   },
   "file_extension": ".py",
   "mimetype": "text/x-python",
   "name": "python",
   "nbconvert_exporter": "python",
   "pygments_lexer": "ipython3",
   "version": "3.13.2"
  }
 },
 "nbformat": 4,
 "nbformat_minor": 5
}
