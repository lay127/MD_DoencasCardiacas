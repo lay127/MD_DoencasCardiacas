{
 "cells": [
  {
   "cell_type": "markdown",
   "id": "3c2c55b2",
   "metadata": {},
   "source": [
    "### **Produto cartesiano, preenchimento de dados vazios, exclusão de dados ausentes, discretização de atributos numéricos e preparação geral da base**"
   ]
  },
  {
   "cell_type": "code",
   "execution_count": 468,
   "id": "5b0ed06f",
   "metadata": {},
   "outputs": [],
   "source": [
    "import pandas as pd\n",
    "import numpy as np"
   ]
  },
  {
   "cell_type": "code",
   "execution_count": 469,
   "id": "44e83fa0",
   "metadata": {},
   "outputs": [],
   "source": [
    "df = pd.read_csv('..\\\\Bases\\\\Criados\\\\3_base_doencas_cardiacas.csv')"
   ]
  },
  {
   "cell_type": "code",
   "execution_count": 470,
   "id": "41add216",
   "metadata": {},
   "outputs": [
    {
     "data": {
      "text/plain": [
       "Index(['D00901', 'D014', 'E01602', 'E017', 'E01802', 'E019', 'F001021',\n",
       "       'F007021', 'F008021', 'VDF00102', 'G060', 'G062', 'I006', 'I004',\n",
       "       'I00401', 'I00402', 'I00403', 'M00203', 'M011011', 'M011021', 'M011051',\n",
       "       'M011071', 'N004', 'N005', 'N008', 'P00104', 'P00404', 'P02801', 'P029',\n",
       "       'P035', 'P03701', 'P03702', 'P051', 'P052', 'P053', 'P05401', 'P05404',\n",
       "       'P05407', 'P05410', 'P05413', 'P05416', 'P05419', 'Q00201', 'Q03001',\n",
       "       'Q060', 'R034', 'H003', 'H004', 'H010', 'D00301', 'D008', 'E011',\n",
       "       'E014011', 'E01601', 'E01801', 'I00103', 'I001031', 'P00103', 'P00403',\n",
       "       'P05901', 'P05902', 'P05903', 'P05904', 'H002'],\n",
       "      dtype='object')"
      ]
     },
     "execution_count": 470,
     "metadata": {},
     "output_type": "execute_result"
    }
   ],
   "source": [
    "df.columns[df.isnull().any()]"
   ]
  },
  {
   "cell_type": "code",
   "execution_count": 471,
   "id": "243355c9",
   "metadata": {},
   "outputs": [
    {
     "data": {
      "text/plain": [
       "np.int64(64)"
      ]
     },
     "execution_count": 471,
     "metadata": {},
     "output_type": "execute_result"
    }
   ],
   "source": [
    "(df.isnull().sum() > 0).sum()"
   ]
  },
  {
   "cell_type": "markdown",
   "id": "0ce1ce6a",
   "metadata": {},
   "source": [
    "### C009 - Cor ou raça"
   ]
  },
  {
   "cell_type": "code",
   "execution_count": 472,
   "id": "d82f2b09",
   "metadata": {},
   "outputs": [
    {
     "name": "stdout",
     "output_type": "stream",
     "text": [
      "       C009  Q06306\n",
      "99      9.0     2.0\n",
      "10621   9.0     2.0\n"
     ]
    }
   ],
   "source": [
    "# Filtrar os registros onde C009 == 9.0\n",
    "filtro_cor_9 = df[df['C009'] == 9.0]\n",
    "\n",
    "# Exibir apenas as colunas C009 e Q06306 dessas instâncias\n",
    "print(filtro_cor_9[['C009', 'Q06306']])"
   ]
  },
  {
   "cell_type": "code",
   "execution_count": 473,
   "id": "d766db4e",
   "metadata": {},
   "outputs": [
    {
     "name": "stdout",
     "output_type": "stream",
     "text": [
      "C009\n",
      "4.0    11677\n",
      "1.0     5933\n",
      "2.0     2619\n",
      "5.0      163\n",
      "3.0      134\n",
      "9.0        2\n",
      "Name: count, dtype: int64\n"
     ]
    }
   ],
   "source": [
    "print(df['C009'].value_counts(dropna=False))"
   ]
  },
  {
   "cell_type": "code",
   "execution_count": 474,
   "id": "a5e05019",
   "metadata": {},
   "outputs": [
    {
     "name": "stdout",
     "output_type": "stream",
     "text": [
      "C009\n",
      "4.0    11677\n",
      "1.0     5933\n",
      "2.0     2619\n",
      "5.0      163\n",
      "3.0      134\n",
      "Name: count, dtype: int64\n"
     ]
    }
   ],
   "source": [
    "# Remover as instâncias onde C009 é igual a 9.0\n",
    "df = df[df['C009'] != 9.0]\n",
    "print(df['C009'].value_counts()) #conferindo"
   ]
  },
  {
   "cell_type": "code",
   "execution_count": 475,
   "id": "02015fa1",
   "metadata": {},
   "outputs": [
    {
     "name": "stdout",
     "output_type": "stream",
     "text": [
      "C009\n",
      "Parda     11677\n",
      "Branca     5933\n",
      "Preta      2619\n",
      "Outra       297\n",
      "Name: count, dtype: int64\n"
     ]
    }
   ],
   "source": [
    "import pandas as pd\n",
    "\n",
    "df['C009'] = df['C009'].map({\n",
    "    1.0: 'Branca',\n",
    "    2.0: 'Preta',\n",
    "    4.0: 'Parda'\n",
    "})\n",
    "\n",
    "# Preencher os valores restantes com 'Outra'\n",
    "df['C009'] = df['C009'].fillna('Outra')\n",
    "\n",
    "print(df['C009'].value_counts())"
   ]
  },
  {
   "cell_type": "markdown",
   "id": "ce3cc021",
   "metadata": {},
   "source": [
    "### Escolaridade"
   ]
  },
  {
   "cell_type": "markdown",
   "id": "3d52a8dc",
   "metadata": {},
   "source": [
    "Atributos utilizados:\n",
    "1. D00201: se frequenta escola atualmente\n",
    "2. D00301: qual curso frequenta\n",
    "3. D008: se já frequentou escola ou creche\n",
    "4. D00901: Qual foi o curso mais elevado que frequentou?\n",
    "5. D014: se concluiu esse curso"
   ]
  },
  {
   "cell_type": "code",
   "execution_count": 476,
   "id": "559381f6",
   "metadata": {},
   "outputs": [
    {
     "name": "stdout",
     "output_type": "stream",
     "text": [
      "Quantidade de instâncias em que D014 é NaN e D00901 não é: 790\n"
     ]
    }
   ],
   "source": [
    "quantidade = df[df['D014'].isna() & df['D00901'].notna()].shape[0]\n",
    "print(f\"Quantidade de instâncias em que D014 é NaN e D00901 não é: {quantidade}\")"
   ]
  },
  {
   "cell_type": "code",
   "execution_count": 477,
   "id": "996f9ae3",
   "metadata": {},
   "outputs": [
    {
     "name": "stdout",
     "output_type": "stream",
     "text": [
      "Situacao_escolar\n",
      "Frequentou        18137\n",
      "Não frequentou     1748\n",
      "Frequenta           641\n",
      "Name: count, dtype: int64\n",
      "Valores faltantes: 0\n"
     ]
    }
   ],
   "source": [
    "def categorizar_escolaridade(row):\n",
    "    if row['D00201'] == 1:\n",
    "        return 'Frequenta'\n",
    "    elif row['D00201'] == 2:\n",
    "        if row['D008'] == 1:\n",
    "            return 'Frequentou'\n",
    "        elif row['D008'] == 2:\n",
    "            return 'Não frequentou'\n",
    "    return pd.NA  # Caso não se encaixe em nenhuma condição\n",
    "\n",
    "df['Situacao_escolar'] = df.apply(categorizar_escolaridade, axis=1)\n",
    "\n",
    "print(df['Situacao_escolar'].value_counts(dropna=False))\n",
    "print(f\"Valores faltantes:\",df['Situacao_escolar'].isna().sum())\n"
   ]
  },
  {
   "cell_type": "code",
   "execution_count": 478,
   "id": "07f0128c",
   "metadata": {},
   "outputs": [
    {
     "data": {
      "text/plain": [
       "D00301\n",
       "8.0     213\n",
       "9.0     113\n",
       "4.0      98\n",
       "5.0      88\n",
       "6.0      42\n",
       "3.0      38\n",
       "7.0      22\n",
       "10.0     19\n",
       "11.0      8\n",
       "Name: count, dtype: int64"
      ]
     },
     "execution_count": 478,
     "metadata": {},
     "output_type": "execute_result"
    }
   ],
   "source": [
    "df['D00301'].value_counts()"
   ]
  },
  {
   "cell_type": "code",
   "execution_count": 479,
   "id": "f6b8b4c6",
   "metadata": {},
   "outputs": [
    {
     "name": "stdout",
     "output_type": "stream",
     "text": [
      "Escolaridade\n",
      "1    7855\n",
      "3    4920\n",
      "2    3456\n",
      "0    1748\n",
      "4    1669\n",
      "5     878\n",
      "Name: count, dtype: int64\n"
     ]
    }
   ],
   "source": [
    "def map_escolaridade(row): \n",
    "    situacao = row['Situacao_escolar']\n",
    "    curso = row['D00901']\n",
    "    concluiu = row['D014']\n",
    "    curso_atual = row['D00301']\n",
    "\n",
    "    # Se nunca frequentou escola, categoria = 0\n",
    "    if situacao == 'Não frequentou':\n",
    "        return 0\n",
    "\n",
    "    # Usa D00901 (curso mais elevado) prioritariamente\n",
    "    if curso in [1, 2]:  # Creche, Pré-escola\n",
    "        categoria = 1\n",
    "    elif curso in [3, 4, 5, 6, 7, 8]:  # Alfabetização, primário, EJA fundamental etc.\n",
    "        categoria = 2\n",
    "    elif curso in [9, 10, 11]:  # Ensino médio, EJA médio\n",
    "        categoria = 3\n",
    "    elif curso == 12:  # Superior\n",
    "        categoria = 4\n",
    "    elif curso in [13, 14, 15]:  # Pós-graduação\n",
    "        categoria = 5\n",
    "    # Se curso é inválido ou ausente, tenta usar curso_atual (D00301)\n",
    "    elif curso_atual in [3, 4, 5]:\n",
    "        categoria = 1  # Educação infantil\n",
    "    elif curso_atual in [6, 7]:\n",
    "        categoria = 2  # Fundamental\n",
    "    elif curso_atual in [8, 9]:\n",
    "        categoria = 3  # Médio\n",
    "    elif curso_atual in [10, 11]:\n",
    "        categoria = 4  # Superior\n",
    "    else:\n",
    "        return np.nan\n",
    "\n",
    "    # Rebaixar se não concluiu (exceto se usou curso_atual)\n",
    "    if concluiu == 2 and curso in range(1, 16):\n",
    "        categoria -= 1\n",
    "        if categoria < 0:\n",
    "            categoria = 0\n",
    "\n",
    "    return categoria\n",
    "\n",
    "\n",
    "\n",
    "df['Escolaridade'] = df.apply(map_escolaridade, axis=1)\n",
    "\n",
    "print(df['Escolaridade'].value_counts(dropna=False))\n",
    "\n",
    "# 0: Nunca frequentou escola\n",
    "# 1: Educação infantil\n",
    "# 2: Ensino fundamental\n",
    "# 3: Ensino médio\n",
    "# 4: Ensino superior\n",
    "# 5: Pós-graduação"
   ]
  },
  {
   "cell_type": "code",
   "execution_count": 480,
   "id": "69ae81c0",
   "metadata": {},
   "outputs": [],
   "source": [
    "df.drop(columns=['D00201', 'D00301', 'D008', 'D00901', 'D014', 'Situacao_escolar'], inplace=True)"
   ]
  },
  {
   "cell_type": "markdown",
   "id": "a1892c33",
   "metadata": {},
   "source": [
    "### Renda"
   ]
  },
  {
   "cell_type": "markdown",
   "id": "365b8c5c",
   "metadata": {},
   "source": [
    "1. E014011: se era trabalhador não remunerado ajudando parente/domicílio\n",
    "2. E01601: se recebia dinheiro no trabalho principal\n",
    "3. E01602: valor da renda do trabalho principal\n",
    "4. E01801: se recebia dinheiro em outro(s) trabalho(s)\n",
    "5. E01802: valor da renda dos outros trabalhos"
   ]
  },
  {
   "cell_type": "markdown",
   "id": "7a868e30",
   "metadata": {},
   "source": [
    "Regras:\n",
    "\n",
    "1. Se E01601 != 1 ou E01801 != 1, a renda respectiva é 0;\n",
    "2. Se a pessoa é não remunerada (E014011 = 1, 2), renda é 0;\n",
    "3. Se E01602 ou E01802 estiverem NaN, mas a pessoa disse que recebia (E01601 ou E01801 = 1), considerar como NaN final.\n",
    "4. Renda total é a soma de E01602 e E01802."
   ]
  },
  {
   "cell_type": "code",
   "execution_count": 481,
   "id": "bb60e963",
   "metadata": {},
   "outputs": [
    {
     "name": "stdout",
     "output_type": "stream",
     "text": [
      "Valores faltantes: 0\n"
     ]
    }
   ],
   "source": [
    "import pandas as pd\n",
    "import numpy as np\n",
    "\n",
    "def calcular_renda(row):\n",
    "    # Regra 2: trabalhador não remunerado (1, 2 ou 3)\n",
    "    if row['E014011'] in [1, 2, 3]:\n",
    "        return 0.0\n",
    "\n",
    "    # Regra 1 + 3: rendimentos do trabalho\n",
    "    renda1 = row['E01602'] if row['E01601'] == 1 and pd.notna(row['E01602']) else 0.0\n",
    "    renda2 = row['E01802'] if row['E01801'] == 1 and pd.notna(row['E01802']) else 0.0\n",
    "\n",
    "    # Outros rendimentos\n",
    "    renda3 = row['F001021'] if row['F001011'] == 1 and pd.notna(row['F001021']) else 0.0\n",
    "    renda4 = row['F007021'] if row['F007011'] == 1 and pd.notna(row['F007021']) else 0.0\n",
    "    renda5 = row['F008021'] if row['F008011'] == 1 and pd.notna(row['F008021']) else 0.0\n",
    "    renda6 = row['VDF00102'] if row['VDF001'] == 1 and pd.notna(row['VDF00102']) else 0.0\n",
    "\n",
    "    # Se todos forem NaN, retorna NaN\n",
    "    rendas = [renda1, renda2, renda3, renda4, renda5, renda6]\n",
    "    if all(pd.isna(r) for r in rendas):\n",
    "        return np.nan\n",
    "\n",
    "    return sum(r for r in rendas if pd.notna(r))\n",
    "\n",
    "# Aplicando ao DataFrame\n",
    "df['Renda'] = df.apply(calcular_renda, axis=1)\n",
    "\n",
    "print(\"Valores faltantes:\", df['Renda'].isna().sum())\n"
   ]
  },
  {
   "cell_type": "code",
   "execution_count": 482,
   "id": "3b189ab1",
   "metadata": {},
   "outputs": [
    {
     "name": "stdout",
     "output_type": "stream",
     "text": [
      "2522\n"
     ]
    }
   ],
   "source": [
    "print((df['Renda'] == 0.0).sum())"
   ]
  },
  {
   "cell_type": "code",
   "execution_count": 483,
   "id": "de77bc94",
   "metadata": {},
   "outputs": [],
   "source": [
    "df.drop(columns=['E014011', 'E01601', 'E01801', 'F001011', 'F007011', 'F008011', 'VDF001', 'E01602', 'E01802', 'F001021', 'F007021', 'F008021', 'VDF00102'], inplace=True)"
   ]
  },
  {
   "cell_type": "markdown",
   "id": "4440885a",
   "metadata": {},
   "source": [
    "#### Discretização do atributo Renda"
   ]
  },
  {
   "cell_type": "code",
   "execution_count": 484,
   "id": "401a577b",
   "metadata": {},
   "outputs": [
    {
     "name": "stdout",
     "output_type": "stream",
     "text": [
      "Renda\n",
      "Até 1 SM        8432\n",
      "1–2 SM          4548\n",
      "Sem renda       2522\n",
      "2–3 SM          1852\n",
      "Mais de 5 SM    1722\n",
      "3–5 SM          1450\n",
      "Name: count, dtype: int64\n"
     ]
    }
   ],
   "source": [
    "def faixa_renda_sm(renda):\n",
    "    if renda == 0:\n",
    "        return 'Sem renda'\n",
    "    elif renda <= 998:\n",
    "        return 'Até 1 SM'\n",
    "    elif renda <= 2 * 998:\n",
    "        return '1–2 SM'\n",
    "    elif renda <= 3 * 998:\n",
    "        return '2–3 SM'\n",
    "    elif renda <= 5 * 998:\n",
    "        return '3–5 SM'\n",
    "    else:\n",
    "        return 'Mais de 5 SM'\n",
    "\n",
    "df['Renda'] = df['Renda'].apply(faixa_renda_sm)\n",
    "print(df['Renda'].value_counts(dropna=False))\n"
   ]
  },
  {
   "cell_type": "code",
   "execution_count": 485,
   "id": "635cf7e2",
   "metadata": {},
   "outputs": [
    {
     "name": "stdout",
     "output_type": "stream",
     "text": [
      "Renda\n",
      "1    8432\n",
      "2    4548\n",
      "0    2522\n",
      "3    1852\n",
      "5    1722\n",
      "4    1450\n",
      "Name: count, dtype: int64\n"
     ]
    }
   ],
   "source": [
    "mapeamento_faixas = {\n",
    "    'Sem renda': 0,\n",
    "    'Até 1 SM': 1,\n",
    "    '1–2 SM': 2,\n",
    "    '2–3 SM': 3,\n",
    "    '3–5 SM': 4,\n",
    "    'Mais de 5 SM': 5\n",
    "}\n",
    "\n",
    "df['Renda'] = df['Renda'].map(mapeamento_faixas)\n",
    "print(df['Renda'].value_counts(dropna=False))"
   ]
  },
  {
   "cell_type": "markdown",
   "id": "2ef23b3c",
   "metadata": {},
   "source": [
    "### Horas trabalhadas"
   ]
  },
  {
   "cell_type": "markdown",
   "id": "22217ff1",
   "metadata": {},
   "source": [
    "1. E011: número de trabalhos na semana \n",
    "2. E017: horas trabalhadas em 1 trabalho\n",
    "3. E019: horas trabalhadas em mais de 1 trabalho"
   ]
  },
  {
   "cell_type": "code",
   "execution_count": 486,
   "id": "d5706252",
   "metadata": {},
   "outputs": [
    {
     "name": "stdout",
     "output_type": "stream",
     "text": [
      "Quant_trabalhos\n",
      "1    11210\n",
      "0     8592\n",
      "2      642\n",
      "3       82\n",
      "Name: count, dtype: int64\n",
      "Valores faltantes: 0\n"
     ]
    }
   ],
   "source": [
    "def quantidade_trabalhos(row):\n",
    "    if row['E011'] == 1:\n",
    "        return 1\n",
    "    elif row['E011'] == 2:\n",
    "            return 2\n",
    "    elif row['E011'] == 3:\n",
    "            return 3\n",
    "    else:\n",
    "         return 0\n",
    "\n",
    "df['Quant_trabalhos'] = df.apply(quantidade_trabalhos, axis=1)\n",
    "\n",
    "print(df['Quant_trabalhos'].value_counts(dropna=False))\n",
    "print(f\"Valores faltantes:\",df['Quant_trabalhos'].isna().sum())"
   ]
  },
  {
   "cell_type": "code",
   "execution_count": 487,
   "id": "5a8d219f",
   "metadata": {},
   "outputs": [
    {
     "name": "stdout",
     "output_type": "stream",
     "text": [
      "E017 faltantes: 8592\n",
      "E019 faltantes: 19802\n"
     ]
    }
   ],
   "source": [
    "print(\"E017 faltantes:\", df['E017'].isna().sum())\n",
    "print(\"E019 faltantes:\", df['E019'].isna().sum())"
   ]
  },
  {
   "cell_type": "code",
   "execution_count": 488,
   "id": "9a6fd61b",
   "metadata": {},
   "outputs": [],
   "source": [
    "df['Quant_trabalhos'] = df['Quant_trabalhos'].astype(int)\n",
    "df.loc[df['Quant_trabalhos'] == 0, 'E017'] = 0\n",
    "df.loc[df['Quant_trabalhos'].isin([0, 1]), 'E019'] = 0\n",
    "\n",
    "#df['E017']=df['E017'].fillna(0) \n",
    "#df['E019']=df['E019'].fillna(0)"
   ]
  },
  {
   "cell_type": "code",
   "execution_count": 489,
   "id": "96e0c383",
   "metadata": {},
   "outputs": [
    {
     "name": "stdout",
     "output_type": "stream",
     "text": [
      "E017 faltantes: 0\n",
      "E019 faltantes: 0\n"
     ]
    }
   ],
   "source": [
    "print(\"E017 faltantes:\", df['E017'].isna().sum())\n",
    "print(\"E019 faltantes:\", df['E019'].isna().sum())"
   ]
  },
  {
   "cell_type": "code",
   "execution_count": 490,
   "id": "c1817259",
   "metadata": {},
   "outputs": [
    {
     "name": "stdout",
     "output_type": "stream",
     "text": [
      "Valores faltantes: 0\n"
     ]
    }
   ],
   "source": [
    "df['Carga_horaria_semanal'] = df['E017'] + df['E019']\n",
    "\n",
    "print(\"Valores faltantes:\", df['Carga_horaria_semanal'].isna().sum())"
   ]
  },
  {
   "cell_type": "code",
   "execution_count": 491,
   "id": "77bf46c7",
   "metadata": {},
   "outputs": [
    {
     "name": "stdout",
     "output_type": "stream",
     "text": [
      "120.0\n"
     ]
    }
   ],
   "source": [
    "print(df['Carga_horaria_semanal'].max())"
   ]
  },
  {
   "cell_type": "code",
   "execution_count": 492,
   "id": "43423eb8",
   "metadata": {},
   "outputs": [
    {
     "data": {
      "application/vnd.microsoft.datawrangler.viewer.v0+json": {
       "columns": [
        {
         "name": "index",
         "rawType": "int64",
         "type": "integer"
        },
        {
         "name": "Renda",
         "rawType": "int64",
         "type": "integer"
        },
        {
         "name": "Quant_trabalhos",
         "rawType": "int64",
         "type": "integer"
        },
        {
         "name": "Carga_horaria_semanal",
         "rawType": "float64",
         "type": "float"
        }
       ],
       "conversionMethod": "pd.DataFrame",
       "ref": "2c8a95d7-acb8-436e-8a85-8e6f3dc76e07",
       "rows": [
        [
         "3",
         "0",
         "0",
         "0.0"
        ],
        [
         "5",
         "0",
         "0",
         "0.0"
        ],
        [
         "24",
         "0",
         "0",
         "0.0"
        ],
        [
         "33",
         "0",
         "0",
         "0.0"
        ],
        [
         "35",
         "0",
         "0",
         "0.0"
        ],
        [
         "39",
         "0",
         "0",
         "0.0"
        ],
        [
         "45",
         "0",
         "0",
         "0.0"
        ],
        [
         "63",
         "0",
         "0",
         "0.0"
        ],
        [
         "70",
         "0",
         "0",
         "0.0"
        ],
        [
         "74",
         "0",
         "0",
         "0.0"
        ],
        [
         "80",
         "0",
         "0",
         "0.0"
        ],
        [
         "86",
         "0",
         "0",
         "0.0"
        ],
        [
         "95",
         "0",
         "0",
         "0.0"
        ],
        [
         "102",
         "0",
         "0",
         "0.0"
        ],
        [
         "129",
         "0",
         "0",
         "0.0"
        ],
        [
         "137",
         "0",
         "0",
         "0.0"
        ],
        [
         "152",
         "0",
         "0",
         "0.0"
        ],
        [
         "154",
         "0",
         "0",
         "0.0"
        ],
        [
         "157",
         "0",
         "0",
         "0.0"
        ],
        [
         "209",
         "0",
         "0",
         "0.0"
        ],
        [
         "234",
         "0",
         "0",
         "0.0"
        ],
        [
         "265",
         "0",
         "0",
         "0.0"
        ],
        [
         "266",
         "0",
         "0",
         "0.0"
        ],
        [
         "268",
         "0",
         "0",
         "0.0"
        ],
        [
         "274",
         "0",
         "0",
         "0.0"
        ],
        [
         "298",
         "0",
         "0",
         "0.0"
        ],
        [
         "303",
         "0",
         "0",
         "0.0"
        ],
        [
         "310",
         "0",
         "0",
         "0.0"
        ],
        [
         "311",
         "0",
         "0",
         "0.0"
        ],
        [
         "321",
         "0",
         "0",
         "0.0"
        ],
        [
         "336",
         "0",
         "0",
         "0.0"
        ],
        [
         "339",
         "0",
         "0",
         "0.0"
        ],
        [
         "345",
         "0",
         "0",
         "0.0"
        ],
        [
         "347",
         "0",
         "0",
         "0.0"
        ],
        [
         "348",
         "0",
         "0",
         "0.0"
        ],
        [
         "369",
         "0",
         "0",
         "0.0"
        ],
        [
         "393",
         "0",
         "0",
         "0.0"
        ],
        [
         "408",
         "0",
         "0",
         "0.0"
        ],
        [
         "411",
         "0",
         "0",
         "0.0"
        ],
        [
         "413",
         "0",
         "0",
         "0.0"
        ],
        [
         "431",
         "0",
         "0",
         "0.0"
        ],
        [
         "436",
         "0",
         "0",
         "0.0"
        ],
        [
         "440",
         "0",
         "0",
         "0.0"
        ],
        [
         "460",
         "0",
         "0",
         "0.0"
        ],
        [
         "461",
         "0",
         "0",
         "0.0"
        ],
        [
         "463",
         "0",
         "0",
         "0.0"
        ],
        [
         "477",
         "0",
         "0",
         "0.0"
        ],
        [
         "483",
         "0",
         "0",
         "0.0"
        ],
        [
         "488",
         "0",
         "0",
         "0.0"
        ],
        [
         "496",
         "0",
         "0",
         "0.0"
        ]
       ],
       "shape": {
        "columns": 3,
        "rows": 2358
       }
      },
      "text/html": [
       "<div>\n",
       "<style scoped>\n",
       "    .dataframe tbody tr th:only-of-type {\n",
       "        vertical-align: middle;\n",
       "    }\n",
       "\n",
       "    .dataframe tbody tr th {\n",
       "        vertical-align: top;\n",
       "    }\n",
       "\n",
       "    .dataframe thead th {\n",
       "        text-align: right;\n",
       "    }\n",
       "</style>\n",
       "<table border=\"1\" class=\"dataframe\">\n",
       "  <thead>\n",
       "    <tr style=\"text-align: right;\">\n",
       "      <th></th>\n",
       "      <th>Renda</th>\n",
       "      <th>Quant_trabalhos</th>\n",
       "      <th>Carga_horaria_semanal</th>\n",
       "    </tr>\n",
       "  </thead>\n",
       "  <tbody>\n",
       "    <tr>\n",
       "      <th>3</th>\n",
       "      <td>0</td>\n",
       "      <td>0</td>\n",
       "      <td>0.0</td>\n",
       "    </tr>\n",
       "    <tr>\n",
       "      <th>5</th>\n",
       "      <td>0</td>\n",
       "      <td>0</td>\n",
       "      <td>0.0</td>\n",
       "    </tr>\n",
       "    <tr>\n",
       "      <th>24</th>\n",
       "      <td>0</td>\n",
       "      <td>0</td>\n",
       "      <td>0.0</td>\n",
       "    </tr>\n",
       "    <tr>\n",
       "      <th>33</th>\n",
       "      <td>0</td>\n",
       "      <td>0</td>\n",
       "      <td>0.0</td>\n",
       "    </tr>\n",
       "    <tr>\n",
       "      <th>35</th>\n",
       "      <td>0</td>\n",
       "      <td>0</td>\n",
       "      <td>0.0</td>\n",
       "    </tr>\n",
       "    <tr>\n",
       "      <th>...</th>\n",
       "      <td>...</td>\n",
       "      <td>...</td>\n",
       "      <td>...</td>\n",
       "    </tr>\n",
       "    <tr>\n",
       "      <th>20470</th>\n",
       "      <td>0</td>\n",
       "      <td>0</td>\n",
       "      <td>0.0</td>\n",
       "    </tr>\n",
       "    <tr>\n",
       "      <th>20473</th>\n",
       "      <td>0</td>\n",
       "      <td>0</td>\n",
       "      <td>0.0</td>\n",
       "    </tr>\n",
       "    <tr>\n",
       "      <th>20474</th>\n",
       "      <td>0</td>\n",
       "      <td>0</td>\n",
       "      <td>0.0</td>\n",
       "    </tr>\n",
       "    <tr>\n",
       "      <th>20475</th>\n",
       "      <td>0</td>\n",
       "      <td>0</td>\n",
       "      <td>0.0</td>\n",
       "    </tr>\n",
       "    <tr>\n",
       "      <th>20491</th>\n",
       "      <td>0</td>\n",
       "      <td>0</td>\n",
       "      <td>0.0</td>\n",
       "    </tr>\n",
       "  </tbody>\n",
       "</table>\n",
       "<p>2358 rows × 3 columns</p>\n",
       "</div>"
      ],
      "text/plain": [
       "       Renda  Quant_trabalhos  Carga_horaria_semanal\n",
       "3          0                0                    0.0\n",
       "5          0                0                    0.0\n",
       "24         0                0                    0.0\n",
       "33         0                0                    0.0\n",
       "35         0                0                    0.0\n",
       "...      ...              ...                    ...\n",
       "20470      0                0                    0.0\n",
       "20473      0                0                    0.0\n",
       "20474      0                0                    0.0\n",
       "20475      0                0                    0.0\n",
       "20491      0                0                    0.0\n",
       "\n",
       "[2358 rows x 3 columns]"
      ]
     },
     "execution_count": 492,
     "metadata": {},
     "output_type": "execute_result"
    }
   ],
   "source": [
    "df['Quant_trabalhos'] = pd.to_numeric(df['Quant_trabalhos'], errors='coerce')\n",
    "df[(df['Renda'] == 0.0) & (df['Quant_trabalhos'] == 0) & (df['Carga_horaria_semanal'] == 0.0)][['Renda', 'Quant_trabalhos', 'Carga_horaria_semanal']]"
   ]
  },
  {
   "cell_type": "markdown",
   "id": "86ed8b9e",
   "metadata": {},
   "source": [
    "#### Discretização do atributo Carga horária semanal"
   ]
  },
  {
   "cell_type": "code",
   "execution_count": 493,
   "id": "c62d888f",
   "metadata": {},
   "outputs": [
    {
     "name": "stdout",
     "output_type": "stream",
     "text": [
      "Carga_horaria_semanal\n",
      "Até 44h              9296\n",
      "Sem carga horária    8592\n",
      "Acima de 44h         2638\n",
      "Name: count, dtype: int64\n"
     ]
    }
   ],
   "source": [
    "def categorizar_carga_horaria(horas):\n",
    "    if horas == 0:\n",
    "        return 'Sem carga horária'\n",
    "    elif horas <= 44:\n",
    "        return 'Até 44h'\n",
    "    else:\n",
    "        return 'Acima de 44h'\n",
    "\n",
    "df['Carga_horaria_semanal'] = df['Carga_horaria_semanal'].apply(categorizar_carga_horaria)\n",
    "print(df['Carga_horaria_semanal'].value_counts(dropna=False))"
   ]
  },
  {
   "cell_type": "code",
   "execution_count": 494,
   "id": "d9003b63",
   "metadata": {},
   "outputs": [
    {
     "name": "stdout",
     "output_type": "stream",
     "text": [
      "Carga_horaria_semanal\n",
      "1    9296\n",
      "0    8592\n",
      "2    2638\n",
      "Name: count, dtype: int64\n"
     ]
    }
   ],
   "source": [
    "mapeamento = {\n",
    "    'Sem carga horária': 0,\n",
    "    'Até 44h': 1,\n",
    "    'Acima de 44h': 2\n",
    "}\n",
    "\n",
    "df['Carga_horaria_semanal'] = df['Carga_horaria_semanal'].map(mapeamento)\n",
    "print(df['Carga_horaria_semanal'].value_counts(dropna=False))"
   ]
  },
  {
   "cell_type": "code",
   "execution_count": 495,
   "id": "d8ceb9bc",
   "metadata": {},
   "outputs": [],
   "source": [
    "df.drop(columns=['E017', 'E019'], inplace=True)"
   ]
  },
  {
   "cell_type": "markdown",
   "id": "05822200",
   "metadata": {},
   "source": [
    "### Mobilidade"
   ]
  },
  {
   "cell_type": "markdown",
   "id": "5a9abd9c",
   "metadata": {},
   "source": [
    "1. G059: usa algum aparelho de auxílio para se locomover?\n",
    "2. G060: faz uso de cadeira de rodas?\n",
    "3. G062: faz uso de bengala, muletas ou andador?"
   ]
  },
  {
   "cell_type": "code",
   "execution_count": 496,
   "id": "207d2c19",
   "metadata": {},
   "outputs": [
    {
     "name": "stdout",
     "output_type": "stream",
     "text": [
      "Mobilidade_assistida\n",
      "Não usa aparelho de auxílio        20178\n",
      "Apenas bengala/muleta/andador        239\n",
      "Apenas cadeira de rodas               75\n",
      "Usa outros aparelhos de auxílio       34\n",
      "Name: count, dtype: int64\n",
      "0\n"
     ]
    }
   ],
   "source": [
    "def classificar_mobilidade(row):\n",
    "    usa_aparelho = row['G059'] == 1\n",
    "    cadeira_rodas = row['G060'] == 1\n",
    "    bengala_muleta = row['G062'] == 1\n",
    "\n",
    "    if not usa_aparelho:\n",
    "        return 'Não usa aparelho de auxílio'\n",
    "    if cadeira_rodas:\n",
    "        return 'Apenas cadeira de rodas'\n",
    "    if bengala_muleta:\n",
    "        return 'Apenas bengala/muleta/andador'\n",
    "    if cadeira_rodas and bengala_muleta:\n",
    "        return 'Usa cadeira de rodas e bengala/muleta/andador'\n",
    "    if not cadeira_rodas and not bengala_muleta:\n",
    "        return 'Usa outros aparelhos de auxílio'\n",
    "    return np.nan  # Caso de inconsistência ou valores faltantes\n",
    "\n",
    "df['Mobilidade_assistida'] = df.apply(classificar_mobilidade, axis=1)\n",
    "\n",
    "# Visualizar resultado:\n",
    "print(df['Mobilidade_assistida'].value_counts(dropna=False))\n",
    "print(df['Mobilidade_assistida'].isna().sum())"
   ]
  },
  {
   "cell_type": "code",
   "execution_count": 497,
   "id": "58b8476f",
   "metadata": {},
   "outputs": [],
   "source": [
    "df = df.drop(columns=['G060', 'G062'])"
   ]
  },
  {
   "cell_type": "markdown",
   "id": "228eaac4",
   "metadata": {},
   "source": [
    "### Plano de Saúde"
   ]
  },
  {
   "cell_type": "markdown",
   "id": "a6cdcac2",
   "metadata": {},
   "source": [
    "1. I00102: se tem plano\n",
    "2. I006: avaliação do plano"
   ]
  },
  {
   "cell_type": "code",
   "execution_count": 498,
   "id": "34ede46b",
   "metadata": {},
   "outputs": [
    {
     "name": "stdout",
     "output_type": "stream",
     "text": [
      "Avaliacao_plano\n",
      "Não tem plano      16685\n",
      "Bom/muito bom       2822\n",
      "Regular              794\n",
      "Ruim/muito ruim      141\n",
      "Nunca usou            84\n",
      "Name: count, dtype: int64\n",
      "0\n"
     ]
    }
   ],
   "source": [
    "def classificar_plano(row):\n",
    "    tem_plano = row['I00102']\n",
    "    avaliacao = row['I006']\n",
    "    \n",
    "    if tem_plano == 2:\n",
    "        return 'Não tem plano'  # Não tem plano\n",
    "    elif avaliacao in [1, 2]:\n",
    "        return 'Bom/muito bom'  # Muito bom ou bom\n",
    "    elif avaliacao == 3:\n",
    "        return 'Regular'  # Regular\n",
    "    elif avaliacao in [4, 5]:\n",
    "        return 'Ruim/muito ruim' # Ruim ou muito ruim\n",
    "    elif avaliacao == 6:\n",
    "        return 'Nunca usou'  # Nunca usou\n",
    "    else:\n",
    "        return np.nan  # Valores faltantes ou inválidos\n",
    "\n",
    "df['Avaliacao_plano'] = df.apply(classificar_plano, axis=1)\n",
    "\n",
    "print(df['Avaliacao_plano'].value_counts(dropna=False))\n",
    "print(df['Avaliacao_plano'].isna().sum())\n",
    "\n",
    "# 0     | Não tem plano                \n",
    "# 1     | Avaliação muito boa ou boa   \n",
    "# 2     | Avaliação regular            \n",
    "# 3     | Avaliação ruim ou muito ruim \n",
    "# 4     | Nunca usou o plano "
   ]
  },
  {
   "cell_type": "code",
   "execution_count": 499,
   "id": "81a83816",
   "metadata": {},
   "outputs": [
    {
     "data": {
      "application/vnd.microsoft.datawrangler.viewer.v0+json": {
       "columns": [
        {
         "name": "index",
         "rawType": "int64",
         "type": "integer"
        },
        {
         "name": "Avaliacao_plano",
         "rawType": "object",
         "type": "string"
        }
       ],
       "conversionMethod": "pd.DataFrame",
       "ref": "bd68d373-adb7-4c02-b42c-b08223a8f6f0",
       "rows": [
        [
         "0",
         "Não tem plano"
        ],
        [
         "1",
         "Regular"
        ],
        [
         "2",
         "Regular"
        ],
        [
         "3",
         "Não tem plano"
        ],
        [
         "4",
         "Não tem plano"
        ],
        [
         "5",
         "Não tem plano"
        ],
        [
         "6",
         "Não tem plano"
        ],
        [
         "7",
         "Não tem plano"
        ],
        [
         "8",
         "Não tem plano"
        ],
        [
         "9",
         "Não tem plano"
        ],
        [
         "10",
         "Não tem plano"
        ],
        [
         "11",
         "Não tem plano"
        ],
        [
         "12",
         "Não tem plano"
        ],
        [
         "13",
         "Não tem plano"
        ],
        [
         "14",
         "Não tem plano"
        ],
        [
         "15",
         "Não tem plano"
        ],
        [
         "16",
         "Não tem plano"
        ],
        [
         "17",
         "Não tem plano"
        ],
        [
         "18",
         "Não tem plano"
        ],
        [
         "19",
         "Não tem plano"
        ],
        [
         "20",
         "Não tem plano"
        ],
        [
         "21",
         "Não tem plano"
        ],
        [
         "22",
         "Não tem plano"
        ],
        [
         "23",
         "Não tem plano"
        ],
        [
         "24",
         "Não tem plano"
        ],
        [
         "25",
         "Não tem plano"
        ],
        [
         "26",
         "Não tem plano"
        ],
        [
         "27",
         "Não tem plano"
        ],
        [
         "28",
         "Não tem plano"
        ],
        [
         "29",
         "Não tem plano"
        ],
        [
         "30",
         "Bom/muito bom"
        ],
        [
         "31",
         "Não tem plano"
        ],
        [
         "32",
         "Não tem plano"
        ],
        [
         "33",
         "Não tem plano"
        ],
        [
         "34",
         "Bom/muito bom"
        ],
        [
         "35",
         "Não tem plano"
        ],
        [
         "36",
         "Não tem plano"
        ],
        [
         "37",
         "Não tem plano"
        ],
        [
         "38",
         "Não tem plano"
        ],
        [
         "39",
         "Não tem plano"
        ],
        [
         "40",
         "Não tem plano"
        ],
        [
         "41",
         "Não tem plano"
        ],
        [
         "42",
         "Não tem plano"
        ],
        [
         "43",
         "Não tem plano"
        ],
        [
         "44",
         "Não tem plano"
        ],
        [
         "45",
         "Não tem plano"
        ],
        [
         "46",
         "Não tem plano"
        ],
        [
         "47",
         "Bom/muito bom"
        ],
        [
         "48",
         "Não tem plano"
        ],
        [
         "49",
         "Não tem plano"
        ]
       ],
       "shape": {
        "columns": 1,
        "rows": 20526
       }
      },
      "text/html": [
       "<div>\n",
       "<style scoped>\n",
       "    .dataframe tbody tr th:only-of-type {\n",
       "        vertical-align: middle;\n",
       "    }\n",
       "\n",
       "    .dataframe tbody tr th {\n",
       "        vertical-align: top;\n",
       "    }\n",
       "\n",
       "    .dataframe thead th {\n",
       "        text-align: right;\n",
       "    }\n",
       "</style>\n",
       "<table border=\"1\" class=\"dataframe\">\n",
       "  <thead>\n",
       "    <tr style=\"text-align: right;\">\n",
       "      <th></th>\n",
       "      <th>Avaliacao_plano</th>\n",
       "    </tr>\n",
       "  </thead>\n",
       "  <tbody>\n",
       "    <tr>\n",
       "      <th>0</th>\n",
       "      <td>Não tem plano</td>\n",
       "    </tr>\n",
       "    <tr>\n",
       "      <th>1</th>\n",
       "      <td>Regular</td>\n",
       "    </tr>\n",
       "    <tr>\n",
       "      <th>2</th>\n",
       "      <td>Regular</td>\n",
       "    </tr>\n",
       "    <tr>\n",
       "      <th>3</th>\n",
       "      <td>Não tem plano</td>\n",
       "    </tr>\n",
       "    <tr>\n",
       "      <th>4</th>\n",
       "      <td>Não tem plano</td>\n",
       "    </tr>\n",
       "    <tr>\n",
       "      <th>...</th>\n",
       "      <td>...</td>\n",
       "    </tr>\n",
       "    <tr>\n",
       "      <th>20523</th>\n",
       "      <td>Não tem plano</td>\n",
       "    </tr>\n",
       "    <tr>\n",
       "      <th>20524</th>\n",
       "      <td>Não tem plano</td>\n",
       "    </tr>\n",
       "    <tr>\n",
       "      <th>20525</th>\n",
       "      <td>Não tem plano</td>\n",
       "    </tr>\n",
       "    <tr>\n",
       "      <th>20526</th>\n",
       "      <td>Não tem plano</td>\n",
       "    </tr>\n",
       "    <tr>\n",
       "      <th>20527</th>\n",
       "      <td>Ruim/muito ruim</td>\n",
       "    </tr>\n",
       "  </tbody>\n",
       "</table>\n",
       "<p>20526 rows × 1 columns</p>\n",
       "</div>"
      ],
      "text/plain": [
       "       Avaliacao_plano\n",
       "0        Não tem plano\n",
       "1              Regular\n",
       "2              Regular\n",
       "3        Não tem plano\n",
       "4        Não tem plano\n",
       "...                ...\n",
       "20523    Não tem plano\n",
       "20524    Não tem plano\n",
       "20525    Não tem plano\n",
       "20526    Não tem plano\n",
       "20527  Ruim/muito ruim\n",
       "\n",
       "[20526 rows x 1 columns]"
      ]
     },
     "execution_count": 499,
     "metadata": {},
     "output_type": "execute_result"
    }
   ],
   "source": [
    "df[['Avaliacao_plano']]"
   ]
  },
  {
   "cell_type": "code",
   "execution_count": 500,
   "id": "498a8f90",
   "metadata": {},
   "outputs": [
    {
     "name": "stderr",
     "output_type": "stream",
     "text": [
      "C:\\Users\\bkser\\AppData\\Local\\Temp\\ipykernel_38812\\470556835.py:11: FutureWarning: Downcasting behavior in `replace` is deprecated and will be removed in a future version. To retain the old behavior, explicitly call `result.infer_objects(copy=False)`. To opt-in to the future behavior, set `pd.set_option('future.no_silent_downcasting', True)`\n",
      "  df[\"Avaliacao_plano\"] = df[\"Avaliacao_plano\"].replace(mapeamento).astype(int)\n"
     ]
    }
   ],
   "source": [
    "# Mapeamento explícito\n",
    "mapeamento = {\n",
    "    \"Não tem plano\": 0,\n",
    "    \"Bom/muito bom\": 1,\n",
    "    \"Regular\": 2,\n",
    "    \"Ruim/muito ruim\": 3,\n",
    "    \"Nunca usou\": 4\n",
    "}\n",
    "\n",
    "# Aplicando o mapeamento\n",
    "df[\"Avaliacao_plano\"] = df[\"Avaliacao_plano\"].replace(mapeamento).astype(int)"
   ]
  },
  {
   "cell_type": "code",
   "execution_count": 501,
   "id": "79566fd1",
   "metadata": {},
   "outputs": [
    {
     "data": {
      "application/vnd.microsoft.datawrangler.viewer.v0+json": {
       "columns": [
        {
         "name": "index",
         "rawType": "int64",
         "type": "integer"
        },
        {
         "name": "Avaliacao_plano",
         "rawType": "int64",
         "type": "integer"
        }
       ],
       "conversionMethod": "pd.DataFrame",
       "ref": "52d59464-666b-4fe3-91a1-049b169bf2ef",
       "rows": [
        [
         "0",
         "0"
        ],
        [
         "1",
         "2"
        ],
        [
         "2",
         "2"
        ],
        [
         "3",
         "0"
        ],
        [
         "4",
         "0"
        ],
        [
         "5",
         "0"
        ],
        [
         "6",
         "0"
        ],
        [
         "7",
         "0"
        ],
        [
         "8",
         "0"
        ],
        [
         "9",
         "0"
        ],
        [
         "10",
         "0"
        ],
        [
         "11",
         "0"
        ],
        [
         "12",
         "0"
        ],
        [
         "13",
         "0"
        ],
        [
         "14",
         "0"
        ],
        [
         "15",
         "0"
        ],
        [
         "16",
         "0"
        ],
        [
         "17",
         "0"
        ],
        [
         "18",
         "0"
        ],
        [
         "19",
         "0"
        ],
        [
         "20",
         "0"
        ],
        [
         "21",
         "0"
        ],
        [
         "22",
         "0"
        ],
        [
         "23",
         "0"
        ],
        [
         "24",
         "0"
        ],
        [
         "25",
         "0"
        ],
        [
         "26",
         "0"
        ],
        [
         "27",
         "0"
        ],
        [
         "28",
         "0"
        ],
        [
         "29",
         "0"
        ],
        [
         "30",
         "1"
        ],
        [
         "31",
         "0"
        ],
        [
         "32",
         "0"
        ],
        [
         "33",
         "0"
        ],
        [
         "34",
         "1"
        ],
        [
         "35",
         "0"
        ],
        [
         "36",
         "0"
        ],
        [
         "37",
         "0"
        ],
        [
         "38",
         "0"
        ],
        [
         "39",
         "0"
        ],
        [
         "40",
         "0"
        ],
        [
         "41",
         "0"
        ],
        [
         "42",
         "0"
        ],
        [
         "43",
         "0"
        ],
        [
         "44",
         "0"
        ],
        [
         "45",
         "0"
        ],
        [
         "46",
         "0"
        ],
        [
         "47",
         "1"
        ],
        [
         "48",
         "0"
        ],
        [
         "49",
         "0"
        ]
       ],
       "shape": {
        "columns": 1,
        "rows": 20526
       }
      },
      "text/html": [
       "<div>\n",
       "<style scoped>\n",
       "    .dataframe tbody tr th:only-of-type {\n",
       "        vertical-align: middle;\n",
       "    }\n",
       "\n",
       "    .dataframe tbody tr th {\n",
       "        vertical-align: top;\n",
       "    }\n",
       "\n",
       "    .dataframe thead th {\n",
       "        text-align: right;\n",
       "    }\n",
       "</style>\n",
       "<table border=\"1\" class=\"dataframe\">\n",
       "  <thead>\n",
       "    <tr style=\"text-align: right;\">\n",
       "      <th></th>\n",
       "      <th>Avaliacao_plano</th>\n",
       "    </tr>\n",
       "  </thead>\n",
       "  <tbody>\n",
       "    <tr>\n",
       "      <th>0</th>\n",
       "      <td>0</td>\n",
       "    </tr>\n",
       "    <tr>\n",
       "      <th>1</th>\n",
       "      <td>2</td>\n",
       "    </tr>\n",
       "    <tr>\n",
       "      <th>2</th>\n",
       "      <td>2</td>\n",
       "    </tr>\n",
       "    <tr>\n",
       "      <th>3</th>\n",
       "      <td>0</td>\n",
       "    </tr>\n",
       "    <tr>\n",
       "      <th>4</th>\n",
       "      <td>0</td>\n",
       "    </tr>\n",
       "    <tr>\n",
       "      <th>...</th>\n",
       "      <td>...</td>\n",
       "    </tr>\n",
       "    <tr>\n",
       "      <th>20523</th>\n",
       "      <td>0</td>\n",
       "    </tr>\n",
       "    <tr>\n",
       "      <th>20524</th>\n",
       "      <td>0</td>\n",
       "    </tr>\n",
       "    <tr>\n",
       "      <th>20525</th>\n",
       "      <td>0</td>\n",
       "    </tr>\n",
       "    <tr>\n",
       "      <th>20526</th>\n",
       "      <td>0</td>\n",
       "    </tr>\n",
       "    <tr>\n",
       "      <th>20527</th>\n",
       "      <td>3</td>\n",
       "    </tr>\n",
       "  </tbody>\n",
       "</table>\n",
       "<p>20526 rows × 1 columns</p>\n",
       "</div>"
      ],
      "text/plain": [
       "       Avaliacao_plano\n",
       "0                    0\n",
       "1                    2\n",
       "2                    2\n",
       "3                    0\n",
       "4                    0\n",
       "...                ...\n",
       "20523                0\n",
       "20524                0\n",
       "20525                0\n",
       "20526                0\n",
       "20527                3\n",
       "\n",
       "[20526 rows x 1 columns]"
      ]
     },
     "execution_count": 501,
     "metadata": {},
     "output_type": "execute_result"
    }
   ],
   "source": [
    "df[[\"Avaliacao_plano\"]]"
   ]
  },
  {
   "cell_type": "code",
   "execution_count": 502,
   "id": "bb952217",
   "metadata": {},
   "outputs": [],
   "source": [
    "df = df.drop(columns=['I006'])"
   ]
  },
  {
   "cell_type": "markdown",
   "id": "911179ef",
   "metadata": {},
   "source": [
    "3. I004: se é de instituição pública\n",
    "4. I00103: se é morador \n",
    "5. I001031: número do titular\n",
    "\n",
    "*C00301 == I001031 --> é titular    "
   ]
  },
  {
   "cell_type": "code",
   "execution_count": 503,
   "id": "129d46bd",
   "metadata": {},
   "outputs": [
    {
     "name": "stdout",
     "output_type": "stream",
     "text": [
      "Instituicao_plano\n",
      "0.0    17654\n",
      "2.0     1814\n",
      "1.0     1058\n",
      "Name: count, dtype: int64\n",
      "0\n"
     ]
    }
   ],
   "source": [
    "def definir_Instituicao_plano(row):\n",
    "    if row['I00102'] != 1:\n",
    "        return 0.0  # Não tem plano\n",
    "    if row['I00103'] != 1 and row['C00301'] != row['I001031']: # não é morador\n",
    "        return 0.0  # não é titular do plano\n",
    "    if row['I004'] == 1:\n",
    "        return 1.0  # Plano é de instituição pública\n",
    "    if row['I004'] == 2:\n",
    "        return 2.0  # Plano é de instituição privada\n",
    "    \n",
    "    return 0.0\n",
    "\n",
    "df['Instituicao_plano'] = df.apply(definir_Instituicao_plano, axis=1)\n",
    "\n",
    "print(df['Instituicao_plano'].value_counts(dropna=False))\n",
    "print(df['Instituicao_plano'].isna().sum())\n",
    "\n",
    "#0     | Não tem plano e/ou não é morador + titular do plano              \n",
    "#1     | Plano é de instituição pública   \n",
    "#2     | Plano é de instituição privada   "
   ]
  },
  {
   "cell_type": "code",
   "execution_count": 504,
   "id": "4934a2a4",
   "metadata": {},
   "outputs": [],
   "source": [
    "df = df.drop(columns=['I004'])"
   ]
  },
  {
   "cell_type": "markdown",
   "id": "08b1b744",
   "metadata": {},
   "source": [
    "6. I00401: plano dá direito a consultas\n",
    "7. I00402: plano dá direito a exames\n",
    "8. I00403: plano dá direito a internações"
   ]
  },
  {
   "cell_type": "code",
   "execution_count": 505,
   "id": "1816ddb0",
   "metadata": {},
   "outputs": [
    {
     "name": "stdout",
     "output_type": "stream",
     "text": [
      "Cobertura_plano\n",
      "0.0    17654\n",
      "3.0     2677\n",
      "2.0      151\n",
      "1.0       29\n",
      "4.0       15\n",
      "Name: count, dtype: int64\n",
      "Valores nulos: 0\n"
     ]
    }
   ],
   "source": [
    "def Cobertura_plano(row):\n",
    "    # Se não tem plano, retorna 0.0\n",
    "    if pd.isna(row['I00102']) or row['I00102'] != 1:\n",
    "        return 0.0\n",
    "\n",
    "    # Verifica titularidade\n",
    "    if pd.isna(row['I00103']) or row['I00103'] != 1:\n",
    "        return 0.0\n",
    "    if pd.isna(row['C00301']) or pd.isna(row['I001031']) or row['C00301'] != row['I001031']:\n",
    "        return 0.0\n",
    "\n",
    "    # Verifica cobertura\n",
    "    coberturas = [\n",
    "        row['I00401'] == 1 if pd.notna(row['I00401']) else False,\n",
    "        row['I00402'] == 1 if pd.notna(row['I00402']) else False,\n",
    "        row['I00403'] == 1 if pd.notna(row['I00403']) else False\n",
    "    ]\n",
    "    total_cobertura = sum(coberturas)\n",
    "\n",
    "    if total_cobertura == 1:\n",
    "        return 1.0\n",
    "    elif total_cobertura == 2:\n",
    "        return 2.0\n",
    "    elif total_cobertura == 3:\n",
    "        return 3.0\n",
    "    elif total_cobertura == 0:\n",
    "        return 4.0  # Não cobre nada, apesar de ter plano e titular\n",
    "    else:\n",
    "        return np.nan  # Caso de erro\n",
    "\n",
    "df['Cobertura_plano'] = df.apply(Cobertura_plano, axis=1)\n",
    "\n",
    "print(df['Cobertura_plano'].value_counts(dropna=False))\n",
    "print(\"Valores nulos:\", df['Cobertura_plano'].isna().sum())\n",
    "\n",
    "\n",
    "# 1- se o plano cobre uma das coisas\n",
    "# 2- se o plano cobre duas das coisas\n",
    "# 3- se o plano cobre as três coisas"
   ]
  },
  {
   "cell_type": "code",
   "execution_count": 506,
   "id": "c6a04f56",
   "metadata": {},
   "outputs": [],
   "source": [
    "df = df.drop(columns=['I00102', 'I00401', 'I00402', 'I00403', 'I00103', 'I001031'])"
   ]
  },
  {
   "cell_type": "markdown",
   "id": "70cd3160",
   "metadata": {},
   "source": [
    "### Exposição tóxica no trabalho"
   ]
  },
  {
   "cell_type": "markdown",
   "id": "04bbd4b8",
   "metadata": {},
   "source": [
    "Atributos:\n",
    "1. M011011: substâncias químicas\n",
    "2. M011021: barulho intenso (ruído)\n",
    "3. M011051: lixo (resíduo urbano)\n",
    "4. M011071: poeira mineral"
   ]
  },
  {
   "cell_type": "code",
   "execution_count": 507,
   "id": "24a0916f",
   "metadata": {},
   "outputs": [
    {
     "name": "stdout",
     "output_type": "stream",
     "text": [
      "Exposicao_quimica\n",
      "2    19154\n",
      "1     1372\n",
      "Name: count, dtype: int64\n",
      "0\n"
     ]
    }
   ],
   "source": [
    "def marcar_exposicao_quimica(row):\n",
    "    trabalho = row['E011']\n",
    "    exposicao = row['M011011']\n",
    "    \n",
    "    if trabalho in [1, 2, 3]:  # Pessoa trabalha\n",
    "        if exposicao == 1:\n",
    "            return 1  # Exposto\n",
    "        elif exposicao == 2:\n",
    "            return 2  # Não exposto\n",
    "        else:\n",
    "            return np.nan  # Outro valor ou faltante\n",
    "    else:\n",
    "        return 2  # Pessoa não trabalha → marcar como \"não exposto\"\n",
    "\n",
    "df['Exposicao_quimica'] = df.apply(marcar_exposicao_quimica, axis=1)\n",
    "\n",
    "print(df['Exposicao_quimica'].value_counts(dropna=False))\n",
    "print(df['Exposicao_quimica'].isna().sum())"
   ]
  },
  {
   "cell_type": "code",
   "execution_count": 508,
   "id": "3da027f0",
   "metadata": {},
   "outputs": [
    {
     "name": "stdout",
     "output_type": "stream",
     "text": [
      "Exposicao_ruido\n",
      "2    18313\n",
      "1     2213\n",
      "Name: count, dtype: int64\n",
      "0\n"
     ]
    }
   ],
   "source": [
    "def marcar_exposicao_ruido(row):\n",
    "    trabalho = row['E011']\n",
    "    exposicao = row['M011021']\n",
    "    \n",
    "    if trabalho in [1, 2, 3]:  # Pessoa trabalha\n",
    "        if exposicao == 1:\n",
    "            return 1  # Exposto\n",
    "        elif exposicao == 2:\n",
    "            return 2  # Não exposto\n",
    "        else:\n",
    "            return np.nan  # Outro valor ou faltante\n",
    "    else:\n",
    "        return 2  # Pessoa não trabalha → marcar como \"não exposto\"\n",
    "\n",
    "df['Exposicao_ruido'] = df.apply(marcar_exposicao_ruido, axis=1)\n",
    "\n",
    "print(df['Exposicao_ruido'].value_counts(dropna=False))\n",
    "print(df['Exposicao_ruido'].isna().sum())"
   ]
  },
  {
   "cell_type": "code",
   "execution_count": 509,
   "id": "c572c83a",
   "metadata": {},
   "outputs": [
    {
     "name": "stdout",
     "output_type": "stream",
     "text": [
      "Exposicao_lixo\n",
      "2    19756\n",
      "1      770\n",
      "Name: count, dtype: int64\n",
      "0\n"
     ]
    }
   ],
   "source": [
    "def marcar_exposicao_lixo(row):\n",
    "    trabalho = row['E011']\n",
    "    exposicao = row['M011051']\n",
    "    \n",
    "    if trabalho in [1, 2, 3]:  # Pessoa trabalha\n",
    "        if exposicao == 1:\n",
    "            return 1  # Exposto\n",
    "        elif exposicao == 2:\n",
    "            return 2  # Não exposto\n",
    "        else:\n",
    "            return np.nan  # Outro valor ou faltante\n",
    "    else:\n",
    "        return 2  # Pessoa não trabalha → marcar como \"não exposto\"\n",
    "\n",
    "df['Exposicao_lixo'] = df.apply(marcar_exposicao_lixo, axis=1)\n",
    "\n",
    "print(df['Exposicao_lixo'].value_counts(dropna=False))\n",
    "print(df['Exposicao_lixo'].isna().sum())"
   ]
  },
  {
   "cell_type": "code",
   "execution_count": 510,
   "id": "ef16f3c1",
   "metadata": {},
   "outputs": [
    {
     "name": "stdout",
     "output_type": "stream",
     "text": [
      "Exposicao_minerio\n",
      "2    19191\n",
      "1     1335\n",
      "Name: count, dtype: int64\n",
      "0\n"
     ]
    }
   ],
   "source": [
    "def marcar_exposicao_minerio(row):\n",
    "    trabalho = row['E011']\n",
    "    exposicao = row['M011071']\n",
    "    \n",
    "    if trabalho in [1, 2, 3]:  # Pessoa trabalha\n",
    "        if exposicao == 1:\n",
    "            return 1  # Exposto\n",
    "        elif exposicao == 2:\n",
    "            return 2  # Não exposto\n",
    "        else:\n",
    "            return np.nan  # Outro valor ou faltante\n",
    "    else:\n",
    "        return 2  # Pessoa não trabalha → marcar como \"não exposto\"\n",
    "\n",
    "df['Exposicao_minerio'] = df.apply(marcar_exposicao_minerio, axis=1)\n",
    "\n",
    "print(df['Exposicao_minerio'].value_counts(dropna=False))\n",
    "print(df['Exposicao_minerio'].isna().sum())"
   ]
  },
  {
   "cell_type": "code",
   "execution_count": 511,
   "id": "dc1f8506",
   "metadata": {},
   "outputs": [],
   "source": [
    "df = df.drop(columns=['M011011'])\n",
    "df = df.drop(columns=['M011021'])\n",
    "df = df.drop(columns=['M011051'])\n",
    "df = df.drop(columns=['M011071'])\n",
    "df = df.drop(columns=['E011'])"
   ]
  },
  {
   "cell_type": "markdown",
   "id": "d7451342",
   "metadata": {},
   "source": [
    "### Dor/desconforto no peito"
   ]
  },
  {
   "cell_type": "markdown",
   "id": "daeb7f9b",
   "metadata": {},
   "source": [
    "1. N004: dor ou desconforto no peito ao subir uma ladeira, um lance de escadas ou caminhar rápido no plano\n",
    "2. N005: dor ou desconforto no peito ao caminhar em lugar plano\n",
    "3. N008: onde é a dor/desconforto no peito\n",
    "\n",
    "Outros atributos usados: \n",
    "\n",
    "4. G059: usa algum aparelho de auxílio para se locomover? (Se G59=1 , siga N10) - incompleto!"
   ]
  },
  {
   "cell_type": "code",
   "execution_count": 512,
   "id": "b853e94c",
   "metadata": {},
   "outputs": [
    {
     "name": "stdout",
     "output_type": "stream",
     "text": [
      "Quantidade que respondeu 1 em comum: 1041\n",
      "Quantidade que respondeu 2 em comum: 17294\n"
     ]
    }
   ],
   "source": [
    "# Contar quantos responderam 1 em ambos N004 e N005\n",
    "comum_1 = df[(df['N004'] == 1) & (df['N005'] == 1)].shape[0]\n",
    "\n",
    "# Contar quantos responderam 2 em ambos N004 e N005\n",
    "comum_2 = df[(df['N004'] == 2) & (df['N005'] == 2)].shape[0]\n",
    "\n",
    "print(f\"Quantidade que respondeu 1 em comum: {comum_1}\")\n",
    "print(f\"Quantidade que respondeu 2 em comum: {comum_2}\")"
   ]
  },
  {
   "cell_type": "code",
   "execution_count": 513,
   "id": "75b2e3b0",
   "metadata": {},
   "outputs": [
    {
     "name": "stdout",
     "output_type": "stream",
     "text": [
      "Dor_peito\n",
      "Não sente dor             17642\n",
      "Acima ou meio do peito     2225\n",
      "Abaixo do peito             418\n",
      "Braço esquerdo              199\n",
      "Outro lugar                  42\n",
      "Name: count, dtype: int64\n",
      "Valores faltantes: 0\n"
     ]
    }
   ],
   "source": [
    "def map_dor_peito(row):\n",
    "    if row['G059'] != 2:\n",
    "        return 'Não sente dor'  # Ignora quem não respondeu 2 em G059 (348 pessoas)\n",
    "\n",
    "    if row['N004'] == 2 and row['N005'] == 2:\n",
    "        return 'Não sente dor'\n",
    "\n",
    "    if row['N004'] == 1 or row['N005'] == 1:\n",
    "        dor_map = {\n",
    "            1: 'Acima ou meio do peito',\n",
    "            2: 'Abaixo do peito',\n",
    "            3: 'Braço esquerdo',\n",
    "            4: 'Outro lugar'\n",
    "        }\n",
    "        return dor_map.get(row['N008'], pd.NA)\n",
    "\n",
    "    return pd.NA  # Se não cair em nenhum caso anterior \n",
    "\n",
    "df['Dor_peito'] = df.apply(map_dor_peito, axis=1)\n",
    "\n",
    "print(df['Dor_peito'].value_counts(dropna=False))\n",
    "print(f\"Valores faltantes: {df['Dor_peito'].isna().sum()}\")"
   ]
  },
  {
   "cell_type": "code",
   "execution_count": 514,
   "id": "34874aa7",
   "metadata": {},
   "outputs": [],
   "source": [
    "df = df.drop(columns=['G059', 'N004', 'N005', 'N008'])"
   ]
  },
  {
   "cell_type": "markdown",
   "id": "25228f93",
   "metadata": {},
   "source": [
    "### Exercício físico "
   ]
  },
  {
   "cell_type": "markdown",
   "id": "63a00da7",
   "metadata": {},
   "source": [
    "1. P034: Nos últimos três meses, praticou algum tipo de exercício físico ou esporte?\n",
    "2. P035: Quantos dias por semana.\n",
    "3. P03701: tempo da sessão em horas.\n",
    "4. P03702: tempo da sessão em minutos."
   ]
  },
  {
   "cell_type": "code",
   "execution_count": 515,
   "id": "d08176ed",
   "metadata": {},
   "outputs": [
    {
     "name": "stdout",
     "output_type": "stream",
     "text": [
      "7.0\n",
      "10.0\n"
     ]
    }
   ],
   "source": [
    "print(df['P035'].max())\n",
    "print(df['P03701'].max())"
   ]
  },
  {
   "cell_type": "code",
   "execution_count": 516,
   "id": "a163a8da",
   "metadata": {},
   "outputs": [
    {
     "data": {
      "text/plain": [
       "P034\n",
       "2.0    13135\n",
       "1.0     7391\n",
       "Name: count, dtype: int64"
      ]
     },
     "execution_count": 516,
     "metadata": {},
     "output_type": "execute_result"
    }
   ],
   "source": [
    "df['P034'].value_counts()"
   ]
  },
  {
   "cell_type": "code",
   "execution_count": 517,
   "id": "fab2da87",
   "metadata": {},
   "outputs": [
    {
     "name": "stdout",
     "output_type": "stream",
     "text": [
      "Atividade_fisica_semanal\n",
      "0    13325\n",
      "2     3287\n",
      "1     2342\n",
      "3     1572\n",
      "Name: count, dtype: int64\n",
      "Valores faltantes: 0\n"
     ]
    }
   ],
   "source": [
    "# Função para calcular tempo semanal em minutos\n",
    "def calcular_minutos_exercicio(row):\n",
    "    if row['P034'] == 2:\n",
    "        return 0\n",
    "    elif row['P034'] == 1 and row['P035'] > 0:\n",
    "        horas = row['P03701'] if pd.notnull(row['P03701']) else 0\n",
    "        minutos = row['P03702'] if pd.notnull(row['P03702']) else 0\n",
    "        tempo_semanal_min = row['P035'] * (horas * 60 + minutos)\n",
    "        return min(max(tempo_semanal_min, 0), 420)  # 420 min = 7h como limite superior opcional\n",
    "    else:\n",
    "        return 0\n",
    "\n",
    "# Aplica o cálculo ao DataFrame\n",
    "df['Atividade_fisica_semanal'] = df.apply(calcular_minutos_exercicio, axis=1)\n",
    "\n",
    "# Função para categorizar com base na OMS\n",
    "def categorizar_atividade_fisica(minutos):\n",
    "    if minutos == 0:\n",
    "        return 0  # Sedentário\n",
    "    elif 0 < minutos < 150:\n",
    "        return 1  # Insuficiente\n",
    "    elif 150 <= minutos <= 300:\n",
    "        return 2  # Ideal\n",
    "    elif minutos > 300:\n",
    "        return 3  # Acima do ideal\n",
    "    else:\n",
    "        return np.nan\n",
    "\n",
    "# Aplica a categorização\n",
    "df['Atividade_fisica_semanal'] = df['Atividade_fisica_semanal'].apply(categorizar_atividade_fisica)\n",
    "\n",
    "# Resultados\n",
    "print(df['Atividade_fisica_semanal'].value_counts(dropna=False))\n",
    "print(f\"Valores faltantes: {df['Atividade_fisica_semanal'].isna().sum()}\")\n"
   ]
  },
  {
   "cell_type": "code",
   "execution_count": 518,
   "id": "2cd3a770",
   "metadata": {},
   "outputs": [
    {
     "data": {
      "application/vnd.microsoft.datawrangler.viewer.v0+json": {
       "columns": [
        {
         "name": "index",
         "rawType": "int64",
         "type": "integer"
        },
        {
         "name": "Atividade_fisica_semanal",
         "rawType": "int64",
         "type": "integer"
        }
       ],
       "conversionMethod": "pd.DataFrame",
       "ref": "f1d5e4ec-3eeb-4618-969b-259d50194927",
       "rows": [
        [
         "0",
         "0"
        ],
        [
         "1",
         "2"
        ],
        [
         "2",
         "0"
        ],
        [
         "3",
         "3"
        ],
        [
         "4",
         "2"
        ],
        [
         "5",
         "0"
        ],
        [
         "6",
         "0"
        ],
        [
         "7",
         "2"
        ],
        [
         "8",
         "0"
        ],
        [
         "9",
         "2"
        ],
        [
         "10",
         "0"
        ],
        [
         "11",
         "0"
        ],
        [
         "12",
         "0"
        ],
        [
         "13",
         "2"
        ],
        [
         "14",
         "0"
        ],
        [
         "15",
         "0"
        ],
        [
         "16",
         "0"
        ],
        [
         "17",
         "1"
        ],
        [
         "18",
         "0"
        ],
        [
         "19",
         "0"
        ],
        [
         "20",
         "0"
        ],
        [
         "21",
         "2"
        ],
        [
         "22",
         "3"
        ],
        [
         "23",
         "1"
        ],
        [
         "24",
         "0"
        ],
        [
         "25",
         "0"
        ],
        [
         "26",
         "0"
        ],
        [
         "27",
         "0"
        ],
        [
         "28",
         "0"
        ],
        [
         "29",
         "0"
        ],
        [
         "30",
         "1"
        ],
        [
         "31",
         "0"
        ],
        [
         "32",
         "1"
        ],
        [
         "33",
         "0"
        ],
        [
         "34",
         "2"
        ],
        [
         "35",
         "0"
        ],
        [
         "36",
         "0"
        ],
        [
         "37",
         "0"
        ],
        [
         "38",
         "2"
        ],
        [
         "39",
         "2"
        ],
        [
         "40",
         "2"
        ],
        [
         "41",
         "1"
        ],
        [
         "42",
         "0"
        ],
        [
         "43",
         "0"
        ],
        [
         "44",
         "2"
        ],
        [
         "45",
         "0"
        ],
        [
         "46",
         "0"
        ],
        [
         "47",
         "0"
        ],
        [
         "48",
         "1"
        ],
        [
         "49",
         "1"
        ]
       ],
       "shape": {
        "columns": 1,
        "rows": 20526
       }
      },
      "text/html": [
       "<div>\n",
       "<style scoped>\n",
       "    .dataframe tbody tr th:only-of-type {\n",
       "        vertical-align: middle;\n",
       "    }\n",
       "\n",
       "    .dataframe tbody tr th {\n",
       "        vertical-align: top;\n",
       "    }\n",
       "\n",
       "    .dataframe thead th {\n",
       "        text-align: right;\n",
       "    }\n",
       "</style>\n",
       "<table border=\"1\" class=\"dataframe\">\n",
       "  <thead>\n",
       "    <tr style=\"text-align: right;\">\n",
       "      <th></th>\n",
       "      <th>Atividade_fisica_semanal</th>\n",
       "    </tr>\n",
       "  </thead>\n",
       "  <tbody>\n",
       "    <tr>\n",
       "      <th>0</th>\n",
       "      <td>0</td>\n",
       "    </tr>\n",
       "    <tr>\n",
       "      <th>1</th>\n",
       "      <td>2</td>\n",
       "    </tr>\n",
       "    <tr>\n",
       "      <th>2</th>\n",
       "      <td>0</td>\n",
       "    </tr>\n",
       "    <tr>\n",
       "      <th>3</th>\n",
       "      <td>3</td>\n",
       "    </tr>\n",
       "    <tr>\n",
       "      <th>4</th>\n",
       "      <td>2</td>\n",
       "    </tr>\n",
       "    <tr>\n",
       "      <th>...</th>\n",
       "      <td>...</td>\n",
       "    </tr>\n",
       "    <tr>\n",
       "      <th>20523</th>\n",
       "      <td>0</td>\n",
       "    </tr>\n",
       "    <tr>\n",
       "      <th>20524</th>\n",
       "      <td>0</td>\n",
       "    </tr>\n",
       "    <tr>\n",
       "      <th>20525</th>\n",
       "      <td>0</td>\n",
       "    </tr>\n",
       "    <tr>\n",
       "      <th>20526</th>\n",
       "      <td>0</td>\n",
       "    </tr>\n",
       "    <tr>\n",
       "      <th>20527</th>\n",
       "      <td>1</td>\n",
       "    </tr>\n",
       "  </tbody>\n",
       "</table>\n",
       "<p>20526 rows × 1 columns</p>\n",
       "</div>"
      ],
      "text/plain": [
       "       Atividade_fisica_semanal\n",
       "0                             0\n",
       "1                             2\n",
       "2                             0\n",
       "3                             3\n",
       "4                             2\n",
       "...                         ...\n",
       "20523                         0\n",
       "20524                         0\n",
       "20525                         0\n",
       "20526                         0\n",
       "20527                         1\n",
       "\n",
       "[20526 rows x 1 columns]"
      ]
     },
     "execution_count": 518,
     "metadata": {},
     "output_type": "execute_result"
    }
   ],
   "source": [
    "df[['Atividade_fisica_semanal']]"
   ]
  },
  {
   "cell_type": "code",
   "execution_count": 519,
   "id": "07eb4049",
   "metadata": {},
   "outputs": [],
   "source": [
    "df = df.drop(columns=['P034', 'P035', 'P03701', 'P03702'])"
   ]
  },
  {
   "cell_type": "markdown",
   "id": "97ad73e0",
   "metadata": {},
   "source": [
    "### Hábito de fumar / tabagismo"
   ]
  },
  {
   "cell_type": "markdown",
   "id": "4cca82db",
   "metadata": {},
   "source": [
    "1. P050: Atualmente, o(a) Sr(a) fuma algum produto do tabaco? \n",
    "2. P051: E no passado, o(a) Sr(a) fumou algum produto do tabaco diariamente?\n",
    "3. P052: E no passado, o(a) Sr(a) fumou algum produto do tabaco?\n",
    "4. P053:  Que idade o(a) Sr(a) tinha quando começou a fumar produto do tabaco diariamente?"
   ]
  },
  {
   "cell_type": "markdown",
   "id": "7b0d3a0a",
   "metadata": {},
   "source": [
    "    P050 (Fuma atualmente)\n",
    "\n",
    "1 = Sim, diariamente → usa P053\n",
    "\n",
    "2 = Sim, menos que diariamente → verifica P051\n",
    "\n",
    "3 = Não fuma atualmente → verifica P052\n",
    "\n",
    "    P051 (Fumou diariamente no passado)\n",
    "\n",
    "1 = Sim → usa P053\n",
    "\n",
    "2 = Não → considera como não fumante diário\n",
    "\n",
    "    P052 (Já fumou alguma vez)\n",
    "\n",
    "1 = Sim → usa P053\n",
    "\n",
    "2 ou 3 = Não fumou"
   ]
  },
  {
   "cell_type": "code",
   "execution_count": 520,
   "id": "30fbdf99",
   "metadata": {},
   "outputs": [
    {
     "name": "stdout",
     "output_type": "stream",
     "text": [
      "Inicio_tabagismo\n",
      "Não fuma                12101\n",
      "Início antes dos 18      5458\n",
      "Início entre 18 e 30     2695\n",
      "Início após os 30         272\n",
      "Name: count, dtype: int64\n",
      "Valores faltantes: 0\n"
     ]
    }
   ],
   "source": [
    "def categorizar_inicio_fumo(row):\n",
    "    p50 = row['P050']\n",
    "    p51 = row['P051']\n",
    "    p52 = row['P052']\n",
    "    p53 = row['P053']  # idade de início\n",
    "\n",
    "    # Fuma diariamente atualmente\n",
    "    if p50 == 1:\n",
    "        idade = p53\n",
    "\n",
    "    # Fuma menos que diariamente → verifica se já fumou diariamente\n",
    "    elif p50 == 2:\n",
    "        if p51 == 1:\n",
    "            idade = p53\n",
    "        else:\n",
    "            return 'Não fuma' \n",
    "\n",
    "    # Não fuma atualmente → verifica se já fumou algum dia\n",
    "    elif p50 == 3:\n",
    "        if p52 == 1:\n",
    "            idade = p53\n",
    "        else:\n",
    "            return 'Não fuma'\n",
    "\n",
    "    else:\n",
    "        return 'Sem informação'  # Resposta inválida ou faltante\n",
    "\n",
    "    # Categoriza com base na idade de início\n",
    "    if pd.notna(idade):\n",
    "        if idade < 18:\n",
    "            return 'Início antes dos 18'\n",
    "        elif 18 <= idade <= 30:\n",
    "            return 'Início entre 18 e 30'\n",
    "        elif idade > 30:\n",
    "            return 'Início após os 30'\n",
    "    return 'Sem informação'  # idade ausente\n",
    "\n",
    "df['Inicio_tabagismo'] = df.apply(categorizar_inicio_fumo, axis=1)\n",
    "\n",
    "print(df['Inicio_tabagismo'].value_counts(dropna=False))\n",
    "print(f\"Valores faltantes: {df['Inicio_tabagismo'].isna().sum()}\")\n"
   ]
  },
  {
   "cell_type": "code",
   "execution_count": 521,
   "id": "daaa7c53",
   "metadata": {},
   "outputs": [
    {
     "data": {
      "application/vnd.microsoft.datawrangler.viewer.v0+json": {
       "columns": [
        {
         "name": "index",
         "rawType": "int64",
         "type": "integer"
        },
        {
         "name": "Inicio_tabagismo",
         "rawType": "object",
         "type": "string"
        }
       ],
       "conversionMethod": "pd.DataFrame",
       "ref": "6b72b0a1-9fe6-436b-aebd-8ace95610b45",
       "rows": [
        [
         "0",
         "Não fuma"
        ],
        [
         "1",
         "Não fuma"
        ],
        [
         "2",
         "Início antes dos 18"
        ],
        [
         "3",
         "Não fuma"
        ],
        [
         "4",
         "Não fuma"
        ],
        [
         "5",
         "Não fuma"
        ],
        [
         "6",
         "Não fuma"
        ],
        [
         "7",
         "Não fuma"
        ],
        [
         "8",
         "Não fuma"
        ],
        [
         "9",
         "Início entre 18 e 30"
        ],
        [
         "10",
         "Não fuma"
        ],
        [
         "11",
         "Não fuma"
        ],
        [
         "12",
         "Início antes dos 18"
        ],
        [
         "13",
         "Não fuma"
        ],
        [
         "14",
         "Não fuma"
        ],
        [
         "15",
         "Não fuma"
        ],
        [
         "16",
         "Não fuma"
        ],
        [
         "17",
         "Não fuma"
        ],
        [
         "18",
         "Não fuma"
        ],
        [
         "19",
         "Não fuma"
        ],
        [
         "20",
         "Início entre 18 e 30"
        ],
        [
         "21",
         "Início entre 18 e 30"
        ],
        [
         "22",
         "Não fuma"
        ],
        [
         "23",
         "Início após os 30"
        ],
        [
         "24",
         "Início antes dos 18"
        ],
        [
         "25",
         "Início entre 18 e 30"
        ],
        [
         "26",
         "Não fuma"
        ],
        [
         "27",
         "Início antes dos 18"
        ],
        [
         "28",
         "Não fuma"
        ],
        [
         "29",
         "Início antes dos 18"
        ],
        [
         "30",
         "Não fuma"
        ],
        [
         "31",
         "Não fuma"
        ],
        [
         "32",
         "Não fuma"
        ],
        [
         "33",
         "Início entre 18 e 30"
        ],
        [
         "34",
         "Não fuma"
        ],
        [
         "35",
         "Não fuma"
        ],
        [
         "36",
         "Início antes dos 18"
        ],
        [
         "37",
         "Não fuma"
        ],
        [
         "38",
         "Não fuma"
        ],
        [
         "39",
         "Não fuma"
        ],
        [
         "40",
         "Não fuma"
        ],
        [
         "41",
         "Início entre 18 e 30"
        ],
        [
         "42",
         "Não fuma"
        ],
        [
         "43",
         "Não fuma"
        ],
        [
         "44",
         "Início após os 30"
        ],
        [
         "45",
         "Não fuma"
        ],
        [
         "46",
         "Início após os 30"
        ],
        [
         "47",
         "Não fuma"
        ],
        [
         "48",
         "Não fuma"
        ],
        [
         "49",
         "Não fuma"
        ]
       ],
       "shape": {
        "columns": 1,
        "rows": 20526
       }
      },
      "text/html": [
       "<div>\n",
       "<style scoped>\n",
       "    .dataframe tbody tr th:only-of-type {\n",
       "        vertical-align: middle;\n",
       "    }\n",
       "\n",
       "    .dataframe tbody tr th {\n",
       "        vertical-align: top;\n",
       "    }\n",
       "\n",
       "    .dataframe thead th {\n",
       "        text-align: right;\n",
       "    }\n",
       "</style>\n",
       "<table border=\"1\" class=\"dataframe\">\n",
       "  <thead>\n",
       "    <tr style=\"text-align: right;\">\n",
       "      <th></th>\n",
       "      <th>Inicio_tabagismo</th>\n",
       "    </tr>\n",
       "  </thead>\n",
       "  <tbody>\n",
       "    <tr>\n",
       "      <th>0</th>\n",
       "      <td>Não fuma</td>\n",
       "    </tr>\n",
       "    <tr>\n",
       "      <th>1</th>\n",
       "      <td>Não fuma</td>\n",
       "    </tr>\n",
       "    <tr>\n",
       "      <th>2</th>\n",
       "      <td>Início antes dos 18</td>\n",
       "    </tr>\n",
       "    <tr>\n",
       "      <th>3</th>\n",
       "      <td>Não fuma</td>\n",
       "    </tr>\n",
       "    <tr>\n",
       "      <th>4</th>\n",
       "      <td>Não fuma</td>\n",
       "    </tr>\n",
       "    <tr>\n",
       "      <th>...</th>\n",
       "      <td>...</td>\n",
       "    </tr>\n",
       "    <tr>\n",
       "      <th>20523</th>\n",
       "      <td>Não fuma</td>\n",
       "    </tr>\n",
       "    <tr>\n",
       "      <th>20524</th>\n",
       "      <td>Não fuma</td>\n",
       "    </tr>\n",
       "    <tr>\n",
       "      <th>20525</th>\n",
       "      <td>Início entre 18 e 30</td>\n",
       "    </tr>\n",
       "    <tr>\n",
       "      <th>20526</th>\n",
       "      <td>Início após os 30</td>\n",
       "    </tr>\n",
       "    <tr>\n",
       "      <th>20527</th>\n",
       "      <td>Não fuma</td>\n",
       "    </tr>\n",
       "  </tbody>\n",
       "</table>\n",
       "<p>20526 rows × 1 columns</p>\n",
       "</div>"
      ],
      "text/plain": [
       "           Inicio_tabagismo\n",
       "0                  Não fuma\n",
       "1                  Não fuma\n",
       "2       Início antes dos 18\n",
       "3                  Não fuma\n",
       "4                  Não fuma\n",
       "...                     ...\n",
       "20523              Não fuma\n",
       "20524              Não fuma\n",
       "20525  Início entre 18 e 30\n",
       "20526     Início após os 30\n",
       "20527              Não fuma\n",
       "\n",
       "[20526 rows x 1 columns]"
      ]
     },
     "execution_count": 521,
     "metadata": {},
     "output_type": "execute_result"
    }
   ],
   "source": [
    "df[[\"Inicio_tabagismo\"]]"
   ]
  },
  {
   "cell_type": "code",
   "execution_count": 522,
   "id": "a49cb170",
   "metadata": {},
   "outputs": [
    {
     "name": "stderr",
     "output_type": "stream",
     "text": [
      "C:\\Users\\bkser\\AppData\\Local\\Temp\\ipykernel_38812\\3239303874.py:10: FutureWarning: Downcasting behavior in `replace` is deprecated and will be removed in a future version. To retain the old behavior, explicitly call `result.infer_objects(copy=False)`. To opt-in to the future behavior, set `pd.set_option('future.no_silent_downcasting', True)`\n",
      "  df[\"Inicio_tabagismo\"] = df[\"Inicio_tabagismo\"].replace(mapeamento).astype(int)\n"
     ]
    }
   ],
   "source": [
    "# Mapeamento explícito\n",
    "mapeamento = {\n",
    "    \"Não fuma\": 0,\n",
    "    \"Início antes dos 18\": 1,\n",
    "    \"Início entre 18 e 30\": 2,\n",
    "    \"Início após os 30\": 3\n",
    "}\n",
    "\n",
    "# Aplicando o mapeamento\n",
    "df[\"Inicio_tabagismo\"] = df[\"Inicio_tabagismo\"].replace(mapeamento).astype(int)"
   ]
  },
  {
   "cell_type": "code",
   "execution_count": 523,
   "id": "9c24180c",
   "metadata": {},
   "outputs": [
    {
     "data": {
      "application/vnd.microsoft.datawrangler.viewer.v0+json": {
       "columns": [
        {
         "name": "index",
         "rawType": "int64",
         "type": "integer"
        },
        {
         "name": "Inicio_tabagismo",
         "rawType": "int64",
         "type": "integer"
        }
       ],
       "conversionMethod": "pd.DataFrame",
       "ref": "a61b216a-5635-482d-93ae-3bedc6b62d3a",
       "rows": [
        [
         "0",
         "0"
        ],
        [
         "1",
         "0"
        ],
        [
         "2",
         "1"
        ],
        [
         "3",
         "0"
        ],
        [
         "4",
         "0"
        ],
        [
         "5",
         "0"
        ],
        [
         "6",
         "0"
        ],
        [
         "7",
         "0"
        ],
        [
         "8",
         "0"
        ],
        [
         "9",
         "2"
        ],
        [
         "10",
         "0"
        ],
        [
         "11",
         "0"
        ],
        [
         "12",
         "1"
        ],
        [
         "13",
         "0"
        ],
        [
         "14",
         "0"
        ],
        [
         "15",
         "0"
        ],
        [
         "16",
         "0"
        ],
        [
         "17",
         "0"
        ],
        [
         "18",
         "0"
        ],
        [
         "19",
         "0"
        ],
        [
         "20",
         "2"
        ],
        [
         "21",
         "2"
        ],
        [
         "22",
         "0"
        ],
        [
         "23",
         "3"
        ],
        [
         "24",
         "1"
        ],
        [
         "25",
         "2"
        ],
        [
         "26",
         "0"
        ],
        [
         "27",
         "1"
        ],
        [
         "28",
         "0"
        ],
        [
         "29",
         "1"
        ],
        [
         "30",
         "0"
        ],
        [
         "31",
         "0"
        ],
        [
         "32",
         "0"
        ],
        [
         "33",
         "2"
        ],
        [
         "34",
         "0"
        ],
        [
         "35",
         "0"
        ],
        [
         "36",
         "1"
        ],
        [
         "37",
         "0"
        ],
        [
         "38",
         "0"
        ],
        [
         "39",
         "0"
        ],
        [
         "40",
         "0"
        ],
        [
         "41",
         "2"
        ],
        [
         "42",
         "0"
        ],
        [
         "43",
         "0"
        ],
        [
         "44",
         "3"
        ],
        [
         "45",
         "0"
        ],
        [
         "46",
         "3"
        ],
        [
         "47",
         "0"
        ],
        [
         "48",
         "0"
        ],
        [
         "49",
         "0"
        ]
       ],
       "shape": {
        "columns": 1,
        "rows": 20526
       }
      },
      "text/html": [
       "<div>\n",
       "<style scoped>\n",
       "    .dataframe tbody tr th:only-of-type {\n",
       "        vertical-align: middle;\n",
       "    }\n",
       "\n",
       "    .dataframe tbody tr th {\n",
       "        vertical-align: top;\n",
       "    }\n",
       "\n",
       "    .dataframe thead th {\n",
       "        text-align: right;\n",
       "    }\n",
       "</style>\n",
       "<table border=\"1\" class=\"dataframe\">\n",
       "  <thead>\n",
       "    <tr style=\"text-align: right;\">\n",
       "      <th></th>\n",
       "      <th>Inicio_tabagismo</th>\n",
       "    </tr>\n",
       "  </thead>\n",
       "  <tbody>\n",
       "    <tr>\n",
       "      <th>0</th>\n",
       "      <td>0</td>\n",
       "    </tr>\n",
       "    <tr>\n",
       "      <th>1</th>\n",
       "      <td>0</td>\n",
       "    </tr>\n",
       "    <tr>\n",
       "      <th>2</th>\n",
       "      <td>1</td>\n",
       "    </tr>\n",
       "    <tr>\n",
       "      <th>3</th>\n",
       "      <td>0</td>\n",
       "    </tr>\n",
       "    <tr>\n",
       "      <th>4</th>\n",
       "      <td>0</td>\n",
       "    </tr>\n",
       "    <tr>\n",
       "      <th>...</th>\n",
       "      <td>...</td>\n",
       "    </tr>\n",
       "    <tr>\n",
       "      <th>20523</th>\n",
       "      <td>0</td>\n",
       "    </tr>\n",
       "    <tr>\n",
       "      <th>20524</th>\n",
       "      <td>0</td>\n",
       "    </tr>\n",
       "    <tr>\n",
       "      <th>20525</th>\n",
       "      <td>2</td>\n",
       "    </tr>\n",
       "    <tr>\n",
       "      <th>20526</th>\n",
       "      <td>3</td>\n",
       "    </tr>\n",
       "    <tr>\n",
       "      <th>20527</th>\n",
       "      <td>0</td>\n",
       "    </tr>\n",
       "  </tbody>\n",
       "</table>\n",
       "<p>20526 rows × 1 columns</p>\n",
       "</div>"
      ],
      "text/plain": [
       "       Inicio_tabagismo\n",
       "0                     0\n",
       "1                     0\n",
       "2                     1\n",
       "3                     0\n",
       "4                     0\n",
       "...                 ...\n",
       "20523                 0\n",
       "20524                 0\n",
       "20525                 2\n",
       "20526                 3\n",
       "20527                 0\n",
       "\n",
       "[20526 rows x 1 columns]"
      ]
     },
     "execution_count": 523,
     "metadata": {},
     "output_type": "execute_result"
    }
   ],
   "source": [
    "df[[\"Inicio_tabagismo\"]]"
   ]
  },
  {
   "cell_type": "markdown",
   "id": "428feecd",
   "metadata": {},
   "source": [
    " P59. Há quanto tempo o(a) Sr(a) parou de fumar?\n",
    "\n",
    "5. P05901 - Anos\n",
    "6. P05902 - Meses\n",
    "7. P05903 - Semanas\n",
    "8. P05904 - Dias"
   ]
  },
  {
   "cell_type": "code",
   "execution_count": 524,
   "id": "390108a0",
   "metadata": {},
   "outputs": [
    {
     "name": "stdout",
     "output_type": "stream",
     "text": [
      "Tempo_parou_fumar\n",
      "Nunca fumou         11265\n",
      "Parou há >5 anos     5493\n",
      "Fumante atual        2862\n",
      "Parou há <5 anos      906\n",
      "Name: count, dtype: int64\n",
      "Valores faltantes: 0\n"
     ]
    }
   ],
   "source": [
    "def tempo_parou_fumar(row):\n",
    "    # Fumante atual\n",
    "    if row['P050'] in [1, 2]:\n",
    "        return 'Fumante atual'\n",
    "\n",
    "    # Nunca fumou\n",
    "    if row['P052'] == 3:\n",
    "        return 'Nunca fumou'\n",
    "\n",
    "    # Ex-fumante: calcular tempo total em meses\n",
    "    if row['P052'] in [1, 2]:\n",
    "        anos = row.get('P05901', 0) or 0\n",
    "        meses = row.get('P05902', 0) or 0\n",
    "        semanas = row.get('P05903', 0) or 0\n",
    "        dias = row.get('P05904', 0) or 0\n",
    "\n",
    "        total_meses = anos * 12 + meses + (semanas / 4.345) + (dias / 30)\n",
    "\n",
    "        if pd.isna(total_meses):\n",
    "            return pd.NA\n",
    "\n",
    "        if total_meses < 60:\n",
    "            return 'Parou há <5 anos'\n",
    "        else:\n",
    "            return 'Parou há >5 anos'\n",
    "\n",
    "    return pd.NA\n",
    "\n",
    "\n",
    "df['Tempo_parou_fumar'] = df.apply(tempo_parou_fumar, axis=1)\n",
    "\n",
    "print(df['Tempo_parou_fumar'].value_counts(dropna=False))\n",
    "print(f\"Valores faltantes: {df['Tempo_parou_fumar'].isna().sum()}\")"
   ]
  },
  {
   "cell_type": "code",
   "execution_count": 525,
   "id": "a2b955c8",
   "metadata": {},
   "outputs": [
    {
     "data": {
      "application/vnd.microsoft.datawrangler.viewer.v0+json": {
       "columns": [
        {
         "name": "index",
         "rawType": "int64",
         "type": "integer"
        },
        {
         "name": "Tempo_parou_fumar",
         "rawType": "object",
         "type": "string"
        }
       ],
       "conversionMethod": "pd.DataFrame",
       "ref": "c31e2b58-bfac-492f-bf5b-eff68bf51ec5",
       "rows": [
        [
         "0",
         "Nunca fumou"
        ],
        [
         "1",
         "Parou há >5 anos"
        ],
        [
         "2",
         "Parou há >5 anos"
        ],
        [
         "3",
         "Nunca fumou"
        ],
        [
         "4",
         "Nunca fumou"
        ],
        [
         "5",
         "Parou há <5 anos"
        ],
        [
         "6",
         "Nunca fumou"
        ],
        [
         "7",
         "Nunca fumou"
        ],
        [
         "8",
         "Nunca fumou"
        ],
        [
         "9",
         "Parou há >5 anos"
        ],
        [
         "10",
         "Parou há >5 anos"
        ],
        [
         "11",
         "Nunca fumou"
        ],
        [
         "12",
         "Parou há <5 anos"
        ],
        [
         "13",
         "Nunca fumou"
        ],
        [
         "14",
         "Nunca fumou"
        ],
        [
         "15",
         "Nunca fumou"
        ],
        [
         "16",
         "Nunca fumou"
        ],
        [
         "17",
         "Nunca fumou"
        ],
        [
         "18",
         "Nunca fumou"
        ],
        [
         "19",
         "Nunca fumou"
        ],
        [
         "20",
         "Parou há >5 anos"
        ],
        [
         "21",
         "Fumante atual"
        ],
        [
         "22",
         "Parou há >5 anos"
        ],
        [
         "23",
         "Parou há >5 anos"
        ],
        [
         "24",
         "Parou há >5 anos"
        ],
        [
         "25",
         "Fumante atual"
        ],
        [
         "26",
         "Nunca fumou"
        ],
        [
         "27",
         "Fumante atual"
        ],
        [
         "28",
         "Nunca fumou"
        ],
        [
         "29",
         "Fumante atual"
        ],
        [
         "30",
         "Parou há >5 anos"
        ],
        [
         "31",
         "Nunca fumou"
        ],
        [
         "32",
         "Nunca fumou"
        ],
        [
         "33",
         "Parou há >5 anos"
        ],
        [
         "34",
         "Nunca fumou"
        ],
        [
         "35",
         "Nunca fumou"
        ],
        [
         "36",
         "Fumante atual"
        ],
        [
         "37",
         "Parou há <5 anos"
        ],
        [
         "38",
         "Nunca fumou"
        ],
        [
         "39",
         "Nunca fumou"
        ],
        [
         "40",
         "Parou há >5 anos"
        ],
        [
         "41",
         "Parou há >5 anos"
        ],
        [
         "42",
         "Nunca fumou"
        ],
        [
         "43",
         "Nunca fumou"
        ],
        [
         "44",
         "Parou há >5 anos"
        ],
        [
         "45",
         "Nunca fumou"
        ],
        [
         "46",
         "Parou há >5 anos"
        ],
        [
         "47",
         "Nunca fumou"
        ],
        [
         "48",
         "Nunca fumou"
        ],
        [
         "49",
         "Nunca fumou"
        ]
       ],
       "shape": {
        "columns": 1,
        "rows": 20526
       }
      },
      "text/html": [
       "<div>\n",
       "<style scoped>\n",
       "    .dataframe tbody tr th:only-of-type {\n",
       "        vertical-align: middle;\n",
       "    }\n",
       "\n",
       "    .dataframe tbody tr th {\n",
       "        vertical-align: top;\n",
       "    }\n",
       "\n",
       "    .dataframe thead th {\n",
       "        text-align: right;\n",
       "    }\n",
       "</style>\n",
       "<table border=\"1\" class=\"dataframe\">\n",
       "  <thead>\n",
       "    <tr style=\"text-align: right;\">\n",
       "      <th></th>\n",
       "      <th>Tempo_parou_fumar</th>\n",
       "    </tr>\n",
       "  </thead>\n",
       "  <tbody>\n",
       "    <tr>\n",
       "      <th>0</th>\n",
       "      <td>Nunca fumou</td>\n",
       "    </tr>\n",
       "    <tr>\n",
       "      <th>1</th>\n",
       "      <td>Parou há &gt;5 anos</td>\n",
       "    </tr>\n",
       "    <tr>\n",
       "      <th>2</th>\n",
       "      <td>Parou há &gt;5 anos</td>\n",
       "    </tr>\n",
       "    <tr>\n",
       "      <th>3</th>\n",
       "      <td>Nunca fumou</td>\n",
       "    </tr>\n",
       "    <tr>\n",
       "      <th>4</th>\n",
       "      <td>Nunca fumou</td>\n",
       "    </tr>\n",
       "    <tr>\n",
       "      <th>...</th>\n",
       "      <td>...</td>\n",
       "    </tr>\n",
       "    <tr>\n",
       "      <th>20523</th>\n",
       "      <td>Nunca fumou</td>\n",
       "    </tr>\n",
       "    <tr>\n",
       "      <th>20524</th>\n",
       "      <td>Nunca fumou</td>\n",
       "    </tr>\n",
       "    <tr>\n",
       "      <th>20525</th>\n",
       "      <td>Fumante atual</td>\n",
       "    </tr>\n",
       "    <tr>\n",
       "      <th>20526</th>\n",
       "      <td>Fumante atual</td>\n",
       "    </tr>\n",
       "    <tr>\n",
       "      <th>20527</th>\n",
       "      <td>Nunca fumou</td>\n",
       "    </tr>\n",
       "  </tbody>\n",
       "</table>\n",
       "<p>20526 rows × 1 columns</p>\n",
       "</div>"
      ],
      "text/plain": [
       "      Tempo_parou_fumar\n",
       "0           Nunca fumou\n",
       "1      Parou há >5 anos\n",
       "2      Parou há >5 anos\n",
       "3           Nunca fumou\n",
       "4           Nunca fumou\n",
       "...                 ...\n",
       "20523       Nunca fumou\n",
       "20524       Nunca fumou\n",
       "20525     Fumante atual\n",
       "20526     Fumante atual\n",
       "20527       Nunca fumou\n",
       "\n",
       "[20526 rows x 1 columns]"
      ]
     },
     "execution_count": 525,
     "metadata": {},
     "output_type": "execute_result"
    }
   ],
   "source": [
    "df[[\"Tempo_parou_fumar\"]]"
   ]
  },
  {
   "cell_type": "code",
   "execution_count": 526,
   "id": "a03c04f8",
   "metadata": {},
   "outputs": [
    {
     "name": "stderr",
     "output_type": "stream",
     "text": [
      "C:\\Users\\bkser\\AppData\\Local\\Temp\\ipykernel_38812\\58556366.py:10: FutureWarning: Downcasting behavior in `replace` is deprecated and will be removed in a future version. To retain the old behavior, explicitly call `result.infer_objects(copy=False)`. To opt-in to the future behavior, set `pd.set_option('future.no_silent_downcasting', True)`\n",
      "  df[\"Tempo_parou_fumar\"] = df[\"Tempo_parou_fumar\"].replace(mapeamento).astype(int)\n"
     ]
    }
   ],
   "source": [
    "# Mapeamento explícito\n",
    "mapeamento = {\n",
    "    \"Nunca fumou\": 0,\n",
    "    \"Fumante atual\": 1,\n",
    "    \"Parou há <5 anos\": 2,\n",
    "    \"Parou há >5 anos\": 3\n",
    "}\n",
    "\n",
    "# Aplicando o mapeamento\n",
    "df[\"Tempo_parou_fumar\"] = df[\"Tempo_parou_fumar\"].replace(mapeamento).astype(int)"
   ]
  },
  {
   "cell_type": "code",
   "execution_count": 527,
   "id": "0182fa4e",
   "metadata": {},
   "outputs": [
    {
     "data": {
      "application/vnd.microsoft.datawrangler.viewer.v0+json": {
       "columns": [
        {
         "name": "index",
         "rawType": "int64",
         "type": "integer"
        },
        {
         "name": "Tempo_parou_fumar",
         "rawType": "int64",
         "type": "integer"
        }
       ],
       "conversionMethod": "pd.DataFrame",
       "ref": "da8973f6-7ba3-478e-9aab-6d0b2ba94374",
       "rows": [
        [
         "0",
         "0"
        ],
        [
         "1",
         "3"
        ],
        [
         "2",
         "3"
        ],
        [
         "3",
         "0"
        ],
        [
         "4",
         "0"
        ],
        [
         "5",
         "2"
        ],
        [
         "6",
         "0"
        ],
        [
         "7",
         "0"
        ],
        [
         "8",
         "0"
        ],
        [
         "9",
         "3"
        ],
        [
         "10",
         "3"
        ],
        [
         "11",
         "0"
        ],
        [
         "12",
         "2"
        ],
        [
         "13",
         "0"
        ],
        [
         "14",
         "0"
        ],
        [
         "15",
         "0"
        ],
        [
         "16",
         "0"
        ],
        [
         "17",
         "0"
        ],
        [
         "18",
         "0"
        ],
        [
         "19",
         "0"
        ],
        [
         "20",
         "3"
        ],
        [
         "21",
         "1"
        ],
        [
         "22",
         "3"
        ],
        [
         "23",
         "3"
        ],
        [
         "24",
         "3"
        ],
        [
         "25",
         "1"
        ],
        [
         "26",
         "0"
        ],
        [
         "27",
         "1"
        ],
        [
         "28",
         "0"
        ],
        [
         "29",
         "1"
        ],
        [
         "30",
         "3"
        ],
        [
         "31",
         "0"
        ],
        [
         "32",
         "0"
        ],
        [
         "33",
         "3"
        ],
        [
         "34",
         "0"
        ],
        [
         "35",
         "0"
        ],
        [
         "36",
         "1"
        ],
        [
         "37",
         "2"
        ],
        [
         "38",
         "0"
        ],
        [
         "39",
         "0"
        ],
        [
         "40",
         "3"
        ],
        [
         "41",
         "3"
        ],
        [
         "42",
         "0"
        ],
        [
         "43",
         "0"
        ],
        [
         "44",
         "3"
        ],
        [
         "45",
         "0"
        ],
        [
         "46",
         "3"
        ],
        [
         "47",
         "0"
        ],
        [
         "48",
         "0"
        ],
        [
         "49",
         "0"
        ]
       ],
       "shape": {
        "columns": 1,
        "rows": 20526
       }
      },
      "text/html": [
       "<div>\n",
       "<style scoped>\n",
       "    .dataframe tbody tr th:only-of-type {\n",
       "        vertical-align: middle;\n",
       "    }\n",
       "\n",
       "    .dataframe tbody tr th {\n",
       "        vertical-align: top;\n",
       "    }\n",
       "\n",
       "    .dataframe thead th {\n",
       "        text-align: right;\n",
       "    }\n",
       "</style>\n",
       "<table border=\"1\" class=\"dataframe\">\n",
       "  <thead>\n",
       "    <tr style=\"text-align: right;\">\n",
       "      <th></th>\n",
       "      <th>Tempo_parou_fumar</th>\n",
       "    </tr>\n",
       "  </thead>\n",
       "  <tbody>\n",
       "    <tr>\n",
       "      <th>0</th>\n",
       "      <td>0</td>\n",
       "    </tr>\n",
       "    <tr>\n",
       "      <th>1</th>\n",
       "      <td>3</td>\n",
       "    </tr>\n",
       "    <tr>\n",
       "      <th>2</th>\n",
       "      <td>3</td>\n",
       "    </tr>\n",
       "    <tr>\n",
       "      <th>3</th>\n",
       "      <td>0</td>\n",
       "    </tr>\n",
       "    <tr>\n",
       "      <th>4</th>\n",
       "      <td>0</td>\n",
       "    </tr>\n",
       "    <tr>\n",
       "      <th>...</th>\n",
       "      <td>...</td>\n",
       "    </tr>\n",
       "    <tr>\n",
       "      <th>20523</th>\n",
       "      <td>0</td>\n",
       "    </tr>\n",
       "    <tr>\n",
       "      <th>20524</th>\n",
       "      <td>0</td>\n",
       "    </tr>\n",
       "    <tr>\n",
       "      <th>20525</th>\n",
       "      <td>1</td>\n",
       "    </tr>\n",
       "    <tr>\n",
       "      <th>20526</th>\n",
       "      <td>1</td>\n",
       "    </tr>\n",
       "    <tr>\n",
       "      <th>20527</th>\n",
       "      <td>0</td>\n",
       "    </tr>\n",
       "  </tbody>\n",
       "</table>\n",
       "<p>20526 rows × 1 columns</p>\n",
       "</div>"
      ],
      "text/plain": [
       "       Tempo_parou_fumar\n",
       "0                      0\n",
       "1                      3\n",
       "2                      3\n",
       "3                      0\n",
       "4                      0\n",
       "...                  ...\n",
       "20523                  0\n",
       "20524                  0\n",
       "20525                  1\n",
       "20526                  1\n",
       "20527                  0\n",
       "\n",
       "[20526 rows x 1 columns]"
      ]
     },
     "execution_count": 527,
     "metadata": {},
     "output_type": "execute_result"
    }
   ],
   "source": [
    "df[[\"Tempo_parou_fumar\"]]"
   ]
  },
  {
   "cell_type": "markdown",
   "id": "a4c49d1c",
   "metadata": {},
   "source": [
    "9. Cigarros industrializados (P05401)\n",
    "10. Cigarros de palha ou enrolados (P05404)\n",
    "11. Cigarros de cravo ou Bali (P05407)\n",
    "12. Cachimbo (P05410)\n",
    "13. Charutos ou cigarrilhas (P05413)\n",
    "14. Narguilé (P05416)\n",
    "15. Outro (P05419)"
   ]
  },
  {
   "cell_type": "code",
   "execution_count": 528,
   "id": "f8e65330",
   "metadata": {},
   "outputs": [
    {
     "name": "stdout",
     "output_type": "stream",
     "text": [
      "Intensidade_fumo\n",
      "Não fumante           17664\n",
      "Fumante moderado       2410\n",
      "Fumante intenso         383\n",
      "Fumante esporádico       69\n",
      "Name: count, dtype: int64\n",
      "Valores faltantes: 0\n"
     ]
    }
   ],
   "source": [
    "import pandas as pd\n",
    "\n",
    "# Dicionário de pesos baseados na frequência semanal estimada\n",
    "pesos_fumo = {\n",
    "    1: 7.0,   # Um ou mais por dia\n",
    "    2: 3.0,   # Um ou mais por semana\n",
    "    3: 1.0,   # Menos que uma vez por semana\n",
    "    4: 0.3,   # Menos do que um por mês\n",
    "    5: 0.0    # Não fuma este produto\n",
    "}\n",
    "\n",
    "# Atributos de produtos fumados\n",
    "colunas_fumo = [\n",
    "    'P05401',  # Cigarros industrializados\n",
    "    'P05404',  # Cigarros de palha\n",
    "    'P05407',  # Cigarros de cravo\n",
    "    'P05410',  # Cachimbo\n",
    "    'P05413',  # Charuto\n",
    "    'P05416',  # Narguilé\n",
    "    'P05419'   # Outro\n",
    "]\n",
    "\n",
    "# Substituir as categorias pelos pesos estimados\n",
    "for col in colunas_fumo:\n",
    "    df[col + '_peso'] = df[col].map(pesos_fumo)\n",
    "\n",
    "# Calcular a intensidade total somando os pesos\n",
    "df['Intensidade_fumo'] = df[[col + '_peso' for col in colunas_fumo]].sum(axis=1).round(1)\n",
    "\n",
    "# Discretização com base na intensidade total semanal\n",
    "def classificar_fumante(valor):\n",
    "    if valor == 0.0:\n",
    "        return 'Não fumante'\n",
    "    elif valor <= 1.0:\n",
    "        return 'Fumante esporádico'\n",
    "    elif valor <= 7.0:\n",
    "        return 'Fumante moderado'\n",
    "    else:\n",
    "        return 'Fumante intenso'\n",
    "\n",
    "df['Intensidade_fumo'] = df['Intensidade_fumo'].apply(classificar_fumante)\n",
    "\n",
    "print(df['Intensidade_fumo'].value_counts(dropna=False))\n",
    "print(f\"Valores faltantes: {df['Intensidade_fumo'].isna().sum()}\")\n"
   ]
  },
  {
   "cell_type": "code",
   "execution_count": 529,
   "id": "86a2ff6f",
   "metadata": {},
   "outputs": [
    {
     "name": "stdout",
     "output_type": "stream",
     "text": [
      "Intensidade_fumo\n",
      "0    17664\n",
      "2     2410\n",
      "3      383\n",
      "1       69\n",
      "Name: count, dtype: int64\n"
     ]
    },
    {
     "name": "stderr",
     "output_type": "stream",
     "text": [
      "C:\\Users\\bkser\\AppData\\Local\\Temp\\ipykernel_38812\\1662573641.py:10: FutureWarning: Downcasting behavior in `replace` is deprecated and will be removed in a future version. To retain the old behavior, explicitly call `result.infer_objects(copy=False)`. To opt-in to the future behavior, set `pd.set_option('future.no_silent_downcasting', True)`\n",
      "  df[\"Intensidade_fumo\"] = df[\"Intensidade_fumo\"].replace(mapeamento).astype(int)\n"
     ]
    }
   ],
   "source": [
    "# Mapeamento explícito\n",
    "mapeamento = {\n",
    "    \"Não fumante\": 0,\n",
    "    \"Fumante esporádico\": 1,\n",
    "    \"Fumante moderado\": 2,\n",
    "    \"Fumante intenso\": 3\n",
    "}\n",
    "\n",
    "# Aplicando o mapeamento\n",
    "df[\"Intensidade_fumo\"] = df[\"Intensidade_fumo\"].replace(mapeamento).astype(int)\n",
    "print(df['Intensidade_fumo'].value_counts(dropna=False))"
   ]
  },
  {
   "cell_type": "code",
   "execution_count": 530,
   "id": "d95bcb51",
   "metadata": {},
   "outputs": [],
   "source": [
    "df = df.drop(columns=['P050', 'P051', 'P052', 'P053', 'P05401', 'P05404', 'P05407', 'P05410', 'P05413', 'P05416', 'P05419', 'P05901', 'P05902', 'P05903', 'P05904', \n",
    "                      'P05401_peso', 'P05404_peso', 'P05407_peso', 'P05410_peso', 'P05413_peso', 'P05416_peso', 'P05419_peso'])"
   ]
  },
  {
   "cell_type": "markdown",
   "id": "fcbeb243",
   "metadata": {},
   "source": [
    "### Atributos do módulo Q (diagnósticos)"
   ]
  },
  {
   "cell_type": "code",
   "execution_count": 531,
   "id": "27976ee0",
   "metadata": {},
   "outputs": [],
   "source": [
    "df.loc[df['Q00101'] == 6, 'Q00201'] = 2 #diagnóstico de hipertensão\n",
    "df.loc[df['Q02901'] == 6, 'Q03001'] = 2 #diagnóstico de diabetes\n",
    "df.loc[df['Q05901'] == 6, 'Q060'] = 2 #diagnóstico de colesterol alto"
   ]
  },
  {
   "cell_type": "code",
   "execution_count": 532,
   "id": "a8b853b1",
   "metadata": {},
   "outputs": [
    {
     "name": "stdout",
     "output_type": "stream",
     "text": [
      "0\n",
      "0\n",
      "0\n"
     ]
    }
   ],
   "source": [
    "print(df['Q00201'].isna().sum())\n",
    "print(df['Q03001'].isna().sum())\n",
    "print(df['Q060'].isna().sum())"
   ]
  },
  {
   "cell_type": "code",
   "execution_count": 533,
   "id": "b717c76e",
   "metadata": {},
   "outputs": [],
   "source": [
    "df = df.drop(columns=['Q00101', 'Q02901', 'Q05901'])    "
   ]
  },
  {
   "cell_type": "markdown",
   "id": "77d8852e",
   "metadata": {},
   "source": [
    "### Preenchendo aqui os atributos H003, H004 e H010"
   ]
  },
  {
   "cell_type": "code",
   "execution_count": 534,
   "id": "13f9c2e1",
   "metadata": {},
   "outputs": [],
   "source": [
    "df.loc[df['H001'].isin([4, 5]), 'H002'] = 0"
   ]
  },
  {
   "cell_type": "code",
   "execution_count": 535,
   "id": "a10af9ea",
   "metadata": {},
   "outputs": [
    {
     "name": "stdout",
     "output_type": "stream",
     "text": [
      "0\n"
     ]
    }
   ],
   "source": [
    "print(df['H002'].isna().sum())"
   ]
  },
  {
   "cell_type": "code",
   "execution_count": 536,
   "id": "0f3c41ae",
   "metadata": {},
   "outputs": [],
   "source": [
    "df.loc[(df['H002'].isin([1, 0])), 'H003'] = 0"
   ]
  },
  {
   "cell_type": "code",
   "execution_count": 537,
   "id": "9ad07316",
   "metadata": {},
   "outputs": [
    {
     "name": "stdout",
     "output_type": "stream",
     "text": [
      "0\n"
     ]
    }
   ],
   "source": [
    "print(df['H003'].isna().sum())"
   ]
  },
  {
   "cell_type": "code",
   "execution_count": 538,
   "id": "8f00ef2d",
   "metadata": {},
   "outputs": [],
   "source": [
    "df.loc[df['H003'] == 0, 'H004'] = 0"
   ]
  },
  {
   "cell_type": "code",
   "execution_count": 539,
   "id": "0026e850",
   "metadata": {},
   "outputs": [
    {
     "name": "stdout",
     "output_type": "stream",
     "text": [
      "0\n"
     ]
    }
   ],
   "source": [
    "print(df['H004'].isna().sum())"
   ]
  },
  {
   "cell_type": "code",
   "execution_count": 540,
   "id": "4da78cd2",
   "metadata": {},
   "outputs": [],
   "source": [
    "df.loc[df['H004'] != 1, 'H010'] = 0"
   ]
  },
  {
   "cell_type": "code",
   "execution_count": 541,
   "id": "72ba3f46",
   "metadata": {},
   "outputs": [
    {
     "name": "stdout",
     "output_type": "stream",
     "text": [
      "0\n"
     ]
    }
   ],
   "source": [
    "print(df['H010'].isna().sum())"
   ]
  },
  {
   "cell_type": "markdown",
   "id": "1f723a43",
   "metadata": {},
   "source": [
    "### Hábito de beber / alcoolismo"
   ]
  },
  {
   "cell_type": "markdown",
   "id": "292267a0",
   "metadata": {},
   "source": [
    "1. P027: Com que frequência costuma consumir alguma bebida alcoólica?\n",
    "2. P02801: Quantos dias por semana costuma consumir alguma bebida alcoólica?\n",
    "3. P029:  Em geral, no dia que bebe, quantas doses de bebida alcoólica consome?"
   ]
  },
  {
   "cell_type": "code",
   "execution_count": 542,
   "id": "07d97984",
   "metadata": {},
   "outputs": [
    {
     "name": "stdout",
     "output_type": "stream",
     "text": [
      "7.0\n",
      "60.0\n"
     ]
    }
   ],
   "source": [
    "print(df['P02801'].max()) # = 7 dias\n",
    "print(df['P029'].max()) # = 60 doses\n",
    "\n",
    "# → Máximo teórico de doses por semana = 7 * 60 = 420 doses"
   ]
  },
  {
   "cell_type": "code",
   "execution_count": 543,
   "id": "3ffd49aa",
   "metadata": {},
   "outputs": [
    {
     "name": "stdout",
     "output_type": "stream",
     "text": [
      "Consumo_alcool\n",
      "Abstêmio         13878\n",
      "Baixo consumo     3732\n",
      "Moderado          1584\n",
      "Alto consumo       924\n",
      "Excessivo          408\n",
      "Name: count, dtype: int64\n",
      "Valores faltantes: 0\n"
     ]
    }
   ],
   "source": [
    "def calcular_doses_semanais(row):\n",
    "    freq = row['P027']\n",
    "    dias_semana = row['P02801']\n",
    "    doses_por_dia = row['P029']\n",
    "\n",
    "    if freq == 1:\n",
    "        return 0  # Não bebe nunca\n",
    "    elif freq == 2:\n",
    "        return doses_por_dia if pd.notna(doses_por_dia) else pd.NA\n",
    "    elif freq == 3:\n",
    "        if pd.notna(dias_semana) and pd.notna(doses_por_dia):\n",
    "            return dias_semana * doses_por_dia\n",
    "        else:\n",
    "            return pd.NA\n",
    "    return pd.NA\n",
    "\n",
    "def categorizar_doses_por_sexo(row):\n",
    "    doses = row['Doses_semanais']\n",
    "    sexo = row['C006']\n",
    "\n",
    "    if pd.isna(doses) or pd.isna(sexo):\n",
    "        return pd.NA\n",
    "    elif doses == 0:\n",
    "        return 'Abstêmio'\n",
    "    \n",
    "    if sexo == 1:  # Homem\n",
    "        if doses <= 7:\n",
    "            return 'Baixo consumo'\n",
    "        elif doses <= 14:\n",
    "            return 'Moderado'\n",
    "        elif doses <= 30:\n",
    "            return 'Alto consumo'\n",
    "        else:\n",
    "            return 'Excessivo'\n",
    "    elif sexo == 2:  # Mulher\n",
    "        if doses <= 3:\n",
    "            return 'Baixo consumo'\n",
    "        elif doses <= 7:\n",
    "            return 'Moderado'\n",
    "        elif doses <= 15:\n",
    "            return 'Alto consumo'\n",
    "        else:\n",
    "            return 'Excessivo'\n",
    "    else:\n",
    "        return pd.NA\n",
    "\n",
    "# Aplicar ao DataFrame\n",
    "df['Doses_semanais'] = df.apply(calcular_doses_semanais, axis=1)\n",
    "df['Consumo_alcool'] = df.apply(categorizar_doses_por_sexo, axis=1)\n",
    "\n",
    "print(df['Consumo_alcool'].value_counts(dropna=False))\n",
    "print(\"Valores faltantes:\", df['Consumo_alcool'].isna().sum())\n"
   ]
  },
  {
   "cell_type": "code",
   "execution_count": 544,
   "id": "776147d6",
   "metadata": {},
   "outputs": [
    {
     "data": {
      "application/vnd.microsoft.datawrangler.viewer.v0+json": {
       "columns": [
        {
         "name": "index",
         "rawType": "int64",
         "type": "integer"
        },
        {
         "name": "Consumo_alcool",
         "rawType": "object",
         "type": "string"
        }
       ],
       "conversionMethod": "pd.DataFrame",
       "ref": "cd2ecfb6-68ae-4d12-bab6-ac8bdbf74061",
       "rows": [
        [
         "0",
         "Abstêmio"
        ],
        [
         "1",
         "Alto consumo"
        ],
        [
         "2",
         "Moderado"
        ],
        [
         "3",
         "Abstêmio"
        ],
        [
         "4",
         "Abstêmio"
        ],
        [
         "5",
         "Abstêmio"
        ],
        [
         "6",
         "Abstêmio"
        ],
        [
         "7",
         "Abstêmio"
        ],
        [
         "8",
         "Abstêmio"
        ],
        [
         "9",
         "Abstêmio"
        ],
        [
         "10",
         "Abstêmio"
        ],
        [
         "11",
         "Alto consumo"
        ],
        [
         "12",
         "Abstêmio"
        ],
        [
         "13",
         "Abstêmio"
        ],
        [
         "14",
         "Abstêmio"
        ],
        [
         "15",
         "Abstêmio"
        ],
        [
         "16",
         "Abstêmio"
        ],
        [
         "17",
         "Abstêmio"
        ],
        [
         "18",
         "Abstêmio"
        ],
        [
         "19",
         "Abstêmio"
        ],
        [
         "20",
         "Abstêmio"
        ],
        [
         "21",
         "Abstêmio"
        ],
        [
         "22",
         "Abstêmio"
        ],
        [
         "23",
         "Abstêmio"
        ],
        [
         "24",
         "Baixo consumo"
        ],
        [
         "25",
         "Abstêmio"
        ],
        [
         "26",
         "Abstêmio"
        ],
        [
         "27",
         "Alto consumo"
        ],
        [
         "28",
         "Abstêmio"
        ],
        [
         "29",
         "Abstêmio"
        ],
        [
         "30",
         "Baixo consumo"
        ],
        [
         "31",
         "Abstêmio"
        ],
        [
         "32",
         "Abstêmio"
        ],
        [
         "33",
         "Moderado"
        ],
        [
         "34",
         "Abstêmio"
        ],
        [
         "35",
         "Abstêmio"
        ],
        [
         "36",
         "Moderado"
        ],
        [
         "37",
         "Abstêmio"
        ],
        [
         "38",
         "Abstêmio"
        ],
        [
         "39",
         "Abstêmio"
        ],
        [
         "40",
         "Excessivo"
        ],
        [
         "41",
         "Alto consumo"
        ],
        [
         "42",
         "Abstêmio"
        ],
        [
         "43",
         "Abstêmio"
        ],
        [
         "44",
         "Baixo consumo"
        ],
        [
         "45",
         "Abstêmio"
        ],
        [
         "46",
         "Abstêmio"
        ],
        [
         "47",
         "Abstêmio"
        ],
        [
         "48",
         "Abstêmio"
        ],
        [
         "49",
         "Moderado"
        ]
       ],
       "shape": {
        "columns": 1,
        "rows": 20526
       }
      },
      "text/html": [
       "<div>\n",
       "<style scoped>\n",
       "    .dataframe tbody tr th:only-of-type {\n",
       "        vertical-align: middle;\n",
       "    }\n",
       "\n",
       "    .dataframe tbody tr th {\n",
       "        vertical-align: top;\n",
       "    }\n",
       "\n",
       "    .dataframe thead th {\n",
       "        text-align: right;\n",
       "    }\n",
       "</style>\n",
       "<table border=\"1\" class=\"dataframe\">\n",
       "  <thead>\n",
       "    <tr style=\"text-align: right;\">\n",
       "      <th></th>\n",
       "      <th>Consumo_alcool</th>\n",
       "    </tr>\n",
       "  </thead>\n",
       "  <tbody>\n",
       "    <tr>\n",
       "      <th>0</th>\n",
       "      <td>Abstêmio</td>\n",
       "    </tr>\n",
       "    <tr>\n",
       "      <th>1</th>\n",
       "      <td>Alto consumo</td>\n",
       "    </tr>\n",
       "    <tr>\n",
       "      <th>2</th>\n",
       "      <td>Moderado</td>\n",
       "    </tr>\n",
       "    <tr>\n",
       "      <th>3</th>\n",
       "      <td>Abstêmio</td>\n",
       "    </tr>\n",
       "    <tr>\n",
       "      <th>4</th>\n",
       "      <td>Abstêmio</td>\n",
       "    </tr>\n",
       "    <tr>\n",
       "      <th>...</th>\n",
       "      <td>...</td>\n",
       "    </tr>\n",
       "    <tr>\n",
       "      <th>20523</th>\n",
       "      <td>Moderado</td>\n",
       "    </tr>\n",
       "    <tr>\n",
       "      <th>20524</th>\n",
       "      <td>Abstêmio</td>\n",
       "    </tr>\n",
       "    <tr>\n",
       "      <th>20525</th>\n",
       "      <td>Baixo consumo</td>\n",
       "    </tr>\n",
       "    <tr>\n",
       "      <th>20526</th>\n",
       "      <td>Alto consumo</td>\n",
       "    </tr>\n",
       "    <tr>\n",
       "      <th>20527</th>\n",
       "      <td>Abstêmio</td>\n",
       "    </tr>\n",
       "  </tbody>\n",
       "</table>\n",
       "<p>20526 rows × 1 columns</p>\n",
       "</div>"
      ],
      "text/plain": [
       "      Consumo_alcool\n",
       "0           Abstêmio\n",
       "1       Alto consumo\n",
       "2           Moderado\n",
       "3           Abstêmio\n",
       "4           Abstêmio\n",
       "...              ...\n",
       "20523       Moderado\n",
       "20524       Abstêmio\n",
       "20525  Baixo consumo\n",
       "20526   Alto consumo\n",
       "20527       Abstêmio\n",
       "\n",
       "[20526 rows x 1 columns]"
      ]
     },
     "execution_count": 544,
     "metadata": {},
     "output_type": "execute_result"
    }
   ],
   "source": [
    "df[[\"Consumo_alcool\"]]"
   ]
  },
  {
   "cell_type": "code",
   "execution_count": 545,
   "id": "a353fb72",
   "metadata": {},
   "outputs": [
    {
     "name": "stderr",
     "output_type": "stream",
     "text": [
      "C:\\Users\\bkser\\AppData\\Local\\Temp\\ipykernel_38812\\3246238794.py:10: FutureWarning: Downcasting behavior in `replace` is deprecated and will be removed in a future version. To retain the old behavior, explicitly call `result.infer_objects(copy=False)`. To opt-in to the future behavior, set `pd.set_option('future.no_silent_downcasting', True)`\n",
      "  df[\"Consumo_alcool\"] = df[\"Consumo_alcool\"].replace(mapeamento).astype(int)\n"
     ]
    }
   ],
   "source": [
    "mapeamento = {\n",
    "    \"Abstêmio\": 0,\n",
    "    \"Baixo consumo\": 1,\n",
    "    \"Moderado\": 2,\n",
    "    \"Alto consumo\": 3,\n",
    "    \"Excessivo\": 4\n",
    "}\n",
    "\n",
    "# Aplicando o mapeamento\n",
    "df[\"Consumo_alcool\"] = df[\"Consumo_alcool\"].replace(mapeamento).astype(int)"
   ]
  },
  {
   "cell_type": "code",
   "execution_count": 546,
   "id": "65a2cd75",
   "metadata": {},
   "outputs": [
    {
     "data": {
      "application/vnd.microsoft.datawrangler.viewer.v0+json": {
       "columns": [
        {
         "name": "index",
         "rawType": "int64",
         "type": "integer"
        },
        {
         "name": "Consumo_alcool",
         "rawType": "int64",
         "type": "integer"
        }
       ],
       "conversionMethod": "pd.DataFrame",
       "ref": "51700a0f-36ca-479a-9a4b-59f63e9863c8",
       "rows": [
        [
         "0",
         "0"
        ],
        [
         "1",
         "3"
        ],
        [
         "2",
         "2"
        ],
        [
         "3",
         "0"
        ],
        [
         "4",
         "0"
        ],
        [
         "5",
         "0"
        ],
        [
         "6",
         "0"
        ],
        [
         "7",
         "0"
        ],
        [
         "8",
         "0"
        ],
        [
         "9",
         "0"
        ],
        [
         "10",
         "0"
        ],
        [
         "11",
         "3"
        ],
        [
         "12",
         "0"
        ],
        [
         "13",
         "0"
        ],
        [
         "14",
         "0"
        ],
        [
         "15",
         "0"
        ],
        [
         "16",
         "0"
        ],
        [
         "17",
         "0"
        ],
        [
         "18",
         "0"
        ],
        [
         "19",
         "0"
        ],
        [
         "20",
         "0"
        ],
        [
         "21",
         "0"
        ],
        [
         "22",
         "0"
        ],
        [
         "23",
         "0"
        ],
        [
         "24",
         "1"
        ],
        [
         "25",
         "0"
        ],
        [
         "26",
         "0"
        ],
        [
         "27",
         "3"
        ],
        [
         "28",
         "0"
        ],
        [
         "29",
         "0"
        ],
        [
         "30",
         "1"
        ],
        [
         "31",
         "0"
        ],
        [
         "32",
         "0"
        ],
        [
         "33",
         "2"
        ],
        [
         "34",
         "0"
        ],
        [
         "35",
         "0"
        ],
        [
         "36",
         "2"
        ],
        [
         "37",
         "0"
        ],
        [
         "38",
         "0"
        ],
        [
         "39",
         "0"
        ],
        [
         "40",
         "4"
        ],
        [
         "41",
         "3"
        ],
        [
         "42",
         "0"
        ],
        [
         "43",
         "0"
        ],
        [
         "44",
         "1"
        ],
        [
         "45",
         "0"
        ],
        [
         "46",
         "0"
        ],
        [
         "47",
         "0"
        ],
        [
         "48",
         "0"
        ],
        [
         "49",
         "2"
        ]
       ],
       "shape": {
        "columns": 1,
        "rows": 20526
       }
      },
      "text/html": [
       "<div>\n",
       "<style scoped>\n",
       "    .dataframe tbody tr th:only-of-type {\n",
       "        vertical-align: middle;\n",
       "    }\n",
       "\n",
       "    .dataframe tbody tr th {\n",
       "        vertical-align: top;\n",
       "    }\n",
       "\n",
       "    .dataframe thead th {\n",
       "        text-align: right;\n",
       "    }\n",
       "</style>\n",
       "<table border=\"1\" class=\"dataframe\">\n",
       "  <thead>\n",
       "    <tr style=\"text-align: right;\">\n",
       "      <th></th>\n",
       "      <th>Consumo_alcool</th>\n",
       "    </tr>\n",
       "  </thead>\n",
       "  <tbody>\n",
       "    <tr>\n",
       "      <th>0</th>\n",
       "      <td>0</td>\n",
       "    </tr>\n",
       "    <tr>\n",
       "      <th>1</th>\n",
       "      <td>3</td>\n",
       "    </tr>\n",
       "    <tr>\n",
       "      <th>2</th>\n",
       "      <td>2</td>\n",
       "    </tr>\n",
       "    <tr>\n",
       "      <th>3</th>\n",
       "      <td>0</td>\n",
       "    </tr>\n",
       "    <tr>\n",
       "      <th>4</th>\n",
       "      <td>0</td>\n",
       "    </tr>\n",
       "    <tr>\n",
       "      <th>...</th>\n",
       "      <td>...</td>\n",
       "    </tr>\n",
       "    <tr>\n",
       "      <th>20523</th>\n",
       "      <td>2</td>\n",
       "    </tr>\n",
       "    <tr>\n",
       "      <th>20524</th>\n",
       "      <td>0</td>\n",
       "    </tr>\n",
       "    <tr>\n",
       "      <th>20525</th>\n",
       "      <td>1</td>\n",
       "    </tr>\n",
       "    <tr>\n",
       "      <th>20526</th>\n",
       "      <td>3</td>\n",
       "    </tr>\n",
       "    <tr>\n",
       "      <th>20527</th>\n",
       "      <td>0</td>\n",
       "    </tr>\n",
       "  </tbody>\n",
       "</table>\n",
       "<p>20526 rows × 1 columns</p>\n",
       "</div>"
      ],
      "text/plain": [
       "       Consumo_alcool\n",
       "0                   0\n",
       "1                   3\n",
       "2                   2\n",
       "3                   0\n",
       "4                   0\n",
       "...               ...\n",
       "20523               2\n",
       "20524               0\n",
       "20525               1\n",
       "20526               3\n",
       "20527               0\n",
       "\n",
       "[20526 rows x 1 columns]"
      ]
     },
     "execution_count": 546,
     "metadata": {},
     "output_type": "execute_result"
    }
   ],
   "source": [
    "df[[\"Consumo_alcool\"]]"
   ]
  },
  {
   "cell_type": "code",
   "execution_count": 547,
   "id": "64d8e005",
   "metadata": {},
   "outputs": [],
   "source": [
    "df = df.drop(columns=['P027','P02801', 'P029', 'Doses_semanais'])"
   ]
  },
  {
   "cell_type": "markdown",
   "id": "6a0c729d",
   "metadata": {},
   "source": [
    "### IMC"
   ]
  },
  {
   "cell_type": "markdown",
   "id": "d813ba84",
   "metadata": {},
   "source": [
    "1. P00103: Peso - Informado (em kg)\n",
    "2. P00104: Peso - Final (em kg)\n",
    "3. P00403: Altura - Informada (em cm)\n",
    "4. P00404: Altura - Final (em cm)"
   ]
  },
  {
   "cell_type": "code",
   "execution_count": 548,
   "id": "80297b52",
   "metadata": {},
   "outputs": [
    {
     "name": "stdout",
     "output_type": "stream",
     "text": [
      "1479\n",
      "27\n"
     ]
    }
   ],
   "source": [
    "print(df['P00103'].isna().sum())\n",
    "print(df['P00104'].isna().sum())"
   ]
  },
  {
   "cell_type": "code",
   "execution_count": 549,
   "id": "39010e4b",
   "metadata": {},
   "outputs": [
    {
     "name": "stdout",
     "output_type": "stream",
     "text": [
      "4079\n",
      "27\n"
     ]
    }
   ],
   "source": [
    "print(df['P00403'].isna().sum())\n",
    "print(df['P00404'].isna().sum())"
   ]
  },
  {
   "cell_type": "code",
   "execution_count": 550,
   "id": "8057cf7d",
   "metadata": {},
   "outputs": [
    {
     "data": {
      "application/vnd.microsoft.datawrangler.viewer.v0+json": {
       "columns": [
        {
         "name": "index",
         "rawType": "int64",
         "type": "integer"
        },
        {
         "name": "P00104",
         "rawType": "float64",
         "type": "float"
        },
        {
         "name": "P00103",
         "rawType": "float64",
         "type": "float"
        }
       ],
       "conversionMethod": "pd.DataFrame",
       "ref": "1c8a2893-b962-4797-a475-f57c1b17c7ec",
       "rows": [],
       "shape": {
        "columns": 2,
        "rows": 0
       }
      },
      "text/html": [
       "<div>\n",
       "<style scoped>\n",
       "    .dataframe tbody tr th:only-of-type {\n",
       "        vertical-align: middle;\n",
       "    }\n",
       "\n",
       "    .dataframe tbody tr th {\n",
       "        vertical-align: top;\n",
       "    }\n",
       "\n",
       "    .dataframe thead th {\n",
       "        text-align: right;\n",
       "    }\n",
       "</style>\n",
       "<table border=\"1\" class=\"dataframe\">\n",
       "  <thead>\n",
       "    <tr style=\"text-align: right;\">\n",
       "      <th></th>\n",
       "      <th>P00104</th>\n",
       "      <th>P00103</th>\n",
       "    </tr>\n",
       "  </thead>\n",
       "  <tbody>\n",
       "  </tbody>\n",
       "</table>\n",
       "</div>"
      ],
      "text/plain": [
       "Empty DataFrame\n",
       "Columns: [P00104, P00103]\n",
       "Index: []"
      ]
     },
     "execution_count": 550,
     "metadata": {},
     "output_type": "execute_result"
    }
   ],
   "source": [
    "faltantes_iguais = df[(df['P00104'].isna()) & (df['P00103'].notna())][['P00104', 'P00103']]\n",
    "faltantes_iguais"
   ]
  },
  {
   "cell_type": "code",
   "execution_count": 551,
   "id": "d810f5b5",
   "metadata": {},
   "outputs": [
    {
     "data": {
      "application/vnd.microsoft.datawrangler.viewer.v0+json": {
       "columns": [
        {
         "name": "index",
         "rawType": "int64",
         "type": "integer"
        },
        {
         "name": "P00103",
         "rawType": "float64",
         "type": "float"
        },
        {
         "name": "P00104",
         "rawType": "float64",
         "type": "float"
        }
       ],
       "conversionMethod": "pd.DataFrame",
       "ref": "85c5f2a7-53aa-4c9d-9494-7fa4be5ed721",
       "rows": [
        [
         "416",
         null,
         null
        ],
        [
         "1459",
         null,
         null
        ],
        [
         "1483",
         null,
         null
        ],
        [
         "1523",
         null,
         null
        ],
        [
         "4388",
         null,
         null
        ],
        [
         "4457",
         null,
         null
        ],
        [
         "5426",
         null,
         null
        ],
        [
         "6171",
         null,
         null
        ],
        [
         "6574",
         null,
         null
        ],
        [
         "7588",
         null,
         null
        ],
        [
         "8794",
         null,
         null
        ],
        [
         "8992",
         null,
         null
        ],
        [
         "9588",
         null,
         null
        ],
        [
         "11365",
         null,
         null
        ],
        [
         "11674",
         null,
         null
        ],
        [
         "11932",
         null,
         null
        ],
        [
         "12799",
         null,
         null
        ],
        [
         "13561",
         null,
         null
        ],
        [
         "13756",
         null,
         null
        ],
        [
         "14907",
         null,
         null
        ],
        [
         "15013",
         null,
         null
        ],
        [
         "16604",
         null,
         null
        ],
        [
         "17474",
         null,
         null
        ],
        [
         "19428",
         null,
         null
        ],
        [
         "19481",
         null,
         null
        ],
        [
         "19770",
         null,
         null
        ],
        [
         "19815",
         null,
         null
        ]
       ],
       "shape": {
        "columns": 2,
        "rows": 27
       }
      },
      "text/html": [
       "<div>\n",
       "<style scoped>\n",
       "    .dataframe tbody tr th:only-of-type {\n",
       "        vertical-align: middle;\n",
       "    }\n",
       "\n",
       "    .dataframe tbody tr th {\n",
       "        vertical-align: top;\n",
       "    }\n",
       "\n",
       "    .dataframe thead th {\n",
       "        text-align: right;\n",
       "    }\n",
       "</style>\n",
       "<table border=\"1\" class=\"dataframe\">\n",
       "  <thead>\n",
       "    <tr style=\"text-align: right;\">\n",
       "      <th></th>\n",
       "      <th>P00103</th>\n",
       "      <th>P00104</th>\n",
       "    </tr>\n",
       "  </thead>\n",
       "  <tbody>\n",
       "    <tr>\n",
       "      <th>416</th>\n",
       "      <td>NaN</td>\n",
       "      <td>NaN</td>\n",
       "    </tr>\n",
       "    <tr>\n",
       "      <th>1459</th>\n",
       "      <td>NaN</td>\n",
       "      <td>NaN</td>\n",
       "    </tr>\n",
       "    <tr>\n",
       "      <th>1483</th>\n",
       "      <td>NaN</td>\n",
       "      <td>NaN</td>\n",
       "    </tr>\n",
       "    <tr>\n",
       "      <th>1523</th>\n",
       "      <td>NaN</td>\n",
       "      <td>NaN</td>\n",
       "    </tr>\n",
       "    <tr>\n",
       "      <th>4388</th>\n",
       "      <td>NaN</td>\n",
       "      <td>NaN</td>\n",
       "    </tr>\n",
       "    <tr>\n",
       "      <th>4457</th>\n",
       "      <td>NaN</td>\n",
       "      <td>NaN</td>\n",
       "    </tr>\n",
       "    <tr>\n",
       "      <th>5426</th>\n",
       "      <td>NaN</td>\n",
       "      <td>NaN</td>\n",
       "    </tr>\n",
       "    <tr>\n",
       "      <th>6171</th>\n",
       "      <td>NaN</td>\n",
       "      <td>NaN</td>\n",
       "    </tr>\n",
       "    <tr>\n",
       "      <th>6574</th>\n",
       "      <td>NaN</td>\n",
       "      <td>NaN</td>\n",
       "    </tr>\n",
       "    <tr>\n",
       "      <th>7588</th>\n",
       "      <td>NaN</td>\n",
       "      <td>NaN</td>\n",
       "    </tr>\n",
       "    <tr>\n",
       "      <th>8794</th>\n",
       "      <td>NaN</td>\n",
       "      <td>NaN</td>\n",
       "    </tr>\n",
       "    <tr>\n",
       "      <th>8992</th>\n",
       "      <td>NaN</td>\n",
       "      <td>NaN</td>\n",
       "    </tr>\n",
       "    <tr>\n",
       "      <th>9588</th>\n",
       "      <td>NaN</td>\n",
       "      <td>NaN</td>\n",
       "    </tr>\n",
       "    <tr>\n",
       "      <th>11365</th>\n",
       "      <td>NaN</td>\n",
       "      <td>NaN</td>\n",
       "    </tr>\n",
       "    <tr>\n",
       "      <th>11674</th>\n",
       "      <td>NaN</td>\n",
       "      <td>NaN</td>\n",
       "    </tr>\n",
       "    <tr>\n",
       "      <th>11932</th>\n",
       "      <td>NaN</td>\n",
       "      <td>NaN</td>\n",
       "    </tr>\n",
       "    <tr>\n",
       "      <th>12799</th>\n",
       "      <td>NaN</td>\n",
       "      <td>NaN</td>\n",
       "    </tr>\n",
       "    <tr>\n",
       "      <th>13561</th>\n",
       "      <td>NaN</td>\n",
       "      <td>NaN</td>\n",
       "    </tr>\n",
       "    <tr>\n",
       "      <th>13756</th>\n",
       "      <td>NaN</td>\n",
       "      <td>NaN</td>\n",
       "    </tr>\n",
       "    <tr>\n",
       "      <th>14907</th>\n",
       "      <td>NaN</td>\n",
       "      <td>NaN</td>\n",
       "    </tr>\n",
       "    <tr>\n",
       "      <th>15013</th>\n",
       "      <td>NaN</td>\n",
       "      <td>NaN</td>\n",
       "    </tr>\n",
       "    <tr>\n",
       "      <th>16604</th>\n",
       "      <td>NaN</td>\n",
       "      <td>NaN</td>\n",
       "    </tr>\n",
       "    <tr>\n",
       "      <th>17474</th>\n",
       "      <td>NaN</td>\n",
       "      <td>NaN</td>\n",
       "    </tr>\n",
       "    <tr>\n",
       "      <th>19428</th>\n",
       "      <td>NaN</td>\n",
       "      <td>NaN</td>\n",
       "    </tr>\n",
       "    <tr>\n",
       "      <th>19481</th>\n",
       "      <td>NaN</td>\n",
       "      <td>NaN</td>\n",
       "    </tr>\n",
       "    <tr>\n",
       "      <th>19770</th>\n",
       "      <td>NaN</td>\n",
       "      <td>NaN</td>\n",
       "    </tr>\n",
       "    <tr>\n",
       "      <th>19815</th>\n",
       "      <td>NaN</td>\n",
       "      <td>NaN</td>\n",
       "    </tr>\n",
       "  </tbody>\n",
       "</table>\n",
       "</div>"
      ],
      "text/plain": [
       "       P00103  P00104\n",
       "416       NaN     NaN\n",
       "1459      NaN     NaN\n",
       "1483      NaN     NaN\n",
       "1523      NaN     NaN\n",
       "4388      NaN     NaN\n",
       "4457      NaN     NaN\n",
       "5426      NaN     NaN\n",
       "6171      NaN     NaN\n",
       "6574      NaN     NaN\n",
       "7588      NaN     NaN\n",
       "8794      NaN     NaN\n",
       "8992      NaN     NaN\n",
       "9588      NaN     NaN\n",
       "11365     NaN     NaN\n",
       "11674     NaN     NaN\n",
       "11932     NaN     NaN\n",
       "12799     NaN     NaN\n",
       "13561     NaN     NaN\n",
       "13756     NaN     NaN\n",
       "14907     NaN     NaN\n",
       "15013     NaN     NaN\n",
       "16604     NaN     NaN\n",
       "17474     NaN     NaN\n",
       "19428     NaN     NaN\n",
       "19481     NaN     NaN\n",
       "19770     NaN     NaN\n",
       "19815     NaN     NaN"
      ]
     },
     "execution_count": 551,
     "metadata": {},
     "output_type": "execute_result"
    }
   ],
   "source": [
    "faltantes_p00104 = df[df['P00104'].isna()][['P00103', 'P00104']]\n",
    "faltantes_p00104"
   ]
  },
  {
   "cell_type": "code",
   "execution_count": 552,
   "id": "e6b3dd65",
   "metadata": {},
   "outputs": [
    {
     "data": {
      "application/vnd.microsoft.datawrangler.viewer.v0+json": {
       "columns": [
        {
         "name": "index",
         "rawType": "int64",
         "type": "integer"
        },
        {
         "name": "P00404",
         "rawType": "float64",
         "type": "float"
        },
        {
         "name": "P00403",
         "rawType": "float64",
         "type": "float"
        }
       ],
       "conversionMethod": "pd.DataFrame",
       "ref": "39528671-4aa4-439b-b98b-ff3884efdfb7",
       "rows": [],
       "shape": {
        "columns": 2,
        "rows": 0
       }
      },
      "text/html": [
       "<div>\n",
       "<style scoped>\n",
       "    .dataframe tbody tr th:only-of-type {\n",
       "        vertical-align: middle;\n",
       "    }\n",
       "\n",
       "    .dataframe tbody tr th {\n",
       "        vertical-align: top;\n",
       "    }\n",
       "\n",
       "    .dataframe thead th {\n",
       "        text-align: right;\n",
       "    }\n",
       "</style>\n",
       "<table border=\"1\" class=\"dataframe\">\n",
       "  <thead>\n",
       "    <tr style=\"text-align: right;\">\n",
       "      <th></th>\n",
       "      <th>P00404</th>\n",
       "      <th>P00403</th>\n",
       "    </tr>\n",
       "  </thead>\n",
       "  <tbody>\n",
       "  </tbody>\n",
       "</table>\n",
       "</div>"
      ],
      "text/plain": [
       "Empty DataFrame\n",
       "Columns: [P00404, P00403]\n",
       "Index: []"
      ]
     },
     "execution_count": 552,
     "metadata": {},
     "output_type": "execute_result"
    }
   ],
   "source": [
    "faltantes_iguais = df[(df['P00404'].isna()) & (df['P00403'].notna())][['P00404', 'P00403']]\n",
    "faltantes_iguais"
   ]
  },
  {
   "cell_type": "code",
   "execution_count": 553,
   "id": "9d394f79",
   "metadata": {},
   "outputs": [
    {
     "data": {
      "application/vnd.microsoft.datawrangler.viewer.v0+json": {
       "columns": [
        {
         "name": "index",
         "rawType": "int64",
         "type": "integer"
        },
        {
         "name": "P00403",
         "rawType": "float64",
         "type": "float"
        },
        {
         "name": "P00404",
         "rawType": "float64",
         "type": "float"
        }
       ],
       "conversionMethod": "pd.DataFrame",
       "ref": "217ea49d-a83d-4ae8-9a07-60bcd5cedefd",
       "rows": [
        [
         "416",
         null,
         null
        ],
        [
         "1459",
         null,
         null
        ],
        [
         "1483",
         null,
         null
        ],
        [
         "1523",
         null,
         null
        ],
        [
         "4388",
         null,
         null
        ],
        [
         "4457",
         null,
         null
        ],
        [
         "5426",
         null,
         null
        ],
        [
         "6171",
         null,
         null
        ],
        [
         "6574",
         null,
         null
        ],
        [
         "7588",
         null,
         null
        ],
        [
         "8794",
         null,
         null
        ],
        [
         "8992",
         null,
         null
        ],
        [
         "9588",
         null,
         null
        ],
        [
         "11365",
         null,
         null
        ],
        [
         "11674",
         null,
         null
        ],
        [
         "11932",
         null,
         null
        ],
        [
         "12799",
         null,
         null
        ],
        [
         "13561",
         null,
         null
        ],
        [
         "13756",
         null,
         null
        ],
        [
         "14907",
         null,
         null
        ],
        [
         "15013",
         null,
         null
        ],
        [
         "16604",
         null,
         null
        ],
        [
         "17474",
         null,
         null
        ],
        [
         "19428",
         null,
         null
        ],
        [
         "19481",
         null,
         null
        ],
        [
         "19770",
         null,
         null
        ],
        [
         "19815",
         null,
         null
        ]
       ],
       "shape": {
        "columns": 2,
        "rows": 27
       }
      },
      "text/html": [
       "<div>\n",
       "<style scoped>\n",
       "    .dataframe tbody tr th:only-of-type {\n",
       "        vertical-align: middle;\n",
       "    }\n",
       "\n",
       "    .dataframe tbody tr th {\n",
       "        vertical-align: top;\n",
       "    }\n",
       "\n",
       "    .dataframe thead th {\n",
       "        text-align: right;\n",
       "    }\n",
       "</style>\n",
       "<table border=\"1\" class=\"dataframe\">\n",
       "  <thead>\n",
       "    <tr style=\"text-align: right;\">\n",
       "      <th></th>\n",
       "      <th>P00403</th>\n",
       "      <th>P00404</th>\n",
       "    </tr>\n",
       "  </thead>\n",
       "  <tbody>\n",
       "    <tr>\n",
       "      <th>416</th>\n",
       "      <td>NaN</td>\n",
       "      <td>NaN</td>\n",
       "    </tr>\n",
       "    <tr>\n",
       "      <th>1459</th>\n",
       "      <td>NaN</td>\n",
       "      <td>NaN</td>\n",
       "    </tr>\n",
       "    <tr>\n",
       "      <th>1483</th>\n",
       "      <td>NaN</td>\n",
       "      <td>NaN</td>\n",
       "    </tr>\n",
       "    <tr>\n",
       "      <th>1523</th>\n",
       "      <td>NaN</td>\n",
       "      <td>NaN</td>\n",
       "    </tr>\n",
       "    <tr>\n",
       "      <th>4388</th>\n",
       "      <td>NaN</td>\n",
       "      <td>NaN</td>\n",
       "    </tr>\n",
       "    <tr>\n",
       "      <th>4457</th>\n",
       "      <td>NaN</td>\n",
       "      <td>NaN</td>\n",
       "    </tr>\n",
       "    <tr>\n",
       "      <th>5426</th>\n",
       "      <td>NaN</td>\n",
       "      <td>NaN</td>\n",
       "    </tr>\n",
       "    <tr>\n",
       "      <th>6171</th>\n",
       "      <td>NaN</td>\n",
       "      <td>NaN</td>\n",
       "    </tr>\n",
       "    <tr>\n",
       "      <th>6574</th>\n",
       "      <td>NaN</td>\n",
       "      <td>NaN</td>\n",
       "    </tr>\n",
       "    <tr>\n",
       "      <th>7588</th>\n",
       "      <td>NaN</td>\n",
       "      <td>NaN</td>\n",
       "    </tr>\n",
       "    <tr>\n",
       "      <th>8794</th>\n",
       "      <td>NaN</td>\n",
       "      <td>NaN</td>\n",
       "    </tr>\n",
       "    <tr>\n",
       "      <th>8992</th>\n",
       "      <td>NaN</td>\n",
       "      <td>NaN</td>\n",
       "    </tr>\n",
       "    <tr>\n",
       "      <th>9588</th>\n",
       "      <td>NaN</td>\n",
       "      <td>NaN</td>\n",
       "    </tr>\n",
       "    <tr>\n",
       "      <th>11365</th>\n",
       "      <td>NaN</td>\n",
       "      <td>NaN</td>\n",
       "    </tr>\n",
       "    <tr>\n",
       "      <th>11674</th>\n",
       "      <td>NaN</td>\n",
       "      <td>NaN</td>\n",
       "    </tr>\n",
       "    <tr>\n",
       "      <th>11932</th>\n",
       "      <td>NaN</td>\n",
       "      <td>NaN</td>\n",
       "    </tr>\n",
       "    <tr>\n",
       "      <th>12799</th>\n",
       "      <td>NaN</td>\n",
       "      <td>NaN</td>\n",
       "    </tr>\n",
       "    <tr>\n",
       "      <th>13561</th>\n",
       "      <td>NaN</td>\n",
       "      <td>NaN</td>\n",
       "    </tr>\n",
       "    <tr>\n",
       "      <th>13756</th>\n",
       "      <td>NaN</td>\n",
       "      <td>NaN</td>\n",
       "    </tr>\n",
       "    <tr>\n",
       "      <th>14907</th>\n",
       "      <td>NaN</td>\n",
       "      <td>NaN</td>\n",
       "    </tr>\n",
       "    <tr>\n",
       "      <th>15013</th>\n",
       "      <td>NaN</td>\n",
       "      <td>NaN</td>\n",
       "    </tr>\n",
       "    <tr>\n",
       "      <th>16604</th>\n",
       "      <td>NaN</td>\n",
       "      <td>NaN</td>\n",
       "    </tr>\n",
       "    <tr>\n",
       "      <th>17474</th>\n",
       "      <td>NaN</td>\n",
       "      <td>NaN</td>\n",
       "    </tr>\n",
       "    <tr>\n",
       "      <th>19428</th>\n",
       "      <td>NaN</td>\n",
       "      <td>NaN</td>\n",
       "    </tr>\n",
       "    <tr>\n",
       "      <th>19481</th>\n",
       "      <td>NaN</td>\n",
       "      <td>NaN</td>\n",
       "    </tr>\n",
       "    <tr>\n",
       "      <th>19770</th>\n",
       "      <td>NaN</td>\n",
       "      <td>NaN</td>\n",
       "    </tr>\n",
       "    <tr>\n",
       "      <th>19815</th>\n",
       "      <td>NaN</td>\n",
       "      <td>NaN</td>\n",
       "    </tr>\n",
       "  </tbody>\n",
       "</table>\n",
       "</div>"
      ],
      "text/plain": [
       "       P00403  P00404\n",
       "416       NaN     NaN\n",
       "1459      NaN     NaN\n",
       "1483      NaN     NaN\n",
       "1523      NaN     NaN\n",
       "4388      NaN     NaN\n",
       "4457      NaN     NaN\n",
       "5426      NaN     NaN\n",
       "6171      NaN     NaN\n",
       "6574      NaN     NaN\n",
       "7588      NaN     NaN\n",
       "8794      NaN     NaN\n",
       "8992      NaN     NaN\n",
       "9588      NaN     NaN\n",
       "11365     NaN     NaN\n",
       "11674     NaN     NaN\n",
       "11932     NaN     NaN\n",
       "12799     NaN     NaN\n",
       "13561     NaN     NaN\n",
       "13756     NaN     NaN\n",
       "14907     NaN     NaN\n",
       "15013     NaN     NaN\n",
       "16604     NaN     NaN\n",
       "17474     NaN     NaN\n",
       "19428     NaN     NaN\n",
       "19481     NaN     NaN\n",
       "19770     NaN     NaN\n",
       "19815     NaN     NaN"
      ]
     },
     "execution_count": 553,
     "metadata": {},
     "output_type": "execute_result"
    }
   ],
   "source": [
    "faltantes_p00404 = df[df['P00404'].isna()][['P00403', 'P00404']]\n",
    "faltantes_p00404"
   ]
  },
  {
   "cell_type": "code",
   "execution_count": 554,
   "id": "06bf0f0d",
   "metadata": {},
   "outputs": [
    {
     "data": {
      "text/plain": [
       "True"
      ]
     },
     "execution_count": 554,
     "metadata": {},
     "output_type": "execute_result"
    }
   ],
   "source": [
    "faltantes = df['P00104'].isna().equals(df['P00404'].isna())\n",
    "faltantes"
   ]
  },
  {
   "cell_type": "code",
   "execution_count": 555,
   "id": "39c99656",
   "metadata": {},
   "outputs": [],
   "source": [
    "df = df.dropna(subset=['P00104', 'P00404'])"
   ]
  },
  {
   "cell_type": "code",
   "execution_count": 556,
   "id": "980fd2e0",
   "metadata": {},
   "outputs": [
    {
     "name": "stdout",
     "output_type": "stream",
     "text": [
      "0\n",
      "0\n"
     ]
    }
   ],
   "source": [
    "print(df['P00104'].isna().sum())\n",
    "print(df['P00404'].isna().sum())"
   ]
  },
  {
   "cell_type": "code",
   "execution_count": 557,
   "id": "051988f6",
   "metadata": {},
   "outputs": [],
   "source": [
    "df = df.drop(columns=['P00103', 'P00403'])"
   ]
  },
  {
   "cell_type": "code",
   "execution_count": 558,
   "id": "c91cf720",
   "metadata": {},
   "outputs": [
    {
     "name": "stdout",
     "output_type": "stream",
     "text": [
      "Faixa_imc\n",
      "Sobrepeso             8016\n",
      "Peso normal           7532\n",
      "Obesidade Grau I      3463\n",
      "Obesidade Grau II      904\n",
      "Abaixo do peso         325\n",
      "Obesidade Grau III     259\n",
      "Name: count, dtype: int64\n",
      "Valores faltantes: 0\n"
     ]
    }
   ],
   "source": [
    "# Calculando o IMC (peso / altura²) e convertendo altura de cm para metros\n",
    "df['imc'] = df['P00104'] / ((df['P00404'] / 100) ** 2)\n",
    "\n",
    "# Classificando em faixas\n",
    "conditions = [\n",
    "    (df['imc'] < 18.5),\n",
    "    ((df['imc'] >= 18.5) & (df['imc'] < 25)),\n",
    "    ((df['imc'] >= 25) & (df['imc'] < 30)),\n",
    "    ((df['imc'] >= 30) & (df['imc'] < 35)),\n",
    "    ((df['imc'] >= 35) & (df['imc'] < 40)),\n",
    "    (df['imc'] >= 40)\n",
    "]\n",
    "\n",
    "labels = [\n",
    "    'Abaixo do peso',\n",
    "    'Peso normal',\n",
    "    'Sobrepeso',\n",
    "    'Obesidade Grau I',\n",
    "    'Obesidade Grau II',\n",
    "    'Obesidade Grau III'\n",
    "]\n",
    "\n",
    "df['Faixa_imc'] = np.select(conditions, labels, default='Dados inválidos')\n",
    "\n",
    "print(df['Faixa_imc'].value_counts(dropna=False))\n",
    "print(\"Valores faltantes:\", df['Faixa_imc'].isna().sum())"
   ]
  },
  {
   "cell_type": "markdown",
   "id": "e9bdf93f",
   "metadata": {},
   "source": [
    "Juntando obesidade pelo alto desbalanceamento entre categorias"
   ]
  },
  {
   "cell_type": "code",
   "execution_count": 559,
   "id": "46a06966",
   "metadata": {},
   "outputs": [
    {
     "name": "stderr",
     "output_type": "stream",
     "text": [
      "C:\\Users\\bkser\\AppData\\Local\\Temp\\ipykernel_38812\\3047123350.py:12: FutureWarning: Downcasting behavior in `replace` is deprecated and will be removed in a future version. To retain the old behavior, explicitly call `result.infer_objects(copy=False)`. To opt-in to the future behavior, set `pd.set_option('future.no_silent_downcasting', True)`\n",
      "  df[\"Faixa_imc\"] = df[\"Faixa_imc\"].replace(mapeamento).astype(int)\n"
     ]
    },
    {
     "data": {
      "application/vnd.microsoft.datawrangler.viewer.v0+json": {
       "columns": [
        {
         "name": "index",
         "rawType": "int64",
         "type": "integer"
        },
        {
         "name": "Faixa_imc",
         "rawType": "int64",
         "type": "integer"
        }
       ],
       "conversionMethod": "pd.DataFrame",
       "ref": "01943dcc-551d-4785-b47c-1e3cb1c1ee26",
       "rows": [
        [
         "0",
         "3"
        ],
        [
         "1",
         "3"
        ],
        [
         "2",
         "2"
        ],
        [
         "3",
         "2"
        ],
        [
         "4",
         "3"
        ],
        [
         "5",
         "2"
        ],
        [
         "6",
         "1"
        ],
        [
         "7",
         "1"
        ],
        [
         "8",
         "1"
        ],
        [
         "9",
         "1"
        ],
        [
         "10",
         "3"
        ],
        [
         "11",
         "2"
        ],
        [
         "12",
         "1"
        ],
        [
         "13",
         "1"
        ],
        [
         "14",
         "2"
        ],
        [
         "15",
         "2"
        ],
        [
         "16",
         "1"
        ],
        [
         "17",
         "2"
        ],
        [
         "18",
         "2"
        ],
        [
         "19",
         "1"
        ],
        [
         "20",
         "1"
        ],
        [
         "21",
         "1"
        ],
        [
         "22",
         "1"
        ],
        [
         "23",
         "3"
        ],
        [
         "24",
         "1"
        ],
        [
         "25",
         "2"
        ],
        [
         "26",
         "1"
        ],
        [
         "27",
         "1"
        ],
        [
         "28",
         "1"
        ],
        [
         "29",
         "2"
        ],
        [
         "30",
         "2"
        ],
        [
         "31",
         "1"
        ],
        [
         "32",
         "1"
        ],
        [
         "33",
         "2"
        ],
        [
         "34",
         "2"
        ],
        [
         "35",
         "2"
        ],
        [
         "36",
         "3"
        ],
        [
         "37",
         "2"
        ],
        [
         "38",
         "3"
        ],
        [
         "39",
         "3"
        ],
        [
         "40",
         "2"
        ],
        [
         "41",
         "2"
        ],
        [
         "42",
         "3"
        ],
        [
         "43",
         "1"
        ],
        [
         "44",
         "2"
        ],
        [
         "45",
         "1"
        ],
        [
         "46",
         "1"
        ],
        [
         "47",
         "3"
        ],
        [
         "48",
         "2"
        ],
        [
         "49",
         "2"
        ]
       ],
       "shape": {
        "columns": 1,
        "rows": 20499
       }
      },
      "text/html": [
       "<div>\n",
       "<style scoped>\n",
       "    .dataframe tbody tr th:only-of-type {\n",
       "        vertical-align: middle;\n",
       "    }\n",
       "\n",
       "    .dataframe tbody tr th {\n",
       "        vertical-align: top;\n",
       "    }\n",
       "\n",
       "    .dataframe thead th {\n",
       "        text-align: right;\n",
       "    }\n",
       "</style>\n",
       "<table border=\"1\" class=\"dataframe\">\n",
       "  <thead>\n",
       "    <tr style=\"text-align: right;\">\n",
       "      <th></th>\n",
       "      <th>Faixa_imc</th>\n",
       "    </tr>\n",
       "  </thead>\n",
       "  <tbody>\n",
       "    <tr>\n",
       "      <th>0</th>\n",
       "      <td>3</td>\n",
       "    </tr>\n",
       "    <tr>\n",
       "      <th>1</th>\n",
       "      <td>3</td>\n",
       "    </tr>\n",
       "    <tr>\n",
       "      <th>2</th>\n",
       "      <td>2</td>\n",
       "    </tr>\n",
       "    <tr>\n",
       "      <th>3</th>\n",
       "      <td>2</td>\n",
       "    </tr>\n",
       "    <tr>\n",
       "      <th>4</th>\n",
       "      <td>3</td>\n",
       "    </tr>\n",
       "    <tr>\n",
       "      <th>...</th>\n",
       "      <td>...</td>\n",
       "    </tr>\n",
       "    <tr>\n",
       "      <th>20523</th>\n",
       "      <td>1</td>\n",
       "    </tr>\n",
       "    <tr>\n",
       "      <th>20524</th>\n",
       "      <td>1</td>\n",
       "    </tr>\n",
       "    <tr>\n",
       "      <th>20525</th>\n",
       "      <td>1</td>\n",
       "    </tr>\n",
       "    <tr>\n",
       "      <th>20526</th>\n",
       "      <td>2</td>\n",
       "    </tr>\n",
       "    <tr>\n",
       "      <th>20527</th>\n",
       "      <td>3</td>\n",
       "    </tr>\n",
       "  </tbody>\n",
       "</table>\n",
       "<p>20499 rows × 1 columns</p>\n",
       "</div>"
      ],
      "text/plain": [
       "       Faixa_imc\n",
       "0              3\n",
       "1              3\n",
       "2              2\n",
       "3              2\n",
       "4              3\n",
       "...          ...\n",
       "20523          1\n",
       "20524          1\n",
       "20525          1\n",
       "20526          2\n",
       "20527          3\n",
       "\n",
       "[20499 rows x 1 columns]"
      ]
     },
     "execution_count": 559,
     "metadata": {},
     "output_type": "execute_result"
    }
   ],
   "source": [
    "# Mapeamento explícito\n",
    "mapeamento = {\n",
    "    \"Abaixo do peso\": 0,\n",
    "    \"Peso normal\": 1,\n",
    "    \"Sobrepeso\": 2,\n",
    "    \"Obesidade Grau I\": 3,\n",
    "    \"Obesidade Grau II\": 3,\n",
    "    \"Obesidade Grau III\": 3\n",
    "}\n",
    "\n",
    "# Aplicando o mapeamento\n",
    "df[\"Faixa_imc\"] = df[\"Faixa_imc\"].replace(mapeamento).astype(int)\n",
    "\n",
    "# Visualizando resultado\n",
    "df[[\"Faixa_imc\"]]"
   ]
  },
  {
   "cell_type": "code",
   "execution_count": 560,
   "id": "9e95cac7",
   "metadata": {},
   "outputs": [],
   "source": [
    "df = df.drop(columns=['imc']) "
   ]
  },
  {
   "cell_type": "markdown",
   "id": "7e550da0",
   "metadata": {},
   "source": [
    "### Lalala"
   ]
  },
  {
   "cell_type": "code",
   "execution_count": 561,
   "id": "11e964e1",
   "metadata": {},
   "outputs": [
    {
     "name": "stdout",
     "output_type": "stream",
     "text": [
      "M00203 faltantes: 2\n",
      "M00203\n",
      "1.0    20305\n",
      "2.0      189\n",
      "9.0        3\n",
      "NaN        2\n",
      "Name: count, dtype: int64\n"
     ]
    }
   ],
   "source": [
    "print(\"M00203 faltantes:\", df['M00203'].isna().sum())\n",
    "print(df['M00203'].value_counts(dropna=False)) #ver isso aqui (incompleto)"
   ]
  },
  {
   "cell_type": "code",
   "execution_count": 562,
   "id": "184e1af6",
   "metadata": {},
   "outputs": [],
   "source": [
    "df = df[~(df['M00203'].isna() | (df['M00203'] == 9))]"
   ]
  },
  {
   "cell_type": "code",
   "execution_count": 563,
   "id": "2744d3ef",
   "metadata": {},
   "outputs": [
    {
     "name": "stdout",
     "output_type": "stream",
     "text": [
      "M00203\n",
      "1.0    20305\n",
      "2.0      189\n",
      "Name: count, dtype: int64\n"
     ]
    }
   ],
   "source": [
    "print(df['M00203'].value_counts(dropna=False))"
   ]
  },
  {
   "cell_type": "code",
   "execution_count": 564,
   "id": "5ec84134",
   "metadata": {},
   "outputs": [],
   "source": [
    "df = df.drop(columns=['R034','C00301']) #incompleto (R034)"
   ]
  },
  {
   "cell_type": "code",
   "execution_count": 565,
   "id": "76d111e7",
   "metadata": {},
   "outputs": [],
   "source": [
    "df.to_csv('../Bases/Criados/4_base_preenchida.csv', index=False)"
   ]
  },
  {
   "cell_type": "code",
   "execution_count": 566,
   "id": "342b24d8",
   "metadata": {},
   "outputs": [
    {
     "data": {
      "text/plain": [
       "Index([], dtype='object')"
      ]
     },
     "execution_count": 566,
     "metadata": {},
     "output_type": "execute_result"
    }
   ],
   "source": [
    "df.columns[df.isnull().any()]"
   ]
  },
  {
   "cell_type": "code",
   "execution_count": 567,
   "id": "5343a183",
   "metadata": {},
   "outputs": [
    {
     "data": {
      "text/plain": [
       "np.int64(0)"
      ]
     },
     "execution_count": 567,
     "metadata": {},
     "output_type": "execute_result"
    }
   ],
   "source": [
    "(df.isnull().sum() > 0).sum()"
   ]
  }
 ],
 "metadata": {
  "kernelspec": {
   "display_name": "Python 3",
   "language": "python",
   "name": "python3"
  },
  "language_info": {
   "codemirror_mode": {
    "name": "ipython",
    "version": 3
   },
   "file_extension": ".py",
   "mimetype": "text/x-python",
   "name": "python",
   "nbconvert_exporter": "python",
   "pygments_lexer": "ipython3",
   "version": "3.13.2"
  }
 },
 "nbformat": 4,
 "nbformat_minor": 5
}
