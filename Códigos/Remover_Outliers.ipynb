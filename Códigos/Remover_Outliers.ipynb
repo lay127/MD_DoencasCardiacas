{
 "cells": [
  {
   "cell_type": "code",
   "execution_count": 17,
   "id": "3d4bcdc6",
   "metadata": {},
   "outputs": [
    {
     "name": "stdout",
     "output_type": "stream",
     "text": [
      "CSV sem outliers criado com sucesso!\n"
     ]
    }
   ],
   "source": [
    "import pandas as pd\n",
    "\n",
    "# 1. Lê a base de dados\n",
    "df = pd.read_csv('../Bases/Criados/base_doencas_cardiacas.csv')\n",
    "\n",
    "# 2. Remove outliers com base no IQR\n",
    "def remove_outliers_iqr(df):\n",
    "    df_sem_outliers = df.copy()\n",
    "    colunas_numericas = df.select_dtypes(include=['number']).columns\n",
    "\n",
    "    for col in colunas_numericas:\n",
    "        Q1 = df[col].quantile(0.25)\n",
    "        Q3 = df[col].quantile(0.75)\n",
    "        IQR = Q3 - Q1\n",
    "        limite_inferior = Q1 - 1.5 * IQR\n",
    "        limite_superior = Q3 + 1.5 * IQR\n",
    "        df_sem_outliers = df_sem_outliers[(df_sem_outliers[col] >= limite_inferior) & (df_sem_outliers[col] <= limite_superior)]\n",
    "\n",
    "    return df_sem_outliers\n",
    "\n",
    "# 3. Aplica a função\n",
    "df_limpo = remove_outliers_iqr(df)\n",
    "\n",
    "# 4. Salva em um novo CSV\n",
    "df_limpo.to_csv('base_sem_outliers.csv', index=False)\n",
    "\n",
    "print(\"CSV sem outliers criado com sucesso!\")\n"
   ]
  }
 ],
 "metadata": {
  "kernelspec": {
   "display_name": "Python 3",
   "language": "python",
   "name": "python3"
  },
  "language_info": {
   "codemirror_mode": {
    "name": "ipython",
    "version": 3
   },
   "file_extension": ".py",
   "mimetype": "text/x-python",
   "name": "python",
   "nbconvert_exporter": "python",
   "pygments_lexer": "ipython3",
   "version": "3.13.2"
  }
 },
 "nbformat": 4,
 "nbformat_minor": 5
}
