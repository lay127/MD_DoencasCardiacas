{
 "cells": [
  {
   "cell_type": "code",
   "execution_count": 103,
   "id": "5b0ed06f",
   "metadata": {},
   "outputs": [],
   "source": [
    "import pandas as pd\n",
    "import numpy as np"
   ]
  },
  {
   "cell_type": "code",
   "execution_count": 104,
   "id": "44e83fa0",
   "metadata": {},
   "outputs": [],
   "source": [
    "df = pd.read_csv('..\\\\Bases\\\\Criados\\\\base_doencas_cardiacas.csv')"
   ]
  },
  {
   "cell_type": "code",
   "execution_count": 105,
   "id": "41add216",
   "metadata": {},
   "outputs": [
    {
     "data": {
      "text/plain": [
       "Index(['D00901', 'D014', 'E006011', 'E008', 'E01602', 'E017', 'E01802', 'E019',\n",
       "       'F001021', 'F007021', 'F008021', 'VDF00102', 'G060', 'G062', 'I006',\n",
       "       'I004', 'I00401', 'I00402', 'I00403', 'J00402', 'J00404', 'J00801',\n",
       "       'M00203', 'M011011', 'M011021', 'M011051', 'M011071', 'N004', 'N005',\n",
       "       'N008', 'P00104', 'P00404', 'P02801', 'P029', 'P035', 'P03701',\n",
       "       'P03702', 'P051', 'P052', 'P053', 'P05401', 'P05404', 'P05407',\n",
       "       'P05410', 'P05413', 'P05416', 'P05419', 'Q00201', 'Q03001', 'Q060',\n",
       "       'Q064', 'Q06506', 'Q06507', 'Q06508', 'Q06509', 'Q06601', 'Q067',\n",
       "       'H003', 'H004', 'H010', 'D00301', 'D008', 'E002', 'E003', 'E004',\n",
       "       'E005', 'E011', 'E014011', 'E01601', 'E01603', 'E01605', 'E01801',\n",
       "       'I00103', 'I001031', 'P00103', 'P00403', 'P05901', 'P05902', 'P05903',\n",
       "       'P05904', 'Q06307', 'Q06308', 'Q06309', 'Q06310', 'Q06311', 'H002'],\n",
       "      dtype='object')"
      ]
     },
     "execution_count": 105,
     "metadata": {},
     "output_type": "execute_result"
    }
   ],
   "source": [
    "df.columns[df.isnull().any()]"
   ]
  },
  {
   "cell_type": "code",
   "execution_count": 106,
   "id": "243355c9",
   "metadata": {},
   "outputs": [
    {
     "data": {
      "text/plain": [
       "np.int64(86)"
      ]
     },
     "execution_count": 106,
     "metadata": {},
     "output_type": "execute_result"
    }
   ],
   "source": [
    "(df.isnull().sum() > 0).sum()"
   ]
  },
  {
   "cell_type": "markdown",
   "id": "ce3cc021",
   "metadata": {},
   "source": [
    "### Escolaridade"
   ]
  },
  {
   "cell_type": "markdown",
   "id": "3d52a8dc",
   "metadata": {},
   "source": [
    "Atributos utilizados:\n",
    "1. D00201: se frequenta escola atualmente\n",
    "2. D00301: qual curso frequenta\n",
    "3. D008: se já frequentou escola ou creche\n",
    "4. D00901: Qual foi o curso mais elevado que frequentou?\n",
    "5. D014: se concluiu esse curso"
   ]
  },
  {
   "cell_type": "code",
   "execution_count": 107,
   "id": "996f9ae3",
   "metadata": {},
   "outputs": [
    {
     "name": "stdout",
     "output_type": "stream",
     "text": [
      "Situacao_escolar\n",
      "Frequentou        20923\n",
      "Não frequentou     2741\n",
      "Frequenta           687\n",
      "Name: count, dtype: int64\n",
      "Valores faltantes: 0\n"
     ]
    }
   ],
   "source": [
    "def categorizar_escolaridade(row):\n",
    "    if row['D00201'] == 1:\n",
    "        return 'Frequenta'\n",
    "    elif row['D00201'] == 2:\n",
    "        if row['D008'] == 1:\n",
    "            return 'Frequentou'\n",
    "        elif row['D008'] == 2:\n",
    "            return 'Não frequentou'\n",
    "    return pd.NA  # Caso não se encaixe em nenhuma condição\n",
    "\n",
    "df['Situacao_escolar'] = df.apply(categorizar_escolaridade, axis=1)\n",
    "\n",
    "print(df['Situacao_escolar'].value_counts(dropna=False))\n",
    "print(f\"Valores faltantes:\",df['Situacao_escolar'].isna().sum())\n"
   ]
  },
  {
   "cell_type": "code",
   "execution_count": 108,
   "id": "07f0128c",
   "metadata": {},
   "outputs": [
    {
     "data": {
      "text/plain": [
       "D00301\n",
       "8.0     214\n",
       "4.0     115\n",
       "9.0     114\n",
       "5.0      96\n",
       "3.0      54\n",
       "6.0      44\n",
       "7.0      22\n",
       "10.0     19\n",
       "11.0      9\n",
       "Name: count, dtype: int64"
      ]
     },
     "execution_count": 108,
     "metadata": {},
     "output_type": "execute_result"
    }
   ],
   "source": [
    "df['D00301'].value_counts()"
   ]
  },
  {
   "cell_type": "code",
   "execution_count": 109,
   "id": "f6b8b4c6",
   "metadata": {},
   "outputs": [
    {
     "name": "stdout",
     "output_type": "stream",
     "text": [
      "Escolaridade\n",
      "1    9443\n",
      "3    5266\n",
      "2    4133\n",
      "0    2741\n",
      "4    1828\n",
      "5     940\n",
      "Name: count, dtype: int64\n"
     ]
    }
   ],
   "source": [
    "def map_escolaridade(row): \n",
    "    situacao = row['Situacao_escolar']\n",
    "    curso = row['D00901']\n",
    "    concluiu = row['D014']\n",
    "    curso_atual = row['D00301']\n",
    "\n",
    "    # Se nunca frequentou escola, categoria = 0\n",
    "    if situacao == 'Não frequentou':\n",
    "        return 0\n",
    "\n",
    "    # Usa D00901 (curso mais elevado) prioritariamente\n",
    "    if curso in [1, 2]:  # Creche, Pré-escola\n",
    "        categoria = 1\n",
    "    elif curso in [3, 4, 5, 6, 7, 8]:  # Alfabetização, primário, EJA fundamental etc.\n",
    "        categoria = 2\n",
    "    elif curso in [9, 10, 11]:  # Ensino médio, EJA médio\n",
    "        categoria = 3\n",
    "    elif curso == 12:  # Superior\n",
    "        categoria = 4\n",
    "    elif curso in [13, 14, 15]:  # Pós-graduação\n",
    "        categoria = 5\n",
    "    # Se curso é inválido ou ausente, tenta usar curso_atual (D00301)\n",
    "    elif curso_atual in [3, 4, 5]:\n",
    "        categoria = 1  # Educação infantil\n",
    "    elif curso_atual in [6, 7]:\n",
    "        categoria = 2  # Fundamental\n",
    "    elif curso_atual in [8, 9]:\n",
    "        categoria = 3  # Médio\n",
    "    elif curso_atual in [10, 11]:\n",
    "        categoria = 4  # Superior\n",
    "    else:\n",
    "        return np.nan\n",
    "\n",
    "    # Rebaixar se não concluiu (exceto se usou curso_atual)\n",
    "    if concluiu == 2 and curso in range(1, 16):\n",
    "        categoria -= 1\n",
    "        if categoria < 0:\n",
    "            categoria = 0\n",
    "\n",
    "    return categoria\n",
    "\n",
    "\n",
    "\n",
    "df['Escolaridade'] = df.apply(map_escolaridade, axis=1)\n",
    "\n",
    "print(df['Escolaridade'].value_counts(dropna=False))\n",
    "\n",
    "# 0: Nunca frequentou escola\n",
    "# 1: Educação infantil\n",
    "# 2: Ensino fundamental\n",
    "# 3: Ensino médio\n",
    "# 4: Ensino superior\n",
    "# 5: Pós-graduação"
   ]
  },
  {
   "cell_type": "code",
   "execution_count": 110,
   "id": "69ae81c0",
   "metadata": {},
   "outputs": [],
   "source": [
    "df.drop(columns=['D00201', 'D00301', 'D008', 'D00901', 'D014', 'Situacao_escolar'], inplace=True)"
   ]
  },
  {
   "cell_type": "markdown",
   "id": "a1892c33",
   "metadata": {},
   "source": [
    "### Renda"
   ]
  },
  {
   "cell_type": "markdown",
   "id": "365b8c5c",
   "metadata": {},
   "source": [
    "1. E014011: se era trabalhador não remunerado ajudando parente/domicílio\n",
    "2. E01601: se recebia dinheiro no trabalho principal\n",
    "3. E01602: valor da renda do trabalho principal\n",
    "4. E01801: se recebia dinheiro em outro(s) trabalho(s)\n",
    "5. E01802: valor da renda dos outros trabalhos"
   ]
  },
  {
   "cell_type": "markdown",
   "id": "7a868e30",
   "metadata": {},
   "source": [
    "Regras:\n",
    "\n",
    "1. Se E01601 != 1 ou E01801 != 1, a renda respectiva é 0;\n",
    "2. Se a pessoa é não remunerada (E014011 = 1, 2, 3), renda é 0;\n",
    "3. Se E01602 ou E01802 estiverem NaN, mas a pessoa disse que recebia (E01601 ou E01801 = 1), considerar como NaN final.\n",
    "4. Renda total é a soma de E01602 e E01802."
   ]
  },
  {
   "cell_type": "code",
   "execution_count": 111,
   "id": "bb60e963",
   "metadata": {},
   "outputs": [
    {
     "name": "stdout",
     "output_type": "stream",
     "text": [
      "Valores faltantes: 0\n"
     ]
    }
   ],
   "source": [
    "def calcular_renda(row):\n",
    "    # Regra 2: trabalhador não remunerado (1, 2 ou 3)\n",
    "    if row['E014011'] in [1, 2, 3]:\n",
    "        return 0.0\n",
    "\n",
    "    # Regra 1 + 3: verificar se recebia dinheiro\n",
    "    if row['E01601'] == 1:\n",
    "        renda1 = row['E01602'] if pd.notna(row['E01602']) else np.nan\n",
    "    else:\n",
    "        renda1 = 0.0\n",
    "\n",
    "    if row['E01801'] == 1:\n",
    "        renda2 = row['E01802'] if pd.notna(row['E01802']) else np.nan\n",
    "    else:\n",
    "        renda2 = 0.0\n",
    "\n",
    "    # Regra 4: soma ajustada\n",
    "    if pd.isna(renda1) or pd.isna(renda2):\n",
    "        if pd.notna(renda1) and pd.isna(renda2):\n",
    "            return renda1\n",
    "        elif pd.notna(renda2) and pd.isna(renda1):\n",
    "            return renda2\n",
    "        else:\n",
    "            return np.nan\n",
    "\n",
    "    return renda1 + renda2\n",
    "\n",
    "df['Renda'] = df.apply(calcular_renda, axis=1)\n",
    "print(f\"Valores faltantes:\",df['Renda'].isna().sum())"
   ]
  },
  {
   "cell_type": "code",
   "execution_count": 112,
   "id": "3b189ab1",
   "metadata": {},
   "outputs": [
    {
     "name": "stdout",
     "output_type": "stream",
     "text": [
      "12208\n"
     ]
    }
   ],
   "source": [
    "print((df['Renda'] == 0.0).sum())"
   ]
  },
  {
   "cell_type": "code",
   "execution_count": 113,
   "id": "de77bc94",
   "metadata": {},
   "outputs": [],
   "source": [
    "df.drop(columns=['E014011', 'E01601', 'E01602', 'E01801', 'E01802'], inplace=True)"
   ]
  },
  {
   "cell_type": "markdown",
   "id": "2ef23b3c",
   "metadata": {},
   "source": [
    "### Horas trabalhadas *incompleto (checar quant trabalho 3. Três ou mais)"
   ]
  },
  {
   "cell_type": "markdown",
   "id": "22217ff1",
   "metadata": {},
   "source": [
    "1. E011: número de trabalhos na semana \n",
    "2. E017: horas trabalhas em 1 trabalho\n",
    "3. E019: horas trabalhas em mais de 1 trabalho"
   ]
  },
  {
   "cell_type": "code",
   "execution_count": 114,
   "id": "ab195861",
   "metadata": {},
   "outputs": [
    {
     "name": "stdout",
     "output_type": "stream",
     "text": [
      "M00203 faltantes: 3\n",
      "M00203\n",
      "1.0    23962\n",
      "2.0      383\n",
      "NaN        3\n",
      "9.0        3\n",
      "Name: count, dtype: int64\n"
     ]
    }
   ],
   "source": [
    "print(\"M00203 faltantes:\", df['M00203'].isna().sum())\n",
    "print(df['M00203'].value_counts(dropna=False)) #ver isso aqui (incompleto)"
   ]
  },
  {
   "cell_type": "code",
   "execution_count": 115,
   "id": "d5706252",
   "metadata": {},
   "outputs": [
    {
     "name": "stdout",
     "output_type": "stream",
     "text": [
      "Quant_trabalhos\n",
      "0    11977\n",
      "1    11634\n",
      "2      655\n",
      "3       85\n",
      "Name: count, dtype: int64\n",
      "Valores faltantes: 0\n"
     ]
    }
   ],
   "source": [
    "def quantidade_trabalhos(row):\n",
    "    if row['E011'] == 1:\n",
    "        return 1\n",
    "    elif row['E011'] == 2:\n",
    "            return 2\n",
    "    elif row['E011'] == 3:\n",
    "            return 3\n",
    "    else:\n",
    "         return 0\n",
    "\n",
    "df['Quant_trabalhos'] = df.apply(quantidade_trabalhos, axis=1)\n",
    "\n",
    "print(df['Quant_trabalhos'].value_counts(dropna=False))\n",
    "print(f\"Valores faltantes:\",df['Quant_trabalhos'].isna().sum())"
   ]
  },
  {
   "cell_type": "code",
   "execution_count": 116,
   "id": "5a8d219f",
   "metadata": {},
   "outputs": [
    {
     "name": "stdout",
     "output_type": "stream",
     "text": [
      "E017 faltantes: 11977\n",
      "E019 faltantes: 23611\n"
     ]
    }
   ],
   "source": [
    "print(\"E017 faltantes:\", df['E017'].isna().sum())\n",
    "print(\"E019 faltantes:\", df['E019'].isna().sum())"
   ]
  },
  {
   "cell_type": "code",
   "execution_count": 117,
   "id": "9a6fd61b",
   "metadata": {},
   "outputs": [],
   "source": [
    "df['Quant_trabalhos'] = df['Quant_trabalhos'].astype(int)\n",
    "df.loc[df['Quant_trabalhos'] == 0, 'E017'] = 0\n",
    "df.loc[df['Quant_trabalhos'].isin([0, 1]), 'E019'] = 0\n",
    "\n",
    "#df['E017']=df['E017'].fillna(0)\n",
    "#df['E019']=df['E019'].fillna(0)"
   ]
  },
  {
   "cell_type": "code",
   "execution_count": 118,
   "id": "96e0c383",
   "metadata": {},
   "outputs": [
    {
     "name": "stdout",
     "output_type": "stream",
     "text": [
      "E017 faltantes: 0\n",
      "E019 faltantes: 0\n"
     ]
    }
   ],
   "source": [
    "print(\"E017 faltantes:\", df['E017'].isna().sum())\n",
    "print(\"E019 faltantes:\", df['E019'].isna().sum())"
   ]
  },
  {
   "cell_type": "code",
   "execution_count": 119,
   "id": "c1817259",
   "metadata": {},
   "outputs": [
    {
     "name": "stdout",
     "output_type": "stream",
     "text": [
      "Valores faltantes: 0\n"
     ]
    }
   ],
   "source": [
    "df['Horas_trabalhadas'] = df['E017'] + df['E019']\n",
    "\n",
    "print(\"Valores faltantes:\", df['Horas_trabalhadas'].isna().sum())"
   ]
  },
  {
   "cell_type": "code",
   "execution_count": 120,
   "id": "43423eb8",
   "metadata": {},
   "outputs": [
    {
     "data": {
      "application/vnd.microsoft.datawrangler.viewer.v0+json": {
       "columns": [
        {
         "name": "index",
         "rawType": "int64",
         "type": "integer"
        },
        {
         "name": "Renda",
         "rawType": "float64",
         "type": "float"
        },
        {
         "name": "Quant_trabalhos",
         "rawType": "int64",
         "type": "integer"
        },
        {
         "name": "Horas_trabalhadas",
         "rawType": "float64",
         "type": "float"
        }
       ],
       "conversionMethod": "pd.DataFrame",
       "ref": "2dc69dd5-a792-438e-a77a-2875bd2e3e91",
       "rows": [
        [
         "0",
         "0.0",
         "0",
         "0.0"
        ],
        [
         "4",
         "0.0",
         "0",
         "0.0"
        ],
        [
         "6",
         "0.0",
         "0",
         "0.0"
        ],
        [
         "9",
         "0.0",
         "0",
         "0.0"
        ],
        [
         "10",
         "0.0",
         "0",
         "0.0"
        ],
        [
         "12",
         "0.0",
         "0",
         "0.0"
        ],
        [
         "13",
         "0.0",
         "0",
         "0.0"
        ],
        [
         "18",
         "0.0",
         "0",
         "0.0"
        ],
        [
         "21",
         "0.0",
         "0",
         "0.0"
        ],
        [
         "22",
         "0.0",
         "0",
         "0.0"
        ],
        [
         "26",
         "0.0",
         "0",
         "0.0"
        ],
        [
         "27",
         "0.0",
         "0",
         "0.0"
        ],
        [
         "28",
         "0.0",
         "0",
         "0.0"
        ],
        [
         "30",
         "0.0",
         "0",
         "0.0"
        ],
        [
         "34",
         "0.0",
         "0",
         "0.0"
        ],
        [
         "39",
         "0.0",
         "0",
         "0.0"
        ],
        [
         "41",
         "0.0",
         "0",
         "0.0"
        ],
        [
         "45",
         "0.0",
         "0",
         "0.0"
        ],
        [
         "46",
         "0.0",
         "0",
         "0.0"
        ],
        [
         "47",
         "0.0",
         "0",
         "0.0"
        ],
        [
         "48",
         "0.0",
         "0",
         "0.0"
        ],
        [
         "51",
         "0.0",
         "0",
         "0.0"
        ],
        [
         "53",
         "0.0",
         "0",
         "0.0"
        ],
        [
         "61",
         "0.0",
         "0",
         "0.0"
        ],
        [
         "62",
         "0.0",
         "0",
         "0.0"
        ],
        [
         "63",
         "0.0",
         "0",
         "0.0"
        ],
        [
         "72",
         "0.0",
         "0",
         "0.0"
        ],
        [
         "77",
         "0.0",
         "0",
         "0.0"
        ],
        [
         "79",
         "0.0",
         "0",
         "0.0"
        ],
        [
         "80",
         "0.0",
         "0",
         "0.0"
        ],
        [
         "81",
         "0.0",
         "0",
         "0.0"
        ],
        [
         "85",
         "0.0",
         "0",
         "0.0"
        ],
        [
         "89",
         "0.0",
         "0",
         "0.0"
        ],
        [
         "91",
         "0.0",
         "0",
         "0.0"
        ],
        [
         "93",
         "0.0",
         "0",
         "0.0"
        ],
        [
         "98",
         "0.0",
         "0",
         "0.0"
        ],
        [
         "100",
         "0.0",
         "0",
         "0.0"
        ],
        [
         "105",
         "0.0",
         "0",
         "0.0"
        ],
        [
         "107",
         "0.0",
         "0",
         "0.0"
        ],
        [
         "109",
         "0.0",
         "0",
         "0.0"
        ],
        [
         "111",
         "0.0",
         "0",
         "0.0"
        ],
        [
         "112",
         "0.0",
         "0",
         "0.0"
        ],
        [
         "115",
         "0.0",
         "0",
         "0.0"
        ],
        [
         "117",
         "0.0",
         "0",
         "0.0"
        ],
        [
         "118",
         "0.0",
         "0",
         "0.0"
        ],
        [
         "119",
         "0.0",
         "0",
         "0.0"
        ],
        [
         "120",
         "0.0",
         "0",
         "0.0"
        ],
        [
         "121",
         "0.0",
         "0",
         "0.0"
        ],
        [
         "125",
         "0.0",
         "0",
         "0.0"
        ],
        [
         "126",
         "0.0",
         "0",
         "0.0"
        ]
       ],
       "shape": {
        "columns": 3,
        "rows": 11977
       }
      },
      "text/html": [
       "<div>\n",
       "<style scoped>\n",
       "    .dataframe tbody tr th:only-of-type {\n",
       "        vertical-align: middle;\n",
       "    }\n",
       "\n",
       "    .dataframe tbody tr th {\n",
       "        vertical-align: top;\n",
       "    }\n",
       "\n",
       "    .dataframe thead th {\n",
       "        text-align: right;\n",
       "    }\n",
       "</style>\n",
       "<table border=\"1\" class=\"dataframe\">\n",
       "  <thead>\n",
       "    <tr style=\"text-align: right;\">\n",
       "      <th></th>\n",
       "      <th>Renda</th>\n",
       "      <th>Quant_trabalhos</th>\n",
       "      <th>Horas_trabalhadas</th>\n",
       "    </tr>\n",
       "  </thead>\n",
       "  <tbody>\n",
       "    <tr>\n",
       "      <th>0</th>\n",
       "      <td>0.0</td>\n",
       "      <td>0</td>\n",
       "      <td>0.0</td>\n",
       "    </tr>\n",
       "    <tr>\n",
       "      <th>4</th>\n",
       "      <td>0.0</td>\n",
       "      <td>0</td>\n",
       "      <td>0.0</td>\n",
       "    </tr>\n",
       "    <tr>\n",
       "      <th>6</th>\n",
       "      <td>0.0</td>\n",
       "      <td>0</td>\n",
       "      <td>0.0</td>\n",
       "    </tr>\n",
       "    <tr>\n",
       "      <th>9</th>\n",
       "      <td>0.0</td>\n",
       "      <td>0</td>\n",
       "      <td>0.0</td>\n",
       "    </tr>\n",
       "    <tr>\n",
       "      <th>10</th>\n",
       "      <td>0.0</td>\n",
       "      <td>0</td>\n",
       "      <td>0.0</td>\n",
       "    </tr>\n",
       "    <tr>\n",
       "      <th>...</th>\n",
       "      <td>...</td>\n",
       "      <td>...</td>\n",
       "      <td>...</td>\n",
       "    </tr>\n",
       "    <tr>\n",
       "      <th>24314</th>\n",
       "      <td>0.0</td>\n",
       "      <td>0</td>\n",
       "      <td>0.0</td>\n",
       "    </tr>\n",
       "    <tr>\n",
       "      <th>24325</th>\n",
       "      <td>0.0</td>\n",
       "      <td>0</td>\n",
       "      <td>0.0</td>\n",
       "    </tr>\n",
       "    <tr>\n",
       "      <th>24326</th>\n",
       "      <td>0.0</td>\n",
       "      <td>0</td>\n",
       "      <td>0.0</td>\n",
       "    </tr>\n",
       "    <tr>\n",
       "      <th>24334</th>\n",
       "      <td>0.0</td>\n",
       "      <td>0</td>\n",
       "      <td>0.0</td>\n",
       "    </tr>\n",
       "    <tr>\n",
       "      <th>24339</th>\n",
       "      <td>0.0</td>\n",
       "      <td>0</td>\n",
       "      <td>0.0</td>\n",
       "    </tr>\n",
       "  </tbody>\n",
       "</table>\n",
       "<p>11977 rows × 3 columns</p>\n",
       "</div>"
      ],
      "text/plain": [
       "       Renda  Quant_trabalhos  Horas_trabalhadas\n",
       "0        0.0                0                0.0\n",
       "4        0.0                0                0.0\n",
       "6        0.0                0                0.0\n",
       "9        0.0                0                0.0\n",
       "10       0.0                0                0.0\n",
       "...      ...              ...                ...\n",
       "24314    0.0                0                0.0\n",
       "24325    0.0                0                0.0\n",
       "24326    0.0                0                0.0\n",
       "24334    0.0                0                0.0\n",
       "24339    0.0                0                0.0\n",
       "\n",
       "[11977 rows x 3 columns]"
      ]
     },
     "execution_count": 120,
     "metadata": {},
     "output_type": "execute_result"
    }
   ],
   "source": [
    "df['Quant_trabalhos'] = pd.to_numeric(df['Quant_trabalhos'], errors='coerce')\n",
    "df[(df['Renda'] == 0.0) & (df['Quant_trabalhos'] == 0) & (df['Horas_trabalhadas'] == 0.0)][['Renda', 'Quant_trabalhos', 'Horas_trabalhadas']]"
   ]
  },
  {
   "cell_type": "code",
   "execution_count": 121,
   "id": "d8ceb9bc",
   "metadata": {},
   "outputs": [],
   "source": [
    "df.drop(columns=['E01603', 'E01605', 'E017', 'E019'], inplace=True)"
   ]
  },
  {
   "cell_type": "markdown",
   "id": "0c74b3b2",
   "metadata": {},
   "source": [
    "### Afastamento do trabalho por motivo de saúde & motivo de saúde relacionado ao trabalho"
   ]
  },
  {
   "cell_type": "markdown",
   "id": "65de73ca",
   "metadata": {},
   "source": [
    "1. E005: tinha algum trabalho remunerado do qual estava temporariamente afastado?\n",
    "2. E006011: por que motivo estava afastado desse trabalho\n",
    "3. E008: a doença ou acidente foi relacionado ao trabalho?"
   ]
  },
  {
   "cell_type": "code",
   "execution_count": 122,
   "id": "da18f04c",
   "metadata": {},
   "outputs": [
    {
     "name": "stdout",
     "output_type": "stream",
     "text": [
      "Temporariamente_afastado\n",
      "Não    24022\n",
      "Sim      329\n",
      "Name: count, dtype: int64\n",
      "Valores faltantes: 0\n"
     ]
    }
   ],
   "source": [
    "def temporariamente_afastado(row):\n",
    "    if row['E005'] == 1:\n",
    "        return 'Sim'\n",
    "    elif row['E005'] == 2:\n",
    "            return 'Não'\n",
    "    else:\n",
    "         return 'Não'\n",
    "\n",
    "df['Temporariamente_afastado'] = df.apply(temporariamente_afastado, axis=1)\n",
    "\n",
    "\n",
    "print(df['Temporariamente_afastado'].value_counts(dropna=False))\n",
    "print(f\"Valores faltantes:\",df['Temporariamente_afastado'].isna().sum())"
   ]
  },
  {
   "cell_type": "code",
   "execution_count": 123,
   "id": "b423e8e6",
   "metadata": {},
   "outputs": [],
   "source": [
    "df.loc[(df['Temporariamente_afastado']== 'Não'), 'E006011'] = 0 #se E006011=0, não esteve afastado"
   ]
  },
  {
   "cell_type": "code",
   "execution_count": 124,
   "id": "f5b9dfbe",
   "metadata": {},
   "outputs": [
    {
     "data": {
      "text/plain": [
       "np.int64(0)"
      ]
     },
     "execution_count": 124,
     "metadata": {},
     "output_type": "execute_result"
    }
   ],
   "source": [
    "df['E006011'].isna().sum()"
   ]
  },
  {
   "cell_type": "code",
   "execution_count": 125,
   "id": "6c76cd7c",
   "metadata": {},
   "outputs": [],
   "source": [
    "df.loc[(df['E006011'].isin([0, 1, 2, 4, 5, 6, 7])), 'E008'] = 0"
   ]
  },
  {
   "cell_type": "code",
   "execution_count": 126,
   "id": "8f21c545",
   "metadata": {},
   "outputs": [
    {
     "data": {
      "text/plain": [
       "np.int64(0)"
      ]
     },
     "execution_count": 126,
     "metadata": {},
     "output_type": "execute_result"
    }
   ],
   "source": [
    "df['E008'].isna().sum()"
   ]
  },
  {
   "cell_type": "code",
   "execution_count": 127,
   "id": "1601e95e",
   "metadata": {},
   "outputs": [],
   "source": [
    "df.drop(columns=['E001','E002', 'E003', 'E004', 'E005'], inplace=True)"
   ]
  },
  {
   "cell_type": "markdown",
   "id": "05822200",
   "metadata": {},
   "source": [
    "### Mobilidade"
   ]
  },
  {
   "cell_type": "markdown",
   "id": "5a9abd9c",
   "metadata": {},
   "source": [
    "1. G059: usa algum aparelho de auxílio para se locomover?\n",
    "2. G060: faz uso de cadeira de rodas?\n",
    "3. G062: faz uso de bengala, muletas ou andador?"
   ]
  },
  {
   "cell_type": "code",
   "execution_count": 128,
   "id": "207d2c19",
   "metadata": {},
   "outputs": [
    {
     "name": "stdout",
     "output_type": "stream",
     "text": [
      "Mobilidade_auxiliar\n",
      "0.0    23631\n",
      "2.0      517\n",
      "1.0      149\n",
      "4.0       54\n",
      "Name: count, dtype: int64\n",
      "0\n"
     ]
    }
   ],
   "source": [
    "def classificar_mobilidade(row):\n",
    "    usa_aparelho = row['G059'] == 1\n",
    "    cadeira_rodas = row['G060'] == 1\n",
    "    bengala_muleta = row['G062'] == 1\n",
    "\n",
    "    if not usa_aparelho:\n",
    "        return 0.0  # Não usa nenhum aparelho\n",
    "    if cadeira_rodas:\n",
    "        return 1.0  # Só cadeira de rodas\n",
    "    if bengala_muleta:\n",
    "        return 2.0  # Só bengala/muleta/andador\n",
    "    if cadeira_rodas and bengala_muleta:\n",
    "        return 3.0  # Usa os dois\n",
    "    if not cadeira_rodas and not bengala_muleta:\n",
    "        return 4.0  # Não usa nenhum dos dois (uso outras coisas)\n",
    "    return np.nan  # Caso de inconsistência ou valores faltantes\n",
    "\n",
    "df['Mobilidade_auxiliar'] = df.apply(classificar_mobilidade, axis=1)\n",
    "\n",
    "# Visualizar resultado:\n",
    "print(df['Mobilidade_auxiliar'].value_counts(dropna=False))\n",
    "print(df['Mobilidade_auxiliar'].isna().sum())"
   ]
  },
  {
   "cell_type": "code",
   "execution_count": 129,
   "id": "58b8476f",
   "metadata": {},
   "outputs": [],
   "source": [
    "df = df.drop(columns=['G060', 'G062'])"
   ]
  },
  {
   "cell_type": "markdown",
   "id": "228eaac4",
   "metadata": {},
   "source": [
    "### Plano de Saúde"
   ]
  },
  {
   "cell_type": "markdown",
   "id": "a6cdcac2",
   "metadata": {},
   "source": [
    "1. I00102: se tem plano\n",
    "2. I006: avaliação do plano"
   ]
  },
  {
   "cell_type": "code",
   "execution_count": 130,
   "id": "34ede46b",
   "metadata": {},
   "outputs": [
    {
     "name": "stdout",
     "output_type": "stream",
     "text": [
      "Avaliacao_plano\n",
      "Não tem plano      19748\n",
      "Bom/muito bom       3409\n",
      "Regular              941\n",
      "Ruim/muito ruim      157\n",
      "Nunca usou            96\n",
      "Name: count, dtype: int64\n",
      "0\n"
     ]
    }
   ],
   "source": [
    "def classificar_plano(row):\n",
    "    tem_plano = row['I00102']\n",
    "    avaliacao = row['I006']\n",
    "    \n",
    "    if tem_plano == 2:\n",
    "        return 'Não tem plano'  # Não tem plano\n",
    "    elif avaliacao in [1, 2]:\n",
    "        return 'Bom/muito bom'  # Muito bom ou bom\n",
    "    elif avaliacao == 3:\n",
    "        return 'Regular'  # Regular\n",
    "    elif avaliacao in [4, 5]:\n",
    "        return 'Ruim/muito ruim' # Ruim ou muito ruim\n",
    "    elif avaliacao == 6:\n",
    "        return 'Nunca usou'  # Nunca usou\n",
    "    else:\n",
    "        return np.nan  # Valores faltantes ou inválidos\n",
    "\n",
    "df['Avaliacao_plano'] = df.apply(classificar_plano, axis=1)\n",
    "\n",
    "print(df['Avaliacao_plano'].value_counts(dropna=False))\n",
    "print(df['Avaliacao_plano'].isna().sum())\n",
    "\n",
    "# 0     | Não tem plano                \n",
    "# 1     | Avaliação muito boa ou boa   \n",
    "# 2     | Avaliação regular            \n",
    "# 3     | Avaliação ruim ou muito ruim \n",
    "# 4     | Nunca usou o plano "
   ]
  },
  {
   "cell_type": "code",
   "execution_count": 131,
   "id": "bb952217",
   "metadata": {},
   "outputs": [],
   "source": [
    "df = df.drop(columns=['I006'])"
   ]
  },
  {
   "cell_type": "markdown",
   "id": "911179ef",
   "metadata": {},
   "source": [
    "3. I004: se é de instituição pública\n",
    "4. I00103: se é morador \n",
    "5. I001031: número do titular\n",
    "\n",
    "*C00301 == I001031 --> é titular    "
   ]
  },
  {
   "cell_type": "code",
   "execution_count": 132,
   "id": "129d46bd",
   "metadata": {},
   "outputs": [
    {
     "name": "stdout",
     "output_type": "stream",
     "text": [
      "Plano_publico\n",
      "0.0    20870\n",
      "2.0     2156\n",
      "1.0     1325\n",
      "Name: count, dtype: int64\n",
      "0\n"
     ]
    }
   ],
   "source": [
    "def definir_plano_publico(row):\n",
    "    if row['I00102'] != 1:\n",
    "        return 0.0  # Não tem plano\n",
    "    if row['I00103'] != 1 and row['C00301'] != row['I001031']: # não é morador\n",
    "        return 0.0  # não é titular do plano\n",
    "    if row['I004'] == 1:\n",
    "        return 1.0  # Plano é de instituição pública\n",
    "    if row['I004'] == 2:\n",
    "        return 2.0  # Plano não é de instituição pública\n",
    "    \n",
    "    return 0.0\n",
    "\n",
    "df['Plano_publico'] = df.apply(definir_plano_publico, axis=1)\n",
    "\n",
    "print(df['Plano_publico'].value_counts(dropna=False))\n",
    "print(df['Plano_publico'].isna().sum())\n",
    "\n",
    "#0     | Não tem plano e/ou não é morador + titular do plano              \n",
    "#1     | Plano é de instituição pública   \n",
    "#2     | Plano não é de instituição pública   "
   ]
  },
  {
   "cell_type": "code",
   "execution_count": 133,
   "id": "4934a2a4",
   "metadata": {},
   "outputs": [],
   "source": [
    "df = df.drop(columns=['I004'])"
   ]
  },
  {
   "cell_type": "markdown",
   "id": "08b1b744",
   "metadata": {},
   "source": [
    "6. I00401: plano dá direito a consultas\n",
    "7. I00402: plano dá direito a exames\n",
    "8. I00403: plano dá direito a internações"
   ]
  },
  {
   "cell_type": "code",
   "execution_count": 134,
   "id": "1816ddb0",
   "metadata": {},
   "outputs": [
    {
     "name": "stdout",
     "output_type": "stream",
     "text": [
      "Cobertura_plano\n",
      "0.0    20870\n",
      "3.0     3250\n",
      "2.0      177\n",
      "1.0       36\n",
      "4.0       18\n",
      "Name: count, dtype: int64\n",
      "Valores nulos: 0\n"
     ]
    }
   ],
   "source": [
    "def Cobertura_plano(row):\n",
    "    # Se não tem plano, retorna 0.0\n",
    "    if pd.isna(row['I00102']) or row['I00102'] != 1:\n",
    "        return 0.0\n",
    "\n",
    "    # Verifica titularidade\n",
    "    if pd.isna(row['I00103']) or row['I00103'] != 1:\n",
    "        return 0.0\n",
    "    if pd.isna(row['C00301']) or pd.isna(row['I001031']) or row['C00301'] != row['I001031']:\n",
    "        return 0.0\n",
    "\n",
    "    # Verifica cobertura\n",
    "    coberturas = [\n",
    "        row['I00401'] == 1 if pd.notna(row['I00401']) else False,\n",
    "        row['I00402'] == 1 if pd.notna(row['I00402']) else False,\n",
    "        row['I00403'] == 1 if pd.notna(row['I00403']) else False\n",
    "    ]\n",
    "    total_cobertura = sum(coberturas)\n",
    "\n",
    "    if total_cobertura == 1:\n",
    "        return 1.0\n",
    "    elif total_cobertura == 2:\n",
    "        return 2.0\n",
    "    elif total_cobertura == 3:\n",
    "        return 3.0\n",
    "    elif total_cobertura == 0:\n",
    "        return 4.0  # Não cobre nada, apesar de ter plano e titular\n",
    "    else:\n",
    "        return np.nan  # Caso de erro\n",
    "\n",
    "df['Cobertura_plano'] = df.apply(Cobertura_plano, axis=1)\n",
    "\n",
    "print(df['Cobertura_plano'].value_counts(dropna=False))\n",
    "print(\"Valores nulos:\", df['Cobertura_plano'].isna().sum())\n",
    "\n",
    "\n",
    "# 1- se o plano cobre uma das coisas\n",
    "# 2- se o plano cobre duas das coisas\n",
    "# 3- se o plano cobre as três coisas"
   ]
  },
  {
   "cell_type": "code",
   "execution_count": 135,
   "id": "c6a04f56",
   "metadata": {},
   "outputs": [],
   "source": [
    "df = df.drop(columns=['I00102', 'I00401', 'I00402', 'I00403', 'I00103', 'I001031'])"
   ]
  },
  {
   "cell_type": "markdown",
   "id": "ce1c4fdd",
   "metadata": {},
   "source": [
    "### Preenchendo aqui os atributos J00402, J00404 e J00801"
   ]
  },
  {
   "cell_type": "code",
   "execution_count": 136,
   "id": "75067eb0",
   "metadata": {},
   "outputs": [],
   "source": [
    "df.loc[df['J002'] == 2, 'J00402'] = 0\n",
    "df.loc[df['J002'] == 2, 'J00404'] = 0"
   ]
  },
  {
   "cell_type": "code",
   "execution_count": 137,
   "id": "db195951",
   "metadata": {},
   "outputs": [
    {
     "name": "stdout",
     "output_type": "stream",
     "text": [
      "0\n",
      "0\n"
     ]
    }
   ],
   "source": [
    "print(df['J00402'].isna().sum())\n",
    "print(df['J00404'].isna().sum())"
   ]
  },
  {
   "cell_type": "code",
   "execution_count": 138,
   "id": "d4a3bd1a",
   "metadata": {},
   "outputs": [
    {
     "name": "stdout",
     "output_type": "stream",
     "text": [
      "0\n"
     ]
    }
   ],
   "source": [
    "df.loc[df['J007'] == 2, 'J00801'] = 0\n",
    "print(df['J00801'].isna().sum())"
   ]
  },
  {
   "cell_type": "markdown",
   "id": "70cd3160",
   "metadata": {},
   "source": [
    "### Exposição tóxica no trabalho"
   ]
  },
  {
   "cell_type": "markdown",
   "id": "04bbd4b8",
   "metadata": {},
   "source": [
    "Atributos:\n",
    "1. M011011: substâncias químicas\n",
    "2. M011021: barulho intenso (ruído)\n",
    "3. M011051: lixo (resíduo urbano)\n",
    "4. M011071: poeira mineral"
   ]
  },
  {
   "cell_type": "code",
   "execution_count": 139,
   "id": "24a0916f",
   "metadata": {},
   "outputs": [
    {
     "name": "stdout",
     "output_type": "stream",
     "text": [
      "Exposicao_quimica\n",
      "2    22934\n",
      "1     1417\n",
      "Name: count, dtype: int64\n",
      "0\n"
     ]
    }
   ],
   "source": [
    "def marcar_exposicao_quimica(row):\n",
    "    trabalho = row['E011']\n",
    "    exposicao = row['M011011']\n",
    "    \n",
    "    if trabalho in [1, 2, 3]:  # Pessoa trabalha\n",
    "        if exposicao == 1:\n",
    "            return 1  # Exposto\n",
    "        elif exposicao == 2:\n",
    "            return 2  # Não exposto\n",
    "        else:\n",
    "            return np.nan  # Outro valor ou faltante\n",
    "    else:\n",
    "        return 2  # Pessoa não trabalha → marcar como \"não exposto\"\n",
    "\n",
    "df['Exposicao_quimica'] = df.apply(marcar_exposicao_quimica, axis=1)\n",
    "\n",
    "print(df['Exposicao_quimica'].value_counts(dropna=False))\n",
    "print(df['Exposicao_quimica'].isna().sum())"
   ]
  },
  {
   "cell_type": "code",
   "execution_count": 140,
   "id": "3da027f0",
   "metadata": {},
   "outputs": [
    {
     "name": "stdout",
     "output_type": "stream",
     "text": [
      "Exposicao_ruido\n",
      "2    22089\n",
      "1     2262\n",
      "Name: count, dtype: int64\n",
      "0\n"
     ]
    }
   ],
   "source": [
    "def marcar_exposicao_ruido(row):\n",
    "    trabalho = row['E011']\n",
    "    exposicao = row['M011021']\n",
    "    \n",
    "    if trabalho in [1, 2, 3]:  # Pessoa trabalha\n",
    "        if exposicao == 1:\n",
    "            return 1  # Exposto\n",
    "        elif exposicao == 2:\n",
    "            return 2  # Não exposto\n",
    "        else:\n",
    "            return np.nan  # Outro valor ou faltante\n",
    "    else:\n",
    "        return 2  # Pessoa não trabalha → marcar como \"não exposto\"\n",
    "\n",
    "df['Exposicao_ruido'] = df.apply(marcar_exposicao_ruido, axis=1)\n",
    "\n",
    "print(df['Exposicao_ruido'].value_counts(dropna=False))\n",
    "print(df['Exposicao_ruido'].isna().sum())"
   ]
  },
  {
   "cell_type": "code",
   "execution_count": 141,
   "id": "c572c83a",
   "metadata": {},
   "outputs": [
    {
     "name": "stdout",
     "output_type": "stream",
     "text": [
      "Exposicao_lixo\n",
      "2    23571\n",
      "1      780\n",
      "Name: count, dtype: int64\n",
      "0\n"
     ]
    }
   ],
   "source": [
    "def marcar_exposicao_lixo(row):\n",
    "    trabalho = row['E011']\n",
    "    exposicao = row['M011051']\n",
    "    \n",
    "    if trabalho in [1, 2, 3]:  # Pessoa trabalha\n",
    "        if exposicao == 1:\n",
    "            return 1  # Exposto\n",
    "        elif exposicao == 2:\n",
    "            return 2  # Não exposto\n",
    "        else:\n",
    "            return np.nan  # Outro valor ou faltante\n",
    "    else:\n",
    "        return 2  # Pessoa não trabalha → marcar como \"não exposto\"\n",
    "\n",
    "df['Exposicao_lixo'] = df.apply(marcar_exposicao_lixo, axis=1)\n",
    "\n",
    "print(df['Exposicao_lixo'].value_counts(dropna=False))\n",
    "print(df['Exposicao_lixo'].isna().sum())"
   ]
  },
  {
   "cell_type": "code",
   "execution_count": 142,
   "id": "ef16f3c1",
   "metadata": {},
   "outputs": [
    {
     "name": "stdout",
     "output_type": "stream",
     "text": [
      "Exposicao_minerio\n",
      "2    22985\n",
      "1     1366\n",
      "Name: count, dtype: int64\n",
      "0\n"
     ]
    }
   ],
   "source": [
    "def marcar_exposicao_minerio(row):\n",
    "    trabalho = row['E011']\n",
    "    exposicao = row['M011071']\n",
    "    \n",
    "    if trabalho in [1, 2, 3]:  # Pessoa trabalha\n",
    "        if exposicao == 1:\n",
    "            return 1  # Exposto\n",
    "        elif exposicao == 2:\n",
    "            return 2  # Não exposto\n",
    "        else:\n",
    "            return np.nan  # Outro valor ou faltante\n",
    "    else:\n",
    "        return 2  # Pessoa não trabalha → marcar como \"não exposto\"\n",
    "\n",
    "df['Exposicao_minerio'] = df.apply(marcar_exposicao_minerio, axis=1)\n",
    "\n",
    "print(df['Exposicao_minerio'].value_counts(dropna=False))\n",
    "print(df['Exposicao_minerio'].isna().sum())"
   ]
  },
  {
   "cell_type": "code",
   "execution_count": 143,
   "id": "dc1f8506",
   "metadata": {},
   "outputs": [],
   "source": [
    "df = df.drop(columns=['M011011'])\n",
    "df = df.drop(columns=['M011021'])\n",
    "df = df.drop(columns=['M011051'])\n",
    "df = df.drop(columns=['M011071'])"
   ]
  },
  {
   "cell_type": "markdown",
   "id": "d7451342",
   "metadata": {},
   "source": [
    "### Dor/desconforto no peito"
   ]
  },
  {
   "cell_type": "markdown",
   "id": "daeb7f9b",
   "metadata": {},
   "source": [
    "1. N004: dor ou desconforto no peito ao subir uma ladeira, um lance de escadas ou caminhar rápido no plano\n",
    "2. N005: dor ou desconforto no peito ao caminhar em lugar plano\n",
    "3. N008: onde é a dor/desconforto no peito\n",
    "\n",
    "Outros atributos usados: \n",
    "\n",
    "4. G059: usa algum aparelho de auxílio para se locomover? (Se G59=1 , siga N10) - incompleto!"
   ]
  },
  {
   "cell_type": "code",
   "execution_count": 144,
   "id": "75b2e3b0",
   "metadata": {},
   "outputs": [
    {
     "name": "stdout",
     "output_type": "stream",
     "text": [
      "Dor_peito\n",
      "Não sente dor                20276\n",
      "Acima ou no meio do peito     2572\n",
      "Não aplicável                  720\n",
      "Abaixo do peito                514\n",
      "Braço esquerdo                 220\n",
      "Outro lugar                     49\n",
      "Name: count, dtype: int64\n",
      "Valores faltantes: 0\n"
     ]
    }
   ],
   "source": [
    "def map_dor_peito(row):\n",
    "    if row['G059'] != 2:\n",
    "        return 'Não aplicável'  # Ignora quem não respondeu 2 em G059 (736 pessoas)\n",
    "\n",
    "    if row['N004'] == 2 and row['N005'] == 2:\n",
    "        return 'Não sente dor'\n",
    "\n",
    "    if row['N004'] == 1 or row['N005'] == 1:\n",
    "        dor_map = {\n",
    "            1: 'Acima ou no meio do peito',\n",
    "            2: 'Abaixo do peito',\n",
    "            3: 'Braço esquerdo',\n",
    "            4: 'Outro lugar'\n",
    "        }\n",
    "        return dor_map.get(row['N008'], pd.NA)\n",
    "\n",
    "    return pd.NA  # Se não cair em nenhum caso anterior \n",
    "\n",
    "df['Dor_peito'] = df.apply(map_dor_peito, axis=1)\n",
    "\n",
    "print(df['Dor_peito'].value_counts(dropna=False))\n",
    "print(f\"Valores faltantes: {df['Dor_peito'].isna().sum()}\")"
   ]
  },
  {
   "cell_type": "code",
   "execution_count": 145,
   "id": "34874aa7",
   "metadata": {},
   "outputs": [],
   "source": [
    "df = df.drop(columns=['G059', 'N004', 'N005', 'N008'])"
   ]
  },
  {
   "cell_type": "markdown",
   "id": "25228f93",
   "metadata": {},
   "source": [
    "### Exercício físico "
   ]
  },
  {
   "cell_type": "markdown",
   "id": "63a00da7",
   "metadata": {},
   "source": [
    "1. P034: Nos últimos três meses, praticou algum tipo de exercício físico ou esporte?\n",
    "2. P035: Quantos dias por semana.\n",
    "3. P03701: tempo em horas.\n",
    "4. P03702: tempo em minutos."
   ]
  },
  {
   "cell_type": "code",
   "execution_count": 146,
   "id": "d08176ed",
   "metadata": {},
   "outputs": [
    {
     "name": "stdout",
     "output_type": "stream",
     "text": [
      "7.0\n",
      "10.0\n"
     ]
    }
   ],
   "source": [
    "print(df['P035'].max())\n",
    "print(df['P03701'].max())"
   ]
  },
  {
   "cell_type": "code",
   "execution_count": 147,
   "id": "a163a8da",
   "metadata": {},
   "outputs": [
    {
     "data": {
      "text/plain": [
       "P034\n",
       "2.0    16079\n",
       "1.0     8272\n",
       "Name: count, dtype: int64"
      ]
     },
     "execution_count": 147,
     "metadata": {},
     "output_type": "execute_result"
    }
   ],
   "source": [
    "df['P034'].value_counts()"
   ]
  },
  {
   "cell_type": "code",
   "execution_count": 148,
   "id": "fab2da87",
   "metadata": {},
   "outputs": [
    {
     "name": "stdout",
     "output_type": "stream",
     "text": [
      "Faixa_ex_fisico\n",
      "0         16220\n",
      "0-5h       6356\n",
      "5-10h      1402\n",
      "10-20h      271\n",
      "<NA>         69\n",
      "20-40h       26\n",
      ">40h          7\n",
      "Name: count, dtype: int64\n",
      "Valores faltantes: 69\n"
     ]
    }
   ],
   "source": [
    "def calcular_e_categorizar_tempo(row):\n",
    "    # Se não praticou exercícios (resposta 2), atribui 0 horas\n",
    "    if row['P034'] == 2:\n",
    "        return 0.0, '0'\n",
    "    \n",
    "    # Novo caso: P034 == 1, P035 == 0 e trabalha (E011 = 1, 2 ou 3)\n",
    "    if row['P034'] == 1 and row['P035'] == 0 and row['E011'] in [1, 2, 3]:\n",
    "        return 0.0, '0'\n",
    "    \n",
    "    # Se praticou e os campos estão preenchidos, calcula tempo total em horas\n",
    "    if row['P034'] == 1 and pd.notna(row['P035']) and pd.notna(row['P03701']) and pd.notna(row['P03702']):\n",
    "        minutos_por_dia = row['P03701'] * 60 + row['P03702']\n",
    "        minutos_semanais = minutos_por_dia * row['P035']\n",
    "        horas_semanais = minutos_semanais / 60\n",
    "        horas_semanais = round(horas_semanais, 1)\n",
    "\n",
    "        # Categoriza por faixa\n",
    "        if horas_semanais == 0:\n",
    "            faixa = '0'\n",
    "        elif horas_semanais <= 5:\n",
    "            faixa = '0-5h'\n",
    "        elif horas_semanais <= 10:\n",
    "            faixa = '5-10h'\n",
    "        elif horas_semanais <= 20:\n",
    "            faixa = '10-20h'\n",
    "        elif horas_semanais <= 40:\n",
    "            faixa = '20-40h'\n",
    "        else:\n",
    "            faixa = '>40h'\n",
    "\n",
    "        return horas_semanais, faixa\n",
    "\n",
    "    # Se faltarem dados, retorna valor ausente\n",
    "    return pd.NA, pd.NA\n",
    "\n",
    "df[['Tempo_ex_fisico', 'Faixa_ex_fisico']] = df.apply(calcular_e_categorizar_tempo, axis=1, result_type='expand')\n",
    "\n",
    "print(df['Faixa_ex_fisico'].value_counts(dropna=False))\n",
    "print(f\"Valores faltantes: {df['Faixa_ex_fisico'].isna().sum()}\")"
   ]
  },
  {
   "cell_type": "code",
   "execution_count": 149,
   "id": "07eb4049",
   "metadata": {},
   "outputs": [],
   "source": [
    "df = df.drop(columns=['P034', 'P035', 'P03701', 'P03702', 'Tempo_ex_fisico'])"
   ]
  },
  {
   "cell_type": "markdown",
   "id": "97ad73e0",
   "metadata": {},
   "source": [
    "### Hábito de fumar / tabagismo"
   ]
  },
  {
   "cell_type": "markdown",
   "id": "4cca82db",
   "metadata": {},
   "source": [
    "1. P050: Atualmente, o(a) Sr(a) fuma algum produto do tabaco? \n",
    "2. P051: E no passado, o(a) Sr(a) fumou algum produto do tabaco diariamente?\n",
    "3. P052: E no passado, o(a) Sr(a) fumou algum produto do tabaco?\n",
    "4. P053:  Que idade o(a) Sr(a) tinha quando começou a fumar produto do tabaco diariamente?"
   ]
  },
  {
   "cell_type": "markdown",
   "id": "7b0d3a0a",
   "metadata": {},
   "source": [
    "    P050 (Fuma atualmente)\n",
    "\n",
    "1 = Sim, diariamente → usa P053\n",
    "\n",
    "2 = Sim, menos que diariamente → verifica P051\n",
    "\n",
    "3 = Não fuma atualmente → verifica P052\n",
    "\n",
    "    P051 (Fumou diariamente no passado)\n",
    "\n",
    "1 = Sim → usa P053\n",
    "\n",
    "2 = Não → considera como não fumante diário\n",
    "\n",
    "    P052 (Já fumou alguma vez)\n",
    "\n",
    "1 = Sim → usa P053\n",
    "\n",
    "2 ou 3 = Não fumou"
   ]
  },
  {
   "cell_type": "code",
   "execution_count": 150,
   "id": "30fbdf99",
   "metadata": {},
   "outputs": [
    {
     "name": "stdout",
     "output_type": "stream",
     "text": [
      "Inicio_tabagismo\n",
      "Não fuma                14010\n",
      "Início antes dos 18      6739\n",
      "Início entre 18 e 30     3228\n",
      "Início após os 30         374\n",
      "Name: count, dtype: int64\n",
      "Valores faltantes: 0\n"
     ]
    }
   ],
   "source": [
    "def categorizar_inicio_fumo(row):\n",
    "    p50 = row['P050']\n",
    "    p51 = row['P051']\n",
    "    p52 = row['P052']\n",
    "    p53 = row['P053']  # idade de início\n",
    "\n",
    "    # Fuma diariamente atualmente\n",
    "    if p50 == 1:\n",
    "        idade = p53\n",
    "\n",
    "    # Fuma menos que diariamente → verifica se já fumou diariamente\n",
    "    elif p50 == 2:\n",
    "        if p51 == 1:\n",
    "            idade = p53\n",
    "        else:\n",
    "            return 'Não fuma' \n",
    "\n",
    "    # Não fuma atualmente → verifica se já fumou algum dia\n",
    "    elif p50 == 3:\n",
    "        if p52 == 1:\n",
    "            idade = p53\n",
    "        else:\n",
    "            return 'Não fuma'\n",
    "\n",
    "    else:\n",
    "        return 'Sem informação'  # Resposta inválida ou faltante\n",
    "\n",
    "    # Categoriza com base na idade de início\n",
    "    if pd.notna(idade):\n",
    "        if idade < 18:\n",
    "            return 'Início antes dos 18'\n",
    "        elif 18 <= idade <= 30:\n",
    "            return 'Início entre 18 e 30'\n",
    "        elif idade > 30:\n",
    "            return 'Início após os 30'\n",
    "    return 'Sem informação'  # idade ausente\n",
    "\n",
    "df['Inicio_tabagismo'] = df.apply(categorizar_inicio_fumo, axis=1)\n",
    "\n",
    "print(df['Inicio_tabagismo'].value_counts(dropna=False))\n",
    "print(f\"Valores faltantes: {df['Inicio_tabagismo'].isna().sum()}\")\n"
   ]
  },
  {
   "cell_type": "markdown",
   "id": "428feecd",
   "metadata": {},
   "source": [
    " P59. Há quanto tempo o(a) Sr(a) parou de fumar?\n",
    "\n",
    "5. P05901 - Anos\n",
    "6. P05902 - Meses\n",
    "7. P05903 - Semanas\n",
    "8. P05904 - Dias"
   ]
  },
  {
   "cell_type": "code",
   "execution_count": 151,
   "id": "390108a0",
   "metadata": {},
   "outputs": [
    {
     "name": "stdout",
     "output_type": "stream",
     "text": [
      "Tempo_parou_fumar\n",
      "Nunca fumou        13025\n",
      ">5 anos             7045\n",
      "Fumante atual       3233\n",
      "1-5 anos             827\n",
      "1-6 meses            134\n",
      "6-12 meses            65\n",
      "Parou há <1 mês       22\n",
      "Name: count, dtype: int64\n",
      "Valores faltantes: 0\n"
     ]
    }
   ],
   "source": [
    "def tempo_parou_fumar(row):\n",
    "    # Fumante atual\n",
    "    if row['P050'] in [1, 2]:\n",
    "        return 'Fumante atual'\n",
    "\n",
    "    # Nunca fumou\n",
    "    if row['P052'] == 3:\n",
    "        return 'Nunca fumou'\n",
    "\n",
    "    # Ex-fumante: calcular tempo total em meses\n",
    "    if row['P052'] in [1, 2]:\n",
    "        anos = row.get('P05901', 0) or 0\n",
    "        meses = row.get('P05902', 0) or 0\n",
    "        semanas = row.get('P05903', 0) or 0\n",
    "        dias = row.get('P05904', 0) or 0\n",
    "\n",
    "        total_meses = anos * 12 + meses + (semanas / 4.345) + (dias / 30)\n",
    "\n",
    "        if pd.isna(total_meses):\n",
    "            return pd.NA\n",
    "\n",
    "        if total_meses < 1:\n",
    "            return 'Parou há <1 mês'\n",
    "        elif total_meses < 6:\n",
    "            return '1-6 meses'\n",
    "        elif total_meses < 12:\n",
    "            return '6-12 meses'\n",
    "        elif total_meses < 60:\n",
    "            return '1-5 anos'\n",
    "        else:\n",
    "            return '>5 anos'\n",
    "\n",
    "    return pd.NA\n",
    "\n",
    "\n",
    "df['Tempo_parou_fumar'] = df.apply(tempo_parou_fumar, axis=1)\n",
    "\n",
    "print(df['Tempo_parou_fumar'].value_counts(dropna=False))\n",
    "print(f\"Valores faltantes: {df['Tempo_parou_fumar'].isna().sum()}\")"
   ]
  },
  {
   "cell_type": "markdown",
   "id": "a4c49d1c",
   "metadata": {},
   "source": [
    "9. Cigarros industrializados (P05401)\n",
    "10. Cigarros de palha ou enrolados (P05404)\n",
    "11. Cigarros de cravo ou Bali (P05407)\n",
    "12. Cachimbo (P05410)\n",
    "13. Charutos ou cigarrilhas (P05413)\n",
    "14. Narguilé (P05416)\n",
    "15. Outro (P05419)"
   ]
  },
  {
   "cell_type": "code",
   "execution_count": 152,
   "id": "f8e65330",
   "metadata": {},
   "outputs": [
    {
     "name": "stdout",
     "output_type": "stream",
     "text": [
      "Intensidade_fumo\n",
      "0.0     21118\n",
      "7.0      2509\n",
      "14.0      266\n",
      "3.0       199\n",
      "8.0        63\n",
      "7.3        53\n",
      "1.0        49\n",
      "10.0       39\n",
      "0.3        20\n",
      "6.0        12\n",
      "2.0         5\n",
      "21.0        5\n",
      "4.0         3\n",
      "0.6         2\n",
      "3.3         2\n",
      "21.3        1\n",
      "9.0         1\n",
      "0.9         1\n",
      "7.9         1\n",
      "14.3        1\n",
      "7.6         1\n",
      "Name: count, dtype: int64\n",
      "Valores faltantes: 0\n"
     ]
    }
   ],
   "source": [
    "# Dicionário de conversão de respostas (média ponderada semanal)\n",
    "pesos_fumo = {\n",
    "    1: 7.0,   # diariamente\n",
    "    2: 3.0,   # semanalmente\n",
    "    3: 1.0,   # menos de 1 vez/semana\n",
    "    4: 0.3,   # menos de 1 por mês\n",
    "    5: 0.0    # não fuma\n",
    "}\n",
    "\n",
    "# Lista dos atributos de frequência\n",
    "colunas_fumo = ['P05401', 'P05404', 'P05407', 'P05410', 'P05413', 'P05416', 'P05419']\n",
    "\n",
    "# Substituir as categorias pelos pesos\n",
    "for col in colunas_fumo:\n",
    "    df[col + '_peso'] = df[col].map(pesos_fumo)\n",
    "\n",
    "# Somar os pesos como uma média ponderada de intensidade semanal\n",
    "df['Intensidade_fumo'] = df[[col + '_peso' for col in colunas_fumo]].sum(axis=1)\n",
    "\n",
    "# Ajustar para quem nunca fumou (do campo anterior, que chamamos de Inicio_tabagismo)\n",
    "df.loc[df['Inicio_tabagismo'] == 'Nunca fumou', 'Intensidade_fumo'] = 0.0\n",
    "\n",
    "# (Opcional) arredondar para facilitar leitura\n",
    "df['Intensidade_fumo'] = df['Intensidade_fumo'].round(1)\n",
    "\n",
    "print(df['Intensidade_fumo'].value_counts(dropna=False))\n",
    "print(f\"Valores faltantes: {df['Intensidade_fumo'].isna().sum()}\")\n"
   ]
  },
  {
   "cell_type": "code",
   "execution_count": 153,
   "id": "d95bcb51",
   "metadata": {},
   "outputs": [],
   "source": [
    "df = df.drop(columns=['P050', 'P051', 'P052', 'P053', 'P05401', 'P05404', 'P05407', 'P05410', 'P05413', 'P05416', 'P05419', 'P05901', 'P05902', 'P05903', 'P05904', \n",
    "                      'P05401_peso', 'P05404_peso', 'P05407_peso', 'P05410_peso', 'P05413_peso', 'P05416_peso', 'P05419_peso'])"
   ]
  },
  {
   "cell_type": "markdown",
   "id": "fcbeb243",
   "metadata": {},
   "source": [
    "### Atributos sobre doenças cardíacas (módulo Q)"
   ]
  },
  {
   "cell_type": "code",
   "execution_count": 154,
   "id": "27976ee0",
   "metadata": {},
   "outputs": [],
   "source": [
    "df.loc[df['Q00101'] == 6, 'Q00201'] = 2 #diagnóstico de hipertensão\n",
    "df.loc[df['Q02901'] == 6, 'Q03001'] = 2 #diagnóstico de diabetes\n",
    "df.loc[df['Q05901'] == 6, 'Q060'] = 2 #diagnóstico de colesterol alto"
   ]
  },
  {
   "cell_type": "code",
   "execution_count": 155,
   "id": "a8b853b1",
   "metadata": {},
   "outputs": [
    {
     "name": "stdout",
     "output_type": "stream",
     "text": [
      "0\n",
      "0\n",
      "0\n"
     ]
    }
   ],
   "source": [
    "print(df['Q00201'].isna().sum())\n",
    "print(df['Q03001'].isna().sum())\n",
    "print(df['Q060'].isna().sum())"
   ]
  },
  {
   "cell_type": "code",
   "execution_count": 156,
   "id": "b717c76e",
   "metadata": {},
   "outputs": [],
   "source": [
    "df = df.drop(columns=['Q00101', 'Q02901', 'Q05901'])    "
   ]
  },
  {
   "cell_type": "markdown",
   "id": "c44bf762",
   "metadata": {},
   "source": [
    "0 = não tem diagnóstico de doença cardíaca!"
   ]
  },
  {
   "cell_type": "code",
   "execution_count": 157,
   "id": "bb822a0c",
   "metadata": {},
   "outputs": [],
   "source": [
    "df.loc[df['Q06306'] == 2, 'Q06307'] = 0\n",
    "df.loc[df['Q06306'] == 2, 'Q06308'] = 0\n",
    "df.loc[df['Q06306'] == 2, 'Q06309'] = 0\n",
    "df.loc[df['Q06306'] == 2, 'Q06310'] = 0\n",
    "df.loc[df['Q06306'] == 2, 'Q06311'] = 0\n",
    "df.loc[df['Q06306'] == 2, 'Q064'] = 0\n",
    "df.loc[df['Q06306'] == 2, 'Q06506'] = 0\n",
    "df.loc[df['Q06306'] == 2, 'Q06507'] = 0\n",
    "df.loc[df['Q06306'] == 2, 'Q06508'] = 0\n",
    "df.loc[df['Q06306'] == 2, 'Q06509'] = 0\n",
    "df.loc[df['Q06306'] == 2, 'Q06601'] = 0\n",
    "df.loc[df['Q06306'] == 2, 'Q067'] = 0"
   ]
  },
  {
   "cell_type": "code",
   "execution_count": 158,
   "id": "7a37bb30",
   "metadata": {},
   "outputs": [
    {
     "name": "stdout",
     "output_type": "stream",
     "text": [
      "0\n",
      "0\n",
      "0\n",
      "0\n",
      "0\n",
      "0\n",
      "0\n",
      "0\n",
      "0\n",
      "0\n",
      "0\n",
      "0\n"
     ]
    }
   ],
   "source": [
    "print(df['Q06307'].isna().sum())\n",
    "print(df['Q06308'].isna().sum())\n",
    "print(df['Q06309'].isna().sum())\n",
    "print(df['Q06310'].isna().sum())\n",
    "print(df['Q06311'].isna().sum())\n",
    "print(df['Q064'].isna().sum())\n",
    "print(df['Q06506'].isna().sum())\n",
    "print(df['Q06507'].isna().sum())\n",
    "print(df['Q06508'].isna().sum())\n",
    "print(df['Q06509'].isna().sum())\n",
    "print(df['Q06601'].isna().sum())\n",
    "print(df['Q067'].isna().sum())"
   ]
  },
  {
   "cell_type": "markdown",
   "id": "77d8852e",
   "metadata": {},
   "source": [
    "### Preenchendo aqui os atributos H003, H004 e H010"
   ]
  },
  {
   "cell_type": "code",
   "execution_count": 159,
   "id": "13f9c2e1",
   "metadata": {},
   "outputs": [],
   "source": [
    "df.loc[df['H001'].isin([4, 5]), 'H002'] = 0"
   ]
  },
  {
   "cell_type": "code",
   "execution_count": 160,
   "id": "a10af9ea",
   "metadata": {},
   "outputs": [
    {
     "name": "stdout",
     "output_type": "stream",
     "text": [
      "0\n"
     ]
    }
   ],
   "source": [
    "print(df['H002'].isna().sum())"
   ]
  },
  {
   "cell_type": "code",
   "execution_count": 161,
   "id": "0f3c41ae",
   "metadata": {},
   "outputs": [],
   "source": [
    "df.loc[(df['H002'].isin([1, 0])), 'H003'] = 0"
   ]
  },
  {
   "cell_type": "code",
   "execution_count": 162,
   "id": "9ad07316",
   "metadata": {},
   "outputs": [
    {
     "name": "stdout",
     "output_type": "stream",
     "text": [
      "0\n"
     ]
    }
   ],
   "source": [
    "print(df['H003'].isna().sum())"
   ]
  },
  {
   "cell_type": "code",
   "execution_count": 163,
   "id": "8f00ef2d",
   "metadata": {},
   "outputs": [],
   "source": [
    "df.loc[df['H003'] == 0, 'H004'] = 0"
   ]
  },
  {
   "cell_type": "code",
   "execution_count": 164,
   "id": "0026e850",
   "metadata": {},
   "outputs": [
    {
     "name": "stdout",
     "output_type": "stream",
     "text": [
      "0\n"
     ]
    }
   ],
   "source": [
    "print(df['H004'].isna().sum())"
   ]
  },
  {
   "cell_type": "code",
   "execution_count": 165,
   "id": "4da78cd2",
   "metadata": {},
   "outputs": [],
   "source": [
    "df.loc[df['H004'] != 1, 'H010'] = 0"
   ]
  },
  {
   "cell_type": "code",
   "execution_count": 166,
   "id": "72ba3f46",
   "metadata": {},
   "outputs": [
    {
     "name": "stdout",
     "output_type": "stream",
     "text": [
      "0\n"
     ]
    }
   ],
   "source": [
    "print(df['H010'].isna().sum())"
   ]
  },
  {
   "cell_type": "markdown",
   "id": "1f723a43",
   "metadata": {},
   "source": [
    "### Hábito de beber (alcoolismo) - incompleto (só checar)"
   ]
  },
  {
   "cell_type": "markdown",
   "id": "292267a0",
   "metadata": {},
   "source": [
    "1. P027: Com que frequência costuma consumir alguma bebida alcoólica?\n",
    "2. P02801: Quantos dias por semana costuma consumir alguma bebida alcoólica?\n",
    "3. P029:  Em geral, no dia que bebe, quantas doses de bebida alcoólica consome?"
   ]
  },
  {
   "cell_type": "code",
   "execution_count": 167,
   "id": "07d97984",
   "metadata": {},
   "outputs": [
    {
     "name": "stdout",
     "output_type": "stream",
     "text": [
      "7.0\n",
      "60.0\n"
     ]
    }
   ],
   "source": [
    "print(df['P02801'].max()) # = 7 dias\n",
    "print(df['P029'].max()) # = 60 doses\n",
    "\n",
    "# → Máximo teórico de doses por semana = 7 * 60 = 420 doses"
   ]
  },
  {
   "cell_type": "code",
   "execution_count": 168,
   "id": "3ffd49aa",
   "metadata": {},
   "outputs": [
    {
     "name": "stdout",
     "output_type": "stream",
     "text": [
      "Quant_doses_alcool_semanal\n",
      "0 doses        17191\n",
      "1–5 doses       4070\n",
      "6–14 doses      2008\n",
      "15–30 doses      785\n",
      "31–60 doses      218\n",
      "61+ doses         79\n",
      "Name: count, dtype: int64\n",
      "Valores faltantes: 0\n"
     ]
    }
   ],
   "source": [
    "def calcular_doses_semanais(row):\n",
    "    freq = row['P027']\n",
    "    dias_semana = row['P02801']\n",
    "    doses_por_dia = row['P029']\n",
    "\n",
    "    if freq == 1:\n",
    "        return 0  # Não bebe nunca\n",
    "    elif freq == 2:\n",
    "        return doses_por_dia if pd.notna(doses_por_dia) else pd.NA\n",
    "    elif freq == 3:\n",
    "        if pd.notna(dias_semana) and pd.notna(doses_por_dia):\n",
    "            return dias_semana * doses_por_dia\n",
    "        else:\n",
    "            return pd.NA\n",
    "    return pd.NA\n",
    "\n",
    "def categorizar_doses(doses):\n",
    "    if pd.isna(doses):\n",
    "        return pd.NA\n",
    "    elif doses == 0:\n",
    "        return '0 doses'\n",
    "    elif doses <= 5:\n",
    "        return '1–5 doses'\n",
    "    elif doses <= 14:\n",
    "        return '6–14 doses'\n",
    "    elif doses <= 30:\n",
    "        return '15–30 doses'\n",
    "    elif doses <= 60:\n",
    "        return '31–60 doses'\n",
    "    else:\n",
    "        return '61+ doses'\n",
    "\n",
    "df['Doses_semanais'] = df.apply(calcular_doses_semanais, axis=1)\n",
    "df['Quant_doses_alcool_semanal'] = df['Doses_semanais'].apply(categorizar_doses)\n",
    "\n",
    "\n",
    "print(df['Quant_doses_alcool_semanal'].value_counts(dropna=False))\n",
    "print(\"Valores faltantes:\", df['Quant_doses_alcool_semanal'].isna().sum())\n"
   ]
  },
  {
   "cell_type": "code",
   "execution_count": 169,
   "id": "051988f6",
   "metadata": {},
   "outputs": [],
   "source": [
    "df = df.drop(columns=['P027','P02801', 'P029'])"
   ]
  },
  {
   "cell_type": "markdown",
   "id": "7e550da0",
   "metadata": {},
   "source": [
    "### Lalala"
   ]
  },
  {
   "cell_type": "code",
   "execution_count": 177,
   "id": "93b731b1",
   "metadata": {},
   "outputs": [],
   "source": [
    "df = df.drop(columns=['E011'])"
   ]
  },
  {
   "cell_type": "code",
   "execution_count": 178,
   "id": "76d111e7",
   "metadata": {},
   "outputs": [],
   "source": [
    "df.to_csv('../Bases/Criados/base_preenchida.csv', index=False)"
   ]
  },
  {
   "cell_type": "code",
   "execution_count": 179,
   "id": "342b24d8",
   "metadata": {},
   "outputs": [
    {
     "data": {
      "text/plain": [
       "Index(['F001021', 'F007021', 'F008021', 'VDF00102', 'M00203', 'P00104',\n",
       "       'P00404', 'P00103', 'P00403', 'Faixa_ex_fisico'],\n",
       "      dtype='object')"
      ]
     },
     "execution_count": 179,
     "metadata": {},
     "output_type": "execute_result"
    }
   ],
   "source": [
    "df.columns[df.isnull().any()]"
   ]
  },
  {
   "cell_type": "code",
   "execution_count": 180,
   "id": "5343a183",
   "metadata": {},
   "outputs": [
    {
     "data": {
      "text/plain": [
       "np.int64(10)"
      ]
     },
     "execution_count": 180,
     "metadata": {},
     "output_type": "execute_result"
    }
   ],
   "source": [
    "(df.isnull().sum() > 0).sum()"
   ]
  }
 ],
 "metadata": {
  "kernelspec": {
   "display_name": "Python 3",
   "language": "python",
   "name": "python3"
  },
  "language_info": {
   "codemirror_mode": {
    "name": "ipython",
    "version": 3
   },
   "file_extension": ".py",
   "mimetype": "text/x-python",
   "name": "python",
   "nbconvert_exporter": "python",
   "pygments_lexer": "ipython3",
   "version": "3.13.2"
  }
 },
 "nbformat": 4,
 "nbformat_minor": 5
}
